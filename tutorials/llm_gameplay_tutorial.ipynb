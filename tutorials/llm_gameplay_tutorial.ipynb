{
 "cells": [
  {
   "cell_type": "markdown",
   "metadata": {},
   "source": [
    "# LLM-Based D&D Simulation Tutorial\n",
    "\n",
    "This notebook demonstrates how to use the LLM-based D&D simulation system to create AI-driven gameplay sessions based on real human campaign data.\n",
    "\n",
    "## Overview\n",
    "\n",
    "The simulation system includes:\n",
    "- **Campaign Parameter Extraction**: Analyze human campaigns to extract initialization parameters\n",
    "- **Character Creation**: Generate D&D characters with personalities and classes\n",
    "- **Turn Sampling**: Create realistic turn sequences using various sampling methods\n",
    "- **Character Agents**: LLM-powered characters with memory and decision-making\n",
    "- **Game Session Management**: Orchestrate complete D&D scenarios\n",
    "\n",
    "## Prerequisites\n",
    "\n",
    "1. Install required packages: `pip install anthropic`\n",
    "2. Set your Anthropic API key: `export ANTHROPIC_API_KEY=your_key_here`\n",
    "3. Ensure you have access to the human campaign data files"
   ]
  },
  {
   "cell_type": "markdown",
   "metadata": {},
   "source": [
    "## Setup and Imports"
   ]
  },
  {
   "cell_type": "code",
   "execution_count": 1,
   "metadata": {},
   "outputs": [
    {
     "name": "stdout",
     "output_type": "stream",
     "text": [
      "✅ Setup complete!\n"
     ]
    }
   ],
   "source": [
    "import os\n",
    "import sys\n",
    "import json\n",
    "import random\n",
    "from pathlib import Path\n",
    "\n",
    "# Add the llm_scaffolding directory to the Python path\n",
    "sys.path.append(str(Path.cwd().parent / \"llm_scaffolding\"))\n",
    "\n",
    "# Import our simulation system\n",
    "from dnd_simulation import (\n",
    "    extract_campaign_parameters,\n",
    "    create_characters,\n",
    "    sample_turn_sequence,\n",
    "    CharacterAgent,\n",
    "    GameSession\n",
    ")\n",
    "\n",
    "# Set random seed for reproducible results\n",
    "random.seed(42)\n",
    "\n",
    "print(\"✅ Setup complete!\")"
   ]
  },
  {
   "cell_type": "markdown",
   "metadata": {},
   "source": [
    "## API Key Setup (Secure Method)\n",
    "\n",
    "We'll load the API key from a secure file that's excluded from version control.\n",
    "\n",
    "**First-time setup:**\n",
    "1. Open the `api_key.txt` file in the project root directory\n",
    "2. Replace the placeholder text with your actual Anthropic API key\n",
    "3. Save the file (it's already in .gitignore so it won't be committed)\n",
    "\n",
    "**Alternative methods:**\n",
    "- Environment variable: `export ANTHROPIC_API_KEY=your_key_here`\n",
    "- Direct assignment (not recommended): `api_key = 'your_key_here'`"
   ]
  },
  {
   "cell_type": "code",
   "execution_count": 2,
   "metadata": {},
   "outputs": [
    {
     "name": "stdout",
     "output_type": "stream",
     "text": [
      "✅ API key loaded from api_key.txt\n",
      "Key prefix: sk-ant-api...\n",
      "\n",
      "🚀 Ready to proceed with simulation!\n"
     ]
    }
   ],
   "source": [
    "def load_api_key():\n",
    "    \"\"\"Load API key from secure file or environment variable.\"\"\"\n",
    "\n",
    "    # Method 1: Try to load from secure file\n",
    "    api_key_file = Path.cwd().parent / \"api_key.txt\"\n",
    "\n",
    "    if api_key_file.exists():\n",
    "        try:\n",
    "            with open(api_key_file, 'r') as f:\n",
    "                content = f.read().strip()\n",
    "\n",
    "                # Skip comment lines and empty lines\n",
    "                lines = [\n",
    "                    line.strip() for line in content.split('\\n')\n",
    "                    if line.strip() and not line.strip().startswith('#')\n",
    "                ]\n",
    "\n",
    "                if lines and lines[0] != 'PASTE_YOUR_ANTHROPIC_API_KEY_HERE':\n",
    "                    api_key = lines[0]\n",
    "                    print(\"✅ API key loaded from api_key.txt\")\n",
    "                    print(f\"Key prefix: {api_key[:10]}...\")\n",
    "                    return api_key\n",
    "                else:\n",
    "                    print(\n",
    "                        \"⚠️  api_key.txt found but contains placeholder text\")\n",
    "                    print(\n",
    "                        \"Please edit api_key.txt and paste your actual API key\"\n",
    "                    )\n",
    "        except Exception as e:\n",
    "            print(f\"❌ Error reading api_key.txt: {e}\")\n",
    "\n",
    "    # Method 2: Try environment variable\n",
    "    api_key = os.getenv('ANTHROPIC_API_KEY')\n",
    "    if api_key:\n",
    "        print(\"✅ API key loaded from environment variable\")\n",
    "        print(f\"Key prefix: {api_key[:10]}...\")\n",
    "        return api_key\n",
    "\n",
    "    # Method 3: No key found\n",
    "    print(\"❌ No API key found!\")\n",
    "    print(\"\\n🔧 Setup options:\")\n",
    "    print(\n",
    "        \"1. RECOMMENDED: Edit api_key.txt in the project root and paste your key\"\n",
    "    )\n",
    "    print(\n",
    "        \"2. Set environment variable: export ANTHROPIC_API_KEY=your_key_here\")\n",
    "    print(\"3. Get your API key from: https://console.anthropic.com/\")\n",
    "\n",
    "    return None\n",
    "\n",
    "# Load the API key\n",
    "api_key = load_api_key()\n",
    "os.environ['ANTHROPIC_API_KEY'] = api_key \n",
    "\n",
    "if not api_key:\n",
    "    print(\"\\n⚠️  Cannot proceed without API key. Please set up your key and rerun this cell.\")\n",
    "else:\n",
    "    print(\"\\n🚀 Ready to proceed with simulation!\")"
   ]
  },
  {
   "cell_type": "markdown",
   "metadata": {},
   "source": [
    "## Step 1: Extract Campaign Parameters\n",
    "\n",
    "Let's load a real human campaign and extract parameters that we can use to initialize our simulation."
   ]
  },
  {
   "cell_type": "code",
   "execution_count": null,
   "metadata": {},
   "outputs": [
    {
     "name": "stdout",
     "output_type": "stream",
     "text": [
      "📊 Extracting campaign parameters...\n",
      "\n",
      "🎯 Campaign Parameters:\n",
      "  Campaign Name: 10391-guardians-of-gridori\n",
      "  Total Messages: 216\n",
      "  Number of Players: 5\n",
      "  Character Names: ['Dungeon Master' 'Jinx' 'Faen' 'Dmitrei' 'Thokk']\n",
      "  Character Personalities: {'Dungeon Master': 'The Dungeon Master exhibits a patient and descriptive style, providing rich details about the environment and events unfolding. They maintain a fair and engaging approach, responding thoughtfully to player actions and driving the narrative forward.', 'Jinx': \"Jinx's player seems confident and assertive, taking charge in dangerous situations while also showing concern for the group's well-being. They exhibit a practical mindset, prioritizing the mission's objectives and encouraging the party to stay focused.\", 'Faen': \"Faen's player has a more reserved and introspective demeanor, often reflecting on their character's thoughts and emotions. They display a curious nature, asking insightful questions and engaging with the storytelling in an immersive manner.\", 'Dmitrei': \"Dmitrei's player comes across as a strategic thinker, carefully considering their actions and the potential consequences. They strive to maintain a level-headed approach, acting as a voice of reason within the group and encouraging cooperation.\", 'Thokk': \"Thokk's player exhibits a more impulsive and direct personality, not hesitating to dive headfirst into combat situations. They bring a sense of humor and levity to the group dynamic, often making light of tense moments with witty remarks or comedic actions.\"}\n",
      "\n",
      "🎮 Using 5 players for simulation\n"
     ]
    }
   ],
   "source": [
    "# Choose a campaign file to analyze\n",
    "campaign_file = \"../data/raw-human-games/individual_campaigns/10391-guardians-of-gridori.json\"\n",
    "\n",
    "# Extract parameters from the human campaign\n",
    "print(\"📊 Extracting campaign parameters...\")\n",
    "campaign_params = extract_campaign_parameters(campaign_file)\n",
    "\n",
    "print(f\"\\n🎯 Campaign Parameters:\")\n",
    "print(f\"  Campaign Name: {campaign_params['campaign_name']}\")\n",
    "print(f\"  Total Messages: {campaign_params['total_messages']:,}\")\n",
    "print(f\"  Number of Players: {campaign_params['num_players']}\")\n",
    "print(f\"  Character Names: {campaign_params['character_names']}\")\n",
    "\n",
    "# We'll use this player count for our simulation\n",
    "num_players = campaign_params['num_players']\n",
    "print(f\"\\n🎮 Using {num_players} players for simulation\")"
   ]
  },
  {
   "cell_type": "code",
   "execution_count": null,
   "metadata": {},
   "outputs": [
    {
     "name": "stdout",
     "output_type": "stream",
     "text": [
      "  Character Personalities: The Dungeon Master exhibits a patient and descriptive style, providing rich details about the environment and events unfolding. They maintain a fair and engaging approach, responding thoughtfully to player actions and driving the narrative forward.\n",
      "  Character Personalities: The Dungeon Master exhibits a patient and descriptive style, providing rich details about the environment and events unfolding. They maintain a fair and engaging approach, responding thoughtfully to player actions and driving the narrative forward.\n",
      "  Character Personalities: The Dungeon Master exhibits a patient and descriptive style, providing rich details about the environment and events unfolding. They maintain a fair and engaging approach, responding thoughtfully to player actions and driving the narrative forward.\n",
      "  Character Personalities: The Dungeon Master exhibits a patient and descriptive style, providing rich details about the environment and events unfolding. They maintain a fair and engaging approach, responding thoughtfully to player actions and driving the narrative forward.\n",
      "  Character Personalities: The Dungeon Master exhibits a patient and descriptive style, providing rich details about the environment and events unfolding. They maintain a fair and engaging approach, responding thoughtfully to player actions and driving the narrative forward.\n"
     ]
    }
   ],
   "source": [
    "for i in range(campaign_params['num_players']):\n",
    "    print(f\"  Character Personalities: {campaign_params['character_personalities']['Dungeon Master']}\")"
   ]
  },
  {
   "cell_type": "markdown",
   "metadata": {},
   "source": [
    "## Step 2: Create Characters\n",
    "\n",
    "Now let's create our AI characters using the player count from the human campaign."
   ]
  },
  {
   "cell_type": "code",
   "execution_count": 5,
   "metadata": {},
   "outputs": [
    {
     "name": "stdout",
     "output_type": "stream",
     "text": [
      "🧙 Creating characters...\n",
      "\n",
      "✨ Created 5 characters:\n",
      "  🗡️  Aria (Fighter): Brave and decisive warrior who leads by example and protects her allies.\n",
      "  🗡️  Thorin (Rogue): Cunning and stealthy scout who prefers shadows and clever solutions.\n",
      "  🗡️  Gandalf (Wizard): Wise and scholarly spellcaster who seeks knowledge and magical solutions.\n",
      "  🗡️  Lyra (Cleric): Compassionate healer who provides spiritual guidance and divine magic.\n",
      "  🗡️  Zara (Ranger): Nature-loving archer who tracks enemies and protects the wilderness.\n",
      "\n",
      "👥 Character roster: ['Aria', 'Thorin', 'Gandalf', 'Lyra', 'Zara']\n"
     ]
    }
   ],
   "source": [
    "# Create characters based on the campaign parameters\n",
    "print(\"🧙 Creating characters...\")\n",
    "\n",
    "# For now, we'll use default characters (future versions can extract from campaign)\n",
    "characters = create_characters(num_players=num_players)\n",
    "\n",
    "print(f\"\\n✨ Created {len(characters)} characters:\")\n",
    "for char in characters:\n",
    "    print(f\"  🗡️  {char.name} ({char.character_class}): {char.personality}\")\n",
    "\n",
    "# Get character names for turn sampling\n",
    "character_names = [char.name for char in characters]\n",
    "print(f\"\\n👥 Character roster: {character_names}\")"
   ]
  },
  {
   "cell_type": "markdown",
   "metadata": {},
   "source": [
    "## Step 3: Generate Turn Sequence\n",
    "\n",
    "Create a realistic turn sequence using uniform sampling across all characters."
   ]
  },
  {
   "cell_type": "code",
   "execution_count": 10,
   "metadata": {},
   "outputs": [
    {
     "name": "stdout",
     "output_type": "stream",
     "text": [
      "🎲 Generating turn sequence (12 turns)...\n",
      "\n",
      "📋 Turn sequence: ['Aria', 'Aria', 'Gandalf', 'Gandalf', 'Aria', 'Gandalf', 'Lyra', 'Aria', 'Lyra', 'Gandalf', 'Thorin', 'Aria']\n",
      "\n",
      "📊 Turn distribution:\n",
      "  Aria: 5 turns (41.7%)\n",
      "  Gandalf: 4 turns (33.3%)\n",
      "  Lyra: 2 turns (16.7%)\n",
      "  Thorin: 1 turns (8.3%)\n"
     ]
    }
   ],
   "source": [
    "# Generate a turn sequence for our mini-session\n",
    "total_turns = 12  # Adjust for desired session length\n",
    "\n",
    "print(f\"🎲 Generating turn sequence ({total_turns} turns)...\")\n",
    "turn_sequence = sample_turn_sequence(\n",
    "    character_names=character_names,\n",
    "    total_turns=total_turns,\n",
    "    method='uniform'\n",
    ")\n",
    "\n",
    "print(f\"\\n📋 Turn sequence: {turn_sequence}\")\n",
    "\n",
    "# Show turn distribution\n",
    "from collections import Counter\n",
    "turn_counts = Counter(turn_sequence)\n",
    "print(f\"\\n📊 Turn distribution:\")\n",
    "for char_name, count in turn_counts.items():\n",
    "    print(f\"  {char_name}: {count} turns ({count/total_turns*100:.1f}%)\")"
   ]
  },
  {
   "cell_type": "markdown",
   "metadata": {},
   "source": [
    "## Step 4: Initialize Game Session\n",
    "\n",
    "Create the game session manager that will orchestrate our D&D simulation."
   ]
  },
  {
   "cell_type": "code",
   "execution_count": 11,
   "metadata": {},
   "outputs": [
    {
     "name": "stdout",
     "output_type": "stream",
     "text": [
      "🎭 Initializing game session...\n",
      "✅ Game session created with 4 characters\n",
      "📝 Game log initialized (currently 0 events)\n"
     ]
    }
   ],
   "source": [
    "# Create game session\n",
    "print(\"🎭 Initializing game session...\")\n",
    "game_session = GameSession(characters=characters, api_key=api_key)\n",
    "\n",
    "print(f\"✅ Game session created with {len(characters)} characters\")\n",
    "print(f\"📝 Game log initialized (currently {len(game_session.game_log)} events)\")"
   ]
  },
  {
   "cell_type": "markdown",
   "metadata": {},
   "source": [
    "## Step 5: Define the Scenario\n",
    "\n",
    "Set up an engaging D&D scenario for our AI characters to navigate."
   ]
  },
  {
   "cell_type": "code",
   "execution_count": 12,
   "metadata": {},
   "outputs": [
    {
     "name": "stdout",
     "output_type": "stream",
     "text": [
      "🏰 Scenario set:\n",
      "\n",
      "You're adventurers who just entered a mysterious tavern called 'The Whispering Griffin' in the border town of Millhaven. The tavern is dimly lit by flickering candles, and the air is thick with the scent of ale and wood smoke. \n",
      "\n",
      "The bartender, a nervous-looking halfling named Pip, keeps glancing toward the stairs leading to the upper rooms. In the far corner, a cloaked figure sits alone, whispering urgently to someone unseen in the shadows. \n",
      "\n",
      "You notice that despite the late hour, the tavern is unusually quiet - only a few patrons sit scattered at tables, and they all seem to be avoiding eye contact. Something feels off about this place.\n",
      "\n",
      "What do you do?\n",
      "\n",
      "============================================================\n"
     ]
    }
   ],
   "source": [
    "# Define the scenario\n",
    "scenario = \"\"\"You're adventurers who just entered a mysterious tavern called 'The Whispering Griffin' in the border town of Millhaven. The tavern is dimly lit by flickering candles, and the air is thick with the scent of ale and wood smoke. \n",
    "\n",
    "The bartender, a nervous-looking halfling named Pip, keeps glancing toward the stairs leading to the upper rooms. In the far corner, a cloaked figure sits alone, whispering urgently to someone unseen in the shadows. \n",
    "\n",
    "You notice that despite the late hour, the tavern is unusually quiet - only a few patrons sit scattered at tables, and they all seem to be avoiding eye contact. Something feels off about this place.\n",
    "\n",
    "What do you do?\"\"\"\n",
    "\n",
    "print(\"🏰 Scenario set:\")\n",
    "print(f\"\\n{scenario}\")\n",
    "print(\"\\n\" + \"=\"*60)"
   ]
  },
  {
   "cell_type": "markdown",
   "metadata": {},
   "source": [
    "## Step 6: Run the Simulation\n",
    "\n",
    "Now let's run the complete D&D simulation and watch our AI characters interact!"
   ]
  },
  {
   "cell_type": "code",
   "execution_count": 13,
   "metadata": {},
   "outputs": [
    {
     "name": "stdout",
     "output_type": "stream",
     "text": [
      "🚀 Starting D&D simulation...\n",
      "\n",
      "============================================================\n",
      "=== D&D SIMULATION STARTING ===\n",
      "Scenario: You're adventurers who just entered a mysterious tavern called 'The Whispering Griffin' in the border town of Millhaven. The tavern is dimly lit by flickering candles, and the air is thick with the scent of ale and wood smoke. \n",
      "\n",
      "The bartender, a nervous-looking halfling named Pip, keeps glancing toward the stairs leading to the upper rooms. In the far corner, a cloaked figure sits alone, whispering urgently to someone unseen in the shadows. \n",
      "\n",
      "You notice that despite the late hour, the tavern is unusually quiet - only a few patrons sit scattered at tables, and they all seem to be avoiding eye contact. Something feels off about this place.\n",
      "\n",
      "What do you do?\n",
      "Characters: ['Aria', 'Thorin', 'Gandalf', 'Lyra']\n",
      "Total turns: 12\n",
      "==================================================\n",
      "\n",
      "Aria: *I grip the hilt of my sword and survey the tavern warily, taking in every detail. Lowering my voice, I address my companions:* \n",
      "\n",
      "\"Keep your wits about you, friends. There's a strange tension in this place that sets me ill at ease. Pip seems anxious, and who knows what that cloaked figure in the corner is up to.\"\n",
      "\n",
      "*I glance meaningfully at the lone patron before continuing in a firm tone:* \"For now, let's take a table near the exit, just to be safe. If any trouble arises, I'll be ready.\" \n",
      "\n",
      "*Nodding resolutely, I lead the way to an empty table with a clear view of the door, my hand never leaving my weapon's grip. Once seated, I keep a vigilant watch over the tavern's occupants, ready to leap into action should any threat reveal itself.*\n",
      "\n",
      "Aria: *I stride into the tavern, hand resting on the hilt of my sword, scanning the room with a watchful gaze. Turning to my companions, I speak in a low but resolute tone.*\n",
      "\n",
      "\"Keep your wits about you, friends. Something doesn't feel right here. Pip, the bartender - why does he seem so uneasy? And who is that cloaked stranger conversing with shadows?\" \n",
      "\n",
      "*I approach the bar, fixing Pip with an intense but non-threatening stare.* \"Greetings, Pip. We mean you no harm, but I must ask - what troubles this place? Speak truly, and we may be able to assist.\"\n",
      "\n",
      "*While waiting for a response, I hold my ground firmly, ready to protect or take action as needed, determined to get to the bottom of the strange happenings in this tavern.*\n",
      "\n",
      "Gandalf: *I lean back in my chair, surveying the tense scene with narrowed eyes while calmly puffing on my pipe*\n",
      "\n",
      "\"A fell air hangs thick in this tavern, like a miasma of dread. Clearly there are darker forces at work beyond what meets the eye. Pip the barkeep seems an honest soul, but fear has taken hold within these walls.\"\n",
      "\n",
      "*I glance sidelong at the cloaked stranger, then speak in a low tone to Aria*\n",
      "\n",
      "\"That wraith-like figure bears watching, my friend. Let us keep vigil, for I sense this may be but the first stirrings of a darker peril soon to be uncloaked. Have your blade ready, though I shall endeavor to resolve whatever evil lurks here through wisdom and reason...should such a course be possible.\"\n",
      "\n",
      "*Taking a long draw from my pipe, I exhale a stream of smoke rings that take the shape of mystical runes briefly shimmering in the air. My staff leans within easy reach as I calmly await what trouble may unfold.*\n",
      "\n",
      "Gandalf: *Gandalf stands slowly, using his staff for support as he casts an appraising gaze around the ominous tavern* \n",
      "\n",
      "\"Troubling indeed are the signs that greet us here, my friends. Though I sense no immediate evil, there are unseen forces swirling in this place like a sorcerous miasma.\"\n",
      "\n",
      "*He turns toward the shadowy cloaked figure, raising his voice in a commanding tone*\n",
      "\n",
      "\"You there, stranger cloaked in mystery! I am Gandalf the Grey, an Istari of noble order. Speak forth and reveal what summons you haunt these halls with your furtive whisperings. The time for secrets is past - let truth illuminate the darkness like a bright lantern.\"\n",
      "\n",
      "*Gandalf's staff seems to glow faintly with inner light, casting his face in a fierce expression as he awaits a response, ready to counter any hostile magics or threats that may arise*\n",
      "\n",
      "Aria: *I scan the dimly lit tavern warily, resting my hand on the hilt of my sword* \n",
      "\n",
      "\"Keep your wits about you, friends. This place reeks of foul magic and ill intent.\" *I mutter under my breath*\n",
      "\n",
      "Striding forward, I approach the bartender halfling Pip with a steely gaze.\n",
      "\n",
      "\"Greetings innkeeper. We are weary travelers in need of rooms and provisions for the night. But first, I must ask - what business has that cloaked stranger in your establishment? Their furtive whisperings disquiet me. Speak true, and there will be no trouble here this night.\"\n",
      "\n",
      "*I hold Pip's gaze firmly, my sword hand resting on my weapon's pommel, ready to act if the situation demands it. But I keep my tone level, giving the innkeeper a chance to explain himself.*\n",
      "\n",
      "Gandalf: *leans forward, staff clutched firmly, eyes narrowing as I scrutinize the shadowy corners* \n",
      "\"Peace, my friends. Though an ill wind seems to blow through this benighted hall, let us not be hasty to accusations. Our path forward lies in illumination, not confrontation - at least not yet.\"\n",
      "\n",
      "I turn my wizened gaze to the innkeeper. \"Good Pip, we mean you no harm this night. But strange omens have brought us to your door, and I must ask you plain - what darkness has seeped into this place? Who is that cloaked stranger whispering secrets better left unsaid? If some evil lurks here, unwitting though you may be, I charge you to unburthen yourself to us now. We are strong allies to any plagued by unwholesome forces.\"\n",
      "\n",
      "With that, I raise my staff slightly, allowing a gentle azure radiance to emanate from its crystal headpiece and cast the tavern's recesses into view. My free hand rests upon a clutched pouch of sovereignty dust, ready to be unleashed in purifying streams at need.\n",
      "\n",
      "\"Speak truthfully, master Pip, and no harm shall come to you this night. But deceive us, and neither stout walls nor cloaking shadows shall avail you from a wizard's wrath. The choice is yours.\"\n",
      "\n",
      "Lyra: *I step forward, the holy symbol of my deity gleaming against the candlelight as I raise a hand in a calming gesture.* \n",
      "\n",
      "\"Peace, friends. I am Lyra, a devoted Cleric. This tavern seems troubled by some unseen force sowing unease. But fear not, for I come in my deity's grace to offer solace and aid against any malign influences at work here.\"\n",
      "\n",
      "*I turn an understanding gaze towards the anxious bartender Pip.* \n",
      "\n",
      "\"Good sir, you need not be afraid. Speak truly of what burdens your spirit. Whatever darkness lurks, it has not yet snuffed out the guiding light of hope and redemption that I carry. If foul deeds conspire under this roof, say so without dread, for we shall face them openly and mercifully.\"\n",
      "\n",
      "*Channeling my divine essence, a warm, soothing glow emanates around me, offering a sense of reassurance amid the ominous tension. I await Pip's response, ready to lend spiritual counsel or intervene against malevolence if needed.*\n",
      "\n",
      "Aria: *I stand tall, my hand resting on the hilt of my steel longsword as I survey the ominous tavern with a steely gaze. Addressing the innkeeper Pip in a firm but measured tone, I speak up*\n",
      "\n",
      "\"Good innkeeper, there is no need for undue fear or deception in the presence of our company. We are seasoned adventurers who have faced numerous perils, and can easily discern truth from falsehood. If some darkness plagues your establishment, conceal nothing - for we have potent allies well-versed in banishing evil forces.\"\n",
      "\n",
      "*I nod toward Gandalf and Lyra, then continue in a lower but intense voice*\n",
      "\n",
      "\"However, if you choose to dissemble or conspire against us with any malign entities, you invite decisive reprisal. The choice is yours - cooperate fully and be shielded by our protection, or suffer the dire consequences your actions would merit.\"\n",
      "\n",
      "*My sword hand tightens on the hilt as I hold Pip's gaze, the stern resolve in my eyes making it clear I am prepared to fight if necessary to safeguard my allies against any threats. I await the innkeeper's response with guarded vigilance.*\n",
      "\n",
      "Lyra: *I place a reassuring hand on Aria's arm, giving her a calming look to temper her forceful approach.* \"Peace, my friend. Let us not escalate tensions unduly. The path of wisdom is one of empathy and discernment.\"\n",
      "\n",
      "*I turn to address the innkeeper Pip with a warm but firm expression.* \"Good master Pip, we mean you no harm. But from your furtive glances, it is clear some shadow looms over this establishment. As servants of the light, sworn to protect the innocent, we implore you to shed full illumination on any threats that may lurk here. Speak truthfully, and we pledge our aid to banish any evil forces and restore this place to its proper warmth and cheer.\"\n",
      "\n",
      "\"However, if there is indeed a vile conspiracy afoot, and you choose to obfuscate or abet malign powers, know that we are fortified by righteousness. The radiant glory I wield will purge wickedness without mercy.\" \n",
      "\n",
      "*I let my hand hover over the holy symbol at my breast, its brilliance flaring briefly in warning. But my voice remains measured, leaving the door open for transparency and cooperation.*\n",
      "\n",
      "\"The choice is yours, good sir. We ardently hope you make the wise decision to unite with us against any encroaching darkness. But be forewarned, we shall\n",
      "\n",
      "Gandalf: *Gandalf stands tall, his wizened features stern yet composed as he surveys the eerie tavern with a penetrating gaze. Gripping his gnarled staff tightly, he lets the candlelight play across the ancient runes etched into the polished wood - a subtle warning of the power he commands.*\n",
      "\n",
      "\"A disquieting miasma shrouds this place in secrecy and dread,\" he intones in a low, sonorous baritone. \"Yet those who ally themselves with light and truth need not cower in darkness.\"\n",
      "\n",
      "*He turns his piercing blue eyes upon the fidgeting innkeeper Pip.* \"Good halfling, pray unburdened your worried mind. What ails transpire here, under the shadows of deceit and mistrust? You have my oath that any malefaction shall be met with righteous might...but cooperation shall know the warm embrace of stalwart friendship.\"\n",
      "\n",
      "*Gandalf's robes billow slightly as he raises his staff, channeling an aura of preternatural calm and protection to envelop the tavern's occupants - a bastion against any emanating evil.*\n",
      "\n",
      "\"Speak truly, Master Pip, and fear not. For I am a servant of the light, and any who stand at my side against the perils that encroach shall be shielded by mighty powers... even as\n",
      "\n",
      "Thorin: *I move with practiced stealth, fading into the shadows near the cloaked figure's corner. Keeping my body low and movements silent, I listen intently to try and make out the whispered words. My hand rests on the hilt of my dagger, ready to draw it in a split second if needed. I catch Gandalf's gaze and give a subtle nod, letting him know I'm investigating the suspicious stranger.*\n",
      "\n",
      "In a hushed voice, I mutter under my breath, \"Seems our cloaked friend may have some intriguing secrets to share. I'll learn what I can while the rest of you confront the innkeep. Be ready...I sense darker dealings are afoot here than just a shady tavern.\"\n",
      "\n",
      "*Peering through the shadows, I try to discern any other potential threats or means of escape if violence erupts. My instincts are heightened, every fiber of my being prepared to react with lightning quickness at the first sign of danger.*\n",
      "\n",
      "Aria: *I stride into the dimly lit tavern, hand resting on the pommel of my sword as I cast a wary gaze around the hushed room. Noting the suspicious cloaked figure, I lean in close to Gandalf and murmur gruffly*\n",
      "\n",
      "\"Something foul lurks here, that much is plain. Keep your wits about you, wizard. Should treachery reveal itself, I'll be first through the door with steel bared.\"\n",
      "\n",
      "*I turn my steely eyes to the nervous innkeeper Pip and bark out in a commanding tone*\n",
      "\n",
      "\"Barkeep! A flagon of your strongest ale, and be quick about it. We've questions for you regarding any...untoward occurrences that may have befallen this establishment. Know that we are friends to the innocent, but dire foes to those who abet darkness. Speak truthfully, and we shall lend you our aid and protection.\"\n",
      "\n",
      "*I thump the pommel of my sword meaningfully against the bartop, the implied threat clear. Yet my expression remains grimly resolute, readying to meet deceit or violence with swift and merciless action if need be. My gaze flicks briefly to Lyra, a silent nod signaling my readiness to unveil the full fury of our combined might.*\n",
      "\n",
      "==================================================\n",
      "=== SIMULATION COMPLETE ===\n"
     ]
    }
   ],
   "source": [
    "# Run the simulation\n",
    "print(\"🚀 Starting D&D simulation...\")\n",
    "print(\"\\n\" + \"=\"*60)\n",
    "\n",
    "# Execute the scenario\n",
    "game_session.run_scenario(initial_scenario=scenario, turn_sequence=turn_sequence)"
   ]
  },
  {
   "cell_type": "markdown",
   "metadata": {},
   "source": [
    "## Step 7: Analyze the Results\n",
    "\n",
    "Let's examine the game log and see what our AI characters accomplished."
   ]
  },
  {
   "cell_type": "code",
   "execution_count": 14,
   "metadata": {},
   "outputs": [
    {
     "name": "stdout",
     "output_type": "stream",
     "text": [
      "📖 Complete Game Log:\n",
      "============================================================\n",
      "Turn  1 | Aria     | *I grip the hilt of my sword and survey the tavern warily, taking in every detail. Lowering my voice, I address my companions:* \n",
      "\n",
      "\"Keep your wits about you, friends. There's a strange tension in this place that sets me ill at ease. Pip seems anxious, and who knows what that cloaked figure in the corner is up to.\"\n",
      "\n",
      "*I glance meaningfully at the lone patron before continuing in a firm tone:* \"For now, let's take a table near the exit, just to be safe. If any trouble arises, I'll be ready.\" \n",
      "\n",
      "*Nodding resolutely, I lead the way to an empty table with a clear view of the door, my hand never leaving my weapon's grip. Once seated, I keep a vigilant watch over the tavern's occupants, ready to leap into action should any threat reveal itself.*\n",
      "Turn  2 | Aria     | *I stride into the tavern, hand resting on the hilt of my sword, scanning the room with a watchful gaze. Turning to my companions, I speak in a low but resolute tone.*\n",
      "\n",
      "\"Keep your wits about you, friends. Something doesn't feel right here. Pip, the bartender - why does he seem so uneasy? And who is that cloaked stranger conversing with shadows?\" \n",
      "\n",
      "*I approach the bar, fixing Pip with an intense but non-threatening stare.* \"Greetings, Pip. We mean you no harm, but I must ask - what troubles this place? Speak truly, and we may be able to assist.\"\n",
      "\n",
      "*While waiting for a response, I hold my ground firmly, ready to protect or take action as needed, determined to get to the bottom of the strange happenings in this tavern.*\n",
      "Turn  3 | Gandalf  | *I lean back in my chair, surveying the tense scene with narrowed eyes while calmly puffing on my pipe*\n",
      "\n",
      "\"A fell air hangs thick in this tavern, like a miasma of dread. Clearly there are darker forces at work beyond what meets the eye. Pip the barkeep seems an honest soul, but fear has taken hold within these walls.\"\n",
      "\n",
      "*I glance sidelong at the cloaked stranger, then speak in a low tone to Aria*\n",
      "\n",
      "\"That wraith-like figure bears watching, my friend. Let us keep vigil, for I sense this may be but the first stirrings of a darker peril soon to be uncloaked. Have your blade ready, though I shall endeavor to resolve whatever evil lurks here through wisdom and reason...should such a course be possible.\"\n",
      "\n",
      "*Taking a long draw from my pipe, I exhale a stream of smoke rings that take the shape of mystical runes briefly shimmering in the air. My staff leans within easy reach as I calmly await what trouble may unfold.*\n",
      "Turn  4 | Gandalf  | *Gandalf stands slowly, using his staff for support as he casts an appraising gaze around the ominous tavern* \n",
      "\n",
      "\"Troubling indeed are the signs that greet us here, my friends. Though I sense no immediate evil, there are unseen forces swirling in this place like a sorcerous miasma.\"\n",
      "\n",
      "*He turns toward the shadowy cloaked figure, raising his voice in a commanding tone*\n",
      "\n",
      "\"You there, stranger cloaked in mystery! I am Gandalf the Grey, an Istari of noble order. Speak forth and reveal what summons you haunt these halls with your furtive whisperings. The time for secrets is past - let truth illuminate the darkness like a bright lantern.\"\n",
      "\n",
      "*Gandalf's staff seems to glow faintly with inner light, casting his face in a fierce expression as he awaits a response, ready to counter any hostile magics or threats that may arise*\n",
      "Turn  5 | Aria     | *I scan the dimly lit tavern warily, resting my hand on the hilt of my sword* \n",
      "\n",
      "\"Keep your wits about you, friends. This place reeks of foul magic and ill intent.\" *I mutter under my breath*\n",
      "\n",
      "Striding forward, I approach the bartender halfling Pip with a steely gaze.\n",
      "\n",
      "\"Greetings innkeeper. We are weary travelers in need of rooms and provisions for the night. But first, I must ask - what business has that cloaked stranger in your establishment? Their furtive whisperings disquiet me. Speak true, and there will be no trouble here this night.\"\n",
      "\n",
      "*I hold Pip's gaze firmly, my sword hand resting on my weapon's pommel, ready to act if the situation demands it. But I keep my tone level, giving the innkeeper a chance to explain himself.*\n",
      "\n",
      "Turn  6 | Gandalf  | *leans forward, staff clutched firmly, eyes narrowing as I scrutinize the shadowy corners* \n",
      "\"Peace, my friends. Though an ill wind seems to blow through this benighted hall, let us not be hasty to accusations. Our path forward lies in illumination, not confrontation - at least not yet.\"\n",
      "\n",
      "I turn my wizened gaze to the innkeeper. \"Good Pip, we mean you no harm this night. But strange omens have brought us to your door, and I must ask you plain - what darkness has seeped into this place? Who is that cloaked stranger whispering secrets better left unsaid? If some evil lurks here, unwitting though you may be, I charge you to unburthen yourself to us now. We are strong allies to any plagued by unwholesome forces.\"\n",
      "\n",
      "With that, I raise my staff slightly, allowing a gentle azure radiance to emanate from its crystal headpiece and cast the tavern's recesses into view. My free hand rests upon a clutched pouch of sovereignty dust, ready to be unleashed in purifying streams at need.\n",
      "\n",
      "\"Speak truthfully, master Pip, and no harm shall come to you this night. But deceive us, and neither stout walls nor cloaking shadows shall avail you from a wizard's wrath. The choice is yours.\"\n",
      "Turn  7 | Lyra     | *I step forward, the holy symbol of my deity gleaming against the candlelight as I raise a hand in a calming gesture.* \n",
      "\n",
      "\"Peace, friends. I am Lyra, a devoted Cleric. This tavern seems troubled by some unseen force sowing unease. But fear not, for I come in my deity's grace to offer solace and aid against any malign influences at work here.\"\n",
      "\n",
      "*I turn an understanding gaze towards the anxious bartender Pip.* \n",
      "\n",
      "\"Good sir, you need not be afraid. Speak truly of what burdens your spirit. Whatever darkness lurks, it has not yet snuffed out the guiding light of hope and redemption that I carry. If foul deeds conspire under this roof, say so without dread, for we shall face them openly and mercifully.\"\n",
      "\n",
      "*Channeling my divine essence, a warm, soothing glow emanates around me, offering a sense of reassurance amid the ominous tension. I await Pip's response, ready to lend spiritual counsel or intervene against malevolence if needed.*\n",
      "Turn  8 | Aria     | *I stand tall, my hand resting on the hilt of my steel longsword as I survey the ominous tavern with a steely gaze. Addressing the innkeeper Pip in a firm but measured tone, I speak up*\n",
      "\n",
      "\"Good innkeeper, there is no need for undue fear or deception in the presence of our company. We are seasoned adventurers who have faced numerous perils, and can easily discern truth from falsehood. If some darkness plagues your establishment, conceal nothing - for we have potent allies well-versed in banishing evil forces.\"\n",
      "\n",
      "*I nod toward Gandalf and Lyra, then continue in a lower but intense voice*\n",
      "\n",
      "\"However, if you choose to dissemble or conspire against us with any malign entities, you invite decisive reprisal. The choice is yours - cooperate fully and be shielded by our protection, or suffer the dire consequences your actions would merit.\"\n",
      "\n",
      "*My sword hand tightens on the hilt as I hold Pip's gaze, the stern resolve in my eyes making it clear I am prepared to fight if necessary to safeguard my allies against any threats. I await the innkeeper's response with guarded vigilance.*\n",
      "Turn  9 | Lyra     | *I place a reassuring hand on Aria's arm, giving her a calming look to temper her forceful approach.* \"Peace, my friend. Let us not escalate tensions unduly. The path of wisdom is one of empathy and discernment.\"\n",
      "\n",
      "*I turn to address the innkeeper Pip with a warm but firm expression.* \"Good master Pip, we mean you no harm. But from your furtive glances, it is clear some shadow looms over this establishment. As servants of the light, sworn to protect the innocent, we implore you to shed full illumination on any threats that may lurk here. Speak truthfully, and we pledge our aid to banish any evil forces and restore this place to its proper warmth and cheer.\"\n",
      "\n",
      "\"However, if there is indeed a vile conspiracy afoot, and you choose to obfuscate or abet malign powers, know that we are fortified by righteousness. The radiant glory I wield will purge wickedness without mercy.\" \n",
      "\n",
      "*I let my hand hover over the holy symbol at my breast, its brilliance flaring briefly in warning. But my voice remains measured, leaving the door open for transparency and cooperation.*\n",
      "\n",
      "\"The choice is yours, good sir. We ardently hope you make the wise decision to unite with us against any encroaching darkness. But be forewarned, we shall\n",
      "Turn 10 | Gandalf  | *Gandalf stands tall, his wizened features stern yet composed as he surveys the eerie tavern with a penetrating gaze. Gripping his gnarled staff tightly, he lets the candlelight play across the ancient runes etched into the polished wood - a subtle warning of the power he commands.*\n",
      "\n",
      "\"A disquieting miasma shrouds this place in secrecy and dread,\" he intones in a low, sonorous baritone. \"Yet those who ally themselves with light and truth need not cower in darkness.\"\n",
      "\n",
      "*He turns his piercing blue eyes upon the fidgeting innkeeper Pip.* \"Good halfling, pray unburdened your worried mind. What ails transpire here, under the shadows of deceit and mistrust? You have my oath that any malefaction shall be met with righteous might...but cooperation shall know the warm embrace of stalwart friendship.\"\n",
      "\n",
      "*Gandalf's robes billow slightly as he raises his staff, channeling an aura of preternatural calm and protection to envelop the tavern's occupants - a bastion against any emanating evil.*\n",
      "\n",
      "\"Speak truly, Master Pip, and fear not. For I am a servant of the light, and any who stand at my side against the perils that encroach shall be shielded by mighty powers... even as\n",
      "\n",
      "Turn 11 | Thorin   | *I move with practiced stealth, fading into the shadows near the cloaked figure's corner. Keeping my body low and movements silent, I listen intently to try and make out the whispered words. My hand rests on the hilt of my dagger, ready to draw it in a split second if needed. I catch Gandalf's gaze and give a subtle nod, letting him know I'm investigating the suspicious stranger.*\n",
      "\n",
      "In a hushed voice, I mutter under my breath, \"Seems our cloaked friend may have some intriguing secrets to share. I'll learn what I can while the rest of you confront the innkeep. Be ready...I sense darker dealings are afoot here than just a shady tavern.\"\n",
      "\n",
      "*Peering through the shadows, I try to discern any other potential threats or means of escape if violence erupts. My instincts are heightened, every fiber of my being prepared to react with lightning quickness at the first sign of danger.*\n",
      "Turn 12 | Aria     | *I stride into the dimly lit tavern, hand resting on the pommel of my sword as I cast a wary gaze around the hushed room. Noting the suspicious cloaked figure, I lean in close to Gandalf and murmur gruffly*\n",
      "\n",
      "\"Something foul lurks here, that much is plain. Keep your wits about you, wizard. Should treachery reveal itself, I'll be first through the door with steel bared.\"\n",
      "\n",
      "*I turn my steely eyes to the nervous innkeeper Pip and bark out in a commanding tone*\n",
      "\n",
      "\"Barkeep! A flagon of your strongest ale, and be quick about it. We've questions for you regarding any...untoward occurrences that may have befallen this establishment. Know that we are friends to the innocent, but dire foes to those who abet darkness. Speak truthfully, and we shall lend you our aid and protection.\"\n",
      "\n",
      "*I thump the pommel of my sword meaningfully against the bartop, the implied threat clear. Yet my expression remains grimly resolute, readying to meet deceit or violence with swift and merciless action if need be. My gaze flicks briefly to Lyra, a silent nod signaling my readiness to unveil the full fury of our combined might.*\n",
      "\n",
      "============================================================\n"
     ]
    }
   ],
   "source": [
    "# Display the complete game log\n",
    "print(\"📖 Complete Game Log:\")\n",
    "print(\"=\" * 60)\n",
    "\n",
    "for i, event in enumerate(game_session.game_log, 1):\n",
    "    print(f\"Turn {event['turn_number']:2d} | {event['character']:8s} | {event['action']}\")\n",
    "    if i % 5 == 0:  # Add spacing every 5 turns\n",
    "        print()\n",
    "\n",
    "print(\"\\n\" + \"=\" * 60)"
   ]
  },
  {
   "cell_type": "markdown",
   "metadata": {},
   "source": [
    "## Step 8: Character Memory Analysis\n",
    "\n",
    "Let's see how each character's memory evolved during the session."
   ]
  },
  {
   "cell_type": "code",
   "execution_count": 15,
   "metadata": {},
   "outputs": [
    {
     "name": "stdout",
     "output_type": "stream",
     "text": [
      "🧠 Character Memory States:\n",
      "============================================================\n",
      "\n",
      "Aria (Fighter):\n",
      "Memory: Here is my updated memory summary as Aria the Fighter after the recent events:\n",
      "\n",
      "I remained vigilant, weapon at the ready, as Gandalf and Lyra sought to cajole the innkeeper Pip into revealing any nefarious forces at play within the ominous tavern. Though they took a measured diplomatic approach initially, the air was tense with the implicit threat of our combined might should Pip prove deceptive or complicit with darker powers. \n",
      "\n",
      "Lyra placed a calming hand on my arm, tempering my eagerness to meet any hostilities with swift force. She implored me to embody wisdom through empathy while still issuing a firm warning to Pip - speak truthfully to receive our aid in vanquishing evil, or face the full wrath of Lyra's radiant glory without mercy. Her holy symbol flared brilliantly, the divine light both reassuring and foreboding.\n",
      "\n",
      "Gandalf too demonstrated his formidable wizardly powers, raising his staff to create an aura of preternatural protection even as he vowed to meet malefaction with righteous fury. He counseled the innkeeper that cooperation would be met with friendship while secrecy and deceit would invoke mighty retaliation.  \n",
      "\n",
      "Meanwhile, our ally Thorin slipped into the shadows near a cloaked figure, investigating the suspicious stranger through stealthy observation. He signaled to Gandalf, suspecting this enigmatic presence held darker secrets about the unfolding events.\n",
      "\n",
      "Though diplomacy was the initial path, the implicit threat of overwhelming force if opposed hung in the tavern's air like a looming storm cloud. I remained coiled, ready to unleash unbridled combat prowess upon any who dared betray us or abet sinister forces preying upon the innocent. Gripping my weapon's hilt tightly, I awaited Pip's response with measured patience yet a burning zeal to defend my comrades from any eruption of evil.\n",
      "----------------------------------------\n",
      "\n",
      "Thorin (Rogue):\n",
      "Memory: Here is my updated memory summary as Thorin the Rogue:\n",
      "\n",
      "I arrived at a tavern with my fellow adventurers - the warrior Aria, the wizard Gandalf, and the cleric Lyra. An ominous tension filled the place, with the innkeeper Pip acting anxious and a cloaked stranger lurking suspiciously. \n",
      "\n",
      "Aria suggested finding a table near the exit, sword at the ready in case of trouble. Gandalf sensed darker forces at work beyond what was visible. He commanded the cloaked figure to reveal itself while preparing to counter any hostile magic.\n",
      "\n",
      "Approaching the bar, Aria questioned Pip firmly about the strange happenings, neither threatening nor backing down. Gandalf urged the innkeeper to speak truthfully about any evil plaguing the tavern, warning of a wizard's wrath if deceived. \n",
      "\n",
      "Lyra tried to defuse the situation, offering Pip solace and pledging to aid against malign influences through her divine grace. But she also made it clear wickedness would be purged without mercy if he conspired against us.\n",
      "\n",
      "As a cunning rogue, I remained vigilant throughout, carefully watching the tense confrontation while positioning myself to react quickly to any threats that emerged. I am ready to provide stealthy scouting, or strike decisively from the shadows if combat erupts.\n",
      "----------------------------------------\n",
      "\n",
      "Gandalf (Wizard):\n",
      "Memory: *strokes beard sagely, reassured by the principled stances of my noble companions* Indeed, the tension thickens here like a noxious fog, and we must pierce its miasmic veil with both prudence and resolve. I am heartened that Lyra and Aria have extended overtures of parley and protection to the unsettled innkeeper Pip, providing a path toward truthful account and cooperative alliance against any corrupting influences.\n",
      "\n",
      "Lyra's radiant aura suffuses the tavern with soothing reassurance, a balm to disquieted spirits. She has wisely proffered sanctuary and compassion to the fearful Pip, should he elect to reveal what shadows burden this place. Yet she also stands fortified with righteous power, ready to unleash purifying light upon any unrepentant wickedness.  \n",
      "\n",
      "Aria's warrior soul burns undaunted, her loyal blade ready to defend us if the need arises. She has laid down an ultimatum in blunt but just terms - full transparency will be met with our steadfast guardianship, but any deceit or malefaction shall earn merciless reprisal. \n",
      "\n",
      "Though their approaches differ in tenor, both my companions uphold honor and courage. Pip has been given fair opportunity to cast off secrecy and unite with our noble cause. I can only hope wisdom prevails over any misguided loyalties, lest we be forced to unsheathe the full extent of our formidable gifts in battle against the dark.\n",
      "\n",
      "For now, I await Pip's reckoning with baited breath, staff gripped firmly, arcane might marshaled - yet still aspiring that dialogue may chart a brighter path forward. Whatever ominous forces haunt this place shall be defied, one way or another, by our stalwart fellowship.\n",
      "----------------------------------------\n",
      "\n",
      "Lyra (Cleric):\n",
      "Memory: *As the compassionate Cleric Lyra, I watch the confrontation unfold with a mixture of wariness and concern for a peaceful resolution.* \n",
      "\n",
      "My stalwart companion Aria has taken the lead, firmly questioning the innkeeper Pip about the ominous undercurrents and shady stranger cloaked in the corner. With hand on sword hilt, she demands full truthfulness from Pip, making it clear we are seasoned adventurers able to discern deception. \n",
      "\n",
      "Aria issues Pip an ultimatum - either cooperate fully by revealing any lurking evil forces so we can aid in banishing them, or face harsh reprisal if he conspires against us. The gravity in her voice and the resolve in her eyes show she will not hesitate to battle any threats.\n",
      "\n",
      "The wise wizard Gandalf stands by, his staff aglow, ready to unleash mystic power against malign entities. Though committed to peaceful solutions, I too will call upon divine radiance to smite wickedness if pressed.\n",
      "\n",
      "Tensions are perilously high as we await Pip's response. I pray he will make the wise choice to be forthright, accepting our offer of protection in exchange for full disclosure. But I also steadily prepare to defend my companions from any evil that may be unmasked. Wisdom and compassion guide my cause, but righteous force will be deployed without hesitation against the forces of darkness.\n",
      "----------------------------------------\n"
     ]
    }
   ],
   "source": [
    "# Display character memories\n",
    "print(\"🧠 Character Memory States:\")\n",
    "print(\"=\" * 60)\n",
    "\n",
    "for character in characters:\n",
    "    print(f\"\\n{character.name} ({character.character_class}):\")\n",
    "    print(f\"Memory: {character.memory_summary}\")\n",
    "    print(\"-\" * 40)"
   ]
  },
  {
   "cell_type": "markdown",
   "metadata": {},
   "source": [
    "## Step 9: Session Statistics\n",
    "\n",
    "Generate some basic statistics about the simulation session."
   ]
  },
  {
   "cell_type": "code",
   "execution_count": 16,
   "metadata": {},
   "outputs": [
    {
     "name": "stdout",
     "output_type": "stream",
     "text": [
      "📊 Session Statistics:\n",
      "========================================\n",
      "Total turns: 12\n",
      "Total characters: 4\n",
      "Average turns per character: 3.0\n",
      "\n",
      "👥 Character participation:\n",
      "  Aria: 5 turns (41.7%)\n",
      "  Gandalf: 4 turns (33.3%)\n",
      "  Lyra: 2 turns (16.7%)\n",
      "  Thorin: 1 turns (8.3%)\n",
      "\n",
      "📝 Response statistics:\n",
      "  Average response length: 960.8 characters\n",
      "  Shortest response: 725 characters\n",
      "  Longest response: 1224 characters\n",
      "\n",
      "✨ Session complete!\n"
     ]
    }
   ],
   "source": [
    "# Generate session statistics\n",
    "from collections import Counter\n",
    "from datetime import datetime\n",
    "\n",
    "print(\"📊 Session Statistics:\")\n",
    "print(\"=\" * 40)\n",
    "\n",
    "# Turn statistics\n",
    "character_turns = Counter(event['character'] for event in game_session.game_log)\n",
    "print(f\"Total turns: {len(game_session.game_log)}\")\n",
    "print(f\"Total characters: {len(characters)}\")\n",
    "print(f\"Average turns per character: {len(game_session.game_log) / len(characters):.1f}\")\n",
    "\n",
    "print(\"\\n👥 Character participation:\")\n",
    "for char_name, turn_count in character_turns.most_common():\n",
    "    percentage = (turn_count / len(game_session.game_log)) * 100\n",
    "    print(f\"  {char_name}: {turn_count} turns ({percentage:.1f}%)\")\n",
    "\n",
    "# Action length statistics\n",
    "action_lengths = [len(event['action']) for event in game_session.game_log]\n",
    "print(f\"\\n📝 Response statistics:\")\n",
    "print(f\"  Average response length: {sum(action_lengths) / len(action_lengths):.1f} characters\")\n",
    "print(f\"  Shortest response: {min(action_lengths)} characters\")\n",
    "print(f\"  Longest response: {max(action_lengths)} characters\")\n",
    "\n",
    "print(\"\\n✨ Session complete!\")"
   ]
  },
  {
   "cell_type": "markdown",
   "metadata": {},
   "source": [
    "## Step 10: Export Results (Optional)\n",
    "\n",
    "Save the simulation results for further analysis."
   ]
  },
  {
   "cell_type": "code",
   "execution_count": 17,
   "metadata": {},
   "outputs": [
    {
     "name": "stdout",
     "output_type": "stream",
     "text": [
      "💾 Results saved to: llm_simulation_results_20250717_170632.json\n",
      "📁 File size: 21509 bytes\n"
     ]
    }
   ],
   "source": [
    "# Export simulation results\n",
    "simulation_results = {\n",
    "    'campaign_params': campaign_params,\n",
    "    'characters': [\n",
    "        {\n",
    "            'name': char.name,\n",
    "            'character_class': char.character_class,\n",
    "            'personality': char.personality,\n",
    "            'final_memory': char.memory_summary\n",
    "        } for char in characters\n",
    "    ],\n",
    "    'scenario': scenario,\n",
    "    'turn_sequence': turn_sequence,\n",
    "    'game_log': game_session.game_log,\n",
    "    'session_stats': {\n",
    "        'total_turns': len(game_session.game_log),\n",
    "        'character_turns': dict(character_turns),\n",
    "        'avg_response_length': sum(action_lengths) / len(action_lengths)\n",
    "    }\n",
    "}\n",
    "\n",
    "# Save to file\n",
    "output_file = f\"llm_simulation_results_{datetime.now().strftime('%Y%m%d_%H%M%S')}.json\"\n",
    "with open(output_file, 'w') as f:\n",
    "    json.dump(simulation_results, f, indent=2)\n",
    "\n",
    "print(f\"💾 Results saved to: {output_file}\")\n",
    "print(f\"📁 File size: {os.path.getsize(output_file)} bytes\")"
   ]
  },
  {
   "cell_type": "markdown",
   "metadata": {},
   "source": [
    "## Conclusion\n",
    "\n",
    "🎉 **Congratulations!** You've successfully run a complete LLM-based D&D simulation!\n",
    "\n",
    "### What we accomplished:\n",
    "\n",
    "1. **✅ Parameter Extraction**: Analyzed a real human campaign to extract player count and structure\n",
    "2. **✅ Character Creation**: Generated AI characters with distinct personalities and classes\n",
    "3. **✅ Turn Sampling**: Created a realistic turn sequence using uniform sampling\n",
    "4. **✅ Memory Management**: Each character maintained context and memory across turns\n",
    "5. **✅ Interactive Gameplay**: Characters responded to situations and each other naturally\n",
    "6. **✅ Session Management**: Complete game log with timestamps and turn tracking\n",
    "\n",
    "### Key Features Demonstrated:\n",
    "\n",
    "- **Multi-agent LLM system**: Each character has their own Claude client\n",
    "- **Memory persistence**: Characters remember past events and update their knowledge\n",
    "- **Turn-based interaction**: Realistic D&D-style turn sequence\n",
    "- **Extensible architecture**: Easy to add new sampling methods, character extraction, etc.\n",
    "- **Real campaign integration**: Parameters derived from actual human gameplay\n",
    "\n",
    "### Next Steps:\n",
    "\n",
    "- **🔮 Extract character data**: Pull actual character names/classes from human campaigns\n",
    "- **📈 Advanced sampling**: Implement activity-based or weighted turn sampling\n",
    "- **🧠 Enhanced memory**: Add verbatim recent events + summarized older events\n",
    "- **🎪 Richer scenarios**: Create more complex, multi-scene adventures\n",
    "- **📊 Analysis tools**: Compare AI gameplay patterns to human campaigns\n",
    "\n",
    "The simulation framework is now ready for more sophisticated experiments with emergent AI behavior in D&D settings!"
   ]
  }
 ],
 "metadata": {
  "kernelspec": {
   "display_name": "py312",
   "language": "python",
   "name": "python3"
  },
  "language_info": {
   "codemirror_mode": {
    "name": "ipython",
    "version": 3
   },
   "file_extension": ".py",
   "mimetype": "text/x-python",
   "name": "python",
   "nbconvert_exporter": "python",
   "pygments_lexer": "ipython3",
   "version": "3.12.11"
  }
 },
 "nbformat": 4,
 "nbformat_minor": 4
}
