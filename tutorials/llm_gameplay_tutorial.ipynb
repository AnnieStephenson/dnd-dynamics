{
 "cells": [
  {
   "cell_type": "markdown",
   "metadata": {},
   "source": [
    "# LLM-Based D&D Simulation Tutorial\n",
    "\n",
    "This notebook demonstrates how to use the LLM-based D&D simulation system to create AI-driven gameplay sessions based on real human campaign data.\n",
    "\n",
    "## Overview\n",
    "\n",
    "The simulation system includes:\n",
    "- **Campaign Parameter Extraction**: Analyze human campaigns to extract initialization parameters\n",
    "- **Character Creation**: Generate D&D characters with personalities and classes\n",
    "- **Turn Sampling**: Create realistic turn sequences using various sampling methods\n",
    "- **Character Agents**: LLM-powered characters with memory and decision-making\n",
    "- **Game Session Management**: Orchestrate complete D&D scenarios"
   ]
  },
  {
   "cell_type": "markdown",
   "metadata": {},
   "source": [
    "## Setup and Imports"
   ]
  },
  {
   "cell_type": "code",
   "execution_count": 1,
   "metadata": {},
   "outputs": [
    {
     "name": "stdout",
     "output_type": "stream",
     "text": [
      "✅ Anthropic API key loaded\n",
      "✅ OpenAI API key loaded\n",
      "✅ Google API key loaded\n"
     ]
    }
   ],
   "source": [
    "import os\n",
    "import sys\n",
    "import json\n",
    "import random\n",
    "from pathlib import Path\n",
    "import textwrap\n",
    "import numpy as np\n",
    "import datetime\n",
    "import os, sys\n",
    "from collections import Counter\n",
    "\n",
    "# Import our simulation system\n",
    "import llm_scaffolding.dnd_simulation as sim\n",
    "\n",
    "# Set random seed for reproducible results\n",
    "random.seed(42)\n"
   ]
  },
  {
   "cell_type": "markdown",
   "metadata": {},
   "source": [
    "## Model Selection\n",
    "\n",
    "The simulation system supports multiple LLM providers through liteLLM. You can use:\n",
    "\n",
    "- **Anthropic Claude**: `claude-3-5-sonnet-20240620`, `claude-3-haiku-20240307`\n",
    "- **OpenAI GPT**: `gpt-4o`, `gpt-4o-mini`, `gpt-3.5-turbo`\n",
    "- **Google Gemini**: `gemini-pro`, `gemini-pro-vision`\n",
    "\n",
    "Make sure your API keys are configured in `api_key.txt` in the project root."
   ]
  },
  {
   "cell_type": "markdown",
   "metadata": {},
   "source": [
    "## Step 1: Extract Campaign Parameters\n",
    "\n",
    "Let's load a real human campaign and extract parameters that we can use to initialize our simulation."
   ]
  },
  {
   "cell_type": "code",
   "execution_count": 2,
   "metadata": {},
   "outputs": [
    {
     "name": "stdout",
     "output_type": "stream",
     "text": [
      "📊 Extracting campaign parameters...\n",
      "Jinx:\n",
      "Level: 1\n",
      "Class: Druid\n",
      "Race: Dwarf\n",
      "Background: Folk Hero\n",
      "Alignment: Chaotic Good\n",
      "Strength: 12\n",
      "Dexterity: 10  \n",
      "Constitution: 14\n",
      "Intelligence: 10\n",
      "Wisdom: 15\n",
      "Charisma: 8\n",
      "Hit Points: 12/12\n",
      "Armor Class: 18\n",
      "Proficiency Bonus: +2\n",
      "Saving Throw Proficiencies: Strength, Intelligence\n",
      "Skill Proficiencies: Animal Handling, Medicine, Survival\n",
      "Languages: Common, Dwarvish, Elvish\n",
      "Equipment: Maul, chainmail, herbalism kit\n",
      "Spells Known: Goodberry, Druidcraft\n",
      "Special Abilities: Druidic spells, Wild Shape (not applicable yet)\n",
      "Notes: Jinx is eager to prove herself, has a strong connection to her patron deity Ximesi, and values her family's legacy as protectors.\n",
      "\n",
      "Faen:\n",
      "Level: 1\n",
      "Class: Warlock (The Fiend)\n",
      "Race: Elf\n",
      "Background: Noble\n",
      "Alignment: Neutral Good\n",
      "Strength: 8\n",
      "Dexterity: 14  \n",
      "Constitution: 10\n",
      "Intelligence: 12\n",
      "Wisdom: 10\n",
      "Charisma: 15\n",
      "Hit Points: 9/9\n",
      "Armor Class: 13\n",
      "Proficiency Bonus: +2\n",
      "Saving Throw Proficiencies: Wisdom, Charisma\n",
      "Skill Proficiencies: Arcana, History, Investigation\n",
      "Languages: Common, Elvish\n",
      "Equipment: Crossbow, leather armor, spell components\n",
      "Spells Known: Eldritch Blast, Hellish Rebuke\n",
      "Special Abilities: Pact Magic, Eldritch Invocations (not applicable yet)\n",
      "Notes: Faen was exiled for making a pact with a mysterious voice; she has a desire to prove her powers are a gift and not a mistake.\n",
      "\n",
      "Dmitrei:\n",
      "Level: 1\n",
      "Class: Druid\n",
      "Race: Human\n",
      "Background: Folk Hero\n",
      "Alignment: Neutral\n",
      "Strength: 10\n",
      "Dexterity: 12  \n",
      "Constitution: 14\n",
      "Intelligence: 10\n",
      "Wisdom: 15\n",
      "Charisma: 8\n",
      "Hit Points: 10/10\n",
      "Armor Class: 13\n",
      "Proficiency Bonus: +2\n",
      "Saving Throw Proficiencies: Intelligence, Wisdom\n",
      "Skill Proficiencies: Survival, Animal Handling, Medicine\n",
      "Languages: Common, Druidic\n",
      "Equipment: Shortbow, dagger, leather armor, herbalism kit\n",
      "Spells Known: Goodberry, Druidcraft\n",
      "Special Abilities: Druidic spells, Wild Shape (not applicable yet)\n",
      "Notes: Dmitrei was taught by a druidic mentor to respect nature and is eager to fight against the darkness.\n",
      "\n",
      "Thokk:\n",
      "Level: 1\n",
      "Class: Barbarian\n",
      "Race: Half-Orc\n",
      "Background: Pirate\n",
      "Alignment: Chaotic Neutral\n",
      "Strength: 16\n",
      "Dexterity: 12  \n",
      "Constitution: 14\n",
      "Intelligence: 8\n",
      "Wisdom: 10\n",
      "Charisma: 10\n",
      "Hit Points: 15/15\n",
      "Armor Class: 15\n",
      "Proficiency Bonus: +2\n",
      "Saving Throw Proficiencies: Strength, Constitution\n",
      "Skill Proficiencies: Athletics, Intimidation\n",
      "Languages: Common, Orc\n",
      "Equipment: Greataxe, javelin, leather armor\n",
      "Spells Known: None\n",
      "Special Abilities: Rage, unarmored defense\n",
      "Notes: Thokk experienced a tragic past with loss and betrayal; he seeks justice and believes he must impose his own form of order to combat the darkness in society.\n",
      "\n",
      "🎯 Campaign Parameters:\n",
      "  Campaign Name: 10391-guardians-of-gridori\n",
      "  Total Messages: 216\n",
      "  Number of Players: 5\n",
      "  Character Names: ['Dungeon Master' 'Jinx' 'Faen' 'Dmitrei' 'Thokk']\n",
      "  Player Names: ['LightSpeed', 'AmazingAmazon', 'ShyVideoGamer', 'JacWalke', 'Finny']\n",
      "  Character Classes: [None, 'druid', 'Warlock', 'Druid', 'Barbarian']\n",
      "  Character Genders: [None, 'female', 'female', 'male', 'male']\n",
      "  Character Races: [None, 'Dwarf', 'elf', 'Human', 'Half-Orc']\n",
      "  Initial Scenario: {'1': {'date': '2025-08-03T18:48:16.839058', 'player': 'LightSpeed', 'character': 'Dungeon Master', 'in_combat': False, 'paragraphs': {'0': {'text': 'Guardians of Gridori', 'actions': ['name_mention: gridori'], 'label': 'in-character'}, '1': {'text': '[Recruitment Closed]', 'actions': [], 'label': 'in-character'}, '2': {'text': \"General Information : A PbP 5E D&D campaign for 3-4 players, new players and veterans are welcome. New characters begin at first level. Race and class options are restricted only to the  Player's Handbook  (dragonborn are not available for this campaign). Ability scores can be determined by using standard array or point buy. Advancement will be achieved through milestones. If you are interested, please post a character concept including  name ,  race ,  class , and  background . Furthermore, please include a  brief  answer to the question:  Why are you a guardian?  Please consider the information in the  Campaign Setting Information  section below. This thread will be open for about 48 hours and then close. Final invitations will be sent via a PM.\", 'actions': [], 'label': 'out-of-character'}, '3': {'text': \"How I Roll : I like structure and organization. Generally, I want people to take turns and detail their actions only for their own character. Hopefully this creates a flow of character actions followed by a post by me that summarizes the events and the results. This tends to mean that players need to commit to posting regularly enough that the group doesn't have to wait a long time for their turn. Usually, we'll establish a rule for how long we'll wait for one person before just moving on. If you have any questions, feel free to send me a message. This is my first time doing a PbP on D&D Beyond, but I have played in several PbP games in the past.\", 'actions': [], 'label': 'out-of-character'}, '4': {'text': 'Campaign Setting Information : Something dark and alien emerged from the Gridori Forest. Caught unawares, the elves of the forest were devastated by a sudden quake and shadow creatures captured their children. Desperate for help, the elves summoned you, the Guardians, heroes from lands far and near. Uniting against this darkness will turn rivals into allies, and the power of dormant gods will be sought to fight the corruption of the land.', 'actions': [], 'label': 'out-of-character'}, '5': {'text': 'Lands and Peoples', 'actions': [], 'label': 'out-of-character'}, '6': {'text': \"Gridori Forest : A lush and vibrant forest that stretches across the central parts of the continent. Some parts are dark and void while other parts teaming with life. The northern forests are home to the sun elves, and their kin, the moon elves live in the distant southern forest. The wood elves belong to the central parts of the Gridori forest. Forest gnomes live in harmony with the northern sun elves, both share a keen interest in magic. Tetna Riverlands : In the south-east region of the continent, where the land meets the sea, lies the fertile river lands of Tetna. Humans have settled this region. They've built cities, farming communities, and trading posts all throughout the land. Many other races have come to live in the comfort of the river lands including halflings and hill dwarves. Maha Islands : In the southernmost reaches of the continent are a chain of islands called Maha. These islands are sparsely populated by tribes of half-orc seafarers.\\xa0\\xa0  Gopmara Swamp : Many are wary of the southwestern swamp of Gopmara. It is the home of the secluded and suspicious dark elves. Koatel Desert : The shifting sand dunes and constant heat of the far west make up the Koatel Desert. A clan of outcast nomads called Tieflings reside here. Aerith Tundra : The white winds and snow of the north are home to few. Some brawny tribes of mountain dwarves and humans live here. Ximesi Mountains : The north east is a place of high mountains and rocky valleys. It is the homeland of the mountain dwarves and rock gnomes who live in their grand halls of stone.\", 'actions': [], 'label': 'out-of-character'}, '7': {'text': \"Humans:\\xa0 Most prevalent in the Tetna Riverlands, scattered tribes live in all other regions. Humans tend to enjoy commerce, politics, and independent thinking.\\xa0\\xa0 Elves:  Reside in the forests. Sun elves in the north; Moon elves in the south; Wood elves in the center; Dark Elves in the Gopmara Swamp. Elves tend to have a powerful reverence for nature and knowledge.\\xa0 Dwarves:\\xa0 Mountain dwarves mostly stay in the Ximesi Mountains, but have many settlements in the Aerith Tundra. Mountain dwarves have a strong appreciation for stonework, old traditions, and communal thinking.\\xa0\\xa0 Halflings:\\xa0 Halflings tend to live in Riverland communities alongside humans. There are some halfling villages in the forests as well. Halflings are much like humans in that they enjoy commerce and independent thinking, but don't care much for politics. Half-Elves:\\xa0 Half-Elves tend to live in either their elven home place or in small human communities that have ties to the elves.\\xa0 Half-Orcs:\\xa0 Orcs are from the coastal and regions of the south. Some orc tribes have mixed with the human settlements there thus producing a breed of strong seafaring folk.\\xa0\\xa0 Tieflings:\\xa0 Nomadic desert dwelling people, Tieflings tend to stick together and rarely leave their desert tribes.\\xa0 Gnomes:\\xa0 Forest gnomes covet knowledge and nature and get along well with elves and thus live in the forests alongside them. Rock gnomes like to tinker and craft; thus, they desire the natural resources found inside the mountains and have grown closely tied to mountain dwarves.\", 'actions': [], 'label': 'out-of-character'}, '8': {'text': 'Deities', 'actions': [], 'label': 'out-of-character'}, '9': {'text': 'Gridori,  sage of the forests. Deity\\xa0of Life and Air. Takes the form of a unicorn. Ximesi, sage of mountains. Deity of Light and Fire. Takes the form of a phoenix. Maha, sage of islands. Deity of Tempest and Water. Takes the form of a giant fish. Gopmara, sage of swamps. Deity of Trickery and Shadow. Takes the form of a giant toad. Koatel, sage of deserts. Deity of Knowledge and Time. Takes the form of a sphinx. Tetna, sage of riverlands. Deity of War and Earth. Takes the form of a lyger. Aerith, sage of tundras. Deity of Death and Ice. Takes the form of a dragon.', 'actions': ['name_mention: gridori', 'name_mention: ximesi', 'spell: light'], 'label': 'out-of-character'}, '10': {'text': 'Thanks for considering joining the game!', 'actions': [], 'label': 'out-of-character'}, '11': {}, '12': {'text': 'INTRODUCTION :', 'actions': [], 'label': 'out-of-character'}, '13': {'text': 'The elf known as Lore stands amid a crowd of restless wood elf villagers. He’s heavy for a wood elf, stalky and broad shouldered with a large forehead, balled head and squinty glowing green eyes. A cream-colored cloak covers his body, one hand protruding from it only slightly to lean on a cane made of redwood. Even as the Guardians arrive, and the crowd of wood elves churn, murmur, and cheer Lore is silent and stoic.', 'actions': ['name_mention: lore'], 'label': 'in-character'}, '14': {'text': 'Some guards usher the present guardians into a chamber, they’re each offered a seat at a finely crafted long wood table. After being served a cup of cold dew tea to fight the summer heat, the wood elf servants vacate the room leaving the guardians alone with Lore. A beat of silence builds tension, and Lore speaks “Guardians. Let us begin.” His voice is soothing, yet grave. “First, questions. Second, plans. Third, action.” He leans forward to listen.', 'actions': ['name_mention: lore', 'dialogue'], 'label': 'in-character'}, '15': {}, '16': {}}, 'actions': ['name_mention: gridori', 'name_mention: gridori', 'name_mention: ximesi', 'spell: light', 'name_mention: lore', 'name_mention: lore', 'dialogue']}}\n",
      "Character Personalities + Sheets\n",
      "Dungeon Master: None\n",
      "\n",
      "\n",
      "None\n",
      "\n",
      "\n",
      "Jinx: Jinx, also known as Lucinda Brightwell, is a resilient and idealistic mountain dwarf druid with fiery red hair and a fierce sense of loyalty. Born into a lineage of\n",
      "warriors, leaving her home to embrace her calling as a Guardian was both an adventure and a necessity. The travails of her clan, affected by a darkness that once sickened\n",
      "the elders, stoked her desire to fight evil in all its forms. With a Chaotic Good alignment, Jinx is confident yet passionate, ready to prove herself and protect her\n",
      "companions. She values the strength of her family ties and the lessons of her ancestors, clearly indicating she aspires to be a protector of her people and kin. Her maul\n",
      "and connection to Ximesi, the sage of mountains, fuel her motivations to uphold justice. She is characterized by her sharp wit, a bit of sass, and a determination that\n",
      "sometimes makes her headstrong. Jinx shares an easy camaraderie with her fellow Guardians and focuses on mutual respect, emphasizing equality and cooperation.\n",
      "\n",
      "\n",
      "{'Level': 1, 'Class': 'Druid', 'Race': 'Dwarf', 'Background': 'Folk Hero', 'Alignment': 'Chaotic Good', 'Strength': 12, 'Dexterity': 10, 'Constitution': 14, 'Intelligence': 10, 'Wisdom': 15, 'Charisma': 8, 'Hit Points': '12/12', 'Armor Class': 18, 'Proficiency Bonus': '+2', 'Saving Throw Proficiencies': ['Strength', 'Intelligence'], 'Skill Proficiencies': ['Animal Handling', 'Medicine', 'Survival'], 'Languages': ['Common', 'Dwarvish', 'Elvish'], 'Equipment': ['Maul', 'chainmail', 'herbalism kit'], 'Spells Known': ['Goodberry', 'Druidcraft'], 'Special Abilities': ['Druidic spells', 'Wild Shape (not applicable yet)'], 'Notes': \"Jinx is eager to prove herself, has a strong connection to her patron deity Ximesi, and values her family's legacy as protectors.\"}\n",
      "\n",
      "\n",
      "Faen: Faen, or Faral Hanali, is a delicate moon elf warlock with an intriguing and mysterious past. Once a frail child, she overcame the odds yet became an outcast among\n",
      "her kin due to her pale skin and unusual behavior. The embodiment of a kind-hearted, naive, and whimsical nature, she navigates the world with an endearing eagerness yet\n",
      "carries a burden of self-doubt due to her early experiences. Faen possesses a strong desire for connection, seeking acceptance from others, particularly her fellow\n",
      "Guardians. Her pact with a mysterious voice, Bastion, signifies her bond with the magical, but it also plays on her insecurities as she grapples with its influence over\n",
      "her life. Faen is voiced with curiosity and exuberance but also possesses an underlying strain of anxiety when confronting her powers. Her journey is driven by a quest\n",
      "for belonging, knowledge, and the conviction to prove her magical abilities while maintaining a protective stance towards the outcasts.\n",
      "\n",
      "\n",
      "{'Level': 1, 'Class': 'Warlock (The Fiend)', 'Race': 'Elf', 'Background': 'Noble', 'Alignment': 'Neutral Good', 'Strength': 8, 'Dexterity': 14, 'Constitution': 10, 'Intelligence': 12, 'Wisdom': 10, 'Charisma': 15, 'Hit Points': '9/9', 'Armor Class': 13, 'Proficiency Bonus': '+2', 'Saving Throw Proficiencies': ['Wisdom', 'Charisma'], 'Skill Proficiencies': ['Arcana', 'History', 'Investigation'], 'Languages': ['Common', 'Elvish'], 'Equipment': ['Crossbow', 'leather armor', 'spell components'], 'Spells Known': ['Eldritch Blast', 'Hellish Rebuke'], 'Special Abilities': ['Pact Magic', 'Eldritch Invocations (not applicable yet)'], 'Notes': 'Faen was exiled for making a pact with a mysterious voice; she has a desire to prove her powers are a gift and not a mistake.'}\n",
      "\n",
      "\n",
      "Dmitrei: Dmitrei Snowhunter, a human druid from the icy realms of the Aerith Tundra, embodies a calm yet resourceful nature tempered by a humble upbringing. Taught by his\n",
      "family’s legacy in leathercraft, Dmitrei’s early life revolved around hunting and crafting armor from the beasts of the tundra. His druidic abilities were nurtured by an\n",
      "enigmatic snow owl that revealed his destiny—a call to combat darkness. With a Neutral alignment, Dmitrei seeks balance and stands firm against preconceived notions of\n",
      "justice. He reveals depths of compassion, realizing that healing extends beyond magic; he relies on natural remedies and herbalism learned from his mentor while\n",
      "emphasizing the importance of teamwork. Driven by a sense of destiny, he eagerly collaborates with his allies, genuinely caring for their welfare. Dmitrei's personality\n",
      "blends earnestness, wisdom, and a playful yet determined attitude, as he respects nature and believes it can harness untold strength against evil.\n",
      "\n",
      "\n",
      "{'Level': 1, 'Class': 'Druid', 'Race': 'Human', 'Background': 'Folk Hero', 'Alignment': 'Neutral', 'Strength': 10, 'Dexterity': 12, 'Constitution': 14, 'Intelligence': 10, 'Wisdom': 15, 'Charisma': 8, 'Hit Points': '10/10', 'Armor Class': 13, 'Proficiency Bonus': '+2', 'Saving Throw Proficiencies': ['Intelligence', 'Wisdom'], 'Skill Proficiencies': ['Survival', 'Animal Handling', 'Medicine'], 'Languages': ['Common', 'Druidic'], 'Equipment': ['Shortbow', 'dagger', 'leather armor', 'herbalism kit'], 'Spells Known': ['Goodberry', 'Druidcraft'], 'Special Abilities': ['Druidic spells', 'Wild Shape (not applicable yet)'], 'Notes': 'Dmitrei was taught by a druidic mentor to respect nature and is eager to fight against the darkness.'}\n",
      "\n",
      "\n",
      "Thokk: Thokk, a fierce half-orc barbarian, carries the weight of both his storied past and his relationships with family and friends. Driven by a strong sense of justice\n",
      "borne from a traumatic childhood, Thokk's life as a pirate's son impacted his worldview, blending loyalty with a rough exterior. He possesses a Chaotic Neutral alignment\n",
      "that shapes his decisions based on situations rather than strict moral codes. Thokk rejects the stereotype of a brutish half-orc, preferring to demonstrate vulnerability\n",
      "by warming up to his companions and sharing parts of his life story. Though he showcases a brash demeanor, behind the formidable presence lies a heart that desires to\n",
      "protect the weak and enact justice on those deserving of it. With a penchant for rebellion, he often challenges authority as he believes in earning respect through action\n",
      "rather than standing by conventions. His dynamic features a blending of humor and recklessness, making him both an unpredictable force and a reliable ally.\n",
      "\n",
      "\n",
      "{'Level': 1, 'Class': 'Barbarian', 'Race': 'Half-Orc', 'Background': 'Pirate', 'Alignment': 'Chaotic Neutral', 'Strength': 16, 'Dexterity': 12, 'Constitution': 14, 'Intelligence': 8, 'Wisdom': 10, 'Charisma': 10, 'Hit Points': '15/15', 'Armor Class': 15, 'Proficiency Bonus': '+2', 'Saving Throw Proficiencies': ['Strength', 'Constitution'], 'Skill Proficiencies': ['Athletics', 'Intimidation'], 'Languages': ['Common', 'Orc'], 'Equipment': ['Greataxe', 'javelin', 'leather armor'], 'Spells Known': ['None'], 'Special Abilities': ['Rage', 'unarmored defense'], 'Notes': 'Thokk experienced a tragic past with loss and betrayal; he seeks justice and believes he must impose his own form of order to combat the darkness in society.'}\n",
      "\n",
      "\n",
      "Player Personalities\n",
      "LightSpeed: The player behind LightSpeed exhibits strong leadership qualities, demonstrated by their role as the Dungeon Master (DM). This indicates a penchant for\n",
      "organization and a high level of comprehension of the game mechanics, as well as storytelling abilities. They prefer structured interactions, evident from their desire\n",
      "for players to take turns and provide detailed actions for clarity. Professionally, they may have experience in education or management, managing to provide clear,\n",
      "informative, and engaging campaign structure. Their writing style is authoritative yet inviting, typically using concise and engaging language. They often introduce\n",
      "themes of responsibility and teamwork, indicated by their commitment to ensuring players work collaboratively.\n",
      "\n",
      "\n",
      "AmazingAmazon: As a player, she is expressive and confident, regularly seeking attention through vibrant character portrayal and interaction. Her writing style is\n",
      "animated and descriptive, capturing her character's vibrant personality with flair. The player likely resonates with the values of teamwork and loyalty, happy to support\n",
      "fellow characters while also wishing for excitement and action. At a youthful age range in her writing style, she seems likely to enjoy storytelling or performance-based\n",
      "activities, possibly indicative of a creative hobby or background (like theater or writing). Politically, she seems to appreciate cooperation and camaraderie, as\n",
      "reflected in her readiness to engage with the group on discussions regarding their adventures and shared purpose.\n",
      "\n",
      "\n",
      "ShyVideoGamer: This player presents as contemplative and somewhat shy, often employed in off-stage observations, and displaying a preference for both dialogue and\n",
      "introspection through Faen. The character development exhibits artistic sensibilities, marked by a tendency towards introspection and emotional expression, which may\n",
      "align with the player’s personality as introspective and sensitive. Her writing style is reflective, often highlighting Faen’s insecurities alongside her ambitions,\n",
      "suggesting a deeper connection to the themes of self-acceptance and personal growth. The player could be in their late teens to early twenties and shows a propensity for\n",
      "roles that allow for emotional depth and creativity, possibly hinting at interests in writing, psychology, or the arts.\n",
      "\n",
      "\n",
      "JacWalke: This player's approach is pragmatic and details-oriented, as evidenced by Dmitrei's tactical thinking and methodical engagement with the game's scenarios. Their\n",
      "writing style tends toward clarity, often conveying straightforward objectives and intentions. The player seems to value cooperation, frequently encouraging dialogue and\n",
      "mutual understanding within the group. Their readiness to assess or cultivate plants for potions suggests they may have practical skills or knowledge related to nature or\n",
      "sustainability. This practical mindset could indicate a professional background in science, environmental studies, or agriculture. They likely possess a reflective\n",
      "element, as seen in their willingness to introspect about interactions with the group dynamics.\n",
      "\n",
      "\n",
      "Finny: Finny's character, Thokk, showcases a dynamic and often comical presence in the group, reflecting the player’s playful nature. They demonstrate an engaging writing\n",
      "style with an inclination to be expressive and somewhat irreverent, suggesting a background in storytelling, comedy, or performance arts. The player enjoys roleplay\n",
      "moments that allow for humor and light-heartedness, often providing comic relief in tense situations. Their character arcs suggest depth, however, as Thokk grapples with\n",
      "more serious themes of loss and acceptance amidst levity. Finny likely represents a younger demographic, perhaps in their teens or early twenties, and enjoys games that\n",
      "allow for a blend of serious narrative along with humor. Their social tendencies in gameplay indicate a preference for action and high energy, actively seeking to engage\n",
      "and entertain fellow players.\n",
      "\n",
      "\n"
     ]
    }
   ],
   "source": [
    "# Choose a campaign file to analyze\n",
    "campaign_name = '10391-guardians-of-gridori'\n",
    "campaign_file = os.path.join(os.getcwd(),\"..\", \"data\",\"raw-human-games\", \"individual_campaigns\", campaign_name + '.json')\n",
    "\n",
    "# You can specify different models for different providers:\n",
    "# model = \"claude-3-5-sonnet-20240620\"  # Anthropic Claude Sonnet (default)\n",
    "# model = \"claude-3-haiku-20240307\"     # Anthropic Claude haiku\n",
    "# model = \"gpt-4o\"                      # OpenAI GPT-4\n",
    "# model = \"gemini-pro\"                  # Google Gemini\n",
    "model = \"gpt-4o-mini\"\n",
    "\n",
    "# Extract parameters from the human campaign\n",
    "print(\"📊 Extracting campaign parameters...\")\n",
    "campaign_params = sim.extract_campaign_parameters(campaign_file, model=model)\n",
    "\n",
    "print(f\"\\n🎯 Campaign Parameters:\")\n",
    "print(f\"  Campaign Name: {campaign_params['campaign_name']}\")\n",
    "print(f\"  Total Messages: {campaign_params['total_messages']:,}\")\n",
    "print(f\"  Number of Players: {campaign_params['num_players']}\")\n",
    "print(f\"  Character Names: {campaign_params['character_names']}\")\n",
    "print(f\"  Player Names: {campaign_params['player_names']}\")\n",
    "print(f\"  Character Classes: {campaign_params['character_classes']}\")\n",
    "print(f\"  Character Genders: {campaign_params['character_genders']}\")\n",
    "print(f\"  Character Races: {campaign_params['character_races']}\")\n",
    "print(f\"  Initial Scenario: {campaign_params['initial_scenario']}\")\n",
    "\n",
    "print('Character Personalities + Sheets')\n",
    "for i in range(len(campaign_params['character_names'])):\n",
    "    print(textwrap.fill(f\"{campaign_params['character_names'][i]}: {campaign_params['character_personalities'][i]}\", width=170))\n",
    "    print('\\n')\n",
    "    print(campaign_params['character_sheets'][i])\n",
    "    print('\\n')\n",
    "\n",
    "print('Player Personalities')\n",
    "for i in range(len(campaign_params['player_names'])):\n",
    "    print(\n",
    "        textwrap.fill( \n",
    "            f\"{campaign_params['player_names'][i]}: {campaign_params['player_personalities'][i]}\",\n",
    "            width=170))\n",
    "    print('\\n')\n"
   ]
  },
  {
   "cell_type": "code",
   "execution_count": 3,
   "metadata": {},
   "outputs": [
    {
     "data": {
      "text/plain": [
       "'2025-08-03T18:48:16.839058'"
      ]
     },
     "execution_count": 3,
     "metadata": {},
     "output_type": "execute_result"
    }
   ],
   "source": [
    "campaign_params['initial_scenario']['1']['date']"
   ]
  },
  {
   "cell_type": "markdown",
   "metadata": {},
   "source": [
    "## Step 2: Create Characters\n",
    "\n",
    "Now let's create our AI characters using the player count from the human campaign."
   ]
  },
  {
   "cell_type": "code",
   "execution_count": 10,
   "metadata": {},
   "outputs": [
    {
     "name": "stdout",
     "output_type": "stream",
     "text": [
      "🧙 Creating characters...\n",
      "\n",
      "✨ Created 5 characters:\n",
      "  🗡️  Dungeon Master (None): None\n",
      "         (None,)\n",
      "  🗡️  Jinx (druid): ** Jinx, formally known as Lucinda Brightwell, is a tall and fiery-haired Mountain Dwarf, standing out amongst her kin for her confidence and eagerness to prove herself. As a Paladin of Ximesi, the deity of light and fire, her chaotic good alignment drives her to seek liberty and justice against the encroaching darkness. Growing up amid the towering Ximesi Mountains, Jinx's childhood was marked by tales of her ancestors who fought valiantly to protect their people. Despite the looming threat of a sickness that plagued her clan, she emerged as a hopeful warrior, determined to uphold her family’s legacy. Jinx's personality is characterized by her warmth, optimism, and a strong sense of camaraderie, often encouraging her allies with her battle-ready demeanor. Her confidence can sometimes spill into recklessness, as seen in her rush to face threats. With a close-knit family in a matrifocal society that values every member equally, her relationships and loyalty to her kin fuel her desire to be a beacon of strength. Though she might seem impetuous in her haste to confront evil, her resilience proves she’s more than capable of embodying the light in the face of darkness.\n",
      "         ({'Level': 1, 'Class': 'Druid', 'Race': 'Dwarf', 'Background': 'Unknown', 'Alignment': 'Chaotic Good', 'Strength': 14, 'Dexterity': 10, 'Constitution': 14, 'Intelligence': 10, 'Wisdom': 15, 'Charisma': 8, 'Hit Points': '12/12', 'Armor Class': 16, 'Proficiency Bonus': '+2', 'Saving Throw Proficiencies': ['Strength', 'Intelligence'], 'Skill Proficiencies': ['Animal Handling', 'Nature', 'Medicine'], 'Languages': ['Common', 'Dwarvish', 'Elvish'], 'Equipment': ['Maul', 'basic Druidic gear'], 'Spells Known': ['Druidcraft', 'Goodberry', 'Healing spells'], 'Special Abilities': ['Druidic spells', 'Dwarven resilience'], 'Notes': 'Jinx is a new guardian, eager to prove herself and has a strong connection to her faith in Ximesi.'},)\n",
      "  🗡️  Faen (Warlock): ** Faral \"Faen\" Hanali is a Moon Elf Warlock with a frail appearance and an inclination for introspection due to her traumatic past. Once a noble child shunned for her sickly condition, she felt the sting of exile after embracing her magical abilities through a pact with a mysterious voice—Bastion. Faen's character oscillates between timidness and determination, as she seeks to embrace her supernatural gift while yearning for acceptance. Her dedication to protecting the downtrodden finds resonance within the mission of the Guardians; her fragile yet resilient nature positions her as an empathetic figure willing to stand beside her more robust companions. Often lost in thought, she is intensely observant, which aids her in picking up on the nuances of others, even as she struggles with her self-worth. Faen's keen interest in arcane matters leads her down a path of curiosity, notably driving her interest in the magical aspects of her journey. Despite her nervousness, she shows flashes of bravery and insight, revealing a character rich with depth and hidden strength.\n",
      "         ({'Level': 1, 'Class': 'Warlock', 'Race': 'Elf', 'Background': 'Former Noble', 'Alignment': 'Neutral Good', 'Strength': 8, 'Dexterity': 15, 'Constitution': 12, 'Intelligence': 13, 'Wisdom': 10, 'Charisma': 15, 'Hit Points': '9/9', 'Armor Class': 13, 'Proficiency Bonus': '+2', 'Saving Throw Proficiencies': ['Wisdom', 'Charisma'], 'Skill Proficiencies': ['Arcana', 'History', 'Investigation'], 'Languages': ['Common', 'Elvish'], 'Equipment': ['Crossbow', 'leather armor', 'spell components'], 'Spells Known': ['Eldritch Blast', 'Hellish Rebuke'], 'Special Abilities': ['Pixie-like agility', 'access to eldritch powers'], 'Notes': 'Faen is reserved but has a curious nature and seeks acceptance among peers. She’s grappling with her past and newly realized abilities.'},)\n",
      "  🗡️  Dmitrei (Druid): ** Dmitrei Snowhunter is a Human Druid whose heritage is rooted in the harsh, snowy landscapes of the Aerith Tundra. Driven by a sense of destiny, he seeks to answer the call of guardianship following a prophetic encounter with a mystical snow owl in his youth. Dmitrei embodies resilience and practicality, valuing resourcefulness as he adapts to the challenges presented by the encroaching darkness. His background as a folk hero; working in a family leather business equips him with both the skills for survival and a strong will to protect the weak. With a close-knit family and brotherhood experiences, he carries both loyalty and a sense of responsibility towards his companions. Dmitrei’s tranquil demeanor hides an ardent potential, particularly when channeling the elemental forces of nature. Despite his straightforward nature, he demonstrates keen awareness of the world around him, often reflecting on his role in the larger conflict against darkness. His sympathy, combined with the wisdom learned from nature, fuels his commitment as a guardian, making him a vital asset to the team.\n",
      "         ({'Level': 1, 'Class': 'Druid', 'Race': 'Human', 'Background': 'Folk Hero', 'Alignment': 'Neutral', 'Strength': 10, 'Dexterity': 12, 'Constitution': 14, 'Intelligence': 10, 'Wisdom': 15, 'Charisma': 8, 'Hit Points': '10/10', 'Armor Class': '13 (with leather armor)', 'Proficiency Bonus': '+2', 'Saving Throw Proficiencies': ['Intelligence', 'Wisdom'], 'Skill Proficiencies': ['Nature', 'Animal Handling', 'Medicine'], 'Languages': ['Common', 'Druidic'], 'Equipment': ['Leather armor', 'torch', 'herbalism kit'], 'Spells Known': ['Druidcraft', 'Goodberry', 'Healing magic'], 'Special Abilities': ['Wild Shape', 'Druidic spells', 'proficient in herbalism'], 'Notes': 'Dmitrei is connected to the land, compassionate, and eager to embrace his role as a guardian of nature.'},)\n",
      "  🗡️  Thokk (Barbarian): ** Thokk, a Half-Orc Barbarian, has a childhood steeped in piracy and survival. Born to a pirate mother who commanded a formidable fleet, he has lived a life of adventure marked by hardship and loss. After witnessing the brutal demise of his family at the hands of pirate hunters, he grappled with trauma that forged his chaotic outlook on life. Thokk has a duality to his character: while he is fierce and formidable in battle, he also carries an unexpected depth, demonstrating a misguided sense of justice informed by his experiences in the dark corners of the world. His fearsome reputation often intimidates others, and despite his gruff exterior, he harbors a deep desire to combat oppression and save the innocent, contrasting with the law's cold brutality. Thokk's impulsive nature can sometimes lead to rash decisions, yet beneath that barbarian facade lies a protective spirit, willing to take risks to uphold the weak. His often-hilarious antics and emotional outbursts reveal a character who wrestles with his demons while striving to forge bonds with his newfound comrades.\n",
      "         ({'Level': 1, 'Class': 'Barbarian', 'Race': 'Half-Orc', 'Background': 'Pirate', 'Alignment': 'Chaotic Neutral', 'Strength': 16, 'Dexterity': 12, 'Constitution': 14, 'Intelligence': 8, 'Wisdom': 10, 'Charisma': 12, 'Hit Points': '15/15', 'Armor Class': '15 (with unarmored defense)', 'Proficiency Bonus': '+2', 'Saving Throw Proficiencies': ['Strength', 'Constitution'], 'Skill Proficiencies': ['Intimidation', 'Athletics'], 'Languages': ['Common', 'Orc'], 'Equipment': ['Greataxe', 'light armor'], 'Spells Known': 'Unknown', 'Special Abilities': ['Rage', 'Reckless Attack'], 'Notes': 'Thokk is a fierce warrior with a complicated past that influences his perception of justice and morality. He is protective of others but struggles with his temper.'},)\n",
      "\n",
      "👥 Character roster: ['Dungeon Master', 'Jinx', 'Faen', 'Dmitrei', 'Thokk']\n"
     ]
    }
   ],
   "source": [
    "# Create characters based on the campaign parameters\n",
    "print(\"🧙 Creating characters...\")\n",
    "\n",
    "characters = sim.create_characters(campaign_params, model=model)\n",
    "\n",
    "print(f\"\\n✨ Created {len(characters)} characters:\")\n",
    "for char in characters:\n",
    "    print(f\"  🗡️  {char.name} ({char.dnd_class}): {char.personality}\")\n",
    "    print(f\"         {char.character_sheet}\")\n",
    "\n",
    "# Get character names for turn sampling\n",
    "character_names = [char.name for char in characters]\n",
    "print(f\"\\n👥 Character roster: {character_names}\")"
   ]
  },
  {
   "cell_type": "markdown",
   "metadata": {},
   "source": [
    "## Step 3: Generate Turn Sequence\n",
    "\n",
    "Create a realistic turn sequence using uniform sampling across all characters."
   ]
  },
  {
   "cell_type": "code",
   "execution_count": 11,
   "metadata": {},
   "outputs": [
    {
     "name": "stdout",
     "output_type": "stream",
     "text": [
      "Total turn number: 5\n",
      "\n",
      "📊 Turn distribution:\n",
      "  Jinx: 1 turns (20.0%)\n",
      "  Faen: 1 turns (20.0%)\n",
      "  Dmitrei: 1 turns (20.0%)\n",
      "  Thokk: 1 turns (20.0%)\n"
     ]
    }
   ],
   "source": [
    "# Generate a turn sequence for our mini-session\n",
    "total_turns = 5#len(campaign_params['character_turns'])-1  # Adjust for desired session length\n",
    "from_human_game = True\n",
    "\n",
    "if from_human_game:\n",
    "    turn_sequence = np.array(campaign_params['character_turns'])[1:total_turns] # start at 1 to remove 1st DM post\n",
    "else:\n",
    "    turn_sequence = sim.sample_turn_sequence(\n",
    "    character_names=character_names,\n",
    "    total_turns=total_turns,\n",
    "    method='uniform')\n",
    "\n",
    "#print(f\"\\n📋 Turn sequence: {turn_sequence}\")\n",
    "\n",
    "# Show turn distributions\n",
    "print('Total turn number: ' + str(total_turns))\n",
    "turn_counts = Counter(turn_sequence)\n",
    "print(f\"\\n📊 Turn distribution:\")\n",
    "for char_name, count in turn_counts.items():\n",
    "    print(f\"  {char_name}: {count} turns ({count/total_turns*100:.1f}%)\")"
   ]
  },
  {
   "cell_type": "markdown",
   "metadata": {},
   "source": [
    "## Step 4: Initialize Game Session\n",
    "\n",
    "Create the game session manager that will orchestrate our D&D simulation."
   ]
  },
  {
   "cell_type": "code",
   "execution_count": 6,
   "metadata": {},
   "outputs": [
    {
     "name": "stdout",
     "output_type": "stream",
     "text": [
      "🎭 Initializing game session...\n",
      "✅ Game session created with 5 characters\n",
      "📝 Game log initialized (currently 0 events)\n"
     ]
    }
   ],
   "source": [
    "# Create game session\n",
    "print(\"🎭 Initializing game session...\")\n",
    "game_session = sim.GameSession(characters=characters)\n",
    "\n",
    "print(f\"✅ Game session created with {len(characters)} characters\")\n",
    "print(f\"📝 Game log initialized (currently {len(game_session.game_log)} events)\")"
   ]
  },
  {
   "cell_type": "markdown",
   "metadata": {},
   "source": [
    "## Step 6: Run the Simulation\n",
    "\n",
    "Now let's run the complete D&D simulation and watch our AI characters interact!"
   ]
  },
  {
   "cell_type": "code",
   "execution_count": 7,
   "metadata": {},
   "outputs": [
    {
     "name": "stdout",
     "output_type": "stream",
     "text": [
      "🚀 Starting D&D simulation...\n",
      "\n",
      "============================================================\n",
      "=== INITIAL GAME LOG ===\n",
      "{'1': {'date': '2017-12-16T13:43:31', 'player': 'LightSpeed', 'character': 'Dungeon Master', 'in_combat': False, 'paragraphs': {'0': {'text': 'Guardians of Gridori', 'actions': ['name_mention: gridori'], 'label': 'in-character'}, '1': {'text': '[Recruitment Closed]', 'actions': [], 'label': 'in-character'}, '2': {'text': \"General Information : A PbP 5E D&D campaign for 3-4 players, new players and veterans are welcome. New characters begin at first level. Race and class options are restricted only to the  Player's Handbook  (dragonborn are not available for this campaign). Ability scores can be determined by using standard array or point buy. Advancement will be achieved through milestones. If you are interested, please post a character concept including  name ,  race ,  class , and  background . Furthermore, please include a  brief  answer to the question:  Why are you a guardian?  Please consider the information in the  Campaign Setting Information  section below. This thread will be open for about 48 hours and then close. Final invitations will be sent via a PM.\", 'actions': [], 'label': 'out-of-character'}, '3': {'text': \"How I Roll : I like structure and organization. Generally, I want people to take turns and detail their actions only for their own character. Hopefully this creates a flow of character actions followed by a post by me that summarizes the events and the results. This tends to mean that players need to commit to posting regularly enough that the group doesn't have to wait a long time for their turn. Usually, we'll establish a rule for how long we'll wait for one person before just moving on. If you have any questions, feel free to send me a message. This is my first time doing a PbP on D&D Beyond, but I have played in several PbP games in the past.\", 'actions': [], 'label': 'out-of-character'}, '4': {'text': 'Campaign Setting Information : Something dark and alien emerged from the Gridori Forest. Caught unawares, the elves of the forest were devastated by a sudden quake and shadow creatures captured their children. Desperate for help, the elves summoned you, the Guardians, heroes from lands far and near. Uniting against this darkness will turn rivals into allies, and the power of dormant gods will be sought to fight the corruption of the land.', 'actions': [], 'label': 'out-of-character'}, '5': {'text': 'Lands and Peoples', 'actions': [], 'label': 'out-of-character'}, '6': {'text': \"Gridori Forest : A lush and vibrant forest that stretches across the central parts of the continent. Some parts are dark and void while other parts teaming with life. The northern forests are home to the sun elves, and their kin, the moon elves live in the distant southern forest. The wood elves belong to the central parts of the Gridori forest. Forest gnomes live in harmony with the northern sun elves, both share a keen interest in magic. Tetna Riverlands : In the south-east region of the continent, where the land meets the sea, lies the fertile river lands of Tetna. Humans have settled this region. They've built cities, farming communities, and trading posts all throughout the land. Many other races have come to live in the comfort of the river lands including halflings and hill dwarves. Maha Islands : In the southernmost reaches of the continent are a chain of islands called Maha. These islands are sparsely populated by tribes of half-orc seafarers.\\xa0\\xa0  Gopmara Swamp : Many are wary of the southwestern swamp of Gopmara. It is the home of the secluded and suspicious dark elves. Koatel Desert : The shifting sand dunes and constant heat of the far west make up the Koatel Desert. A clan of outcast nomads called Tieflings reside here. Aerith Tundra : The white winds and snow of the north are home to few. Some brawny tribes of mountain dwarves and humans live here. Ximesi Mountains : The north east is a place of high mountains and rocky valleys. It is the homeland of the mountain dwarves and rock gnomes who live in their grand halls of stone.\", 'actions': [], 'label': 'out-of-character'}, '7': {'text': \"Humans:\\xa0 Most prevalent in the Tetna Riverlands, scattered tribes live in all other regions. Humans tend to enjoy commerce, politics, and independent thinking.\\xa0\\xa0 Elves:  Reside in the forests. Sun elves in the north; Moon elves in the south; Wood elves in the center; Dark Elves in the Gopmara Swamp. Elves tend to have a powerful reverence for nature and knowledge.\\xa0 Dwarves:\\xa0 Mountain dwarves mostly stay in the Ximesi Mountains, but have many settlements in the Aerith Tundra. Mountain dwarves have a strong appreciation for stonework, old traditions, and communal thinking.\\xa0\\xa0 Halflings:\\xa0 Halflings tend to live in Riverland communities alongside humans. There are some halfling villages in the forests as well. Halflings are much like humans in that they enjoy commerce and independent thinking, but don't care much for politics. Half-Elves:\\xa0 Half-Elves tend to live in either their elven home place or in small human communities that have ties to the elves.\\xa0 Half-Orcs:\\xa0 Orcs are from the coastal and regions of the south. Some orc tribes have mixed with the human settlements there thus producing a breed of strong seafaring folk.\\xa0\\xa0 Tieflings:\\xa0 Nomadic desert dwelling people, Tieflings tend to stick together and rarely leave their desert tribes.\\xa0 Gnomes:\\xa0 Forest gnomes covet knowledge and nature and get along well with elves and thus live in the forests alongside them. Rock gnomes like to tinker and craft; thus, they desire the natural resources found inside the mountains and have grown closely tied to mountain dwarves.\", 'actions': [], 'label': 'out-of-character'}, '8': {'text': 'Deities', 'actions': [], 'label': 'out-of-character'}, '9': {'text': 'Gridori,  sage of the forests. Deity\\xa0of Life and Air. Takes the form of a unicorn. Ximesi, sage of mountains. Deity of Light and Fire. Takes the form of a phoenix. Maha, sage of islands. Deity of Tempest and Water. Takes the form of a giant fish. Gopmara, sage of swamps. Deity of Trickery and Shadow. Takes the form of a giant toad. Koatel, sage of deserts. Deity of Knowledge and Time. Takes the form of a sphinx. Tetna, sage of riverlands. Deity of War and Earth. Takes the form of a lyger. Aerith, sage of tundras. Deity of Death and Ice. Takes the form of a dragon.', 'actions': ['name_mention: gridori', 'name_mention: ximesi', 'spell: light'], 'label': 'out-of-character'}, '10': {'text': 'Thanks for considering joining the game!', 'actions': [], 'label': 'out-of-character'}, '11': {}, '12': {'text': 'INTRODUCTION :', 'actions': [], 'label': 'out-of-character'}, '13': {'text': 'The elf known as Lore stands amid a crowd of restless wood elf villagers. He’s heavy for a wood elf, stalky and broad shouldered with a large forehead, balled head and squinty glowing green eyes. A cream-colored cloak covers his body, one hand protruding from it only slightly to lean on a cane made of redwood. Even as the Guardians arrive, and the crowd of wood elves churn, murmur, and cheer Lore is silent and stoic.', 'actions': ['name_mention: lore'], 'label': 'in-character'}, '14': {'text': 'Some guards usher the present guardians into a chamber, they’re each offered a seat at a finely crafted long wood table. After being served a cup of cold dew tea to fight the summer heat, the wood elf servants vacate the room leaving the guardians alone with Lore. A beat of silence builds tension, and Lore speaks “Guardians. Let us begin.” His voice is soothing, yet grave. “First, questions. Second, plans. Third, action.” He leans forward to listen.', 'actions': ['name_mention: lore', 'dialogue'], 'label': 'in-character'}, '15': {}, '16': {}}, 'actions': ['name_mention: gridori', 'name_mention: gridori', 'name_mention: ximesi', 'spell: light', 'name_mention: lore', 'name_mention: lore', 'dialogue']}}\n",
      "2\n",
      "=== D&D SIMULATION STARTING ===\n",
      "Characters: ['Dungeon Master', 'Jinx', 'Faen', 'Dmitrei', 'Thokk']\n",
      "Total turns: 4\n",
      "==================================================\n",
      "turn counter: 2\n",
      "\n",
      "\n",
      "\n",
      "Jinx: Jinx strides into the chamber, her chainmail jingling softly with each step. She takes a seat at the table, her piercing gaze sweeping over the other guardians before settling on Lore. The dwarf paladin's hand rests on the hilt of her maul, ever-ready for action.\n",
      "\n",
      "She eyes the cold dew tea suspiciously before pushing it aside, unused to such delicate elven refreshments. Leaning forward, Jinx addresses Lore in a direct, no-nonsense manner:\n",
      "\n",
      "\"Aye, let's not waste time with pleasantries. What darkness plagues these lands? Speak plainly of the threat, so we might smite it in Ximesi's name.\"\n",
      "\n",
      "Her fingers drum impatiently on the table as she waits for a response, her brow furrowed in concentration. Jinx's eyes narrow slightly at the mention of \"shadow creatures,\" her distrust of anything fey or otherworldly evident in her tense posture.\n",
      "\n",
      "\"And tell us of these children taken. How long have they been missing? Every moment we tarry here is another they spend in the clutches of evil.\"\n",
      "turn counter: 3\n",
      "\n",
      "\n",
      "\n",
      "Faen: Faen enters the chamber hesitantly, her pale silvery skin almost seeming to glow in the dim light. She fidgets with the sleeve of her elegant but travel-worn cloak, clearly uncomfortable in this new setting. As she takes a seat at the table, her large, luminous eyes dart nervously between Lore and the other guardians.\n",
      "\n",
      "She reaches for the cup of cold dew tea with trembling hands, grateful for something to occupy herself with. As she sips the refreshing liquid, Faen listens intently to Jinx's forceful questions, shrinking slightly at the dwarf's intense demeanor.\n",
      "\n",
      "When there's a lull in the conversation, Faen clears her throat softly and speaks in a quiet, melodious voice that wavers slightly:\n",
      "\n",
      "\"Um, excuse me... L-Lore, sir? I... I was wondering if you could tell us more about the nature of these shadow creatures? Are they... are they some kind of magical construct, or perhaps entities from another plane?\"\n",
      "\n",
      "She leans forward slightly, a spark of genuine curiosity briefly overcoming her nervousness as she continues:\n",
      "\n",
      "\"And... and the quake you mentioned. Was there anything... unusual about it? Any strange magical phenomena observed before or after?\"\n",
      "\n",
      "Faen's fingers unconsciously trace arcane symbols on the table's surface as she awaits a response, her\n",
      "turn counter: 4\n",
      "\n",
      "\n",
      "\n",
      "Dmitrei: Dmitrei enters the chamber with calm deliberation, his weathered leather armor and furs speaking to his northern origins. He nods respectfully to Lore and the other guardians before taking a seat at the table. His eyes, the color of winter sky, take in the surroundings with quiet observation.\n",
      "\n",
      "He accepts the cold dew tea with a grateful smile, savoring the coolness after his journey. As Jinx and Faen pose their questions, Dmitrei listens attentively, his brow furrowing slightly in thought.\n",
      "\n",
      "When there's a pause, he speaks in a measured, deep voice tinged with a northern accent:\n",
      "\n",
      "\"Greetings, Lore. I am Dmitrei, from the Aerith Tundra. I share my companions' concerns about the children and the nature of this threat.\" He leans forward, his expression grave. \"But I would also ask - how has this darkness affected the natural world around us? Have you noticed changes in the forest, the animals, or the very earth itself?\"\n",
      "\n",
      "Dmitrei's hand unconsciously moves to touch the wooden token hanging from his neck - a gift from his druidic mentor. \n",
      "\n",
      "\"In my experience, such unnatural forces often leave their mark on the land. Understanding these signs may help us track the source of this evil and, gods willing, find a way to counteract it.\"\n",
      "turn counter: 5\n",
      "\n",
      "\n",
      "\n",
      "Thokk: Thokk lumbers into the chamber, his massive frame dwarfing the elven furniture. He grunts at the offered seat, eyeing it warily before carefully lowering himself onto it. The wood creaks ominously under his weight.\n",
      "\n",
      "He sniffs at the cold dew tea, his nose wrinkling in distaste. With a grunt, he pushes it aside and pulls out a battered flask from his belt, taking a long swig of something considerably stronger.\n",
      "\n",
      "As the others speak, Thokk's eyes narrow, his thick brows furrowing in concentration as he struggles to follow the conversation. When there's a lull, he slams his meaty fist on the table, causing the delicate cups to rattle.\n",
      "\n",
      "\"Thokk not care 'bout fancy words!\" he growls, his voice a deep rumble. \"Shadow things take kids? Thokk smash shadow things!\" He pounds his fist on the table again for emphasis.\n",
      "\n",
      "His yellow eyes lock onto Lore, a mix of anger and determination in his gaze. \"Where shadow things hide? Thokk find. Thokk rescue little ones.\" He grips the handle of his greataxe, knuckles whitening. \"No more talk. Time for action!\"\n",
      "\n",
      "Thokk shifts restlessly in his seat, clearly uncomfortable with all this\n",
      "\n",
      "==================================================\n",
      "=== SIMULATION COMPLETE ===\n"
     ]
    }
   ],
   "source": [
    "# Run the simulation\n",
    "print(\"🚀 Starting D&D simulation...\")\n",
    "print(\"\\n\" + \"=\"*60)\n",
    "\n",
    "# Execute the scenario\n",
    "game_session.run_scenario(\n",
    "    initial_scenario=campaign_params['initial_scenario'],\n",
    "    turn_sequence=turn_sequence,\n",
    "    include_player_personalities=False)"
   ]
  },
  {
   "cell_type": "markdown",
   "metadata": {},
   "source": [
    "## Export Results\n",
    "\n",
    "Save the simulation results for further analysis."
   ]
  },
  {
   "cell_type": "code",
   "execution_count": 8,
   "metadata": {},
   "outputs": [
    {
     "name": "stdout",
     "output_type": "stream",
     "text": [
      "💾 Results saved to: /Users/annie/Code/Repositories/dnd-dynamics/tutorials/../data/llm-games/llm_campaign_10391-guardians-of-gridori_20250730_202128.json\n",
      "📁 File size: 264298 bytes\n"
     ]
    }
   ],
   "source": [
    "# Export simulation results\n",
    "\n",
    "# Save to file\n",
    "\n",
    "output_file = f\"llm_campaign_{campaign_name}_{datetime.datetime.now().strftime('%Y%m%d_%H%M%S')}.json\"\n",
    "output_path = os.path.join(os.getcwd(), '..', 'data', 'llm-games', output_file)\n",
    "with open(output_path, 'w') as f:\n",
    "    json.dump(game_session.game_log, f, indent=2)\n",
    "\n",
    "print(f\"💾 Results saved to: {output_path}\")\n",
    "print(f\"📁 File size: {os.path.getsize(output_path)} bytes\")"
   ]
  },
  {
   "cell_type": "code",
   "execution_count": null,
   "metadata": {},
   "outputs": [],
   "source": []
  }
 ],
 "metadata": {
  "kernelspec": {
   "display_name": "py312",
   "language": "python",
   "name": "python3"
  },
  "language_info": {
   "codemirror_mode": {
    "name": "ipython",
    "version": 3
   },
   "file_extension": ".py",
   "mimetype": "text/x-python",
   "name": "python",
   "nbconvert_exporter": "python",
   "pygments_lexer": "ipython3",
   "version": "3.12.11"
  }
 },
 "nbformat": 4,
 "nbformat_minor": 4
}
