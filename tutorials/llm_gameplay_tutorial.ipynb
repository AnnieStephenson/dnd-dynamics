{
 "cells": [
  {
   "cell_type": "markdown",
   "metadata": {},
   "source": [
    "# LLM-Based D&D Simulation Tutorial\n",
    "\n",
    "This notebook demonstrates how to use the LLM-based D&D simulation system to create AI-driven gameplay sessions based on real human campaign data.\n",
    "\n",
    "## Overview\n",
    "\n",
    "The simulation system includes:\n",
    "- **Campaign Parameter Extraction**: Analyze human campaigns to extract initialization parameters\n",
    "- **Character Creation**: Generate D&D characters with personalities and classes\n",
    "- **Turn Sampling**: Create realistic turn sequences using various sampling methods\n",
    "- **Character Agents**: LLM-powered characters with memory and decision-making\n",
    "- **Game Session Management**: Orchestrate complete D&D scenarios\n",
    "\n",
    "## Prerequisites\n",
    "\n",
    "1. Install required packages: `pip install anthropic`\n",
    "2. Set your Anthropic API key: `export ANTHROPIC_API_KEY=your_key_here`\n",
    "3. Ensure you have access to the human campaign data files"
   ]
  },
  {
   "cell_type": "markdown",
   "metadata": {},
   "source": [
    "## Setup and Imports"
   ]
  },
  {
   "cell_type": "code",
   "execution_count": 1,
   "metadata": {},
   "outputs": [
    {
     "name": "stdout",
     "output_type": "stream",
     "text": [
      "✅ Setup complete!\n"
     ]
    }
   ],
   "source": [
    "import os\n",
    "import sys\n",
    "import json\n",
    "import random\n",
    "from pathlib import Path\n",
    "\n",
    "# Add the llm_scaffolding directory to the Python path\n",
    "sys.path.append(str(Path.cwd().parent / \"llm_scaffolding\"))\n",
    "\n",
    "# Import our simulation system\n",
    "from dnd_simulation import (\n",
    "    extract_campaign_parameters,\n",
    "    create_characters,\n",
    "    sample_turn_sequence,\n",
    "    CharacterAgent,\n",
    "    GameSession\n",
    ")\n",
    "\n",
    "# Set random seed for reproducible results\n",
    "random.seed(42)\n",
    "\n",
    "print(\"✅ Setup complete!\")"
   ]
  },
  {
   "cell_type": "markdown",
   "metadata": {},
   "source": [
    "## API Key Setup (Secure Method)\n",
    "\n",
    "We'll load the API key from a secure file that's excluded from version control.\n",
    "\n",
    "**First-time setup:**\n",
    "1. Open the `api_key.txt` file in the project root directory\n",
    "2. Replace the placeholder text with your actual Anthropic API key\n",
    "3. Save the file (it's already in .gitignore so it won't be committed)\n",
    "\n",
    "**Alternative methods:**\n",
    "- Environment variable: `export ANTHROPIC_API_KEY=your_key_here`\n",
    "- Direct assignment (not recommended): `api_key = 'your_key_here'`"
   ]
  },
  {
   "cell_type": "code",
   "execution_count": 2,
   "metadata": {},
   "outputs": [
    {
     "name": "stdout",
     "output_type": "stream",
     "text": [
      "✅ API key loaded from api_key.txt\n",
      "Key prefix: sk-ant-api...\n"
     ]
    }
   ],
   "source": [
    "def load_api_key():\n",
    "    \"\"\"Load API key from secure file or environment variable.\"\"\"\n",
    "\n",
    "    # Method 1: Try to load from secure file\n",
    "    api_key_file = Path.cwd().parent / \"api_key.txt\"\n",
    "\n",
    "    if api_key_file.exists():\n",
    "        with open(api_key_file, 'r') as f:\n",
    "            content = f.read().strip()\n",
    "\n",
    "            # Skip comment lines and empty lines\n",
    "            lines = [\n",
    "                line.strip() for line in content.split('\\n')\n",
    "                if line.strip() and not line.strip().startswith('#')\n",
    "            ]\n",
    "\n",
    "            if lines and lines[0] != 'PASTE_YOUR_ANTHROPIC_API_KEY_HERE':\n",
    "                api_key = lines[0]\n",
    "                print(\"✅ API key loaded from api_key.txt\")\n",
    "                print(f\"Key prefix: {api_key[:10]}...\")\n",
    "                return api_key\n",
    "            else:\n",
    "                print(\n",
    "                    \"⚠️  api_key.txt found but contains placeholder text\")\n",
    "                print(\n",
    "                    \"Please edit api_key.txt and paste your actual API key\"\n",
    "                )\n",
    "\n",
    "    # Method 2: Try environment variable\n",
    "    api_key = os.getenv('ANTHROPIC_API_KEY')\n",
    "    if api_key:\n",
    "        print(\"✅ API key loaded from environment variable\")\n",
    "        print(f\"Key prefix: {api_key[:10]}...\")\n",
    "        return api_key\n",
    "\n",
    "    return None\n",
    "\n",
    "# Load the API key\n",
    "api_key = load_api_key()\n",
    "os.environ['ANTHROPIC_API_KEY'] = api_key "
   ]
  },
  {
   "cell_type": "markdown",
   "metadata": {},
   "source": [
    "## Step 1: Extract Campaign Parameters\n",
    "\n",
    "Let's load a real human campaign and extract parameters that we can use to initialize our simulation."
   ]
  },
  {
   "cell_type": "code",
   "execution_count": 3,
   "metadata": {},
   "outputs": [
    {
     "name": "stdout",
     "output_type": "stream",
     "text": [
      "📊 Extracting campaign parameters...\n",
      "\n",
      "🎯 Campaign Parameters:\n",
      "  Campaign Name: 10391-guardians-of-gridori\n",
      "  Total Messages: 216\n",
      "  Number of Players: 5\n",
      "  Character Names: ['Dungeon Master' 'Jinx' 'Faen' 'Dmitrei' 'Thokk']\n",
      "  Player Names: ['LightSpeed', 'AmazingAmazon', 'ShyVideoGamer', 'JacWalke', 'Finny']\n",
      "  Character Classes: [None, 'druid', 'Warlock', 'Druid', 'Barbarian']\n",
      "  Character Genders: [None, 'female', 'female', 'male', 'male']\n",
      "  Character Races: [None, 'Dwarf', 'elf', 'Human', 'Half-Orc']\n",
      "  Character personalities: Organized and detail-oriented, providing rich descriptions of the environment and NPCs. Strives to create an immersive experience while balancing rules and gameplay mechanics. Responsive to player actions and adapts the story accordingly.\n",
      "  Initial Scenario: {'1': {'date': '2017-12-16T13:43:31', 'player': 'LightSpeed', 'character': 'Dungeon Master', 'in_combat': False, 'paragraphs': {'0': {'text': 'Guardians of Gridori', 'actions': ['name_mention: gridori'], 'label': 'in-character'}, '1': {'text': '[Recruitment Closed]', 'actions': [], 'label': 'in-character'}, '2': {'text': \"General Information : A PbP 5E D&D campaign for 3-4 players, new players and veterans are welcome. New characters begin at first level. Race and class options are restricted only to the  Player's Handbook  (dragonborn are not available for this campaign). Ability scores can be determined by using standard array or point buy. Advancement will be achieved through milestones. If you are interested, please post a character concept including  name ,  race ,  class , and  background . Furthermore, please include a  brief  answer to the question:  Why are you a guardian?  Please consider the information in the  Campaign Setting Information  section below. This thread will be open for about 48 hours and then close. Final invitations will be sent via a PM.\", 'actions': [], 'label': 'out-of-character'}, '3': {'text': \"How I Roll : I like structure and organization. Generally, I want people to take turns and detail their actions only for their own character. Hopefully this creates a flow of character actions followed by a post by me that summarizes the events and the results. This tends to mean that players need to commit to posting regularly enough that the group doesn't have to wait a long time for their turn. Usually, we'll establish a rule for how long we'll wait for one person before just moving on. If you have any questions, feel free to send me a message. This is my first time doing a PbP on D&D Beyond, but I have played in several PbP games in the past.\", 'actions': [], 'label': 'out-of-character'}, '4': {'text': 'Campaign Setting Information : Something dark and alien emerged from the Gridori Forest. Caught unawares, the elves of the forest were devastated by a sudden quake and shadow creatures captured their children. Desperate for help, the elves summoned you, the Guardians, heroes from lands far and near. Uniting against this darkness will turn rivals into allies, and the power of dormant gods will be sought to fight the corruption of the land.', 'actions': [], 'label': 'out-of-character'}, '5': {'text': 'Lands and Peoples', 'actions': [], 'label': 'out-of-character'}, '6': {'text': \"Gridori Forest : A lush and vibrant forest that stretches across the central parts of the continent. Some parts are dark and void while other parts teaming with life. The northern forests are home to the sun elves, and their kin, the moon elves live in the distant southern forest. The wood elves belong to the central parts of the Gridori forest. Forest gnomes live in harmony with the northern sun elves, both share a keen interest in magic. Tetna Riverlands : In the south-east region of the continent, where the land meets the sea, lies the fertile river lands of Tetna. Humans have settled this region. They've built cities, farming communities, and trading posts all throughout the land. Many other races have come to live in the comfort of the river lands including halflings and hill dwarves. Maha Islands : In the southernmost reaches of the continent are a chain of islands called Maha. These islands are sparsely populated by tribes of half-orc seafarers.\\xa0\\xa0  Gopmara Swamp : Many are wary of the southwestern swamp of Gopmara. It is the home of the secluded and suspicious dark elves. Koatel Desert : The shifting sand dunes and constant heat of the far west make up the Koatel Desert. A clan of outcast nomads called Tieflings reside here. Aerith Tundra : The white winds and snow of the north are home to few. Some brawny tribes of mountain dwarves and humans live here. Ximesi Mountains : The north east is a place of high mountains and rocky valleys. It is the homeland of the mountain dwarves and rock gnomes who live in their grand halls of stone.\", 'actions': [], 'label': 'out-of-character'}, '7': {'text': \"Humans:\\xa0 Most prevalent in the Tetna Riverlands, scattered tribes live in all other regions. Humans tend to enjoy commerce, politics, and independent thinking.\\xa0\\xa0 Elves:  Reside in the forests. Sun elves in the north; Moon elves in the south; Wood elves in the center; Dark Elves in the Gopmara Swamp. Elves tend to have a powerful reverence for nature and knowledge.\\xa0 Dwarves:\\xa0 Mountain dwarves mostly stay in the Ximesi Mountains, but have many settlements in the Aerith Tundra. Mountain dwarves have a strong appreciation for stonework, old traditions, and communal thinking.\\xa0\\xa0 Halflings:\\xa0 Halflings tend to live in Riverland communities alongside humans. There are some halfling villages in the forests as well. Halflings are much like humans in that they enjoy commerce and independent thinking, but don't care much for politics. Half-Elves:\\xa0 Half-Elves tend to live in either their elven home place or in small human communities that have ties to the elves.\\xa0 Half-Orcs:\\xa0 Orcs are from the coastal and regions of the south. Some orc tribes have mixed with the human settlements there thus producing a breed of strong seafaring folk.\\xa0\\xa0 Tieflings:\\xa0 Nomadic desert dwelling people, Tieflings tend to stick together and rarely leave their desert tribes.\\xa0 Gnomes:\\xa0 Forest gnomes covet knowledge and nature and get along well with elves and thus live in the forests alongside them. Rock gnomes like to tinker and craft; thus, they desire the natural resources found inside the mountains and have grown closely tied to mountain dwarves.\", 'actions': [], 'label': 'out-of-character'}, '8': {'text': 'Deities', 'actions': [], 'label': 'out-of-character'}, '9': {'text': 'Gridori,  sage of the forests. Deity\\xa0of Life and Air. Takes the form of a unicorn. Ximesi, sage of mountains. Deity of Light and Fire. Takes the form of a phoenix. Maha, sage of islands. Deity of Tempest and Water. Takes the form of a giant fish. Gopmara, sage of swamps. Deity of Trickery and Shadow. Takes the form of a giant toad. Koatel, sage of deserts. Deity of Knowledge and Time. Takes the form of a sphinx. Tetna, sage of riverlands. Deity of War and Earth. Takes the form of a lyger. Aerith, sage of tundras. Deity of Death and Ice. Takes the form of a dragon.', 'actions': ['name_mention: gridori', 'name_mention: ximesi', 'spell: light'], 'label': 'out-of-character'}, '10': {'text': 'Thanks for considering joining the game!', 'actions': [], 'label': 'out-of-character'}, '11': {}, '12': {'text': 'INTRODUCTION :', 'actions': [], 'label': 'out-of-character'}, '13': {'text': 'The elf known as Lore stands amid a crowd of restless wood elf villagers. He’s heavy for a wood elf, stalky and broad shouldered with a large forehead, balled head and squinty glowing green eyes. A cream-colored cloak covers his body, one hand protruding from it only slightly to lean on a cane made of redwood. Even as the Guardians arrive, and the crowd of wood elves churn, murmur, and cheer Lore is silent and stoic.', 'actions': ['name_mention: lore'], 'label': 'in-character'}, '14': {'text': 'Some guards usher the present guardians into a chamber, they’re each offered a seat at a finely crafted long wood table. After being served a cup of cold dew tea to fight the summer heat, the wood elf servants vacate the room leaving the guardians alone with Lore. A beat of silence builds tension, and Lore speaks “Guardians. Let us begin.” His voice is soothing, yet grave. “First, questions. Second, plans. Third, action.” He leans forward to listen.', 'actions': ['name_mention: lore', 'dialogue'], 'label': 'in-character'}, '15': {}, '16': {}}, 'actions': ['name_mention: gridori', 'name_mention: gridori', 'name_mention: ximesi', 'spell: light', 'name_mention: lore', 'name_mention: lore', 'dialogue']}}\n"
     ]
    }
   ],
   "source": [
    "# Choose a campaign file to analyze\n",
    "campaign_file = \"../data/raw-human-games/individual_campaigns/10391-guardians-of-gridori.json\"\n",
    "\n",
    "# Extract parameters from the human campaign\n",
    "print(\"📊 Extracting campaign parameters...\")\n",
    "campaign_params = extract_campaign_parameters(campaign_file)\n",
    "\n",
    "print(f\"\\n🎯 Campaign Parameters:\")\n",
    "print(f\"  Campaign Name: {campaign_params['campaign_name']}\")\n",
    "print(f\"  Total Messages: {campaign_params['total_messages']:,}\")\n",
    "print(f\"  Number of Players: {campaign_params['num_players']}\")\n",
    "print(f\"  Character Names: {campaign_params['character_names']}\")\n",
    "print(f\"  Player Names: {campaign_params['player_names']}\")\n",
    "print(f\"  Character Classes: {campaign_params['character_classes']}\")\n",
    "print(f\"  Character Genders: {campaign_params['character_genders']}\")\n",
    "print(f\"  Character Races: {campaign_params['character_races']}\")\n",
    "print(f\"  Character personalities: {campaign_params['character_personalities'][0]}\")\n",
    "print(f\"  Initial Scenario: {campaign_params['initial_scenario']}\")\n"
   ]
  },
  {
   "cell_type": "code",
   "execution_count": 13,
   "metadata": {},
   "outputs": [
    {
     "data": {
      "text/plain": [
       "array(['Dungeon Master', 'Jinx', None, 'Faen', 'Dmitrei', 'Thokk',\n",
       "       'Thokk', 'Thokk', 'Dmitrei', 'Thokk', 'Faen', 'Jinx',\n",
       "       'Dungeon Master', 'Dmitrei', 'Dungeon Master', 'Faen', 'Thokk',\n",
       "       'Dungeon Master', 'Jinx', 'Dungeon Master', 'Faen', 'Jinx', 'Faen',\n",
       "       'Dungeon Master', 'Dmitrei', 'Thokk', 'Dmitrei', 'Jinx', 'Faen',\n",
       "       'Dungeon Master', 'Dmitrei', 'Faen', 'Dungeon Master', 'Faen',\n",
       "       'Jinx', 'Dungeon Master', 'Dmitrei', 'Jinx', 'Dungeon Master',\n",
       "       'Dmitrei', 'Faen', 'Thokk', 'Jinx', 'Dmitrei', 'Jinx', 'Jinx',\n",
       "       'Thokk', 'Thokk', 'Dungeon Master', 'Dmitrei', 'Faen',\n",
       "       'Dungeon Master', 'Thokk', 'Faen', 'Thokk', 'Dmitrei', 'Jinx',\n",
       "       'Dmitrei', 'Jinx', 'Dmitrei', 'Jinx', 'Dungeon Master',\n",
       "       'Dungeon Master', 'Dmitrei', 'Faen', 'Jinx', 'Dungeon Master',\n",
       "       'Thokk', 'Dmitrei', 'Dungeon Master', 'Faen', 'Thokk',\n",
       "       'Dungeon Master', 'Dmitrei', 'Thokk', 'Dungeon Master', 'Jinx',\n",
       "       'Dungeon Master', 'Dmitrei', 'Faen', 'Thokk', 'Jinx', 'Jinx',\n",
       "       'Faen', 'Jinx', 'Dmitrei', 'Faen', 'Dungeon Master', 'Dmitrei',\n",
       "       'Faen', 'Jinx', 'Thokk', 'Dungeon Master', 'Thokk', 'Dmitrei',\n",
       "       'Faen', 'Thokk', 'Dmitrei', 'Jinx', 'Faen', 'Dungeon Master',\n",
       "       'Thokk', 'Dmitrei', 'Faen', 'Jinx', 'Dungeon Master', 'Dmitrei',\n",
       "       'Thokk', 'Faen', 'Jinx', 'Faen', 'Jinx', 'Dmitrei', 'Faen',\n",
       "       'Dungeon Master', 'Dmitrei', 'Dungeon Master', 'Faen',\n",
       "       'Dungeon Master', 'Thokk', 'Faen', 'Dungeon Master', 'Thokk',\n",
       "       'Dungeon Master', 'Dmitrei', 'Dungeon Master', 'Jinx', 'Dmitrei',\n",
       "       'Thokk', 'Faen', 'Thokk', 'Dmitrei', 'Faen', 'Thokk', 'Jinx',\n",
       "       'Dungeon Master', 'Faen', 'Jinx', 'Dmitrei', 'Dungeon Master',\n",
       "       'Jinx', 'Dmitrei', 'Dungeon Master', 'Dmitrei', 'Faen', 'Thokk',\n",
       "       'Dungeon Master', 'Dmitrei', 'Jinx', 'Dungeon Master', 'Dmitrei',\n",
       "       'Dungeon Master', 'Dmitrei', 'Jinx', 'Thokk', 'Dungeon Master',\n",
       "       'Jinx', 'Thokk', 'Dmitrei', 'Jinx', 'Faen', 'Dungeon Master',\n",
       "       'Dmitrei', 'Jinx', 'Dungeon Master', 'Jinx', 'Thokk', 'Jinx',\n",
       "       'Faen', 'Thokk', 'Dungeon Master', 'Jinx', 'Dmitrei',\n",
       "       'Dungeon Master', 'Faen', 'Jinx', 'Dungeon Master', 'Faen',\n",
       "       'Dungeon Master', 'Dmitrei', 'Dungeon Master', 'Jinx', 'Faen',\n",
       "       'Jinx', 'Dungeon Master', 'Thokk', 'Dungeon Master', 'Faen',\n",
       "       'Jinx', 'Faen', 'Dungeon Master', 'Jinx', 'Dungeon Master', 'Jinx',\n",
       "       'Dungeon Master', 'Dmitrei', 'Faen', 'Thokk', 'Dmitrei', 'Faen',\n",
       "       'Thokk', 'Jinx', 'Dungeon Master', 'Faen', 'Jinx',\n",
       "       'Dungeon Master', 'Thokk', 'Dungeon Master', 'Dmitrei',\n",
       "       'Dungeon Master', 'Dmitrei', 'Dungeon Master', 'Jinx', 'Faen',\n",
       "       'Thokk', 'Faen'], dtype=object)"
      ]
     },
     "execution_count": 13,
     "metadata": {},
     "output_type": "execute_result"
    }
   ],
   "source": [
    "campaign_params['character_turns']"
   ]
  },
  {
   "cell_type": "markdown",
   "metadata": {},
   "source": [
    "## Step 2: Create Characters\n",
    "\n",
    "Now let's create our AI characters using the player count from the human campaign."
   ]
  },
  {
   "cell_type": "code",
   "execution_count": null,
   "metadata": {},
   "outputs": [
    {
     "name": "stdout",
     "output_type": "stream",
     "text": [
      "🧙 Creating characters...\n",
      "\n",
      "✨ Created 5 characters:\n",
      "  🗡️  Dungeon Master (None): Detail-oriented and organized, providing rich descriptions of the world and carefully tracking game mechanics. Aims to create an immersive experience while maintaining fair gameplay. Responsive to player actions and adaptable in moving the story forward.\n",
      "  🗡️  Jinx (druid): Proactive and tactical, often taking initiative in combat and exploration. Shows concern for party members' wellbeing. Roleplays a righteous character but is open to teamwork and compromise. Engaged with the story and lore of the world.\n",
      "  🗡️  Faen (Warlock): Somewhat timid but curious, often asking questions to learn more about the world and situation. Plays a character with an internal struggle, showing depth in roleplaying. Cautious in combat but willing to use powerful abilities when needed.\n",
      "  🗡️  Dmitrei (Druid): Helpful and supportive of other party members, offering healing and advice. Shows interest in the lore and druidic aspects of the world. Thoughtful in approaching problems, trying to gather information before acting.\n",
      "  🗡️  Thokk (Barbarian): Plays a straightforward, action-oriented character. Often responds with brief, direct statements or actions. Adds moments of levity through the character's sometimes impulsive or unorthodox behavior. Willing to put the character in harm's way to protect others.\n",
      "\n",
      "👥 Character roster: ['Dungeon Master', 'Jinx', 'Faen', 'Dmitrei', 'Thokk']\n"
     ]
    }
   ],
   "source": [
    "# Create characters based on the campaign parameters\n",
    "print(\"🧙 Creating characters...\")\n",
    "\n",
    "characters = create_characters(campaign_params)\n",
    "\n",
    "print(f\"\\n✨ Created {len(characters)} characters:\")\n",
    "for char in characters:\n",
    "    print(f\"  🗡️  {char.name} ({char.dnd_class}): {char.personality}\")\n",
    "\n",
    "# Get character names for turn sampling\n",
    "character_names = [char.name for char in characters]\n",
    "print(f\"\\n👥 Character roster: {character_names}\")"
   ]
  },
  {
   "cell_type": "markdown",
   "metadata": {},
   "source": [
    "## Step 3: Generate Turn Sequence\n",
    "\n",
    "Create a realistic turn sequence using uniform sampling across all characters."
   ]
  },
  {
   "cell_type": "code",
   "execution_count": 5,
   "metadata": {},
   "outputs": [
    {
     "name": "stdout",
     "output_type": "stream",
     "text": [
      "🎲 Generating turn sequence (5 turns)...\n",
      "\n",
      "📋 Turn sequence: ['Dmitrei', 'Dungeon Master', 'Jinx', 'Jinx', 'Dmitrei']\n",
      "\n",
      "📊 Turn distribution:\n",
      "  Dmitrei: 2 turns (40.0%)\n",
      "  Dungeon Master: 1 turns (20.0%)\n",
      "  Jinx: 2 turns (40.0%)\n"
     ]
    }
   ],
   "source": [
    "# Generate a turn sequence for our mini-session\n",
    "total_turns = 5  # Adjust for desired session length\n",
    "\n",
    "print(f\"🎲 Generating turn sequence ({total_turns} turns)...\")\n",
    "turn_sequence = sample_turn_sequence(\n",
    "    character_names=character_names,\n",
    "    total_turns=total_turns,\n",
    "    method='uniform'\n",
    ")\n",
    "\n",
    "print(f\"\\n📋 Turn sequence: {turn_sequence}\")\n",
    "\n",
    "# Show turn distribution\n",
    "from collections import Counter\n",
    "turn_counts = Counter(turn_sequence)\n",
    "print(f\"\\n📊 Turn distribution:\")\n",
    "for char_name, count in turn_counts.items():\n",
    "    print(f\"  {char_name}: {count} turns ({count/total_turns*100:.1f}%)\")"
   ]
  },
  {
   "cell_type": "markdown",
   "metadata": {},
   "source": [
    "## Step 4: Initialize Game Session\n",
    "\n",
    "Create the game session manager that will orchestrate our D&D simulation."
   ]
  },
  {
   "cell_type": "code",
   "execution_count": 6,
   "metadata": {},
   "outputs": [
    {
     "name": "stdout",
     "output_type": "stream",
     "text": [
      "🎭 Initializing game session...\n",
      "✅ Game session created with 5 characters\n",
      "📝 Game log initialized (currently 0 events)\n"
     ]
    }
   ],
   "source": [
    "# Create game session\n",
    "print(\"🎭 Initializing game session...\")\n",
    "game_session = GameSession(characters=characters, api_key=api_key)\n",
    "\n",
    "print(f\"✅ Game session created with {len(characters)} characters\")\n",
    "print(f\"📝 Game log initialized (currently {len(game_session.game_log)} events)\")"
   ]
  },
  {
   "cell_type": "markdown",
   "metadata": {},
   "source": [
    "## Step 6: Run the Simulation\n",
    "\n",
    "Now let's run the complete D&D simulation and watch our AI characters interact!"
   ]
  },
  {
   "cell_type": "code",
   "execution_count": 7,
   "metadata": {},
   "outputs": [
    {
     "name": "stdout",
     "output_type": "stream",
     "text": [
      "🚀 Starting D&D simulation...\n",
      "\n",
      "============================================================\n",
      "=== INITIAL GAME LOG ===\n",
      "{'1': {'date': '2017-12-16T13:43:31', 'player': 'LightSpeed', 'character': 'Dungeon Master', 'in_combat': False, 'paragraphs': {'0': {'text': 'Guardians of Gridori', 'actions': ['name_mention: gridori'], 'label': 'in-character'}, '1': {'text': '[Recruitment Closed]', 'actions': [], 'label': 'in-character'}, '2': {'text': \"General Information : A PbP 5E D&D campaign for 3-4 players, new players and veterans are welcome. New characters begin at first level. Race and class options are restricted only to the  Player's Handbook  (dragonborn are not available for this campaign). Ability scores can be determined by using standard array or point buy. Advancement will be achieved through milestones. If you are interested, please post a character concept including  name ,  race ,  class , and  background . Furthermore, please include a  brief  answer to the question:  Why are you a guardian?  Please consider the information in the  Campaign Setting Information  section below. This thread will be open for about 48 hours and then close. Final invitations will be sent via a PM.\", 'actions': [], 'label': 'out-of-character'}, '3': {'text': \"How I Roll : I like structure and organization. Generally, I want people to take turns and detail their actions only for their own character. Hopefully this creates a flow of character actions followed by a post by me that summarizes the events and the results. This tends to mean that players need to commit to posting regularly enough that the group doesn't have to wait a long time for their turn. Usually, we'll establish a rule for how long we'll wait for one person before just moving on. If you have any questions, feel free to send me a message. This is my first time doing a PbP on D&D Beyond, but I have played in several PbP games in the past.\", 'actions': [], 'label': 'out-of-character'}, '4': {'text': 'Campaign Setting Information : Something dark and alien emerged from the Gridori Forest. Caught unawares, the elves of the forest were devastated by a sudden quake and shadow creatures captured their children. Desperate for help, the elves summoned you, the Guardians, heroes from lands far and near. Uniting against this darkness will turn rivals into allies, and the power of dormant gods will be sought to fight the corruption of the land.', 'actions': [], 'label': 'out-of-character'}, '5': {'text': 'Lands and Peoples', 'actions': [], 'label': 'out-of-character'}, '6': {'text': \"Gridori Forest : A lush and vibrant forest that stretches across the central parts of the continent. Some parts are dark and void while other parts teaming with life. The northern forests are home to the sun elves, and their kin, the moon elves live in the distant southern forest. The wood elves belong to the central parts of the Gridori forest. Forest gnomes live in harmony with the northern sun elves, both share a keen interest in magic. Tetna Riverlands : In the south-east region of the continent, where the land meets the sea, lies the fertile river lands of Tetna. Humans have settled this region. They've built cities, farming communities, and trading posts all throughout the land. Many other races have come to live in the comfort of the river lands including halflings and hill dwarves. Maha Islands : In the southernmost reaches of the continent are a chain of islands called Maha. These islands are sparsely populated by tribes of half-orc seafarers.\\xa0\\xa0  Gopmara Swamp : Many are wary of the southwestern swamp of Gopmara. It is the home of the secluded and suspicious dark elves. Koatel Desert : The shifting sand dunes and constant heat of the far west make up the Koatel Desert. A clan of outcast nomads called Tieflings reside here. Aerith Tundra : The white winds and snow of the north are home to few. Some brawny tribes of mountain dwarves and humans live here. Ximesi Mountains : The north east is a place of high mountains and rocky valleys. It is the homeland of the mountain dwarves and rock gnomes who live in their grand halls of stone.\", 'actions': [], 'label': 'out-of-character'}, '7': {'text': \"Humans:\\xa0 Most prevalent in the Tetna Riverlands, scattered tribes live in all other regions. Humans tend to enjoy commerce, politics, and independent thinking.\\xa0\\xa0 Elves:  Reside in the forests. Sun elves in the north; Moon elves in the south; Wood elves in the center; Dark Elves in the Gopmara Swamp. Elves tend to have a powerful reverence for nature and knowledge.\\xa0 Dwarves:\\xa0 Mountain dwarves mostly stay in the Ximesi Mountains, but have many settlements in the Aerith Tundra. Mountain dwarves have a strong appreciation for stonework, old traditions, and communal thinking.\\xa0\\xa0 Halflings:\\xa0 Halflings tend to live in Riverland communities alongside humans. There are some halfling villages in the forests as well. Halflings are much like humans in that they enjoy commerce and independent thinking, but don't care much for politics. Half-Elves:\\xa0 Half-Elves tend to live in either their elven home place or in small human communities that have ties to the elves.\\xa0 Half-Orcs:\\xa0 Orcs are from the coastal and regions of the south. Some orc tribes have mixed with the human settlements there thus producing a breed of strong seafaring folk.\\xa0\\xa0 Tieflings:\\xa0 Nomadic desert dwelling people, Tieflings tend to stick together and rarely leave their desert tribes.\\xa0 Gnomes:\\xa0 Forest gnomes covet knowledge and nature and get along well with elves and thus live in the forests alongside them. Rock gnomes like to tinker and craft; thus, they desire the natural resources found inside the mountains and have grown closely tied to mountain dwarves.\", 'actions': [], 'label': 'out-of-character'}, '8': {'text': 'Deities', 'actions': [], 'label': 'out-of-character'}, '9': {'text': 'Gridori,  sage of the forests. Deity\\xa0of Life and Air. Takes the form of a unicorn. Ximesi, sage of mountains. Deity of Light and Fire. Takes the form of a phoenix. Maha, sage of islands. Deity of Tempest and Water. Takes the form of a giant fish. Gopmara, sage of swamps. Deity of Trickery and Shadow. Takes the form of a giant toad. Koatel, sage of deserts. Deity of Knowledge and Time. Takes the form of a sphinx. Tetna, sage of riverlands. Deity of War and Earth. Takes the form of a lyger. Aerith, sage of tundras. Deity of Death and Ice. Takes the form of a dragon.', 'actions': ['name_mention: gridori', 'name_mention: ximesi', 'spell: light'], 'label': 'out-of-character'}, '10': {'text': 'Thanks for considering joining the game!', 'actions': [], 'label': 'out-of-character'}, '11': {}, '12': {'text': 'INTRODUCTION :', 'actions': [], 'label': 'out-of-character'}, '13': {'text': 'The elf known as Lore stands amid a crowd of restless wood elf villagers. He’s heavy for a wood elf, stalky and broad shouldered with a large forehead, balled head and squinty glowing green eyes. A cream-colored cloak covers his body, one hand protruding from it only slightly to lean on a cane made of redwood. Even as the Guardians arrive, and the crowd of wood elves churn, murmur, and cheer Lore is silent and stoic.', 'actions': ['name_mention: lore'], 'label': 'in-character'}, '14': {'text': 'Some guards usher the present guardians into a chamber, they’re each offered a seat at a finely crafted long wood table. After being served a cup of cold dew tea to fight the summer heat, the wood elf servants vacate the room leaving the guardians alone with Lore. A beat of silence builds tension, and Lore speaks “Guardians. Let us begin.” His voice is soothing, yet grave. “First, questions. Second, plans. Third, action.” He leans forward to listen.', 'actions': ['name_mention: lore', 'dialogue'], 'label': 'in-character'}, '15': {}, '16': {}}, 'actions': ['name_mention: gridori', 'name_mention: gridori', 'name_mention: ximesi', 'spell: light', 'name_mention: lore', 'name_mention: lore', 'dialogue']}}\n",
      "2\n",
      "=== D&D SIMULATION STARTING ===\n",
      "Characters: ['Dungeon Master', 'Jinx', 'Faen', 'Dmitrei', 'Thokk']\n",
      "Total turns: 5\n",
      "==================================================\n",
      "turn counter: 2\n",
      "\n",
      "Dmitrei: Dmitrei leans forward, his brow furrowed in concern as he addresses Lore. His voice is calm but tinged with urgency:\n",
      "\n",
      "\"Thank you for gathering us, Lore. I am Dmitrei, a druid from the northern reaches of Gridori Forest. The news of the shadow creatures and captured children is deeply troubling. Before we make plans, I believe we need more information. Can you tell us more about these shadow creatures? When did they first appear, and have you noticed any patterns to their attacks or movements? Also, do we know if the children are still alive, and if so, where they might be held?\"\n",
      "\n",
      "Dmitrei pauses, his eyes scanning the faces of his fellow Guardians before continuing:\n",
      "\n",
      "\"Additionally, I'm curious about the quake you mentioned. Was it a natural occurrence, or do you suspect it's connected to these dark forces? As a druid, I'm particularly concerned about any corruption spreading through the land. Have there been any noticeable changes to the forest or its wildlife since these events began?\"\n",
      "\n",
      "He sits back slightly, his hands clasped around his cup of dew tea, ready to listen intently to Lore's response and any insights his fellow Guardians might offer.\n",
      "turn counter: 3\n",
      "\n",
      "Dungeon Master: As Lore, I nod solemnly at Dmitrei's questions, my expression grave. I take a moment to gather my thoughts before responding:\n",
      "\n",
      "\"Thank you for your astute questions, Dmitrei. The situation is indeed dire. The shadow creatures first appeared three nights ago, coinciding with the quake. We believe the two events are connected, though we cannot say how.\"\n",
      "\n",
      "I pause, my green eyes scanning the room before continuing:\n",
      "\n",
      "\"The creatures seem to emerge from the deepest parts of the forest, areas that were once peaceful and serene. They attack swiftly and without warning, leaving destruction in their wake. As for patterns, they seem to be more active at night, but daylight does not stop them entirely.\"\n",
      "\n",
      "My voice grows heavy as I address the fate of the children:\n",
      "\n",
      "\"We... we believe the children are still alive. Some of our scouts have reported hearing distant cries from the heart of the forest. But we've been unable to penetrate deep enough to locate them. The shadow creatures grow stronger and more numerous the further in we go.\"\n",
      "\n",
      "I lean on my cane, a look of concern crossing my face:\n",
      "\n",
      "\"The corruption you speak of, Dmitrei, is palpable. The forest itself seems to be changing. Trees that once stood proud are withering, their leaves turning black. Wildlife is fleeing en masse. Even the very air feels... tainted.\"\n",
      "turn counter: 4\n",
      "\n",
      "Jinx: Jinx leans forward, her eyes sharp and focused as she processes the information. She nods respectfully to Dmitrei before addressing Lore:\n",
      "\n",
      "\"Thank you for the briefing, Lore. I'm Jinx, a ranger from the outskirts of Gridori. The situation is indeed grave, and time is of the essence.\" She pauses, her brow furrowing in thought. \"Have you noticed any connection between the shadow creatures and the corrupted areas of the forest? It might give us a clue about their origin or weakness.\"\n",
      "\n",
      "She turns to her fellow Guardians, her voice taking on a more tactical tone:\n",
      "\n",
      "\"We need to act quickly, but smartly. I propose we form a scouting party to penetrate deeper into the forest. We could use stealth to avoid confrontation with the stronger creatures while gathering more information about the children's whereabouts and the extent of the corruption.\"\n",
      "\n",
      "Jinx looks back to Lore, her expression determined:\n",
      "\n",
      "\"Do you have any maps of the forest that show the areas most affected by this corruption? And are there any local druids or rangers who might be able to guide us through the changing landscape? Their knowledge could be invaluable in navigating this new threat.\"\n",
      "\n",
      "She sits back, her hand resting on her bow, ready to spring into action at a moment's notice.\n",
      "turn counter: 5\n",
      "\n",
      "Jinx: Jinx nods thoughtfully, considering the information shared by Lore and the suggestions from her fellow Guardians. She leans forward, her eyes scanning the room before speaking:\n",
      "\n",
      "\"I agree with Dmitrei and support the idea of a scouting party. As a ranger familiar with Gridori's outskirts, I volunteer to lead this expedition. However, we must prepare thoroughly.\"\n",
      "\n",
      "She turns to Lore, her expression serious:\n",
      "\n",
      "\"Lore, you mentioned the creatures are stronger at night. Do you have any magical items or herbs that could help mask our presence or enhance our vision in the darkness? Every advantage will count when we're deep in corrupted territory.\"\n",
      "\n",
      "Jinx then addresses her companions:\n",
      "\n",
      "\"We should also consider creating a diversion to draw the shadow creatures' attention away from our scouting party. Perhaps a small group could create a distraction at the forest's edge while we penetrate deeper. It's risky, but it might give us the opening we need.\"\n",
      "\n",
      "She pauses, her brow furrowing in thought:\n",
      "\n",
      "\"Lastly, we need to consider how to communicate with the captured children if we locate them. They're likely terrified and may not trust easily. Does anyone have experience with calming magic or skills in gaining the trust of frightened individuals?\"\n",
      "\n",
      "Jinx looks around the table, ready to hear her companions' thoughts on these\n",
      "turn counter: 6\n",
      "\n",
      "Dmitrei: Dmitrei nods appreciatively at Jinx's suggestions, his eyes lighting up with a mix of determination and concern. He leans forward, addressing both Lore and his fellow Guardians:\n",
      "\n",
      "\"Jinx's plan is sound. A scouting party would indeed be our best first step. As a druid of the northern Gridori, I offer my services to this expedition. My connection to nature might help us navigate the corrupted areas and potentially sense any changes in the forest's energy.\"\n",
      "\n",
      "He turns to Lore, his voice taking on a more somber tone:\n",
      "\n",
      "\"Lore, you mentioned the air feels tainted. As a druid, I might be able to purify small areas or create pockets of clean air for us if needed. However, I'm concerned about the scale of this corruption. Have you reached out to other druidic circles or nature-attuned groups in the region? United, we might be able to slow or even reverse some of this blight.\"\n",
      "\n",
      "Dmitrei then addresses Jinx's last point, his expression softening:\n",
      "\n",
      "\"Regarding the children, I have some experience in healing and calming magics. While not extensive, it might help in soothing their fears. Perhaps we could also bring some familiar items from the village - toys, blankets, or even recorded messages from their parents. Anything to remind them of home an\n",
      "\n",
      "==================================================\n",
      "=== SIMULATION COMPLETE ===\n"
     ]
    }
   ],
   "source": [
    "# Run the simulation\n",
    "print(\"🚀 Starting D&D simulation...\")\n",
    "print(\"\\n\" + \"=\"*60)\n",
    "\n",
    "# Execute the scenario\n",
    "game_session.run_scenario(initial_scenario=campaign_params['initial_scenario'], turn_sequence=turn_sequence)"
   ]
  },
  {
   "cell_type": "markdown",
   "metadata": {},
   "source": [
    "## Export Results (Optional)\n",
    "\n",
    "Save the simulation results for further analysis."
   ]
  },
  {
   "cell_type": "code",
   "execution_count": 9,
   "metadata": {},
   "outputs": [
    {
     "name": "stdout",
     "output_type": "stream",
     "text": [
      "💾 Results saved to: llm_simulation_results_20250728_185231.json\n",
      "📁 File size: 16768 bytes\n"
     ]
    }
   ],
   "source": [
    "# Export simulation results\n",
    "import datetime\n",
    "# Save to file\n",
    "output_file = f\"llm_simulation_results_{datetime.datetime.now().strftime('%Y%m%d_%H%M%S')}.json\"\n",
    "with open(output_file, 'w') as f:\n",
    "    json.dump(game_session.game_log, f, indent=2)\n",
    "\n",
    "print(f\"💾 Results saved to: {output_file}\")\n",
    "print(f\"📁 File size: {os.path.getsize(output_file)} bytes\")"
   ]
  }
 ],
 "metadata": {
  "kernelspec": {
   "display_name": "py312",
   "language": "python",
   "name": "python3"
  },
  "language_info": {
   "codemirror_mode": {
    "name": "ipython",
    "version": 3
   },
   "file_extension": ".py",
   "mimetype": "text/x-python",
   "name": "python",
   "nbconvert_exporter": "python",
   "pygments_lexer": "ipython3",
   "version": "3.12.11"
  }
 },
 "nbformat": 4,
 "nbformat_minor": 4
}
