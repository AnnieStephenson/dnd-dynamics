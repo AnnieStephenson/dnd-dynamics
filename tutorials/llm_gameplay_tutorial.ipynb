{
 "cells": [
  {
   "cell_type": "markdown",
   "metadata": {},
   "source": [
    "# LLM-Based D&D Simulation Tutorial\n",
    "\n",
    "This notebook demonstrates how to use the LLM-based D&D simulation system to create AI-driven gameplay sessions based on real human campaign data.\n",
    "\n",
    "## Overview\n",
    "\n",
    "The simulation system includes:\n",
    "- **Campaign Parameter Extraction**: Analyze human campaigns to extract initialization parameters\n",
    "- **Character Creation**: Generate D&D characters with personalities and classes\n",
    "- **Turn Sampling**: Create realistic turn sequences using various sampling methods\n",
    "- **Character Agents**: LLM-powered characters with memory and decision-making\n",
    "- **Game Session Management**: Orchestrate complete D&D scenarios\n",
    "\n",
    "## Prerequisites\n",
    "\n",
    "1. Install required packages: `pip install anthropic`\n",
    "2. Set your Anthropic API key: `export ANTHROPIC_API_KEY=your_key_here`\n",
    "3. Ensure you have access to the human campaign data files"
   ]
  },
  {
   "cell_type": "markdown",
   "metadata": {},
   "source": [
    "## Setup and Imports"
   ]
  },
  {
   "cell_type": "code",
   "execution_count": null,
   "metadata": {},
   "outputs": [
    {
     "name": "stdout",
     "output_type": "stream",
     "text": [
      "✅ Setup complete!\n"
     ]
    }
   ],
   "source": [
    "import os\n",
    "import sys\n",
    "import json\n",
    "import random\n",
    "from pathlib import Path\n",
    "\n",
    "# Add the llm_scaffolding directory to the Python path\n",
    "sys.path.append(str(Path.cwd().parent / \"llm_scaffolding\"))\n",
    "\n",
    "# Import our simulation system\n",
    "from dnd_simulation import (\n",
    "    extract_campaign_parameters,\n",
    "    create_characters,\n",
    "    sample_turn_sequence,\n",
    "    CharacterAgent,\n",
    "    GameSession\n",
    ")\n",
    "\n",
    "# Set random seed for reproducible results\n",
    "random.seed(42)\n",
    "\n",
    "print(\"✅ Setup complete!\")"
   ]
  },
  {
   "cell_type": "markdown",
   "metadata": {},
   "source": "## API Key Setup (Secure Method)\n\nWe'll load the API key from a secure file that's excluded from version control.\n\n**First-time setup:**\n1. Open the `api_key.txt` file in the project root directory\n2. Replace the placeholder text with your actual Anthropic API key\n3. Save the file (it's already in .gitignore so it won't be committed)\n\n**Alternative methods:**\n- Environment variable: `export ANTHROPIC_API_KEY=your_key_here`\n- Direct assignment (not recommended): `api_key = 'your_key_here'`"
  },
  {
   "cell_type": "code",
   "execution_count": null,
   "metadata": {},
   "outputs": [],
   "source": "def load_api_key():\n    \"\"\"Load API key from secure file or environment variable.\"\"\"\n    \n    # Method 1: Try to load from secure file\n    api_key_file = Path.cwd().parent / \"api_key.txt\"\n    \n    if api_key_file.exists():\n        try:\n            with open(api_key_file, 'r') as f:\n                content = f.read().strip()\n                \n                # Skip comment lines and empty lines\n                lines = [line.strip() for line in content.split('\\n') if line.strip() and not line.strip().startswith('#')]\n                \n                if lines and lines[0] != 'PASTE_YOUR_ANTHROPIC_API_KEY_HERE':\n                    api_key = lines[0]\n                    print(\"✅ API key loaded from api_key.txt\")\n                    print(f\"Key prefix: {api_key[:10]}...\")\n                    return api_key\n                else:\n                    print(\"⚠️  api_key.txt found but contains placeholder text\")\n                    print(\"Please edit api_key.txt and paste your actual API key\")\n        except Exception as e:\n            print(f\"❌ Error reading api_key.txt: {e}\")\n    \n    # Method 2: Try environment variable\n    api_key = os.getenv('ANTHROPIC_API_KEY')\n    if api_key:\n        print(\"✅ API key loaded from environment variable\")\n        print(f\"Key prefix: {api_key[:10]}...\")\n        return api_key\n    \n    # Method 3: No key found\n    print(\"❌ No API key found!\")\n    print(\"\\n🔧 Setup options:\")\n    print(\"1. RECOMMENDED: Edit api_key.txt in the project root and paste your key\")\n    print(\"2. Set environment variable: export ANTHROPIC_API_KEY=your_key_here\")\n    print(\"3. Get your API key from: https://console.anthropic.com/\")\n    \n    return None\n\n# Load the API key\napi_key = load_api_key()\n\nif not api_key:\n    print(\"\\n⚠️  Cannot proceed without API key. Please set up your key and rerun this cell.\")\nelse:\n    print(\"\\n🚀 Ready to proceed with simulation!\")"
  },
  {
   "cell_type": "markdown",
   "metadata": {},
   "source": [
    "## Step 1: Extract Campaign Parameters\n",
    "\n",
    "Let's load a real human campaign and extract parameters that we can use to initialize our simulation."
   ]
  },
  {
   "cell_type": "code",
   "execution_count": null,
   "metadata": {},
   "outputs": [],
   "source": [
    "# Choose a campaign file to analyze\n",
    "campaign_file = \"../data/raw-human-games/individual_campaigns/10391-guardians-of-gridori.json\"\n",
    "\n",
    "# Extract parameters from the human campaign\n",
    "print(\"📊 Extracting campaign parameters...\")\n",
    "campaign_params = extract_campaign_parameters(campaign_file)\n",
    "\n",
    "print(f\"\\n🎯 Campaign Parameters:\")\n",
    "print(f\"  Campaign Name: {campaign_params['campaign_name']}\")\n",
    "print(f\"  Number of Players: {campaign_params['num_players']}\")\n",
    "print(f\"  Character Names: {campaign_params['character_names'][:5]}{'...' if len(campaign_params['character_names']) > 5 else ''}\")\n",
    "print(f\"  Total Messages: {campaign_params['total_messages']:,}\")\n",
    "\n",
    "# We'll use this player count for our simulation\n",
    "num_players = min(campaign_params['num_players'], 4)  # Cap at 4 for demo\n",
    "print(f\"\\n🎮 Using {num_players} players for simulation\")"
   ]
  },
  {
   "cell_type": "markdown",
   "metadata": {},
   "source": [
    "## Step 2: Create Characters\n",
    "\n",
    "Now let's create our AI characters using the player count from the human campaign."
   ]
  },
  {
   "cell_type": "code",
   "execution_count": null,
   "metadata": {},
   "outputs": [],
   "source": [
    "# Create characters based on the campaign parameters\n",
    "print(\"🧙 Creating characters...\")\n",
    "\n",
    "# For now, we'll use default characters (future versions can extract from campaign)\n",
    "characters = create_characters(num_players=num_players)\n",
    "\n",
    "print(f\"\\n✨ Created {len(characters)} characters:\")\n",
    "for char in characters:\n",
    "    print(f\"  🗡️  {char.name} ({char.character_class}): {char.personality}\")\n",
    "\n",
    "# Get character names for turn sampling\n",
    "character_names = [char.name for char in characters]\n",
    "print(f\"\\n👥 Character roster: {character_names}\")"
   ]
  },
  {
   "cell_type": "markdown",
   "metadata": {},
   "source": [
    "## Step 3: Generate Turn Sequence\n",
    "\n",
    "Create a realistic turn sequence using uniform sampling across all characters."
   ]
  },
  {
   "cell_type": "code",
   "execution_count": null,
   "metadata": {},
   "outputs": [],
   "source": [
    "# Generate a turn sequence for our mini-session\n",
    "total_turns = 12  # Adjust for desired session length\n",
    "\n",
    "print(f\"🎲 Generating turn sequence ({total_turns} turns)...\")\n",
    "turn_sequence = sample_turn_sequence(\n",
    "    character_names=character_names,\n",
    "    total_turns=total_turns,\n",
    "    method='uniform'\n",
    ")\n",
    "\n",
    "print(f\"\\n📋 Turn sequence: {turn_sequence}\")\n",
    "\n",
    "# Show turn distribution\n",
    "from collections import Counter\n",
    "turn_counts = Counter(turn_sequence)\n",
    "print(f\"\\n📊 Turn distribution:\")\n",
    "for char_name, count in turn_counts.items():\n",
    "    print(f\"  {char_name}: {count} turns ({count/total_turns*100:.1f}%)\")"
   ]
  },
  {
   "cell_type": "markdown",
   "metadata": {},
   "source": [
    "## Step 4: Initialize Game Session\n",
    "\n",
    "Create the game session manager that will orchestrate our D&D simulation."
   ]
  },
  {
   "cell_type": "code",
   "execution_count": null,
   "metadata": {},
   "outputs": [],
   "source": [
    "# Create game session\n",
    "print(\"🎭 Initializing game session...\")\n",
    "game_session = GameSession(characters=characters, api_key=api_key)\n",
    "\n",
    "print(f\"✅ Game session created with {len(characters)} characters\")\n",
    "print(f\"📝 Game log initialized (currently {len(game_session.game_log)} events)\")"
   ]
  },
  {
   "cell_type": "markdown",
   "metadata": {},
   "source": [
    "## Step 5: Define the Scenario\n",
    "\n",
    "Set up an engaging D&D scenario for our AI characters to navigate."
   ]
  },
  {
   "cell_type": "code",
   "execution_count": null,
   "metadata": {},
   "outputs": [],
   "source": [
    "# Define the scenario\n",
    "scenario = \"\"\"You're adventurers who just entered a mysterious tavern called 'The Whispering Griffin' in the border town of Millhaven. The tavern is dimly lit by flickering candles, and the air is thick with the scent of ale and wood smoke. \n",
    "\n",
    "The bartender, a nervous-looking halfling named Pip, keeps glancing toward the stairs leading to the upper rooms. In the far corner, a cloaked figure sits alone, whispering urgently to someone unseen in the shadows. \n",
    "\n",
    "You notice that despite the late hour, the tavern is unusually quiet - only a few patrons sit scattered at tables, and they all seem to be avoiding eye contact. Something feels off about this place.\n",
    "\n",
    "What do you do?\"\"\"\n",
    "\n",
    "print(\"🏰 Scenario set:\")\n",
    "print(f\"\\n{scenario}\")\n",
    "print(\"\\n\" + \"=\"*60)"
   ]
  },
  {
   "cell_type": "markdown",
   "metadata": {},
   "source": [
    "## Step 6: Run the Simulation\n",
    "\n",
    "Now let's run the complete D&D simulation and watch our AI characters interact!"
   ]
  },
  {
   "cell_type": "code",
   "execution_count": null,
   "metadata": {},
   "outputs": [],
   "source": [
    "# Run the simulation\n",
    "print(\"🚀 Starting D&D simulation...\")\n",
    "print(\"\\n\" + \"=\"*60)\n",
    "\n",
    "# Execute the scenario\n",
    "game_session.run_scenario(initial_scenario=scenario, turn_sequence=turn_sequence)"
   ]
  },
  {
   "cell_type": "markdown",
   "metadata": {},
   "source": [
    "## Step 7: Analyze the Results\n",
    "\n",
    "Let's examine the game log and see what our AI characters accomplished."
   ]
  },
  {
   "cell_type": "code",
   "execution_count": null,
   "metadata": {},
   "outputs": [],
   "source": [
    "# Display the complete game log\n",
    "print(\"📖 Complete Game Log:\")\n",
    "print(\"=\" * 60)\n",
    "\n",
    "for i, event in enumerate(game_session.game_log, 1):\n",
    "    print(f\"Turn {event['turn_number']:2d} | {event['character']:8s} | {event['action']}\")\n",
    "    if i % 5 == 0:  # Add spacing every 5 turns\n",
    "        print()\n",
    "\n",
    "print(\"\\n\" + \"=\" * 60)"
   ]
  },
  {
   "cell_type": "markdown",
   "metadata": {},
   "source": [
    "## Step 8: Character Memory Analysis\n",
    "\n",
    "Let's see how each character's memory evolved during the session."
   ]
  },
  {
   "cell_type": "code",
   "execution_count": null,
   "metadata": {},
   "outputs": [],
   "source": [
    "# Display character memories\n",
    "print(\"🧠 Character Memory States:\")\n",
    "print(\"=\" * 60)\n",
    "\n",
    "for character in characters:\n",
    "    print(f\"\\n{character.name} ({character.character_class}):\")\n",
    "    print(f\"Memory: {character.memory_summary}\")\n",
    "    print(\"-\" * 40)"
   ]
  },
  {
   "cell_type": "markdown",
   "metadata": {},
   "source": [
    "## Step 9: Session Statistics\n",
    "\n",
    "Generate some basic statistics about the simulation session."
   ]
  },
  {
   "cell_type": "code",
   "execution_count": null,
   "metadata": {},
   "outputs": [],
   "source": [
    "# Generate session statistics\n",
    "from collections import Counter\n",
    "from datetime import datetime\n",
    "\n",
    "print(\"📊 Session Statistics:\")\n",
    "print(\"=\" * 40)\n",
    "\n",
    "# Turn statistics\n",
    "character_turns = Counter(event['character'] for event in game_session.game_log)\n",
    "print(f\"Total turns: {len(game_session.game_log)}\")\n",
    "print(f\"Total characters: {len(characters)}\")\n",
    "print(f\"Average turns per character: {len(game_session.game_log) / len(characters):.1f}\")\n",
    "\n",
    "print(\"\\n👥 Character participation:\")\n",
    "for char_name, turn_count in character_turns.most_common():\n",
    "    percentage = (turn_count / len(game_session.game_log)) * 100\n",
    "    print(f\"  {char_name}: {turn_count} turns ({percentage:.1f}%)\")\n",
    "\n",
    "# Action length statistics\n",
    "action_lengths = [len(event['action']) for event in game_session.game_log]\n",
    "print(f\"\\n📝 Response statistics:\")\n",
    "print(f\"  Average response length: {sum(action_lengths) / len(action_lengths):.1f} characters\")\n",
    "print(f\"  Shortest response: {min(action_lengths)} characters\")\n",
    "print(f\"  Longest response: {max(action_lengths)} characters\")\n",
    "\n",
    "print(\"\\n✨ Session complete!\")"
   ]
  },
  {
   "cell_type": "markdown",
   "metadata": {},
   "source": [
    "## Step 10: Export Results (Optional)\n",
    "\n",
    "Save the simulation results for further analysis."
   ]
  },
  {
   "cell_type": "code",
   "execution_count": null,
   "metadata": {},
   "outputs": [],
   "source": [
    "# Export simulation results\n",
    "simulation_results = {\n",
    "    'campaign_params': campaign_params,\n",
    "    'characters': [\n",
    "        {\n",
    "            'name': char.name,\n",
    "            'character_class': char.character_class,\n",
    "            'personality': char.personality,\n",
    "            'final_memory': char.memory_summary\n",
    "        } for char in characters\n",
    "    ],\n",
    "    'scenario': scenario,\n",
    "    'turn_sequence': turn_sequence,\n",
    "    'game_log': game_session.game_log,\n",
    "    'session_stats': {\n",
    "        'total_turns': len(game_session.game_log),\n",
    "        'character_turns': dict(character_turns),\n",
    "        'avg_response_length': sum(action_lengths) / len(action_lengths)\n",
    "    }\n",
    "}\n",
    "\n",
    "# Save to file\n",
    "output_file = f\"llm_simulation_results_{datetime.now().strftime('%Y%m%d_%H%M%S')}.json\"\n",
    "with open(output_file, 'w') as f:\n",
    "    json.dump(simulation_results, f, indent=2)\n",
    "\n",
    "print(f\"💾 Results saved to: {output_file}\")\n",
    "print(f\"📁 File size: {os.path.getsize(output_file)} bytes\")"
   ]
  },
  {
   "cell_type": "markdown",
   "metadata": {},
   "source": [
    "## Conclusion\n",
    "\n",
    "🎉 **Congratulations!** You've successfully run a complete LLM-based D&D simulation!\n",
    "\n",
    "### What we accomplished:\n",
    "\n",
    "1. **✅ Parameter Extraction**: Analyzed a real human campaign to extract player count and structure\n",
    "2. **✅ Character Creation**: Generated AI characters with distinct personalities and classes\n",
    "3. **✅ Turn Sampling**: Created a realistic turn sequence using uniform sampling\n",
    "4. **✅ Memory Management**: Each character maintained context and memory across turns\n",
    "5. **✅ Interactive Gameplay**: Characters responded to situations and each other naturally\n",
    "6. **✅ Session Management**: Complete game log with timestamps and turn tracking\n",
    "\n",
    "### Key Features Demonstrated:\n",
    "\n",
    "- **Multi-agent LLM system**: Each character has their own Claude client\n",
    "- **Memory persistence**: Characters remember past events and update their knowledge\n",
    "- **Turn-based interaction**: Realistic D&D-style turn sequence\n",
    "- **Extensible architecture**: Easy to add new sampling methods, character extraction, etc.\n",
    "- **Real campaign integration**: Parameters derived from actual human gameplay\n",
    "\n",
    "### Next Steps:\n",
    "\n",
    "- **🔮 Extract character data**: Pull actual character names/classes from human campaigns\n",
    "- **📈 Advanced sampling**: Implement activity-based or weighted turn sampling\n",
    "- **🧠 Enhanced memory**: Add verbatim recent events + summarized older events\n",
    "- **🎪 Richer scenarios**: Create more complex, multi-scene adventures\n",
    "- **📊 Analysis tools**: Compare AI gameplay patterns to human campaigns\n",
    "\n",
    "The simulation framework is now ready for more sophisticated experiments with emergent AI behavior in D&D settings!"
   ]
  }
 ],
 "metadata": {
  "kernelspec": {
   "display_name": "py312",
   "language": "python",
   "name": "python3"
  },
  "language_info": {
   "codemirror_mode": {
    "name": "ipython",
    "version": 3
   },
   "file_extension": ".py",
   "mimetype": "text/x-python",
   "name": "python",
   "nbconvert_exporter": "python",
   "pygments_lexer": "ipython3",
   "version": "3.12.11"
  }
 },
 "nbformat": 4,
 "nbformat_minor": 4
}