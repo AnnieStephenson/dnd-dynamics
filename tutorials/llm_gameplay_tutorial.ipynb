{
 "cells": [
  {
   "cell_type": "markdown",
   "metadata": {},
   "source": [
    "# LLM-Based D&D Simulation Tutorial\n",
    "\n",
    "This notebook demonstrates how to use the LLM-based D&D simulation system to create AI-driven gameplay sessions based on real human campaign data.\n",
    "\n",
    "## Overview\n",
    "\n",
    "The simulation system includes:\n",
    "- **Campaign Parameter Extraction**: Analyze human campaigns to extract initialization parameters\n",
    "- **Character Creation**: Generate D&D characters with personalities and classes\n",
    "- **Turn Sampling**: Create realistic turn sequences using various sampling methods\n",
    "- **Character Agents**: LLM-powered characters with memory and decision-making\n",
    "- **Game Session Management**: Orchestrate complete D&D scenarios"
   ]
  },
  {
   "cell_type": "markdown",
   "metadata": {},
   "source": [
    "## Setup and Imports"
   ]
  },
  {
   "cell_type": "code",
   "execution_count": 15,
   "metadata": {},
   "outputs": [],
   "source": [
    "import os\n",
    "import sys\n",
    "import json\n",
    "import random\n",
    "from pathlib import Path\n",
    "import textwrap\n",
    "import numpy as np\n",
    "import datetime\n",
    "import os, sys\n",
    "from collections import Counter\n",
    "\n",
    "# Import our simulation system\n",
    "import llm_scaffolding.dnd_simulation as sim\n",
    "\n",
    "# Set random seed for reproducible results\n",
    "random.seed(42)\n"
   ]
  },
  {
   "cell_type": "markdown",
   "metadata": {},
   "source": [
    "## Model Selection\n",
    "\n",
    "The simulation system supports multiple LLM providers through liteLLM. You can use:\n",
    "\n",
    "- **Anthropic Claude**: `claude-3-5-sonnet-20240620`, `claude-3-haiku-20240307`\n",
    "- **OpenAI GPT**: `gpt-4o`, `gpt-4o-mini`, `gpt-3.5-turbo`\n",
    "- **Google Gemini**: `gemini-pro`, `gemini-pro-vision`\n",
    "\n",
    "Make sure your API keys are configured in `api_key.txt` in the project root."
   ]
  },
  {
   "cell_type": "markdown",
   "metadata": {},
   "source": [
    "## Step 1: Extract Campaign Parameters\n",
    "\n",
    "Let's load a real human campaign and extract parameters that we can use to initialize our simulation."
   ]
  },
  {
   "cell_type": "code",
   "execution_count": null,
   "metadata": {},
   "outputs": [
    {
     "name": "stdout",
     "output_type": "stream",
     "text": [
      "📊 Extracting campaign parameters...\n",
      "\n",
      "🎯 Campaign Parameters:\n",
      "  Campaign Name: 10391-guardians-of-gridori\n",
      "  Total Messages: 216\n",
      "  Number of Players: 5\n",
      "  Character Names: ['Dungeon Master' 'Jinx' 'Faen' 'Dmitrei' 'Thokk']\n",
      "  Player Names: ['LightSpeed', 'AmazingAmazon', 'ShyVideoGamer', 'JacWalke', 'Finny']\n",
      "  Character Classes: [None, 'druid', 'Warlock', 'Druid', 'Barbarian']\n",
      "  Character Genders: [None, 'female', 'female', 'male', 'male']\n",
      "  Character Races: [None, 'Dwarf', 'elf', 'Human', 'Half-Orc']\n",
      "  Initial Scenario: {'1': {'date': '2017-12-16T13:43:31', 'player': 'LightSpeed', 'character': 'Dungeon Master', 'in_combat': False, 'paragraphs': {'0': {'text': 'Guardians of Gridori', 'actions': ['name_mention: gridori'], 'label': 'in-character'}, '1': {'text': '[Recruitment Closed]', 'actions': [], 'label': 'in-character'}, '2': {'text': \"General Information : A PbP 5E D&D campaign for 3-4 players, new players and veterans are welcome. New characters begin at first level. Race and class options are restricted only to the  Player's Handbook  (dragonborn are not available for this campaign). Ability scores can be determined by using standard array or point buy. Advancement will be achieved through milestones. If you are interested, please post a character concept including  name ,  race ,  class , and  background . Furthermore, please include a  brief  answer to the question:  Why are you a guardian?  Please consider the information in the  Campaign Setting Information  section below. This thread will be open for about 48 hours and then close. Final invitations will be sent via a PM.\", 'actions': [], 'label': 'out-of-character'}, '3': {'text': \"How I Roll : I like structure and organization. Generally, I want people to take turns and detail their actions only for their own character. Hopefully this creates a flow of character actions followed by a post by me that summarizes the events and the results. This tends to mean that players need to commit to posting regularly enough that the group doesn't have to wait a long time for their turn. Usually, we'll establish a rule for how long we'll wait for one person before just moving on. If you have any questions, feel free to send me a message. This is my first time doing a PbP on D&D Beyond, but I have played in several PbP games in the past.\", 'actions': [], 'label': 'out-of-character'}, '4': {'text': 'Campaign Setting Information : Something dark and alien emerged from the Gridori Forest. Caught unawares, the elves of the forest were devastated by a sudden quake and shadow creatures captured their children. Desperate for help, the elves summoned you, the Guardians, heroes from lands far and near. Uniting against this darkness will turn rivals into allies, and the power of dormant gods will be sought to fight the corruption of the land.', 'actions': [], 'label': 'out-of-character'}, '5': {'text': 'Lands and Peoples', 'actions': [], 'label': 'out-of-character'}, '6': {'text': \"Gridori Forest : A lush and vibrant forest that stretches across the central parts of the continent. Some parts are dark and void while other parts teaming with life. The northern forests are home to the sun elves, and their kin, the moon elves live in the distant southern forest. The wood elves belong to the central parts of the Gridori forest. Forest gnomes live in harmony with the northern sun elves, both share a keen interest in magic. Tetna Riverlands : In the south-east region of the continent, where the land meets the sea, lies the fertile river lands of Tetna. Humans have settled this region. They've built cities, farming communities, and trading posts all throughout the land. Many other races have come to live in the comfort of the river lands including halflings and hill dwarves. Maha Islands : In the southernmost reaches of the continent are a chain of islands called Maha. These islands are sparsely populated by tribes of half-orc seafarers.\\xa0\\xa0  Gopmara Swamp : Many are wary of the southwestern swamp of Gopmara. It is the home of the secluded and suspicious dark elves. Koatel Desert : The shifting sand dunes and constant heat of the far west make up the Koatel Desert. A clan of outcast nomads called Tieflings reside here. Aerith Tundra : The white winds and snow of the north are home to few. Some brawny tribes of mountain dwarves and humans live here. Ximesi Mountains : The north east is a place of high mountains and rocky valleys. It is the homeland of the mountain dwarves and rock gnomes who live in their grand halls of stone.\", 'actions': [], 'label': 'out-of-character'}, '7': {'text': \"Humans:\\xa0 Most prevalent in the Tetna Riverlands, scattered tribes live in all other regions. Humans tend to enjoy commerce, politics, and independent thinking.\\xa0\\xa0 Elves:  Reside in the forests. Sun elves in the north; Moon elves in the south; Wood elves in the center; Dark Elves in the Gopmara Swamp. Elves tend to have a powerful reverence for nature and knowledge.\\xa0 Dwarves:\\xa0 Mountain dwarves mostly stay in the Ximesi Mountains, but have many settlements in the Aerith Tundra. Mountain dwarves have a strong appreciation for stonework, old traditions, and communal thinking.\\xa0\\xa0 Halflings:\\xa0 Halflings tend to live in Riverland communities alongside humans. There are some halfling villages in the forests as well. Halflings are much like humans in that they enjoy commerce and independent thinking, but don't care much for politics. Half-Elves:\\xa0 Half-Elves tend to live in either their elven home place or in small human communities that have ties to the elves.\\xa0 Half-Orcs:\\xa0 Orcs are from the coastal and regions of the south. Some orc tribes have mixed with the human settlements there thus producing a breed of strong seafaring folk.\\xa0\\xa0 Tieflings:\\xa0 Nomadic desert dwelling people, Tieflings tend to stick together and rarely leave their desert tribes.\\xa0 Gnomes:\\xa0 Forest gnomes covet knowledge and nature and get along well with elves and thus live in the forests alongside them. Rock gnomes like to tinker and craft; thus, they desire the natural resources found inside the mountains and have grown closely tied to mountain dwarves.\", 'actions': [], 'label': 'out-of-character'}, '8': {'text': 'Deities', 'actions': [], 'label': 'out-of-character'}, '9': {'text': 'Gridori,  sage of the forests. Deity\\xa0of Life and Air. Takes the form of a unicorn. Ximesi, sage of mountains. Deity of Light and Fire. Takes the form of a phoenix. Maha, sage of islands. Deity of Tempest and Water. Takes the form of a giant fish. Gopmara, sage of swamps. Deity of Trickery and Shadow. Takes the form of a giant toad. Koatel, sage of deserts. Deity of Knowledge and Time. Takes the form of a sphinx. Tetna, sage of riverlands. Deity of War and Earth. Takes the form of a lyger. Aerith, sage of tundras. Deity of Death and Ice. Takes the form of a dragon.', 'actions': ['name_mention: gridori', 'name_mention: ximesi', 'spell: light'], 'label': 'out-of-character'}, '10': {'text': 'Thanks for considering joining the game!', 'actions': [], 'label': 'out-of-character'}, '11': {}, '12': {'text': 'INTRODUCTION :', 'actions': [], 'label': 'out-of-character'}, '13': {'text': 'The elf known as Lore stands amid a crowd of restless wood elf villagers. He’s heavy for a wood elf, stalky and broad shouldered with a large forehead, balled head and squinty glowing green eyes. A cream-colored cloak covers his body, one hand protruding from it only slightly to lean on a cane made of redwood. Even as the Guardians arrive, and the crowd of wood elves churn, murmur, and cheer Lore is silent and stoic.', 'actions': ['name_mention: lore'], 'label': 'in-character'}, '14': {'text': 'Some guards usher the present guardians into a chamber, they’re each offered a seat at a finely crafted long wood table. After being served a cup of cold dew tea to fight the summer heat, the wood elf servants vacate the room leaving the guardians alone with Lore. A beat of silence builds tension, and Lore speaks “Guardians. Let us begin.” His voice is soothing, yet grave. “First, questions. Second, plans. Third, action.” He leans forward to listen.', 'actions': ['name_mention: lore', 'dialogue'], 'label': 'in-character'}, '15': {}, '16': {}}, 'actions': ['name_mention: gridori', 'name_mention: gridori', 'name_mention: ximesi', 'spell: light', 'name_mention: lore', 'name_mention: lore', 'dialogue']}}\n",
      "Character Personalities + Sheets\n",
      "Dungeon Master: None\n",
      "\n",
      "\n",
      "None\n",
      "\n",
      "\n",
      "Jinx: [Jinx is a bold and confident young dwarf paladin of the deity Ximesi. She comes from a long line of warriors, healers, and sages within her mountain clan. Raised\n",
      "to be a protector of her people, Jinx has a strong sense of duty and an unwavering faith in Ximesi's teachings. Though brash at times, she is fiercely loyal to her\n",
      "companions and committed to rooting out the darkness threatening the land. Jinx's backstory includes witnessing a dark sickness afflict the elders of her clan when she\n",
      "was young, sparking her desire to become a guardian and fight against such forces of evil.]\n",
      "\n",
      "\n",
      "{'Level': 1, 'Class': 'Druid', 'Race': 'Mountain Dwarf', 'Background': 'Unknown', 'Alignment': 'Chaotic Good', 'Strength': 14, 'Dexterity': 12, 'Constitution': 16, 'Intelligence': 12, 'Wisdom': 14, 'Charisma': 10, 'Hit Points': '12/12', 'Armor Class': 18, 'Proficiency Bonus': '+2', 'Saving Throw Proficiencies': ['Constitution', 'Wisdom'], 'Skill Proficiencies': ['Animal Handling', 'Nature', 'Perception', 'Survival'], 'Languages': ['Common', 'Dwarvish'], 'Equipment': ['Maul', 'Leather Armor', 'Druidic Focus'], 'Spells Known': 'Unknown', 'Special Abilities': ['Darkvision', 'Dwarven Toughness', 'Dwarven Combat Training', 'Stonecunning'], 'Notes': 'Jinx is a young mountain dwarf druid who has been trained by her mother and grandmother, both of whom were guardians before her. She is eager to prove herself and help rid the land of the rising evil. Jinx has a strong faith in Ximesi, the sage of mountains, and believes the party was brought together for a reason.'}\n",
      "\n",
      "\n",
      "Faen: [Faen is a troubled but gifted young moon elf warlock. Sheltered and ostracized by her noble family for her perceived weakness and strange, unsettling nature, Faen\n",
      "has a deep longing to prove herself and be accepted. After making a pact with a mysterious entity, Faen's magical abilities blossomed, though the entity's influence has\n",
      "left her with a volatile and sometimes sinister edge. Faen's backstory involves being exiled from her home after refusing to break the warlock pact, leading her to wander\n",
      "and eventually heed the call to become a guardian.]\n",
      "\n",
      "\n",
      "{'Level': 1, 'Class': 'Warlock (The Fiend)', 'Race': 'Moon Elf', 'Background': 'Former Noble', 'Alignment': 'Neutral Good', 'Strength': 10, 'Dexterity': 14, 'Constitution': 12, 'Intelligence': 14, 'Wisdom': 12, 'Charisma': 14, 'Hit Points': '9/9', 'Armor Class': 13, 'Proficiency Bonus': '+2', 'Saving Throw Proficiencies': ['Wisdom', 'Charisma'], 'Skill Proficiencies': ['Arcana', 'Deception', 'Insight', 'Persuasion'], 'Languages': ['Common', 'Elvish'], 'Equipment': ['Light Crossbow', 'Dagger', 'Dragonchess Set', 'Vials', 'Flasks'], 'Spells Known': 'Unknown', 'Special Abilities': ['Darkvision', 'Fey Ancestry', 'Trance'], 'Notes': 'Faen is a moon elf warlock who made a pact with a fiendish entity in order to gain magical powers and be accepted by her kin. However, this pact led to her being exiled from her home. Faen is shy and nervous, but eager to prove her worth as a guardian and protect the weak and downtrodden.'}\n",
      "\n",
      "\n",
      "Dmitrei: [Dmitrei is a pragmatic and earnest human druid from the isolated Aerith Tundra. Growing up as the youngest of three brothers in a family of leatherworkers,\n",
      "Dmitrei was destined for more than the simple life of his village. Mentored by a wise druid, he learned to harness the power of nature, gaining the ability to heal,\n",
      "control the elements, and commune with animals. Dmitrei's backstory includes a near-death experience in a blizzard that left him with a mystical bond to the land and a\n",
      "sense of purpose as one of Gridori's chosen guardians.]\n",
      "\n",
      "\n",
      "{'Level': 1, 'Class': 'Druid', 'Race': 'Human', 'Background': 'Folk Hero', 'Alignment': 'Neutral', 'Strength': 12, 'Dexterity': 14, 'Constitution': 14, 'Intelligence': 12, 'Wisdom': 16, 'Charisma': 10, 'Hit Points': '10/10', 'Armor Class': 13, 'Proficiency Bonus': '+2', 'Saving Throw Proficiencies': ['Intelligence', 'Wisdom'], 'Skill Proficiencies': ['Animal Handling', 'Medicine', 'Nature', 'Survival'], 'Languages': ['Common'], 'Equipment': ['Shortbow', 'Dagger', 'Herbalism Kit'], 'Spells Known': 'Unknown', 'Special Abilities': ['Druidic', 'Spellcasting'], 'Notes': 'Dmitrei is a human druid from the harsh Aerith Tundra. He was trained by a wise druid mentor who taught him to call upon the power of the land to aid in the fight against darkness. Dmitrei feels a strong sense of destiny in becoming a guardian, though he is not seeking fame or glory.'}\n",
      "\n",
      "\n",
      "Thokk: [Thokk is a gruff and emotionally scarred half-orc barbarian. Abandoned by his father and raised by his resilient mother and a crew of pirate \"family\" members,\n",
      "Thokk endured a harsh and violent upbringing. After witnessing the brutal slaughter of his pirate kin and the execution of his mother, Thokk was spared by a greedy\n",
      "official, fueling his distrust of authority and society. Though prone to outbursts of rage, Thokk is driven by a desire for justice and a need to protect the downtrodden,\n",
      "qualities that have led him to become one of Gridori's guardians.]\n",
      "\n",
      "\n",
      "{'Level': 1, 'Class': 'Barbarian', 'Race': 'Half-Orc', 'Background': 'Pirate', 'Alignment': 'Chaotic Neutral', 'Strength': 16, 'Dexterity': 13, 'Constitution': 15, 'Intelligence': 10, 'Wisdom': 12, 'Charisma': 12, 'Hit Points': '15/15', 'Armor Class': 15, 'Proficiency Bonus': '+2', 'Saving Throw Proficiencies': ['Strength', 'Constitution'], 'Skill Proficiencies': ['Athletics', 'Intimidation', 'Perception', 'Survival'], 'Languages': ['Common', 'Orc'], 'Equipment': ['Great Axe'], 'Spells Known': ['N/A'], 'Special Abilities': ['Darkvision', 'Savage Attacks', 'Relentless Endurance'], 'Notes': 'Thokk is a half-orc barbarian whose mother was a fearsome pirate captain. After her death and the slaughter of most of his pirate \"family\", Thokk was spared execution and now seeks to bring justice to those who abuse the weak and downtrodden. He is rough around the edges but fiercely loyal to his new companions.'}\n",
      "\n",
      "\n",
      "Player Personalities\n",
      "LightSpeed: This player is likely an experienced Dungeon Master who enjoys structuring and organizing gameplay. They seem to have a thorough knowledge of the game world\n",
      "and take a thoughtful, cautious approach to introducing information and guiding the narrative. Their writing style is descriptive, concise, and evocative, suggesting a\n",
      "meticulous attention to detail. Based on their handling of the campaign information and NPCs, they may have a background in fantasy writing or worldbuilding. This player\n",
      "likely values collaborative gameplay and strives to create an immersive experience for their players.\n",
      "\n",
      "\n",
      "AmazingAmazon: This player appears to be a passionate roleplayer with a strong sense of their character's personality and motivations. Their writing is expressive,\n",
      "direct, and confident, reflecting Jinx's bold and decisive nature. The player seems to have a good grasp of the game mechanics and is willing to take tactical risks,\n",
      "while also showing concern for their party's well-being. They may have a background in military or heroic fantasy, and likely enjoy collaborative problem-solving and\n",
      "bonding with their fellow players.\n",
      "\n",
      "\n",
      "ShyVideoGamer: The player behind Faen seems to be somewhat introverted and introspective, with a tendency to overthink or feel uncertain about their actions. Their\n",
      "writing style is evocative and lyrical, capturing Faen's inner turmoil and her struggle to find her place in the world. This player may have experience with psychological\n",
      "character studies and seems invested in exploring the nuances of their character's personality and relationships. They may also have a background in Gothic or\n",
      "otherworldly fiction.\n",
      "\n",
      "\n",
      "JacWalke: Dmitrei's player comes across as pragmatic, thoughtful, and focused on the greater good. Their writing is clear and measured, reflecting the character's calm\n",
      "and logical approach. This player likely values team cohesion and strategic planning, and may have experience with roleplaying more grounded, heroic fantasy archetypes.\n",
      "They seem to enjoy the collaborative aspect of the game and are invested in helping the party succeed as a unit.\n",
      "\n",
      "\n",
      "Finny: Thokk's player appears to be passionate and expressive, with a tendency towards emotional intensity and impulsiveness. Their writing style is vivid and\n",
      "occasionally blunt, mirroring the character's rough-edged personality. This player may have experience with more aggressive or morally ambiguous fantasy archetypes and\n",
      "enjoys exploring the nuances of character motivations and moral ambiguity. They seem to relish the dramatic and unpredictable aspects of the gameplay.\n",
      "\n",
      "\n"
     ]
    }
   ],
   "source": [
    "# Choose a campaign file to analyze\n",
    "campaign_name = '10391-guardians-of-gridori'\n",
    "campaign_file = os.path.join(os.getcwd(),\"..\", \"raw-human-games\", \"individual_campaigns\", campaign_name + '.json')\n",
    "\n",
    "# You can specify different models for different providers:\n",
    "# model = \"claude-3-5-sonnet-20240620\"  # Anthropic Claude (default)\n",
    "# model = \"gpt-4o\"                      # OpenAI GPT-4\n",
    "# model = \"gemini-pro\"                  # Google Gemini\n",
    "model = \"claude-3-5-sonnet-20240620\"# \"claude-3-haiku-20240307\"# \"claude-3-5-sonnet-20240620\"#\n",
    "\n",
    "# Extract parameters from the human campaign\n",
    "print(\"📊 Extracting campaign parameters...\")\n",
    "campaign_params = sim.extract_campaign_parameters(campaign_file, model=model)\n",
    "\n",
    "print(f\"\\n🎯 Campaign Parameters:\")\n",
    "print(f\"  Campaign Name: {campaign_params['campaign_name']}\")\n",
    "print(f\"  Total Messages: {campaign_params['total_messages']:,}\")\n",
    "print(f\"  Number of Players: {campaign_params['num_players']}\")\n",
    "print(f\"  Character Names: {campaign_params['character_names']}\")\n",
    "print(f\"  Player Names: {campaign_params['player_names']}\")\n",
    "print(f\"  Character Classes: {campaign_params['character_classes']}\")\n",
    "print(f\"  Character Genders: {campaign_params['character_genders']}\")\n",
    "print(f\"  Character Races: {campaign_params['character_races']}\")\n",
    "print(f\"  Initial Scenario: {campaign_params['initial_scenario']}\")\n",
    "\n",
    "print('Character Personalities + Sheets')\n",
    "for i in range(len(campaign_params['character_names'])):\n",
    "    print(textwrap.fill(f\"{campaign_params['character_names'][i]}: {campaign_params['character_personalities'][i]}\", width=170))\n",
    "    print('\\n')\n",
    "    print(campaign_params['character_sheets'][i])\n",
    "    print('\\n')\n",
    "\n",
    "print('Player Personalities')\n",
    "for i in range(len(campaign_params['player_names'])):\n",
    "    print(textwrap.fill(f\"{campaign_params['player_names'][i]}: {campaign_params['player_personalities'][i]}\", width=170))\n",
    "    print('\\n')\n"
   ]
  },
  {
   "cell_type": "markdown",
   "metadata": {},
   "source": [
    "## Step 2: Create Characters\n",
    "\n",
    "Now let's create our AI characters using the player count from the human campaign."
   ]
  },
  {
   "cell_type": "code",
   "execution_count": 7,
   "metadata": {},
   "outputs": [
    {
     "name": "stdout",
     "output_type": "stream",
     "text": [
      "🧙 Creating characters...\n",
      "\n",
      "✨ Created 5 characters:\n",
      "  🗡️  Dungeon Master (None): None\n",
      "         (None,)\n",
      "  🗡️  Jinx (druid): [Jinx is a bold and confident young dwarf paladin of the deity Ximesi. She comes from a long line of warriors, healers, and sages within her mountain clan. Raised to be a protector of her people, Jinx has a strong sense of duty and an unwavering faith in Ximesi's teachings. Though brash at times, she is fiercely loyal to her companions and committed to rooting out the darkness threatening the land. Jinx's backstory includes witnessing a dark sickness afflict the elders of her clan when she was young, sparking her desire to become a guardian and fight against such forces of evil.]\n",
      "         ({'Level': 1, 'Class': 'Druid', 'Race': 'Mountain Dwarf', 'Background': 'Unknown', 'Alignment': 'Chaotic Good', 'Strength': 14, 'Dexterity': 12, 'Constitution': 16, 'Intelligence': 12, 'Wisdom': 14, 'Charisma': 10, 'Hit Points': '12/12', 'Armor Class': 18, 'Proficiency Bonus': '+2', 'Saving Throw Proficiencies': ['Constitution', 'Wisdom'], 'Skill Proficiencies': ['Animal Handling', 'Nature', 'Perception', 'Survival'], 'Languages': ['Common', 'Dwarvish'], 'Equipment': ['Maul', 'Leather Armor', 'Druidic Focus'], 'Spells Known': 'Unknown', 'Special Abilities': ['Darkvision', 'Dwarven Toughness', 'Dwarven Combat Training', 'Stonecunning'], 'Notes': 'Jinx is a young mountain dwarf druid who has been trained by her mother and grandmother, both of whom were guardians before her. She is eager to prove herself and help rid the land of the rising evil. Jinx has a strong faith in Ximesi, the sage of mountains, and believes the party was brought together for a reason.'},)\n",
      "  🗡️  Faen (Warlock): [Faen is a troubled but gifted young moon elf warlock. Sheltered and ostracized by her noble family for her perceived weakness and strange, unsettling nature, Faen has a deep longing to prove herself and be accepted. After making a pact with a mysterious entity, Faen's magical abilities blossomed, though the entity's influence has left her with a volatile and sometimes sinister edge. Faen's backstory involves being exiled from her home after refusing to break the warlock pact, leading her to wander and eventually heed the call to become a guardian.]\n",
      "         ({'Level': 1, 'Class': 'Warlock (The Fiend)', 'Race': 'Moon Elf', 'Background': 'Former Noble', 'Alignment': 'Neutral Good', 'Strength': 10, 'Dexterity': 14, 'Constitution': 12, 'Intelligence': 14, 'Wisdom': 12, 'Charisma': 14, 'Hit Points': '9/9', 'Armor Class': 13, 'Proficiency Bonus': '+2', 'Saving Throw Proficiencies': ['Wisdom', 'Charisma'], 'Skill Proficiencies': ['Arcana', 'Deception', 'Insight', 'Persuasion'], 'Languages': ['Common', 'Elvish'], 'Equipment': ['Light Crossbow', 'Dagger', 'Dragonchess Set', 'Vials', 'Flasks'], 'Spells Known': 'Unknown', 'Special Abilities': ['Darkvision', 'Fey Ancestry', 'Trance'], 'Notes': 'Faen is a moon elf warlock who made a pact with a fiendish entity in order to gain magical powers and be accepted by her kin. However, this pact led to her being exiled from her home. Faen is shy and nervous, but eager to prove her worth as a guardian and protect the weak and downtrodden.'},)\n",
      "  🗡️  Dmitrei (Druid): [Dmitrei is a pragmatic and earnest human druid from the isolated Aerith Tundra. Growing up as the youngest of three brothers in a family of leatherworkers, Dmitrei was destined for more than the simple life of his village. Mentored by a wise druid, he learned to harness the power of nature, gaining the ability to heal, control the elements, and commune with animals. Dmitrei's backstory includes a near-death experience in a blizzard that left him with a mystical bond to the land and a sense of purpose as one of Gridori's chosen guardians.]\n",
      "         ({'Level': 1, 'Class': 'Druid', 'Race': 'Human', 'Background': 'Folk Hero', 'Alignment': 'Neutral', 'Strength': 12, 'Dexterity': 14, 'Constitution': 14, 'Intelligence': 12, 'Wisdom': 16, 'Charisma': 10, 'Hit Points': '10/10', 'Armor Class': 13, 'Proficiency Bonus': '+2', 'Saving Throw Proficiencies': ['Intelligence', 'Wisdom'], 'Skill Proficiencies': ['Animal Handling', 'Medicine', 'Nature', 'Survival'], 'Languages': ['Common'], 'Equipment': ['Shortbow', 'Dagger', 'Herbalism Kit'], 'Spells Known': 'Unknown', 'Special Abilities': ['Druidic', 'Spellcasting'], 'Notes': 'Dmitrei is a human druid from the harsh Aerith Tundra. He was trained by a wise druid mentor who taught him to call upon the power of the land to aid in the fight against darkness. Dmitrei feels a strong sense of destiny in becoming a guardian, though he is not seeking fame or glory.'},)\n",
      "  🗡️  Thokk (Barbarian): [Thokk is a gruff and emotionally scarred half-orc barbarian. Abandoned by his father and raised by his resilient mother and a crew of pirate \"family\" members, Thokk endured a harsh and violent upbringing. After witnessing the brutal slaughter of his pirate kin and the execution of his mother, Thokk was spared by a greedy official, fueling his distrust of authority and society. Though prone to outbursts of rage, Thokk is driven by a desire for justice and a need to protect the downtrodden, qualities that have led him to become one of Gridori's guardians.]\n",
      "         ({'Level': 1, 'Class': 'Barbarian', 'Race': 'Half-Orc', 'Background': 'Pirate', 'Alignment': 'Chaotic Neutral', 'Strength': 16, 'Dexterity': 13, 'Constitution': 15, 'Intelligence': 10, 'Wisdom': 12, 'Charisma': 12, 'Hit Points': '15/15', 'Armor Class': 15, 'Proficiency Bonus': '+2', 'Saving Throw Proficiencies': ['Strength', 'Constitution'], 'Skill Proficiencies': ['Athletics', 'Intimidation', 'Perception', 'Survival'], 'Languages': ['Common', 'Orc'], 'Equipment': ['Great Axe'], 'Spells Known': ['N/A'], 'Special Abilities': ['Darkvision', 'Savage Attacks', 'Relentless Endurance'], 'Notes': 'Thokk is a half-orc barbarian whose mother was a fearsome pirate captain. After her death and the slaughter of most of his pirate \"family\", Thokk was spared execution and now seeks to bring justice to those who abuse the weak and downtrodden. He is rough around the edges but fiercely loyal to his new companions.'},)\n",
      "\n",
      "👥 Character roster: ['Dungeon Master', 'Jinx', 'Faen', 'Dmitrei', 'Thokk']\n"
     ]
    }
   ],
   "source": [
    "# Create characters based on the campaign parameters\n",
    "print(\"🧙 Creating characters...\")\n",
    "\n",
    "characters = sim.create_characters(campaign_params, model=model)\n",
    "\n",
    "print(f\"\\n✨ Created {len(characters)} characters:\")\n",
    "for char in characters:\n",
    "    print(f\"  🗡️  {char.name} ({char.dnd_class}): {char.personality}\")\n",
    "    print(f\"         {char.character_sheet}\")\n",
    "\n",
    "# Get character names for turn sampling\n",
    "character_names = [char.name for char in characters]\n",
    "print(f\"\\n👥 Character roster: {character_names}\")"
   ]
  },
  {
   "cell_type": "markdown",
   "metadata": {},
   "source": [
    "## Step 3: Generate Turn Sequence\n",
    "\n",
    "Create a realistic turn sequence using uniform sampling across all characters."
   ]
  },
  {
   "cell_type": "code",
   "execution_count": 36,
   "metadata": {},
   "outputs": [
    {
     "name": "stdout",
     "output_type": "stream",
     "text": [
      "\n",
      "📋 Turn sequence: ['Jinx' None 'Faen' 'Dmitrei' 'Thokk' 'Thokk' 'Thokk' 'Dmitrei' 'Thokk'\n",
      " 'Faen' 'Jinx' 'Dungeon Master' 'Dmitrei' 'Dungeon Master' 'Faen' 'Thokk'\n",
      " 'Dungeon Master' 'Jinx' 'Dungeon Master' 'Faen' 'Jinx' 'Faen'\n",
      " 'Dungeon Master' 'Dmitrei' 'Thokk' 'Dmitrei' 'Jinx' 'Faen'\n",
      " 'Dungeon Master' 'Dmitrei' 'Faen' 'Dungeon Master' 'Faen' 'Jinx'\n",
      " 'Dungeon Master' 'Dmitrei' 'Jinx' 'Dungeon Master' 'Dmitrei' 'Faen'\n",
      " 'Thokk' 'Jinx' 'Dmitrei' 'Jinx' 'Jinx' 'Thokk' 'Thokk' 'Dungeon Master'\n",
      " 'Dmitrei' 'Faen' 'Dungeon Master' 'Thokk' 'Faen' 'Thokk' 'Dmitrei' 'Jinx'\n",
      " 'Dmitrei' 'Jinx' 'Dmitrei' 'Jinx' 'Dungeon Master' 'Dungeon Master'\n",
      " 'Dmitrei' 'Faen' 'Jinx' 'Dungeon Master' 'Thokk' 'Dmitrei'\n",
      " 'Dungeon Master' 'Faen' 'Thokk' 'Dungeon Master' 'Dmitrei' 'Thokk'\n",
      " 'Dungeon Master' 'Jinx' 'Dungeon Master' 'Dmitrei' 'Faen' 'Thokk' 'Jinx'\n",
      " 'Jinx' 'Faen' 'Jinx' 'Dmitrei' 'Faen' 'Dungeon Master' 'Dmitrei' 'Faen'\n",
      " 'Jinx' 'Thokk' 'Dungeon Master' 'Thokk' 'Dmitrei' 'Faen' 'Thokk'\n",
      " 'Dmitrei' 'Jinx' 'Faen' 'Dungeon Master' 'Thokk' 'Dmitrei' 'Faen' 'Jinx'\n",
      " 'Dungeon Master' 'Dmitrei' 'Thokk' 'Faen' 'Jinx' 'Faen' 'Jinx' 'Dmitrei'\n",
      " 'Faen' 'Dungeon Master' 'Dmitrei' 'Dungeon Master' 'Faen'\n",
      " 'Dungeon Master' 'Thokk' 'Faen' 'Dungeon Master' 'Thokk' 'Dungeon Master'\n",
      " 'Dmitrei' 'Dungeon Master' 'Jinx' 'Dmitrei' 'Thokk' 'Faen' 'Thokk'\n",
      " 'Dmitrei' 'Faen' 'Thokk' 'Jinx' 'Dungeon Master' 'Faen' 'Jinx' 'Dmitrei'\n",
      " 'Dungeon Master' 'Jinx' 'Dmitrei' 'Dungeon Master' 'Dmitrei' 'Faen'\n",
      " 'Thokk' 'Dungeon Master' 'Dmitrei' 'Jinx' 'Dungeon Master' 'Dmitrei'\n",
      " 'Dungeon Master' 'Dmitrei' 'Jinx' 'Thokk' 'Dungeon Master' 'Jinx' 'Thokk'\n",
      " 'Dmitrei' 'Jinx' 'Faen' 'Dungeon Master' 'Dmitrei' 'Jinx'\n",
      " 'Dungeon Master' 'Jinx' 'Thokk' 'Jinx' 'Faen' 'Thokk' 'Dungeon Master'\n",
      " 'Jinx' 'Dmitrei' 'Dungeon Master' 'Faen' 'Jinx' 'Dungeon Master' 'Faen'\n",
      " 'Dungeon Master' 'Dmitrei' 'Dungeon Master' 'Jinx' 'Faen' 'Jinx'\n",
      " 'Dungeon Master' 'Thokk' 'Dungeon Master' 'Faen' 'Jinx' 'Faen'\n",
      " 'Dungeon Master' 'Jinx' 'Dungeon Master' 'Jinx' 'Dungeon Master'\n",
      " 'Dmitrei' 'Faen' 'Thokk' 'Dmitrei' 'Faen' 'Thokk' 'Jinx' 'Dungeon Master'\n",
      " 'Faen' 'Jinx' 'Dungeon Master' 'Thokk' 'Dungeon Master' 'Dmitrei'\n",
      " 'Dungeon Master' 'Dmitrei' 'Dungeon Master' 'Jinx' 'Faen' 'Thokk']\n",
      "\n",
      "📊 Turn distribution:\n",
      "  Jinx: 44 turns (20.5%)\n",
      "  None: 1 turns (0.5%)\n",
      "  Faen: 40 turns (18.6%)\n",
      "  Dmitrei: 42 turns (19.5%)\n",
      "  Thokk: 35 turns (16.3%)\n",
      "  Dungeon Master: 52 turns (24.2%)\n"
     ]
    }
   ],
   "source": [
    "# Generate a turn sequence for our mini-session\n",
    "total_turns = len(campaign_params['character_turns'])-1  # Adjust for desired session length\n",
    "from_human_game = True\n",
    "\n",
    "if from_human_game:\n",
    "    turn_sequence = np.array(campaign_params['character_turns'])[1:total_turns] # start at 1 to remove 1st DM post\n",
    "else:\n",
    "    turn_sequence = sim.sample_turn_sequence(\n",
    "    character_names=character_names,\n",
    "    total_turns=total_turns,\n",
    "    method='uniform')\n",
    "\n",
    "print(f\"\\n📋 Turn sequence: {turn_sequence}\")\n",
    "\n",
    "# Show turn distributions\n",
    "turn_counts = Counter(turn_sequence)\n",
    "print(f\"\\n📊 Turn distribution:\")\n",
    "for char_name, count in turn_counts.items():\n",
    "    print(f\"  {char_name}: {count} turns ({count/total_turns*100:.1f}%)\")"
   ]
  },
  {
   "cell_type": "markdown",
   "metadata": {},
   "source": [
    "## Step 4: Initialize Game Session\n",
    "\n",
    "Create the game session manager that will orchestrate our D&D simulation."
   ]
  },
  {
   "cell_type": "code",
   "execution_count": 9,
   "metadata": {},
   "outputs": [
    {
     "name": "stdout",
     "output_type": "stream",
     "text": [
      "🎭 Initializing game session...\n",
      "✅ Game session created with 5 characters\n",
      "📝 Game log initialized (currently 0 events)\n"
     ]
    }
   ],
   "source": [
    "# Create game session\n",
    "print(\"🎭 Initializing game session...\")\n",
    "game_session = sim.GameSession(characters=characters)\n",
    "\n",
    "print(f\"✅ Game session created with {len(characters)} characters\")\n",
    "print(f\"📝 Game log initialized (currently {len(game_session.game_log)} events)\")"
   ]
  },
  {
   "cell_type": "markdown",
   "metadata": {},
   "source": [
    "## Step 6: Run the Simulation\n",
    "\n",
    "Now let's run the complete D&D simulation and watch our AI characters interact!"
   ]
  },
  {
   "cell_type": "code",
   "execution_count": 10,
   "metadata": {},
   "outputs": [
    {
     "name": "stdout",
     "output_type": "stream",
     "text": [
      "🚀 Starting D&D simulation...\n",
      "\n",
      "============================================================\n",
      "=== INITIAL GAME LOG ===\n",
      "{'1': {'date': '2017-12-16T13:43:31', 'player': 'LightSpeed', 'character': 'Dungeon Master', 'in_combat': False, 'paragraphs': {'0': {'text': 'Guardians of Gridori', 'actions': ['name_mention: gridori'], 'label': 'in-character'}, '1': {'text': '[Recruitment Closed]', 'actions': [], 'label': 'in-character'}, '2': {'text': \"General Information : A PbP 5E D&D campaign for 3-4 players, new players and veterans are welcome. New characters begin at first level. Race and class options are restricted only to the  Player's Handbook  (dragonborn are not available for this campaign). Ability scores can be determined by using standard array or point buy. Advancement will be achieved through milestones. If you are interested, please post a character concept including  name ,  race ,  class , and  background . Furthermore, please include a  brief  answer to the question:  Why are you a guardian?  Please consider the information in the  Campaign Setting Information  section below. This thread will be open for about 48 hours and then close. Final invitations will be sent via a PM.\", 'actions': [], 'label': 'out-of-character'}, '3': {'text': \"How I Roll : I like structure and organization. Generally, I want people to take turns and detail their actions only for their own character. Hopefully this creates a flow of character actions followed by a post by me that summarizes the events and the results. This tends to mean that players need to commit to posting regularly enough that the group doesn't have to wait a long time for their turn. Usually, we'll establish a rule for how long we'll wait for one person before just moving on. If you have any questions, feel free to send me a message. This is my first time doing a PbP on D&D Beyond, but I have played in several PbP games in the past.\", 'actions': [], 'label': 'out-of-character'}, '4': {'text': 'Campaign Setting Information : Something dark and alien emerged from the Gridori Forest. Caught unawares, the elves of the forest were devastated by a sudden quake and shadow creatures captured their children. Desperate for help, the elves summoned you, the Guardians, heroes from lands far and near. Uniting against this darkness will turn rivals into allies, and the power of dormant gods will be sought to fight the corruption of the land.', 'actions': [], 'label': 'out-of-character'}, '5': {'text': 'Lands and Peoples', 'actions': [], 'label': 'out-of-character'}, '6': {'text': \"Gridori Forest : A lush and vibrant forest that stretches across the central parts of the continent. Some parts are dark and void while other parts teaming with life. The northern forests are home to the sun elves, and their kin, the moon elves live in the distant southern forest. The wood elves belong to the central parts of the Gridori forest. Forest gnomes live in harmony with the northern sun elves, both share a keen interest in magic. Tetna Riverlands : In the south-east region of the continent, where the land meets the sea, lies the fertile river lands of Tetna. Humans have settled this region. They've built cities, farming communities, and trading posts all throughout the land. Many other races have come to live in the comfort of the river lands including halflings and hill dwarves. Maha Islands : In the southernmost reaches of the continent are a chain of islands called Maha. These islands are sparsely populated by tribes of half-orc seafarers.\\xa0\\xa0  Gopmara Swamp : Many are wary of the southwestern swamp of Gopmara. It is the home of the secluded and suspicious dark elves. Koatel Desert : The shifting sand dunes and constant heat of the far west make up the Koatel Desert. A clan of outcast nomads called Tieflings reside here. Aerith Tundra : The white winds and snow of the north are home to few. Some brawny tribes of mountain dwarves and humans live here. Ximesi Mountains : The north east is a place of high mountains and rocky valleys. It is the homeland of the mountain dwarves and rock gnomes who live in their grand halls of stone.\", 'actions': [], 'label': 'out-of-character'}, '7': {'text': \"Humans:\\xa0 Most prevalent in the Tetna Riverlands, scattered tribes live in all other regions. Humans tend to enjoy commerce, politics, and independent thinking.\\xa0\\xa0 Elves:  Reside in the forests. Sun elves in the north; Moon elves in the south; Wood elves in the center; Dark Elves in the Gopmara Swamp. Elves tend to have a powerful reverence for nature and knowledge.\\xa0 Dwarves:\\xa0 Mountain dwarves mostly stay in the Ximesi Mountains, but have many settlements in the Aerith Tundra. Mountain dwarves have a strong appreciation for stonework, old traditions, and communal thinking.\\xa0\\xa0 Halflings:\\xa0 Halflings tend to live in Riverland communities alongside humans. There are some halfling villages in the forests as well. Halflings are much like humans in that they enjoy commerce and independent thinking, but don't care much for politics. Half-Elves:\\xa0 Half-Elves tend to live in either their elven home place or in small human communities that have ties to the elves.\\xa0 Half-Orcs:\\xa0 Orcs are from the coastal and regions of the south. Some orc tribes have mixed with the human settlements there thus producing a breed of strong seafaring folk.\\xa0\\xa0 Tieflings:\\xa0 Nomadic desert dwelling people, Tieflings tend to stick together and rarely leave their desert tribes.\\xa0 Gnomes:\\xa0 Forest gnomes covet knowledge and nature and get along well with elves and thus live in the forests alongside them. Rock gnomes like to tinker and craft; thus, they desire the natural resources found inside the mountains and have grown closely tied to mountain dwarves.\", 'actions': [], 'label': 'out-of-character'}, '8': {'text': 'Deities', 'actions': [], 'label': 'out-of-character'}, '9': {'text': 'Gridori,  sage of the forests. Deity\\xa0of Life and Air. Takes the form of a unicorn. Ximesi, sage of mountains. Deity of Light and Fire. Takes the form of a phoenix. Maha, sage of islands. Deity of Tempest and Water. Takes the form of a giant fish. Gopmara, sage of swamps. Deity of Trickery and Shadow. Takes the form of a giant toad. Koatel, sage of deserts. Deity of Knowledge and Time. Takes the form of a sphinx. Tetna, sage of riverlands. Deity of War and Earth. Takes the form of a lyger. Aerith, sage of tundras. Deity of Death and Ice. Takes the form of a dragon.', 'actions': ['name_mention: gridori', 'name_mention: ximesi', 'spell: light'], 'label': 'out-of-character'}, '10': {'text': 'Thanks for considering joining the game!', 'actions': [], 'label': 'out-of-character'}, '11': {}, '12': {'text': 'INTRODUCTION :', 'actions': [], 'label': 'out-of-character'}, '13': {'text': 'The elf known as Lore stands amid a crowd of restless wood elf villagers. He’s heavy for a wood elf, stalky and broad shouldered with a large forehead, balled head and squinty glowing green eyes. A cream-colored cloak covers his body, one hand protruding from it only slightly to lean on a cane made of redwood. Even as the Guardians arrive, and the crowd of wood elves churn, murmur, and cheer Lore is silent and stoic.', 'actions': ['name_mention: lore'], 'label': 'in-character'}, '14': {'text': 'Some guards usher the present guardians into a chamber, they’re each offered a seat at a finely crafted long wood table. After being served a cup of cold dew tea to fight the summer heat, the wood elf servants vacate the room leaving the guardians alone with Lore. A beat of silence builds tension, and Lore speaks “Guardians. Let us begin.” His voice is soothing, yet grave. “First, questions. Second, plans. Third, action.” He leans forward to listen.', 'actions': ['name_mention: lore', 'dialogue'], 'label': 'in-character'}, '15': {}, '16': {}}, 'actions': ['name_mention: gridori', 'name_mention: gridori', 'name_mention: ximesi', 'spell: light', 'name_mention: lore', 'name_mention: lore', 'dialogue']}}\n",
      "2\n",
      "=== D&D SIMULATION STARTING ===\n",
      "Characters: ['Dungeon Master', 'Jinx', 'Faen', 'Dmitrei', 'Thokk']\n",
      "Total turns: 5\n",
      "==================================================\n",
      "turn counter: 2\n",
      "\n",
      "Dmitrei: *Dmitrei takes a sip of the dew tea, savoring the crisp, refreshing flavor. He listens intently as Lore speaks, his brow furrowed in concentration. When Lore finishes, Dmitrei clears his throat and speaks in a earnest, yet measured tone:*\n",
      "\n",
      "\"Greetings, Lore. I am Dmitrei, one of the Guardians summoned to aid your people. I come from the isolated Aerith Tundra, where I was mentored by a wise druid to harness the powers of nature. *He pauses, his expression solemn.* The darkness that has befallen your forest disturbs me greatly. I feel a strong sense of purpose in answering your call, as I believe the Gridori Deities have selected me to be one of their guardians.\" \n",
      "\n",
      "*Dmitrei sets down his tea cup and leans forward, his eyes meeting Lore's.* \"Please, tell me more of this shadow that has crept into your forest. What can you tell me of this threat, and how can I, and the other Guardians, aid in driving it back? I am at your service.\"\n",
      "turn counter: 3\n",
      "\n",
      "Dungeon Master: *Lore nods slowly as Dmitrei speaks, his glowing green eyes fixed intently on the druid. When Dmitrei finishes, Lore takes a deep breath and replies in his soothing, grave tone:*\n",
      "\n",
      "\"Guardians, the darkness that has crept into our forest is a malevolent, alien force. It came upon us without warning, shaking the very earth and snatching our children from their homes. We know little of its nature, save that it wields powerful shadow magic and commands hordes of twisted, bestial creatures.\"\n",
      "\n",
      "*Lore pauses, his brow furrowing slightly.* \n",
      "\n",
      "\"Our scouts have tracked the source of this corruption to the heart of the Gridori Forest. There, a great darkness has taken root, like a cancer eating away at the life and light of our ancient woods. We believe this darkness is being fueled by a dark power, some fell sorcery or ancient evil, dwelling deep within the forest's core.\"\n",
      "\n",
      "*Lore leans forward, his expression solemn.* \n",
      "\n",
      "\"The Guardians must journey to the heart of the Gridori, confront this darkness, and put an end to its foul machinations. Only then can we hope to free our children and restore the light to our forest home. Time is of the essence - already the shadow creatures encroach further,\n",
      "turn counter: 4\n",
      "\n",
      "Jinx: *Jinx listens intently as Lore describes the dire situation plaguing the Gridori Forest. Her brow furrows with a mix of concern and determination as she absorbs the gravity of the threat. When Lore finishes, Jinx rises from her seat, her maul gripped firmly in one hand.*\n",
      "\n",
      "\"Ximesi's light guide us, Lore. This darkness you speak of is an affront to all that is good and pure. We cannot allow such a foul corruption to take root in these sacred woods.\" *Jinx's voice is laced with unwavering resolve.* \n",
      "\n",
      "\"I stand ready to face this challenge, as a protector of the people and a faithful servant of Ximesi. Tell me, what can you reveal about the source of this darkness? Where in the heart of the Gridori does it reside? The sooner we can confront and vanquish this evil, the sooner we can restore peace to your forest home and return your lost children.\"\n",
      "\n",
      "*Jinx's eyes blaze with determination, her grip tightening on her maul.* \"Delay no further, Lore. Give us the path forward, and we Guardians shall march into the darkness to cleanse it from your lands.\"\n",
      "turn counter: 5\n",
      "\n",
      "Jinx: *Jinx listens intently as Lore describes the dire situation plaguing the Gridori Forest. Her brow furrows with a mix of concern and determination as she absorbs the gravity of the threat. When Lore finishes, Jinx rises from her seat, her maul gripped firmly in one hand.*\n",
      "\n",
      "\"Ximesi's light guide us, Lore. This darkness you speak of is an affront to all that is good and pure. We cannot allow such a foul corruption to take root in these sacred woods.\" *Jinx's voice is laced with unwavering resolve.* \n",
      "\n",
      "\"I stand ready to face this challenge, as a protector of the people and a faithful servant of Ximesi. Tell me, what can you reveal about the source of this darkness? Where in the heart of the Gridori does it reside? The sooner we can confront and vanquish this evil, the sooner we can restore peace to your forest home and return your lost children.\"\n",
      "\n",
      "*Jinx's eyes blaze with determination, her grip tightening on her maul.* \"Delay no further, Lore. Give us the path forward, and we Guardians shall march into the darkness to cleanse it from your lands.\"\n",
      "turn counter: 6\n",
      "\n",
      "Dmitrei: *Dmitrei nods solemnly as Lore describes the dark corruption that has befallen the Gridori Forest. His expression grows graver with each word, the weight of this challenge settling heavily upon his shoulders.* \n",
      "\n",
      "\"This is indeed a grave threat, Lore. This...darkness, this alien force that has swept into your forest - it must be confronted and purged, for the sake of your people and the land itself.\" *Dmitrei pauses, his brow furrowing in concentration.*\n",
      "\n",
      "\"You say this corruption has taken root at the heart of the Gridori Forest. That must be where we focus our efforts.\" *He glances around at the other Guardians gathered.* \"We will need to journey deep into the forest, following the trail of shadow and corruption to its source. There, we must confront this dark power head-on and sever its hold on the land.\"\n",
      "\n",
      "*Dmitrei's expression hardens with determination.* \"I am ready to face this challenge, Lore. As a guardian chosen by the deities, I will lend my druidic powers to this cause. Gridori's light shall shine once more in these woods, and the lost children will be returned to their families, I swear it.\"\n",
      "\n",
      "*He rises from his seat, his hand gripping the handle of his shortbow.* \"Tell us the way,\n",
      "\n",
      "==================================================\n",
      "=== SIMULATION COMPLETE ===\n"
     ]
    }
   ],
   "source": [
    "# Run the simulation\n",
    "print(\"🚀 Starting D&D simulation...\")\n",
    "print(\"\\n\" + \"=\"*60)\n",
    "\n",
    "# Execute the scenario\n",
    "game_session.run_scenario(initial_scenario=campaign_params['initial_scenario'], turn_sequence=turn_sequence)"
   ]
  },
  {
   "cell_type": "markdown",
   "metadata": {},
   "source": [
    "## Export Results\n",
    "\n",
    "Save the simulation results for further analysis."
   ]
  },
  {
   "cell_type": "code",
   "execution_count": null,
   "metadata": {},
   "outputs": [
    {
     "name": "stdout",
     "output_type": "stream",
     "text": [
      "💾 Results saved to: llm_simulation_results_20250730_190950.json\n",
      "📁 File size: 15886 bytes\n"
     ]
    }
   ],
   "source": [
    "# Export simulation results\n",
    "\n",
    "# Save to file\n",
    "\n",
    "output_file = f\"llm_campaign_{campaign_name}_{datetime.datetime.now().strftime('%Y%m%d_%H%M%S')}.json\"\n",
    "output_path = os.path.join(os.getcwd(), '..', 'data', 'llm-games', output_file)\n",
    "with open(output_file, 'w') as f:\n",
    "    json.dump(game_session.game_log, f, indent=2)\n",
    "\n",
    "print(f\"💾 Results saved to: {output_file}\")\n",
    "print(f\"📁 File size: {os.path.getsize(output_file)} bytes\")"
   ]
  },
  {
   "cell_type": "code",
   "execution_count": 37,
   "metadata": {},
   "outputs": [
    {
     "ename": "NameError",
     "evalue": "name 'campaign_name' is not defined",
     "output_type": "error",
     "traceback": [
      "\u001b[31m---------------------------------------------------------------------------\u001b[39m",
      "\u001b[31mNameError\u001b[39m                                 Traceback (most recent call last)",
      "\u001b[36mCell\u001b[39m\u001b[36m \u001b[39m\u001b[32mIn[37]\u001b[39m\u001b[32m, line 2\u001b[39m\n\u001b[32m      1\u001b[39m \u001b[38;5;66;03m# fix turn order\u001b[39;00m\n\u001b[32m----> \u001b[39m\u001b[32m2\u001b[39m \u001b[38;5;28mprint\u001b[39m(\u001b[43mcampaign_name\u001b[49m)\n",
      "\u001b[31mNameError\u001b[39m: name 'campaign_name' is not defined"
     ]
    }
   ],
   "source": [
    "# fix turn order\n",
    "print(campaign_name)"
   ]
  },
  {
   "cell_type": "code",
   "execution_count": null,
   "metadata": {},
   "outputs": [],
   "source": []
  }
 ],
 "metadata": {
  "kernelspec": {
   "display_name": "py312",
   "language": "python",
   "name": "python3"
  },
  "language_info": {
   "codemirror_mode": {
    "name": "ipython",
    "version": 3
   },
   "file_extension": ".py",
   "mimetype": "text/x-python",
   "name": "python",
   "nbconvert_exporter": "python",
   "pygments_lexer": "ipython3",
   "version": "3.12.11"
  }
 },
 "nbformat": 4,
 "nbformat_minor": 4
}
