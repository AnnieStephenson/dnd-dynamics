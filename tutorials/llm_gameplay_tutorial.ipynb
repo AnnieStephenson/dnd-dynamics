{
 "cells": [
  {
   "cell_type": "markdown",
   "metadata": {},
   "source": [
    "# LLM-Based D&D Simulation Tutorial\n",
    "\n",
    "This notebook demonstrates how to use the LLM-based D&D simulation system to create AI-driven gameplay sessions based on real human campaign data.\n",
    "\n",
    "## Overview\n",
    "\n",
    "The simulation system includes:\n",
    "- **Campaign Parameter Extraction**: Analyze human campaigns to extract initialization parameters\n",
    "- **Character Creation**: Generate D&D characters with personalities and classes\n",
    "- **Turn Sampling**: Create realistic turn sequences using various sampling methods\n",
    "- **Character Agents**: LLM-powered characters with memory and decision-making\n",
    "- **Game Session Management**: Orchestrate complete D&D scenarios\n",
    "\n",
    "## Prerequisites\n",
    "\n",
    "1. Install required packages: `pip install anthropic`\n",
    "2. Set your Anthropic API key: `export ANTHROPIC_API_KEY=your_key_here`\n",
    "3. Ensure you have access to the human campaign data files"
   ]
  },
  {
   "cell_type": "markdown",
   "metadata": {},
   "source": [
    "## Setup and Imports"
   ]
  },
  {
   "cell_type": "code",
   "execution_count": 1,
   "metadata": {},
   "outputs": [
    {
     "name": "stdout",
     "output_type": "stream",
     "text": [
      "✅ Setup complete!\n"
     ]
    }
   ],
   "source": [
    "import os\n",
    "import sys\n",
    "import json\n",
    "import random\n",
    "from pathlib import Path\n",
    "\n",
    "# Add the llm_scaffolding directory to the Python path\n",
    "sys.path.append(str(Path.cwd().parent / \"llm_scaffolding\"))\n",
    "\n",
    "# Import our simulation system\n",
    "from dnd_simulation import (\n",
    "    extract_campaign_parameters,\n",
    "    create_characters,\n",
    "    sample_turn_sequence,\n",
    "    CharacterAgent,\n",
    "    GameSession\n",
    ")\n",
    "\n",
    "# Set random seed for reproducible results\n",
    "random.seed(42)\n",
    "\n",
    "print(\"✅ Setup complete!\")"
   ]
  },
  {
   "cell_type": "markdown",
   "metadata": {},
   "source": [
    "## API Key Setup (Secure Method)\n",
    "\n",
    "We'll load the API key from a secure file that's excluded from version control.\n",
    "\n",
    "**First-time setup:**\n",
    "1. Open the `api_key.txt` file in the project root directory\n",
    "2. Replace the placeholder text with your actual Anthropic API key\n",
    "3. Save the file (it's already in .gitignore so it won't be committed)\n",
    "\n",
    "**Alternative methods:**\n",
    "- Environment variable: `export ANTHROPIC_API_KEY=your_key_here`\n",
    "- Direct assignment (not recommended): `api_key = 'your_key_here'`"
   ]
  },
  {
   "cell_type": "code",
   "execution_count": 2,
   "metadata": {},
   "outputs": [
    {
     "name": "stdout",
     "output_type": "stream",
     "text": [
      "✅ API key loaded from api_key.txt\n",
      "Key prefix: sk-ant-api...\n"
     ]
    }
   ],
   "source": [
    "def load_api_key():\n",
    "    \"\"\"Load API key from secure file or environment variable.\"\"\"\n",
    "\n",
    "    # Method 1: Try to load from secure file\n",
    "    api_key_file = Path.cwd().parent / \"api_key.txt\"\n",
    "\n",
    "    if api_key_file.exists():\n",
    "        with open(api_key_file, 'r') as f:\n",
    "            content = f.read().strip()\n",
    "\n",
    "            # Skip comment lines and empty lines\n",
    "            lines = [\n",
    "                line.strip() for line in content.split('\\n')\n",
    "                if line.strip() and not line.strip().startswith('#')\n",
    "            ]\n",
    "\n",
    "            if lines and lines[0] != 'PASTE_YOUR_ANTHROPIC_API_KEY_HERE':\n",
    "                api_key = lines[0]\n",
    "                print(\"✅ API key loaded from api_key.txt\")\n",
    "                print(f\"Key prefix: {api_key[:10]}...\")\n",
    "                return api_key\n",
    "            else:\n",
    "                print(\n",
    "                    \"⚠️  api_key.txt found but contains placeholder text\")\n",
    "                print(\n",
    "                    \"Please edit api_key.txt and paste your actual API key\"\n",
    "                )\n",
    "\n",
    "    # Method 2: Try environment variable\n",
    "    api_key = os.getenv('ANTHROPIC_API_KEY')\n",
    "    if api_key:\n",
    "        print(\"✅ API key loaded from environment variable\")\n",
    "        print(f\"Key prefix: {api_key[:10]}...\")\n",
    "        return api_key\n",
    "\n",
    "    return None\n",
    "\n",
    "# Load the API key\n",
    "api_key = load_api_key()\n",
    "os.environ['ANTHROPIC_API_KEY'] = api_key "
   ]
  },
  {
   "cell_type": "markdown",
   "metadata": {},
   "source": [
    "## Step 1: Extract Campaign Parameters\n",
    "\n",
    "Let's load a real human campaign and extract parameters that we can use to initialize our simulation."
   ]
  },
  {
   "cell_type": "code",
   "execution_count": 3,
   "metadata": {},
   "outputs": [
    {
     "name": "stdout",
     "output_type": "stream",
     "text": [
      "📊 Extracting campaign parameters...\n",
      "\n",
      "🎯 Campaign Parameters:\n",
      "  Campaign Name: 10391-guardians-of-gridori\n",
      "  Total Messages: 216\n",
      "  Number of Players: 5\n",
      "  Character Names: ['Dungeon Master' 'Jinx' 'Faen' 'Dmitrei' 'Thokk']\n",
      "  Player Names: ['LightSpeed', 'AmazingAmazon', 'ShyVideoGamer', 'JacWalke', 'Finny']\n",
      "  Character Classes: [None, 'druid', 'Warlock', 'Druid', 'Barbarian']\n",
      "  Character Genders: [None, 'female', 'female', 'male', 'male']\n",
      "  Character Races: [None, 'Dwarf', 'elf', 'Human', 'Half-Orc']\n",
      "  Character personalities: The Dungeon Master (DM) takes a measured and patient approach, carefully guiding the story and providing detail-rich descriptions to immerse the players. They seem adept at balancing player agency with narrative progression, allowing the characters to explore and make choices while still maintaining a cohesive world and plot.\n",
      "  Initial Scenario: {'1': {'date': '2017-12-16T13:43:31', 'player': 'LightSpeed', 'character': 'Dungeon Master', 'in_combat': False, 'paragraphs': {'0': {'text': 'Guardians of Gridori', 'actions': ['name_mention: gridori'], 'label': 'in-character'}, '1': {'text': '[Recruitment Closed]', 'actions': [], 'label': 'in-character'}, '2': {'text': \"General Information : A PbP 5E D&D campaign for 3-4 players, new players and veterans are welcome. New characters begin at first level. Race and class options are restricted only to the  Player's Handbook  (dragonborn are not available for this campaign). Ability scores can be determined by using standard array or point buy. Advancement will be achieved through milestones. If you are interested, please post a character concept including  name ,  race ,  class , and  background . Furthermore, please include a  brief  answer to the question:  Why are you a guardian?  Please consider the information in the  Campaign Setting Information  section below. This thread will be open for about 48 hours and then close. Final invitations will be sent via a PM.\", 'actions': [], 'label': 'out-of-character'}, '3': {'text': \"How I Roll : I like structure and organization. Generally, I want people to take turns and detail their actions only for their own character. Hopefully this creates a flow of character actions followed by a post by me that summarizes the events and the results. This tends to mean that players need to commit to posting regularly enough that the group doesn't have to wait a long time for their turn. Usually, we'll establish a rule for how long we'll wait for one person before just moving on. If you have any questions, feel free to send me a message. This is my first time doing a PbP on D&D Beyond, but I have played in several PbP games in the past.\", 'actions': [], 'label': 'out-of-character'}, '4': {'text': 'Campaign Setting Information : Something dark and alien emerged from the Gridori Forest. Caught unawares, the elves of the forest were devastated by a sudden quake and shadow creatures captured their children. Desperate for help, the elves summoned you, the Guardians, heroes from lands far and near. Uniting against this darkness will turn rivals into allies, and the power of dormant gods will be sought to fight the corruption of the land.', 'actions': [], 'label': 'out-of-character'}, '5': {'text': 'Lands and Peoples', 'actions': [], 'label': 'out-of-character'}, '6': {'text': \"Gridori Forest : A lush and vibrant forest that stretches across the central parts of the continent. Some parts are dark and void while other parts teaming with life. The northern forests are home to the sun elves, and their kin, the moon elves live in the distant southern forest. The wood elves belong to the central parts of the Gridori forest. Forest gnomes live in harmony with the northern sun elves, both share a keen interest in magic. Tetna Riverlands : In the south-east region of the continent, where the land meets the sea, lies the fertile river lands of Tetna. Humans have settled this region. They've built cities, farming communities, and trading posts all throughout the land. Many other races have come to live in the comfort of the river lands including halflings and hill dwarves. Maha Islands : In the southernmost reaches of the continent are a chain of islands called Maha. These islands are sparsely populated by tribes of half-orc seafarers.\\xa0\\xa0  Gopmara Swamp : Many are wary of the southwestern swamp of Gopmara. It is the home of the secluded and suspicious dark elves. Koatel Desert : The shifting sand dunes and constant heat of the far west make up the Koatel Desert. A clan of outcast nomads called Tieflings reside here. Aerith Tundra : The white winds and snow of the north are home to few. Some brawny tribes of mountain dwarves and humans live here. Ximesi Mountains : The north east is a place of high mountains and rocky valleys. It is the homeland of the mountain dwarves and rock gnomes who live in their grand halls of stone.\", 'actions': [], 'label': 'out-of-character'}, '7': {'text': \"Humans:\\xa0 Most prevalent in the Tetna Riverlands, scattered tribes live in all other regions. Humans tend to enjoy commerce, politics, and independent thinking.\\xa0\\xa0 Elves:  Reside in the forests. Sun elves in the north; Moon elves in the south; Wood elves in the center; Dark Elves in the Gopmara Swamp. Elves tend to have a powerful reverence for nature and knowledge.\\xa0 Dwarves:\\xa0 Mountain dwarves mostly stay in the Ximesi Mountains, but have many settlements in the Aerith Tundra. Mountain dwarves have a strong appreciation for stonework, old traditions, and communal thinking.\\xa0\\xa0 Halflings:\\xa0 Halflings tend to live in Riverland communities alongside humans. There are some halfling villages in the forests as well. Halflings are much like humans in that they enjoy commerce and independent thinking, but don't care much for politics. Half-Elves:\\xa0 Half-Elves tend to live in either their elven home place or in small human communities that have ties to the elves.\\xa0 Half-Orcs:\\xa0 Orcs are from the coastal and regions of the south. Some orc tribes have mixed with the human settlements there thus producing a breed of strong seafaring folk.\\xa0\\xa0 Tieflings:\\xa0 Nomadic desert dwelling people, Tieflings tend to stick together and rarely leave their desert tribes.\\xa0 Gnomes:\\xa0 Forest gnomes covet knowledge and nature and get along well with elves and thus live in the forests alongside them. Rock gnomes like to tinker and craft; thus, they desire the natural resources found inside the mountains and have grown closely tied to mountain dwarves.\", 'actions': [], 'label': 'out-of-character'}, '8': {'text': 'Deities', 'actions': [], 'label': 'out-of-character'}, '9': {'text': 'Gridori,  sage of the forests. Deity\\xa0of Life and Air. Takes the form of a unicorn. Ximesi, sage of mountains. Deity of Light and Fire. Takes the form of a phoenix. Maha, sage of islands. Deity of Tempest and Water. Takes the form of a giant fish. Gopmara, sage of swamps. Deity of Trickery and Shadow. Takes the form of a giant toad. Koatel, sage of deserts. Deity of Knowledge and Time. Takes the form of a sphinx. Tetna, sage of riverlands. Deity of War and Earth. Takes the form of a lyger. Aerith, sage of tundras. Deity of Death and Ice. Takes the form of a dragon.', 'actions': ['name_mention: gridori', 'name_mention: ximesi', 'spell: light'], 'label': 'out-of-character'}, '10': {'text': 'Thanks for considering joining the game!', 'actions': [], 'label': 'out-of-character'}, '11': {}, '12': {'text': 'INTRODUCTION :', 'actions': [], 'label': 'out-of-character'}, '13': {'text': 'The elf known as Lore stands amid a crowd of restless wood elf villagers. He’s heavy for a wood elf, stalky and broad shouldered with a large forehead, balled head and squinty glowing green eyes. A cream-colored cloak covers his body, one hand protruding from it only slightly to lean on a cane made of redwood. Even as the Guardians arrive, and the crowd of wood elves churn, murmur, and cheer Lore is silent and stoic.', 'actions': ['name_mention: lore'], 'label': 'in-character'}, '14': {'text': 'Some guards usher the present guardians into a chamber, they’re each offered a seat at a finely crafted long wood table. After being served a cup of cold dew tea to fight the summer heat, the wood elf servants vacate the room leaving the guardians alone with Lore. A beat of silence builds tension, and Lore speaks “Guardians. Let us begin.” His voice is soothing, yet grave. “First, questions. Second, plans. Third, action.” He leans forward to listen.', 'actions': ['name_mention: lore', 'dialogue'], 'label': 'in-character'}, '15': {}, '16': {}}, 'actions': ['name_mention: gridori', 'name_mention: gridori', 'name_mention: ximesi', 'spell: light', 'name_mention: lore', 'name_mention: lore', 'dialogue']}, '2': {'date': '2017-12-16T17:11:39', 'player': 'AmazingAmazon', 'character': 'Jinx', 'gender': 'female', 'race': 'Dwarf', 'class': 'druid', 'in_combat': False, 'paragraphs': {'0': {}, '1': {'text': 'Name: Lucinda \"Jinx\" Brightwell', 'actions': ['dialogue'], 'label': 'out-of-character'}, '2': {'text': 'Race: Mountain Dwarf', 'actions': [], 'label': 'out-of-character'}, '3': {'text': 'Class: Paladin of\\xa0\\xa0Ximesi, sage of mountains deity of light and fire!', 'actions': ['name_mention: ximesi'], 'label': 'out-of-character'}, '4': {'text': 'Alignment:\\xa0 Chaotic Good', 'actions': [], 'label': 'out-of-character'}, '5': {'text': 'Background:\\xa0The mountains filled with her family and people hold great ties to Lucinda but the call of adventure became too loud to ignore. The young paladin of Ximesi, sage of mountains deity of light and fire, inspired her to look beyond her mountain to offer her strength and aid to others.', 'actions': ['name_mention: ximesi'], 'label': 'out-of-character'}, '6': {'text': 'Why are you a guardian? Having only recently left her clan and joined the Guardians she is eager to prove herself and rid the land of the rising evil!', 'actions': [], 'label': 'out-of-character'}, '7': {'text': 'Link to character sheet via the builder. I used point buy but will roll if necessary!  Jinx', 'actions': ['name_mention: jinx'], 'label': 'mixed'}}, 'actions': ['dialogue', 'name_mention: ximesi', 'name_mention: ximesi', 'name_mention: jinx']}}\n"
     ]
    }
   ],
   "source": [
    "# Choose a campaign file to analyze\n",
    "campaign_file = \"../data/raw-human-games/individual_campaigns/10391-guardians-of-gridori.json\"\n",
    "\n",
    "# Extract parameters from the human campaign\n",
    "print(\"📊 Extracting campaign parameters...\")\n",
    "campaign_params = extract_campaign_parameters(campaign_file)\n",
    "\n",
    "print(f\"\\n🎯 Campaign Parameters:\")\n",
    "print(f\"  Campaign Name: {campaign_params['campaign_name']}\")\n",
    "print(f\"  Total Messages: {campaign_params['total_messages']:,}\")\n",
    "print(f\"  Number of Players: {campaign_params['num_players']}\")\n",
    "print(f\"  Character Names: {campaign_params['character_names']}\")\n",
    "print(f\"  Player Names: {campaign_params['player_names']}\")\n",
    "print(f\"  Character Classes: {campaign_params['character_classes']}\")\n",
    "print(f\"  Character Genders: {campaign_params['character_genders']}\")\n",
    "print(f\"  Character Races: {campaign_params['character_races']}\")\n",
    "print(f\"  Character personalities: {campaign_params['character_personalities'][0]}\")\n",
    "print(f\"  Initial Scenario: {campaign_params['initial_scenario']}\")\n"
   ]
  },
  {
   "cell_type": "markdown",
   "metadata": {},
   "source": [
    "## Step 2: Create Characters\n",
    "\n",
    "Now let's create our AI characters using the player count from the human campaign."
   ]
  },
  {
   "cell_type": "code",
   "execution_count": 4,
   "metadata": {},
   "outputs": [
    {
     "name": "stdout",
     "output_type": "stream",
     "text": [
      "🧙 Creating characters...\n",
      "\n",
      "✨ Created 5 characters:\n",
      "  🗡️  Dungeon Master (None): The Dungeon Master (DM) takes a measured and patient approach, carefully guiding the story and providing detail-rich descriptions to immerse the players. They seem adept at balancing player agency with narrative progression, allowing the characters to explore and make choices while still maintaining a cohesive world and plot.\n",
      "  🗡️  Jinx (druid): Jinx, the dwarven druid, appears to be a steadfast and earnest player who is deeply committed to their character's beliefs and goals. They demonstrate a strong sense of duty and protectiveness towards the party, but can also be a bit reckless at times, rushing headlong into danger. Their playstyle suggests a player who values roleplaying and character development over pure combat optimization.\n",
      "  🗡️  Faen (Warlock): Faen, the elven warlock, seems to be a more reserved and introspective player, often letting the other characters take the lead. However, their character's internal struggles and mysterious pact with Bastion suggest a player who is interested in exploring darker, more complex themes. They can be somewhat reactive and unpredictable, but their roleplaying adds an intriguing layer of depth to the party.\n",
      "  🗡️  Dmitrei (Druid): Dmitrei, the human druid, comes across as a thoughtful and capable player who values teamwork and preparation. Their character's background as a healer and support-focused caster suggests a player who enjoys providing utility and ensuring the party's well-being. They seem to take a measured and strategic approach, often offering advice and trying to find the best course of action for the group.\n",
      "  🗡️  Thokk (Barbarian): Thokk, the half-orc barbarian, appears to be a more impulsive and reactive player, often driven by their character's emotions and instincts. Their playstyle suggests a player who enjoys the thrill of combat and is not afraid to take risks, even if it means causing a bit of chaos. However, they also show a softer side, caring for their companions and trying to make amends when their recklessness gets the better of them.\n",
      "\n",
      "👥 Character roster: ['Dungeon Master', 'Jinx', 'Faen', 'Dmitrei', 'Thokk']\n"
     ]
    }
   ],
   "source": [
    "# Create characters based on the campaign parameters\n",
    "print(\"🧙 Creating characters...\")\n",
    "\n",
    "# For now, we'll use default characters (future versions can extract from campaign)\n",
    "characters = create_characters(campaign_params)\n",
    "\n",
    "print(f\"\\n✨ Created {len(characters)} characters:\")\n",
    "for char in characters:\n",
    "    print(f\"  🗡️  {char.name} ({char.dnd_class}): {char.personality}\")\n",
    "\n",
    "# Get character names for turn sampling\n",
    "character_names = [char.name for char in characters]\n",
    "print(f\"\\n👥 Character roster: {character_names}\")"
   ]
  },
  {
   "cell_type": "markdown",
   "metadata": {},
   "source": [
    "## Step 3: Generate Turn Sequence\n",
    "\n",
    "Create a realistic turn sequence using uniform sampling across all characters."
   ]
  },
  {
   "cell_type": "code",
   "execution_count": 5,
   "metadata": {},
   "outputs": [
    {
     "name": "stdout",
     "output_type": "stream",
     "text": [
      "🎲 Generating turn sequence (5 turns)...\n",
      "\n",
      "📋 Turn sequence: ['Dmitrei', 'Dungeon Master', 'Jinx', 'Jinx', 'Dmitrei']\n",
      "\n",
      "📊 Turn distribution:\n",
      "  Dmitrei: 2 turns (40.0%)\n",
      "  Dungeon Master: 1 turns (20.0%)\n",
      "  Jinx: 2 turns (40.0%)\n"
     ]
    }
   ],
   "source": [
    "# Generate a turn sequence for our mini-session\n",
    "total_turns = 5  # Adjust for desired session length\n",
    "\n",
    "print(f\"🎲 Generating turn sequence ({total_turns} turns)...\")\n",
    "turn_sequence = sample_turn_sequence(\n",
    "    character_names=character_names,\n",
    "    total_turns=total_turns,\n",
    "    method='uniform'\n",
    ")\n",
    "\n",
    "print(f\"\\n📋 Turn sequence: {turn_sequence}\")\n",
    "\n",
    "# Show turn distribution\n",
    "from collections import Counter\n",
    "turn_counts = Counter(turn_sequence)\n",
    "print(f\"\\n📊 Turn distribution:\")\n",
    "for char_name, count in turn_counts.items():\n",
    "    print(f\"  {char_name}: {count} turns ({count/total_turns*100:.1f}%)\")"
   ]
  },
  {
   "cell_type": "markdown",
   "metadata": {},
   "source": [
    "## Step 4: Initialize Game Session\n",
    "\n",
    "Create the game session manager that will orchestrate our D&D simulation."
   ]
  },
  {
   "cell_type": "code",
   "execution_count": 6,
   "metadata": {},
   "outputs": [
    {
     "name": "stdout",
     "output_type": "stream",
     "text": [
      "🎭 Initializing game session...\n",
      "✅ Game session created with 5 characters\n",
      "📝 Game log initialized (currently 0 events)\n"
     ]
    }
   ],
   "source": [
    "# Create game session\n",
    "print(\"🎭 Initializing game session...\")\n",
    "game_session = GameSession(characters=characters, api_key=api_key)\n",
    "\n",
    "print(f\"✅ Game session created with {len(characters)} characters\")\n",
    "print(f\"📝 Game log initialized (currently {len(game_session.game_log)} events)\")"
   ]
  },
  {
   "cell_type": "markdown",
   "metadata": {},
   "source": [
    "## Step 6: Run the Simulation\n",
    "\n",
    "Now let's run the complete D&D simulation and watch our AI characters interact!"
   ]
  },
  {
   "cell_type": "code",
   "execution_count": null,
   "metadata": {},
   "outputs": [
    {
     "name": "stdout",
     "output_type": "stream",
     "text": [
      "🚀 Starting D&D simulation...\n",
      "\n",
      "============================================================\n",
      "=== D&D SIMULATION STARTING ===\n",
      "Scenario: {'1': {'date': '2017-12-16T13:43:31', 'player': 'LightSpeed', 'character': 'Dungeon Master', 'in_combat': False, 'paragraphs': {'0': {'text': 'Guardians of Gridori', 'actions': ['name_mention: gridori'], 'label': 'in-character'}, '1': {'text': '[Recruitment Closed]', 'actions': [], 'label': 'in-character'}, '2': {'text': \"General Information : A PbP 5E D&D campaign for 3-4 players, new players and veterans are welcome. New characters begin at first level. Race and class options are restricted only to the  Player's Handbook  (dragonborn are not available for this campaign). Ability scores can be determined by using standard array or point buy. Advancement will be achieved through milestones. If you are interested, please post a character concept including  name ,  race ,  class , and  background . Furthermore, please include a  brief  answer to the question:  Why are you a guardian?  Please consider the information in the  Campaign Setting Information  section below. This thread will be open for about 48 hours and then close. Final invitations will be sent via a PM.\", 'actions': [], 'label': 'out-of-character'}, '3': {'text': \"How I Roll : I like structure and organization. Generally, I want people to take turns and detail their actions only for their own character. Hopefully this creates a flow of character actions followed by a post by me that summarizes the events and the results. This tends to mean that players need to commit to posting regularly enough that the group doesn't have to wait a long time for their turn. Usually, we'll establish a rule for how long we'll wait for one person before just moving on. If you have any questions, feel free to send me a message. This is my first time doing a PbP on D&D Beyond, but I have played in several PbP games in the past.\", 'actions': [], 'label': 'out-of-character'}, '4': {'text': 'Campaign Setting Information : Something dark and alien emerged from the Gridori Forest. Caught unawares, the elves of the forest were devastated by a sudden quake and shadow creatures captured their children. Desperate for help, the elves summoned you, the Guardians, heroes from lands far and near. Uniting against this darkness will turn rivals into allies, and the power of dormant gods will be sought to fight the corruption of the land.', 'actions': [], 'label': 'out-of-character'}, '5': {'text': 'Lands and Peoples', 'actions': [], 'label': 'out-of-character'}, '6': {'text': \"Gridori Forest : A lush and vibrant forest that stretches across the central parts of the continent. Some parts are dark and void while other parts teaming with life. The northern forests are home to the sun elves, and their kin, the moon elves live in the distant southern forest. The wood elves belong to the central parts of the Gridori forest. Forest gnomes live in harmony with the northern sun elves, both share a keen interest in magic. Tetna Riverlands : In the south-east region of the continent, where the land meets the sea, lies the fertile river lands of Tetna. Humans have settled this region. They've built cities, farming communities, and trading posts all throughout the land. Many other races have come to live in the comfort of the river lands including halflings and hill dwarves. Maha Islands : In the southernmost reaches of the continent are a chain of islands called Maha. These islands are sparsely populated by tribes of half-orc seafarers.\\xa0\\xa0  Gopmara Swamp : Many are wary of the southwestern swamp of Gopmara. It is the home of the secluded and suspicious dark elves. Koatel Desert : The shifting sand dunes and constant heat of the far west make up the Koatel Desert. A clan of outcast nomads called Tieflings reside here. Aerith Tundra : The white winds and snow of the north are home to few. Some brawny tribes of mountain dwarves and humans live here. Ximesi Mountains : The north east is a place of high mountains and rocky valleys. It is the homeland of the mountain dwarves and rock gnomes who live in their grand halls of stone.\", 'actions': [], 'label': 'out-of-character'}, '7': {'text': \"Humans:\\xa0 Most prevalent in the Tetna Riverlands, scattered tribes live in all other regions. Humans tend to enjoy commerce, politics, and independent thinking.\\xa0\\xa0 Elves:  Reside in the forests. Sun elves in the north; Moon elves in the south; Wood elves in the center; Dark Elves in the Gopmara Swamp. Elves tend to have a powerful reverence for nature and knowledge.\\xa0 Dwarves:\\xa0 Mountain dwarves mostly stay in the Ximesi Mountains, but have many settlements in the Aerith Tundra. Mountain dwarves have a strong appreciation for stonework, old traditions, and communal thinking.\\xa0\\xa0 Halflings:\\xa0 Halflings tend to live in Riverland communities alongside humans. There are some halfling villages in the forests as well. Halflings are much like humans in that they enjoy commerce and independent thinking, but don't care much for politics. Half-Elves:\\xa0 Half-Elves tend to live in either their elven home place or in small human communities that have ties to the elves.\\xa0 Half-Orcs:\\xa0 Orcs are from the coastal and regions of the south. Some orc tribes have mixed with the human settlements there thus producing a breed of strong seafaring folk.\\xa0\\xa0 Tieflings:\\xa0 Nomadic desert dwelling people, Tieflings tend to stick together and rarely leave their desert tribes.\\xa0 Gnomes:\\xa0 Forest gnomes covet knowledge and nature and get along well with elves and thus live in the forests alongside them. Rock gnomes like to tinker and craft; thus, they desire the natural resources found inside the mountains and have grown closely tied to mountain dwarves.\", 'actions': [], 'label': 'out-of-character'}, '8': {'text': 'Deities', 'actions': [], 'label': 'out-of-character'}, '9': {'text': 'Gridori,  sage of the forests. Deity\\xa0of Life and Air. Takes the form of a unicorn. Ximesi, sage of mountains. Deity of Light and Fire. Takes the form of a phoenix. Maha, sage of islands. Deity of Tempest and Water. Takes the form of a giant fish. Gopmara, sage of swamps. Deity of Trickery and Shadow. Takes the form of a giant toad. Koatel, sage of deserts. Deity of Knowledge and Time. Takes the form of a sphinx. Tetna, sage of riverlands. Deity of War and Earth. Takes the form of a lyger. Aerith, sage of tundras. Deity of Death and Ice. Takes the form of a dragon.', 'actions': ['name_mention: gridori', 'name_mention: ximesi', 'spell: light'], 'label': 'out-of-character'}, '10': {'text': 'Thanks for considering joining the game!', 'actions': [], 'label': 'out-of-character'}, '11': {}, '12': {'text': 'INTRODUCTION :', 'actions': [], 'label': 'out-of-character'}, '13': {'text': 'The elf known as Lore stands amid a crowd of restless wood elf villagers. He’s heavy for a wood elf, stalky and broad shouldered with a large forehead, balled head and squinty glowing green eyes. A cream-colored cloak covers his body, one hand protruding from it only slightly to lean on a cane made of redwood. Even as the Guardians arrive, and the crowd of wood elves churn, murmur, and cheer Lore is silent and stoic.', 'actions': ['name_mention: lore'], 'label': 'in-character'}, '14': {'text': 'Some guards usher the present guardians into a chamber, they’re each offered a seat at a finely crafted long wood table. After being served a cup of cold dew tea to fight the summer heat, the wood elf servants vacate the room leaving the guardians alone with Lore. A beat of silence builds tension, and Lore speaks “Guardians. Let us begin.” His voice is soothing, yet grave. “First, questions. Second, plans. Third, action.” He leans forward to listen.', 'actions': ['name_mention: lore', 'dialogue'], 'label': 'in-character'}, '15': {}, '16': {}}, 'actions': ['name_mention: gridori', 'name_mention: gridori', 'name_mention: ximesi', 'spell: light', 'name_mention: lore', 'name_mention: lore', 'dialogue']}, '2': {'date': '2017-12-16T17:11:39', 'player': 'AmazingAmazon', 'character': 'Jinx', 'gender': 'female', 'race': 'Dwarf', 'class': 'druid', 'in_combat': False, 'paragraphs': {'0': {}, '1': {'text': 'Name: Lucinda \"Jinx\" Brightwell', 'actions': ['dialogue'], 'label': 'out-of-character'}, '2': {'text': 'Race: Mountain Dwarf', 'actions': [], 'label': 'out-of-character'}, '3': {'text': 'Class: Paladin of\\xa0\\xa0Ximesi, sage of mountains deity of light and fire!', 'actions': ['name_mention: ximesi'], 'label': 'out-of-character'}, '4': {'text': 'Alignment:\\xa0 Chaotic Good', 'actions': [], 'label': 'out-of-character'}, '5': {'text': 'Background:\\xa0The mountains filled with her family and people hold great ties to Lucinda but the call of adventure became too loud to ignore. The young paladin of Ximesi, sage of mountains deity of light and fire, inspired her to look beyond her mountain to offer her strength and aid to others.', 'actions': ['name_mention: ximesi'], 'label': 'out-of-character'}, '6': {'text': 'Why are you a guardian? Having only recently left her clan and joined the Guardians she is eager to prove herself and rid the land of the rising evil!', 'actions': [], 'label': 'out-of-character'}, '7': {'text': 'Link to character sheet via the builder. I used point buy but will roll if necessary!  Jinx', 'actions': ['name_mention: jinx'], 'label': 'mixed'}}, 'actions': ['dialogue', 'name_mention: ximesi', 'name_mention: ximesi', 'name_mention: jinx']}}\n",
      "Characters: ['Dungeon Master', 'Jinx', 'Faen', 'Dmitrei', 'Thokk']\n",
      "Total turns: 5\n",
      "==================================================\n",
      "\n",
      "Dmitrei: *Dmitrei pauses to take in the current situation, his brow furrowed in contemplation. He turns to his companions, his voice calm and measured as he speaks up.*\n",
      "\n",
      "\"Alright, let's take a moment to assess our position and plan our next move carefully. From what I can see, the path ahead seems treacherous, and we'll need to proceed with caution.\" \n",
      "\n",
      "*He runs a hand through his hair, his gaze sweeping the area as he considers their options.* \n",
      "\n",
      "\"Perhaps we could send a scout ahead to gather more information about the terrain and any potential threats. That way, we can make a more informed decision about how to proceed. In the meantime, I can prepare some spells that may prove useful, depending on what we encounter.\"\n",
      "\n",
      "*Dmitrei looks around at the party, his expression earnest.* \n",
      "\n",
      "\"What do you all think? I'm open to suggestions, but I believe a measured, strategic approach is our best chance of getting through this safely.\"\n",
      "\n",
      "Dungeon Master: *clears throat and speaks in a measured, calming tone*\n",
      "\n",
      "Greetings, adventurers. I am the Dungeon Master, your guide through the intricate tapestry of this world. \n",
      "\n",
      "*gestures with a sweeping motion*\n",
      "\n",
      "Before you lies a landscape ripe with possibility - rolling hills, dense forests, and hidden valleys waiting to be explored. The natural world teems with life, from the chirping of birds in the treetops to the scurrying of small creatures in the underbrush.\n",
      "\n",
      "*pauses, surveying the players with a patient gaze*\n",
      "\n",
      "As a Druid, your connection to this land will be a vital asset on the journey ahead. Sense the flow of energy, the delicate balance that sustains all living things. For in these wild places, you will find both allies and challenges that will test the limits of your abilities.\n",
      "\n",
      "*leans forward, eyes gleaming with anticipation*\n",
      "\n",
      "Tell me, young Druid, what do you hope to discover in these untamed realms? What mysteries and wonders await your keen eyes and experienced hands? The path is yours to choose, but I will be here to guide you, to provide detail and context as you navigate this world.\n",
      "\n",
      "*settles back, offering an encouraging nod*\n",
      "\n",
      "Speak now, and let us begin your adventure.\n",
      "\n",
      "Jinx: *Jinx, the dwarven druid, steps forward, their thick beard and weathered features conveying a sense of steady determination. Their eyes scan the landscape, taking in the details with a practiced eye.*\n",
      "\n",
      "\"Greetings, Dungeon Master. I am Jinx, and I come to these untamed realms with a deep respect for the natural order. As a child of the mountains, I have learned to read the signs of the land, to sense the currents of life that flow through all living things.\"\n",
      "\n",
      "*Jinx's hand drifts to the pouch at their belt, fingering the various herbs and talismans within.* \n",
      "\n",
      "\"The forests and valleys before us hold many secrets, I suspect. Mysteries to unravel, ancient powers to commune with. I feel a stirring in my soul, a call to protect these wild places and the creatures that dwell within.\"\n",
      "\n",
      "*A faint smile touches Jinx's lips as they raise their gaze to meet the Dungeon Master's.*\n",
      "\n",
      "\"Where the path leads, I will follow, guided by the wisdom of the elements and the ancient druidic traditions. My spells and my staff stand ready to defend this land and its inhabitants. Lead on, and let us see what wonders and challenges await.\"\n"
     ]
    }
   ],
   "source": [
    "# Run the simulation\n",
    "print(\"🚀 Starting D&D simulation...\")\n",
    "print(\"\\n\" + \"=\"*60)\n",
    "\n",
    "# Execute the scenario\n",
    "game_session.run_scenario(initial_scenario=campaign_params['initial_scenario'], turn_sequence=turn_sequence)"
   ]
  },
  {
   "cell_type": "markdown",
   "metadata": {},
   "source": [
    "## Export Results (Optional)\n",
    "\n",
    "Save the simulation results for further analysis."
   ]
  },
  {
   "cell_type": "code",
   "execution_count": null,
   "metadata": {},
   "outputs": [
    {
     "name": "stdout",
     "output_type": "stream",
     "text": [
      "💾 Results saved to: llm_simulation_results_20250728_162818.json\n",
      "📁 File size: 5903 bytes\n"
     ]
    }
   ],
   "source": [
    "# Export simulation results\n",
    "import datetime\n",
    "# Save to file\n",
    "output_file = f\"llm_simulation_results_{datetime.datetime.now().strftime('%Y%m%d_%H%M%S')}.json\"\n",
    "with open(output_file, 'w') as f:\n",
    "    json.dump(game_session.game_log, f, indent=2)\n",
    "\n",
    "print(f\"💾 Results saved to: {output_file}\")\n",
    "print(f\"📁 File size: {os.path.getsize(output_file)} bytes\")"
   ]
  },
  {
   "cell_type": "markdown",
   "metadata": {},
   "source": []
  },
  {
   "cell_type": "markdown",
   "metadata": {},
   "source": []
  }
 ],
 "metadata": {
  "kernelspec": {
   "display_name": "py312",
   "language": "python",
   "name": "python3"
  },
  "language_info": {
   "codemirror_mode": {
    "name": "ipython",
    "version": 3
   },
   "file_extension": ".py",
   "mimetype": "text/x-python",
   "name": "python",
   "nbconvert_exporter": "python",
   "pygments_lexer": "ipython3",
   "version": "3.12.11"
  }
 },
 "nbformat": 4,
 "nbformat_minor": 4
}
