{
 "cells": [
  {
   "cell_type": "markdown",
   "id": "2b2e54e0",
   "metadata": {},
   "source": [
    "# D&D Gameplay Log Analysis Tutorial\n",
    "\n",
    "This notebook demonstrates how to analyze Dungeons & Dragons gameplay logs"
   ]
  },
  {
   "cell_type": "code",
   "execution_count": 1,
   "id": "e4a2339e",
   "metadata": {},
   "outputs": [
    {
     "name": "stdout",
     "output_type": "stream",
     "text": [
      "Created plots directory: plots\n"
     ]
    }
   ],
   "source": [
    "# Import required libraries\n",
    "import json\n",
    "import pandas as pd\n",
    "import matplotlib.pyplot as plt\n",
    "from matplotlib import cm\n",
    "import seaborn as sns\n",
    "import numpy as np\n",
    "from datetime import datetime\n",
    "from pathlib import Path\n",
    "import warnings\n",
    "import os\n",
    "import sys\n",
    "import os\n",
    "import inspect\n",
    "from pathlib import Path\n",
    "warnings.filterwarnings('ignore')\n",
    "\n",
    "import analysis.data_loading as dl\n",
    "import analysis.basic_metrics as basic\n",
    "import analysis.creativity_metrics as creativity\n",
    "import analysis.cohesion_metrics as cohesion\n",
    "\n",
    "# Set up plotting style\n",
    "plt.style.use('default')\n",
    "sns.color_palette(\"mako\")\n",
    "plt.rcParams['figure.dpi'] = 100\n",
    "\n",
    "# Create Plots directory\n",
    "plots_dir = Path('plots')\n",
    "plots_dir.mkdir(exist_ok=True)\n",
    "print(f\"Created plots directory: {plots_dir}\")\n",
    "\n",
    "# Helper function for saving plots\n",
    "def save_plot(filename):\n",
    "    filepath = plots_dir / filename\n",
    "    plt.savefig(filepath, dpi=300, bbox_inches='tight')\n",
    "    print(f\"Saved: {filepath}\")"
   ]
  },
  {
   "cell_type": "markdown",
   "id": "3a9a3a96",
   "metadata": {},
   "source": [
    "# Set calculation parameters"
   ]
  },
  {
   "cell_type": "code",
   "execution_count": 141,
   "id": "fa6c81dc",
   "metadata": {},
   "outputs": [],
   "source": [
    "CAMPAIGN_NAME = [\n",
    "    '10391-guardians-of-gridori',\n",
    "    'llm_campaign_10391-guardians-of-gridori_claude-3-5-sonnet-latest_no_players_20250812_145320',\n",
    "    'llm_campaign_10391-guardians-of-gridori_claude-3-5-sonnet-latest_players_20250812_205654',\n",
    "    'llm_campaign_10391-guardians-of-gridori_gpt-4o_no_players_20250812_124127',\n",
    "    'llm_campaign_10391-guardians-of-gridori_gpt-4o_players_20250812_142021'\n",
    "]\n",
    "source = CAMPAIGN_NAME\n",
    "#source = 'human'\n",
    "max_campaigns = 969 \n",
    "messages_per_session = 5\n",
    "force_refresh = False\n",
    "scene_length = 175"
   ]
  },
  {
   "cell_type": "markdown",
   "id": "9a10fe79",
   "metadata": {},
   "source": [
    "# Calculate game log analyses"
   ]
  },
  {
   "cell_type": "code",
   "execution_count": 142,
   "id": "475360e2",
   "metadata": {},
   "outputs": [
    {
     "name": "stdout",
     "output_type": "stream",
     "text": [
      "📁 Loaded 5 cached basic metrics results\n",
      "📁 Loaded 5 cached creativity results\n",
      "📁 Loaded 5 cached DSI results\n",
      "📁 Loaded 5 cached cohesion results\n"
     ]
    }
   ],
   "source": [
    "dfs = dl.load_campaigns(source=source, max_campaigns = max_campaigns, messages_per_session=messages_per_session)\n",
    "\n",
    "basic_metrics = basic.analyze_basic_metrics(dfs, force_refresh=force_refresh)\n",
    "\n",
    "creativity_metrics = creativity.analyze_creativity(dfs,\n",
    "                                                   force_refresh=False)\n",
    "\n",
    "dsi_metrics = creativity.analyze_dsi(dfs,\n",
    "                                     force_refresh=force_refresh,\n",
    "                                     target_words=scene_length)\n",
    "\n",
    "cohesion_metrics = cohesion.analyze_cohesion(dfs, messages_per_session=5, force_refresh=False)\n"
   ]
  },
  {
   "cell_type": "markdown",
   "id": "d8238bbc",
   "metadata": {},
   "source": [
    "# Plot"
   ]
  },
  {
   "cell_type": "code",
   "execution_count": 143,
   "id": "848fd433",
   "metadata": {},
   "outputs": [],
   "source": [
    "def plot_histogram(data,\n",
    "                   colors=None,\n",
    "                   edgecolor='none',\n",
    "                   alpha=0.5,\n",
    "                   colormap='viridis',\n",
    "                   xlabel=None,\n",
    "                   bins=None,\n",
    "                   log_bins=False,\n",
    "                   log_y=False,\n",
    "                   figsize=(4,4),\n",
    "                   ylabel=\"Counts\",\n",
    "                   labels=None):\n",
    "    \"\"\"\n",
    "    Plot histogram(s) with colors evenly spaced across a colormap.\n",
    "    \n",
    "    Parameters:\n",
    "    data: Single array/list OR list of arrays/lists to plot as histograms\n",
    "    colors (list): Specific colors (if None, uses colormap spacing)\n",
    "    edgecolor (str): Edge color for bars (default: 'none')\n",
    "    alpha (float): Transparency level (default: 0.5)\n",
    "    colormap (str): Colormap name (default: 'viridis')\n",
    "    xlabel (str): X-axis label (default: None, no label)\n",
    "    bins: Number of bins (default: None uses matplotlib default)\n",
    "    log_bins (bool): Use log-spaced bins and log x-axis (default: False)\n",
    "    log_y (bool): Use log scale for y-axis (default: False)\n",
    "    \"\"\"\n",
    "    plt.figure(figsize=figsize)\n",
    "\n",
    "    # Auto-detect if data is a single array or list of arrays\n",
    "    try:\n",
    "        if isinstance(data[0], (list, np.ndarray)):\n",
    "            data_list = data  # Already a list of arrays\n",
    "        else:\n",
    "            data_list = [data]  # Single array, wrap it in a list\n",
    "    except:\n",
    "        data_list = [data]\n",
    "\n",
    "    # Remove NaN values from all datasets\n",
    "    clean_data_list = []\n",
    "    for dataset in data_list:\n",
    "        clean_dataset = np.array(dataset)[~np.isnan(np.array(dataset))]\n",
    "        clean_data_list.append(clean_dataset)\n",
    "\n",
    "    n_plots = len(clean_data_list)\n",
    "\n",
    "    if colors is None:\n",
    "        cmap = cm.get_cmap(colormap)\n",
    "        if n_plots == 1:\n",
    "            colors = [cmap(0.5)]\n",
    "        else:\n",
    "            colors = [cmap(i / (n_plots - 1)) for i in range(n_plots)]\n",
    "\n",
    "    # Calculate common bins across all datasets (now NaN-free)\n",
    "    all_data = np.concatenate(clean_data_list)\n",
    "\n",
    "    if len(all_data) == 0:\n",
    "        raise ValueError(\"All data contains only NaN values\")\n",
    "\n",
    "    if log_bins:\n",
    "        # Filter out zeros and negatives for log scale\n",
    "        positive_data = all_data[all_data > 0]\n",
    "        if len(positive_data) == 0:\n",
    "            raise ValueError(\"log_bins=True requires positive values in data\")\n",
    "\n",
    "        min_val = np.min(positive_data)\n",
    "        max_val = np.max(positive_data)\n",
    "\n",
    "        if bins is None:\n",
    "            bins = 50  # Default number of log bins\n",
    "\n",
    "        common_bins = np.logspace(np.log10(min_val), np.log10(max_val), bins)\n",
    "    else:\n",
    "        # Linear bins\n",
    "        if bins is None:\n",
    "            bins = 50  # Default number of bins\n",
    "\n",
    "        min_val = np.min(all_data)\n",
    "        max_val = np.max(all_data)\n",
    "        common_bins = np.linspace(min_val, max_val, bins)\n",
    "\n",
    "    # Plot all histograms with the same bins (NaN-free data)\n",
    "    for i, dataset in enumerate(clean_data_list):\n",
    "        if labels is not None:\n",
    "            label = labels[i]\n",
    "        else:\n",
    "            label = None\n",
    "        plt.hist(dataset,\n",
    "                 bins=common_bins,\n",
    "                 color=colors[i],\n",
    "                 edgecolor=edgecolor,\n",
    "                 alpha=alpha,\n",
    "                 label=label)\n",
    "\n",
    "    # Set axis scales\n",
    "    if log_bins:\n",
    "        plt.xscale('log')\n",
    "\n",
    "    if log_y:\n",
    "        plt.yscale('log')\n",
    "\n",
    "    sns.despine()\n",
    "    plt.ylabel(ylabel)\n",
    "\n",
    "    if xlabel is not None:\n",
    "        plt.xlabel(xlabel)\n",
    "\n",
    "    # Style axes\n",
    "    ax = plt.gca()\n",
    "    ax.tick_params(colors='#4a4a4a', width=0.5)\n",
    "    ax.spines['left'].set_color('#4a4a4a')\n",
    "    ax.spines['left'].set_linewidth(0.5)\n",
    "    ax.spines['bottom'].set_color('#4a4a4a')\n",
    "    ax.spines['bottom'].set_linewidth(0.5)\n",
    "    ax.xaxis.label.set_color('#4a4a4a')\n",
    "    ax.yaxis.label.set_color('#4a4a4a')"
   ]
  },
  {
   "cell_type": "code",
   "execution_count": 153,
   "id": "50878e82",
   "metadata": {},
   "outputs": [
    {
     "name": "stdout",
     "output_type": "stream",
     "text": [
      "10391-guardians-of-gridori\n",
      "llm_campaign_10391-guardians-of-gridori_claude-3-5-sonnet-latest_no_players_20250812_145320\n",
      "llm_campaign_10391-guardians-of-gridori_claude-3-5-sonnet-latest_players_20250812_205654\n",
      "llm_campaign_10391-guardians-of-gridori_gpt-4o_no_players_20250812_124127\n",
      "llm_campaign_10391-guardians-of-gridori_gpt-4o_players_20250812_142021\n"
     ]
    }
   ],
   "source": [
    "names = list(dfs.keys())\n",
    "\n",
    "time_invervals_campaigns = []\n",
    "post_len_campaigns = []\n",
    "sbert_post_distances = []\n",
    "sbert_session_creativity = []\n",
    "cohesion_session_scores = []\n",
    "dsi_scenes = []\n",
    "for name in names:\n",
    "    print(name)\n",
    "\n",
    "    # get time interval distributions\n",
    "    time_invervals_campaigns.append(basic_metrics[name]['time_intervals_overall']['overall']['intervals_data'])\n",
    "\n",
    "    # get word count distritbutions\n",
    "    post_len_campaigns.append(basic_metrics[name]['post_lengths_overall']['overall']['word_counts_data'])\n",
    "\n",
    "    # get semantic distances (SBERT) distribtuions\n",
    "    sbert_post_distances.append(np.array(creativity_metrics[name]['semantic_distances']))\n",
    "\n",
    "    # sbert sessions\n",
    "    sbert_session_creativity.append(np.array(creativity_metrics[name]['session_novelty'][['mean_distance']]))\n",
    "\n",
    "    # get dsi distributions\n",
    "    dsi_scenes.append(dsi_metrics[name]['scene_dsi_scores'])\n",
    "\n",
    "    # get cohesion dists\n",
    "    if cohesion_metrics[name] is None:\n",
    "        cohesion_session_scores.append(np.array(np.nan))\n",
    "    else:\n",
    "        cohesion_session_scores.append(np.array(cohesion_metrics[name]['session_cohesion_scores']))\n",
    "\n",
    "    # plot time interval distributions per player\n",
    "    player_names = basic_metrics[name]['time_intervals_by_player'].keys()\n",
    "    time_intervals_player_list = []\n",
    "    for player_name in player_names:\n",
    "        time_intervals_player_list.append(\n",
    "            basic_metrics[name]['time_intervals_by_player'][player_name]\n",
    "            ['intervals_data'])\n",
    "    #plot_histogram(time_intervals_player_list, bins=50, xlabel='time invervals by player', colormap='magma')\n",
    "\n",
    "    # plot word count distributions per player\n",
    "    post_len_player_list = []\n",
    "    for player_name in player_names:\n",
    "        post_len_player_list.append(basic_metrics[name]['post_lengths_by_player'][player_name]['word_counts_data'])\n",
    "    #plot_histogram(post_len_player_list, bins=50, xlabel='post lengths by player', colormap='magma')\n",
    "\n",
    "\n",
    "#plot_histogram(time_invervals_campaigns, bins=50, xlabel='time intervals by campaign')\n",
    "#plot_histogram(post_len_campaigns, bins=50, xlabel='post len by campaign')\n",
    "#plot_histogram(sentence_session_distances, bins=30, xlabel='sbert by campaign')\n",
    "#plot_histogram(dsi_scenes, bins=50, xlabel='dsi by campaign')"
   ]
  },
  {
   "cell_type": "code",
   "execution_count": 145,
   "id": "a0443e16",
   "metadata": {},
   "outputs": [
    {
     "data": {
      "image/png": "[encoded data removed]",
      "text/plain": [
       "<Figure size 400x400 with 1 Axes>"
      ]
     },
     "metadata": {},
     "output_type": "display_data"
    }
   ],
   "source": [
    "plot_histogram(post_len_campaigns,\n",
    "               bins=50,\n",
    "               xlabel='post len by campaign',\n",
    "               labels=list(dfs.keys()))\n",
    "#plt.legend()"
   ]
  },
  {
   "cell_type": "code",
   "execution_count": null,
   "id": "f9d65718",
   "metadata": {},
   "outputs": [],
   "source": [
    "def plot_comparison_histograms(data, colors=None, edgecolor='none', alpha=0.5, colormap='viridis', \n",
    "                              xlabel=None, bins=None, log_bins=False, log_y=False, labels=None,\n",
    "                              figsize=None):\n",
    "    \"\"\"\n",
    "    Plot comparison histograms with the first dataset appearing in every subplot,\n",
    "    and each subsequent dataset compared against it in separate vertical subplots.\n",
    "    \n",
    "    Parameters:\n",
    "    data: List of arrays/lists (must have at least 2 datasets)\n",
    "    colors (list): Specific colors (if None, uses colormap spacing)\n",
    "    edgecolor (str): Edge color for bars (default: 'none')\n",
    "    alpha (float): Transparency level (default: 0.5)\n",
    "    colormap (str): Colormap name (default: 'viridis')\n",
    "    xlabel (str): X-axis label (default: None, no label)\n",
    "    bins: Number of bins (default: None uses matplotlib default)\n",
    "    log_bins (bool): Use log-spaced bins and log x-axis (default: False)\n",
    "    log_y (bool): Use log scale for y-axis (default: False)\n",
    "    labels (list): Labels for each dataset (default: None)\n",
    "    figsize (tuple): Figure size (width, height). If None, auto-calculated\n",
    "    \"\"\"\n",
    "    \n",
    "    # Validate input\n",
    "    if not isinstance(data, list) or len(data) < 2:\n",
    "        raise ValueError(\"data must be a list with at least 2 datasets\")\n",
    "    \n",
    "    # Auto-detect if data contains arrays or single values\n",
    "    data_list = []\n",
    "    for dataset in data:\n",
    "        try:\n",
    "            if isinstance(dataset[0], (list, np.ndarray)):\n",
    "                data_list.append(dataset)\n",
    "            else:\n",
    "                data_list.append(dataset)\n",
    "        except:\n",
    "            data_list.append(dataset)\n",
    "    \n",
    "    # Remove NaN values from all datasets\n",
    "    clean_data_list = []\n",
    "    for dataset in data_list:\n",
    "        clean_dataset = np.array(dataset)[~np.isnan(np.array(dataset))]\n",
    "        clean_data_list.append(clean_dataset)\n",
    "    \n",
    "    if any(len(dataset) == 0 for dataset in clean_data_list):\n",
    "        raise ValueError(\"One or more datasets contain only NaN values\")\n",
    "    \n",
    "    n_datasets = len(clean_data_list)\n",
    "    n_subplots = n_datasets - 1  # Number of comparison subplots\n",
    "    \n",
    "    # Set up figure size\n",
    "    if figsize is None:\n",
    "        figsize = (8, 3 * n_subplots)  # 3 inches height per subplot\n",
    "    \n",
    "    fig, axes = plt.subplots(n_subplots, 1, figsize=figsize, sharex=True)\n",
    "    \n",
    "    # Handle case where there's only one comparison (single axis)\n",
    "    if n_subplots == 1:\n",
    "        axes = [axes]\n",
    "    \n",
    "    # Set up colors\n",
    "    if colors is None:\n",
    "        cmap = cm.get_cmap(colormap)\n",
    "        if n_datasets == 1:\n",
    "            colors = [cmap(0.5)]\n",
    "        else:\n",
    "            colors = [cmap(i / (n_datasets - 1)) for i in range(n_datasets)]\n",
    "    \n",
    "    # Calculate common bins across all datasets\n",
    "    all_data = np.concatenate(clean_data_list)\n",
    "    \n",
    "    if log_bins:\n",
    "        # Filter out zeros and negatives for log scale\n",
    "        positive_data = all_data[all_data > 0]\n",
    "        if len(positive_data) == 0:\n",
    "            raise ValueError(\"log_bins=True requires positive values in data\")\n",
    "        \n",
    "        min_val = np.min(positive_data)\n",
    "        max_val = np.max(positive_data)\n",
    "        \n",
    "        if bins is None:\n",
    "            bins = 50\n",
    "        \n",
    "        common_bins = np.logspace(np.log10(min_val), np.log10(max_val), bins)\n",
    "    else:\n",
    "        # Linear bins\n",
    "        if bins is None:\n",
    "            bins = 50\n",
    "        \n",
    "        min_val = np.min(all_data)\n",
    "        max_val = np.max(all_data)\n",
    "        common_bins = np.linspace(min_val, max_val, bins)\n",
    "    \n",
    "    # Reference dataset (first one)\n",
    "    reference_data = clean_data_list[0]\n",
    "    reference_color = colors[0]\n",
    "    reference_label = labels[0] if labels is not None else \"Reference\"\n",
    "    \n",
    "    # Plot each comparison\n",
    "    for i in range(n_subplots):\n",
    "        ax = axes[i]\n",
    "        \n",
    "        # Current comparison dataset (i+1 because we skip the reference)\n",
    "        comparison_data = clean_data_list[i + 1]\n",
    "        comparison_color = colors[i + 1]\n",
    "        comparison_label = labels[i + 1] if labels is not None else f\"Dataset {i + 1}\"\n",
    "        \n",
    "        # Plot reference histogram (same in every subplot)\n",
    "        ax.hist(reference_data, bins=common_bins, color=reference_color, \n",
    "                edgecolor=edgecolor, alpha=alpha, label=reference_label)\n",
    "        \n",
    "        # Plot comparison histogram\n",
    "        ax.hist(comparison_data, bins=common_bins, color=comparison_color,\n",
    "                edgecolor=edgecolor, alpha=alpha, label=comparison_label)\n",
    "        \n",
    "        # Set axis scales\n",
    "        if log_bins:\n",
    "            ax.set_xscale('log')\n",
    "        \n",
    "        if log_y:\n",
    "            ax.set_yscale('log')\n",
    "        \n",
    "        # Style the subplot\n",
    "        sns.despine(ax=ax)\n",
    "        \n",
    "        # Only add ylabel to the middle subplot\n",
    "        if i == n_subplots // 2:\n",
    "            ax.set_ylabel(ylabel)\n",
    "        else:\n",
    "            ax.set_ylabel(\"\")\n",
    "        \n",
    "        # Don't add legend here - can be added outside function if needed\n",
    "        \n",
    "        # Style axes\n",
    "        ax.tick_params(colors='#4a4a4a', width=0.5)\n",
    "        ax.spines['left'].set_color('#4a4a4a')\n",
    "        ax.spines['left'].set_linewidth(0.5)\n",
    "        ax.spines['bottom'].set_color('#4a4a4a')\n",
    "        ax.spines['bottom'].set_linewidth(0.5)\n",
    "        ax.xaxis.label.set_color('#4a4a4a')\n",
    "        ax.yaxis.label.set_color('#4a4a4a')\n",
    "    \n",
    "    # Only add xlabel to the bottom subplot\n",
    "    if xlabel is not None:\n",
    "        axes[-1].set_xlabel(xlabel)\n",
    "    \n",
    "    # Adjust layout to prevent overlap\n",
    "    plt.tight_layout()\n",
    "    \n",
    "    # Set same y-limits for all subplots\n",
    "    # Find the maximum y-limit across all subplots\n",
    "    max_ylim = 0\n",
    "    for ax in axes:\n",
    "        current_ylim = ax.get_ylim()[1]\n",
    "        max_ylim = max(max_ylim, current_ylim)\n",
    "    \n",
    "    # Apply the same y-limit to all subplots\n",
    "    for ax in axes:\n",
    "        ax.set_ylim(0, max_ylim)\n",
    "    \n",
    "    return fig, axes"
   ]
  },
  {
   "cell_type": "code",
   "execution_count": 165,
   "id": "7782ec79",
   "metadata": {},
   "outputs": [
    {
     "data": {
      "image/png": "[encoded data removed]",
      "text/plain": [
       "<Figure size 300x400 with 4 Axes>"
      ]
     },
     "metadata": {},
     "output_type": "display_data"
    }
   ],
   "source": [
    "plot_comparison_histograms(\n",
    "    sbert_post_distances,  #post_len_campaigns,\n",
    "    bins=20,\n",
    "    xlabel='Creativity 2 \\nmean post distance',\n",
    "    figsize=(3, 4))\n",
    "\n",
    "plt.tight_layout()\n",
    "plt.savefig('single_creativity1.pdf', transparent=True)"
   ]
  },
  {
   "cell_type": "code",
   "execution_count": 167,
   "id": "2fd8424a",
   "metadata": {},
   "outputs": [
    {
     "data": {
      "text/plain": [
       "(<Figure size 300x400 with 4 Axes>,\n",
       " array([<Axes: >, <Axes: >, <Axes: ylabel='Counts'>,\n",
       "        <Axes: xlabel='Creativity 3 \\ndivergent semantic integration'>],\n",
       "       dtype=object))"
      ]
     },
     "execution_count": 167,
     "metadata": {},
     "output_type": "execute_result"
    },
    {
     "data": {
      "image/png": "[encoded data removed]",
      "text/plain": [
       "<Figure size 300x400 with 4 Axes>"
      ]
     },
     "metadata": {},
     "output_type": "display_data"
    }
   ],
   "source": [
    "plot_comparison_histograms(dsi_scenes,#post_len_campaigns,\n",
    "                           bins=20,\n",
    "                           xlabel='Creativity 3 \\ndivergent semantic integration',\n",
    "                           figsize=(3,4))"
   ]
  },
  {
   "cell_type": "code",
   "execution_count": 169,
   "id": "a0bce206",
   "metadata": {},
   "outputs": [
    {
     "data": {
      "text/plain": [
       "(<Figure size 200x400 with 4 Axes>,\n",
       " array([<Axes: >, <Axes: >, <Axes: ylabel='Counts'>,\n",
       "        <Axes: xlabel='Cohesion \\nmean Jaccard similarity'>], dtype=object))"
      ]
     },
     "execution_count": 169,
     "metadata": {},
     "output_type": "execute_result"
    },
    {
     "data": {
      "image/png": "[encoded data removed]",
      "text/plain": [
       "<Figure size 200x400 with 4 Axes>"
      ]
     },
     "metadata": {},
     "output_type": "display_data"
    }
   ],
   "source": [
    "plot_comparison_histograms(cohesion_session_scores,#post_len_campaigns,\n",
    "                           bins=20,\n",
    "                           xlabel='Cohesion \\nmean Jaccard similarity',\n",
    "                           figsize=(2,4))"
   ]
  },
  {
   "cell_type": "code",
   "execution_count": 170,
   "id": "b5628353",
   "metadata": {},
   "outputs": [
    {
     "data": {
      "text/plain": [
       "(<Figure size 200x400 with 4 Axes>,\n",
       " array([<Axes: >, <Axes: >, <Axes: ylabel='Counts'>,\n",
       "        <Axes: xlabel='Creativity 1 \\nmean session distance'>],\n",
       "       dtype=object))"
      ]
     },
     "execution_count": 170,
     "metadata": {},
     "output_type": "execute_result"
    },
    {
     "data": {
      "image/png": "[encoded data removed]",
      "text/plain": [
       "<Figure size 200x400 with 4 Axes>"
      ]
     },
     "metadata": {},
     "output_type": "display_data"
    }
   ],
   "source": [
    "plot_comparison_histograms(sbert_session_creativity,    #post_len_campaigns,\n",
    "                           bins=20,\n",
    "                           xlabel='Creativity 1 \\nmean session distance',\n",
    "                           figsize=(2,4))"
   ]
  },
  {
   "cell_type": "code",
   "execution_count": 171,
   "id": "30df0680",
   "metadata": {},
   "outputs": [
    {
     "data": {
      "text/plain": [
       "(<Figure size 200x400 with 4 Axes>,\n",
       " array([<Axes: >, <Axes: >, <Axes: ylabel='Counts'>,\n",
       "        <Axes: xlabel='Post length'>], dtype=object))"
      ]
     },
     "execution_count": 171,
     "metadata": {},
     "output_type": "execute_result"
    },
    {
     "data": {
      "image/png": "[encoded data removed]",
      "text/plain": [
       "<Figure size 200x400 with 4 Axes>"
      ]
     },
     "metadata": {},
     "output_type": "display_data"
    }
   ],
   "source": [
    "plot_comparison_histograms(post_len_campaigns,    #post_len_campaigns,\n",
    "                           bins=20,\n",
    "                           xlabel='Post length',\n",
    "                           figsize=(2,4))"
   ]
  },
  {
   "cell_type": "code",
   "execution_count": 152,
   "id": "600ecde4",
   "metadata": {},
   "outputs": [],
   "source": [
    "mean_sbert_session_creat = np.zeros(len(sbert_session_creativity))\n",
    "mean_cohesion_session = np.zeros(len(cohesion_session_scores))\n",
    "mean_sbert_post_distances = np.zeros(len(sbert_post_distances))\n",
    "\n",
    "for i in range(len(sbert_session_creativity)):\n",
    "    mean_sbert_session_creat[i] = np.mean(sbert_session_creativity[i])\n",
    "    mean_cohesion_session[i] = np.mean(cohesion_session_scores[i])\n",
    "    mean_sbert_post_distances[i] = np.nanmean(sbert_post_distances[i])"
   ]
  },
  {
   "cell_type": "code",
   "execution_count": 140,
   "id": "3ea96d1c",
   "metadata": {},
   "outputs": [
    {
     "data": {
      "image/png": "[encoded data removed]",
      "text/plain": [
       "<Figure size 200x150 with 1 Axes>"
      ]
     },
     "metadata": {},
     "output_type": "display_data"
    },
    {
     "data": {
      "image/png": "[encoded data removed]",
      "text/plain": [
       "<Figure size 200x150 with 1 Axes>"
      ]
     },
     "metadata": {},
     "output_type": "display_data"
    },
    {
     "data": {
      "image/png": "[encoded data removed]",
      "text/plain": [
       "<Figure size 200x150 with 1 Axes>"
      ]
     },
     "metadata": {},
     "output_type": "display_data"
    }
   ],
   "source": [
    "plt.rcParams.update({'font.size': 8})\n",
    "plot_histogram(mean_sbert_session_creat,\n",
    "               figsize=(2, 1.5),\n",
    "               bins=50,\n",
    "               alpha=0.8,\n",
    "               xlabel='Creativity 1 \\nmean session distance',\n",
    "               labels=list(dfs.keys()))\n",
    "plt.tight_layout()\n",
    "plt.savefig('creativity1.pdf', transparent=True)\n",
    "\n",
    "plot_histogram(mean_sbert_post_distances,\n",
    "               ylabel=\"   \",\n",
    "               figsize=(2, 1.5),\n",
    "               bins=50,\n",
    "               alpha=0.8,\n",
    "               xlabel='Creativity 2 \\nmean post distance',\n",
    "               labels=list(dfs.keys()))\n",
    "plt.tight_layout()\n",
    "plt.savefig('creativity2.pdf', transparent=True)\n",
    "\n",
    "plot_histogram(mean_cohesion_session,\n",
    "               ylabel=\"   \",\n",
    "               figsize=(2, 1.5),\n",
    "               bins=50,\n",
    "               alpha=0.8,\n",
    "               xlabel='Cohesion \\nmean Jaccard similarity',\n",
    "               labels=list(dfs.keys()))\n",
    "plt.tight_layout()\n",
    "plt.savefig('cohesion.pdf', transparent=True)"
   ]
  },
  {
   "cell_type": "code",
   "execution_count": 127,
   "id": "4389211b",
   "metadata": {},
   "outputs": [],
   "source": [
    "time_invervals_agg = np.concatenate(time_invervals_campaigns)\n",
    "post_lengths_agg = np.concatenate(post_len_campaigns)"
   ]
  },
  {
   "cell_type": "code",
   "execution_count": 135,
   "id": "2ef48085",
   "metadata": {},
   "outputs": [
    {
     "data": {
      "image/png": "[encoded data removed]",
      "text/plain": [
       "<Figure size 300x150 with 1 Axes>"
      ]
     },
     "metadata": {},
     "output_type": "display_data"
    },
    {
     "data": {
      "image/png": "[encoded data removed]",
      "text/plain": [
       "<Figure size 300x150 with 1 Axes>"
      ]
     },
     "metadata": {},
     "output_type": "display_data"
    }
   ],
   "source": [
    "plot_histogram(time_invervals_agg,\n",
    "               figsize=(3, 1.5),\n",
    "               log_y=True,\n",
    "               bins=70,\n",
    "               colors=[[.4, 0.57, .18]],\n",
    "               alpha=0.7,\n",
    "               log_bins=True,\n",
    "               xlabel='Time between posts (s)',\n",
    "               labels=list(dfs.keys()))\n",
    "plt.tight_layout()\n",
    "plt.savefig('time_intervals.pdf', transparent=True)\n",
    "\n",
    "plot_histogram(post_lengths_agg,\n",
    "               colors=[[.4, 0.57, .18]],\n",
    "               figsize=(3, 1.5),\n",
    "               alpha=0.7,\n",
    "               ylabel=\"   \",\n",
    "               log_y=True,\n",
    "               bins=70,\n",
    "               log_bins=True,\n",
    "               xlabel='Post length (# words)',\n",
    "               labels=list(dfs.keys()))\n",
    "plt.tight_layout()\n",
    "plt.savefig('post_lens.pdf', transparent=True)"
   ]
  },
  {
   "cell_type": "code",
   "execution_count": null,
   "id": "7ba538a8",
   "metadata": {},
   "outputs": [],
   "source": [
    "# save 5 plots\n",
    "# make the simple metrics in 1 color and more complex in another? teal and chartreuse? \n",
    "# fix the x axis labels\n",
    "# chartreuse (197,170,46)"
   ]
  }
 ],
 "metadata": {
  "kernelspec": {
   "display_name": "py312",
   "language": "python",
   "name": "python3"
  },
  "language_info": {
   "codemirror_mode": {
    "name": "ipython",
    "version": 3
   },
   "file_extension": ".py",
   "mimetype": "text/x-python",
   "name": "python",
   "nbconvert_exporter": "python",
   "pygments_lexer": "ipython3",
   "version": "3.12.11"
  }
 },
 "nbformat": 4,
 "nbformat_minor": 5
}
