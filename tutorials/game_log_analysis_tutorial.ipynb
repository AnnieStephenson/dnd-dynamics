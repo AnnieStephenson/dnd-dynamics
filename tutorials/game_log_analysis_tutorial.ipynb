{
 "cells": [
  {
   "cell_type": "markdown",
   "id": "2b2e54e0",
   "metadata": {},
   "source": [
    "# D&D Gameplay Log Analysis Tutorial\n",
    "\n",
    "This notebook demonstrates how to analyze Dungeons & Dragons gameplay logs"
   ]
  },
  {
   "cell_type": "code",
   "execution_count": 1,
   "id": "e4a2339e",
   "metadata": {},
   "outputs": [
    {
     "name": "stdout",
     "output_type": "stream",
     "text": [
      "✅ Anthropic API key loaded\n",
      "✅ OpenAI API key loaded\n",
      "✅ Gemini API key loaded\n",
      "Created plots directory: plots\n"
     ]
    }
   ],
   "source": [
    "# Import required libraries\n",
    "import json\n",
    "import pandas as pd\n",
    "import matplotlib.pyplot as plt\n",
    "from matplotlib import cm\n",
    "import seaborn as sns\n",
    "import numpy as np\n",
    "from datetime import datetime\n",
    "from pathlib import Path\n",
    "import warnings\n",
    "import os\n",
    "import sys\n",
    "import os\n",
    "import inspect\n",
    "from pathlib import Path\n",
    "warnings.filterwarnings('ignore')\n",
    "\n",
    "import analysis.data_loading as dl\n",
    "import analysis.basic_metrics as basic\n",
    "import analysis.creativity_metrics as creativity\n",
    "import analysis.cohesion_metrics as cohesion\n",
    "\n",
    "# Set up plotting style\n",
    "plt.style.use('default')\n",
    "sns.color_palette(\"mako\")\n",
    "plt.rcParams['figure.dpi'] = 100\n",
    "\n",
    "# Create Plots directory\n",
    "plots_dir = Path('plots')\n",
    "plots_dir.mkdir(exist_ok=True)\n",
    "print(f\"Created plots directory: {plots_dir}\")\n",
    "\n",
    "# Helper function for saving plots\n",
    "def save_plot(filename):\n",
    "    filepath = plots_dir / filename\n",
    "    plt.savefig(filepath, dpi=300, bbox_inches='tight')\n",
    "    print(f\"Saved: {filepath}\")"
   ]
  },
  {
   "cell_type": "markdown",
   "id": "3a9a3a96",
   "metadata": {},
   "source": [
    "# Set calculation parameters"
   ]
  },
  {
   "cell_type": "code",
   "execution_count": 2,
   "id": "fa6c81dc",
   "metadata": {},
   "outputs": [],
   "source": [
    "#CAMPAIGN_NAME = [\n",
    "#    '10391-guardians-of-gridori',\n",
    "#    'llm_campaign_10391-guardians-of-gridori_gemini-1.5-pro_no_players_scratch_20250817_183449',\n",
    "#    'llm_campaign_10391-guardians-of-gridori_gemini-1.5-pro_players_scratch_20250817_181454',\n",
    "#    'llm_campaign_10391-guardians-of-gridori_claude-3-7-sonnet-latest_no_players_scratch_20250815_090708',\n",
    "#    'llm_campaign_10391-guardians-of-gridori_claude-3-7-sonnet-latest_players_scratch_20250814_143138',\n",
    "#    'llm_campaign_10391-guardians-of-gridori_gpt-4o_no_players_scratch_20250814_131744',\n",
    "#    'llm_campaign_10391-guardians-of-gridori_gpt-4o_players_scratch_20250814_122435'\n",
    "#]\n",
    "\n",
    "#CAMPAIGN_NAME = [\n",
    "#    '90630-firecat5s-dragon-of-icespire-peak',\n",
    "#    'llm_campaign_90630-firecat5s-dragon-of-icespire-peak_claude-3-7-sonnet-latest_no_players_scratch_20250815_234149',\n",
    "#    'llm_campaign_90630-firecat5s-dragon-of-icespire-peak_claude-3-7-sonnet-latest_players_scratch_20250815_204211',\n",
    "#    'llm_campaign_90630-firecat5s-dragon-of-icespire-peak_gpt-4o_no_players_scratch_20250815_101602',\n",
    "#    'llm_campaign_90630-firecat5s-dragon-of-icespire-peak_gpt-4o_players_scratch_20250814_153319'\n",
    "#]\n",
    "\n",
    "\n",
    "CAMPAIGN_NAME = [\n",
    "    # HUMAN\n",
    "    '1262-firedeath-must-die-closed-play-by-post-open-ogg',\n",
    "    '3135-the-head-of-the-serpent',\n",
    "    '10391-guardians-of-gridori',\n",
    "    '20049-age-of-death',\n",
    "    '89221-banhaven-academy-year-1',\n",
    "    '90630-firecat5s-dragon-of-icespire-peak',\n",
    "    '7426-serpent-isle-private-campaign',\n",
    "\n",
    "    # no players gemini\n",
    "    'llm_campaign_1262-firedeath-must-die-closed-play-by-post-open-ogg_gemini-1.5-pro_no_players_scratch_20250818_204449',\n",
    "    'llm_campaign_3135-the-head-of-the-serpent_gemini-1.5-pro_no_players_scratch_20250818_160148',\n",
    "    'llm_campaign_10391-guardians-of-gridori_gemini-1.5-pro_no_players_scratch_20250817_183449',\n",
    "    'llm_campaign_20049-age-of-death_gemini-1.5-pro_no_players_scratch_20250818_130018',\n",
    "    'llm_campaign_89221-banhaven-academy-year-1_gemini-1.5-pro_no_players_scratch_20250818_163025',\n",
    "    'llm_campaign_90630-firecat5s-dragon-of-icespire-peak_gemini-1.5-pro_no_players_scratch_20250818_095237',\n",
    "    'llm_campaign_7426-serpent-isle-private-campaign_gemini-1.5-pro_no_players_scratch_20250818_132838',\n",
    "\n",
    "    # players gemini\n",
    "    'llm_campaign_1262-firedeath-must-die-closed-play-by-post-open-ogg_gemini-1.5-pro_players_scratch_20250818_145631',\n",
    "    'llm_campaign_3135-the-head-of-the-serpent_gemini-1.5-pro_players_scratch_20250818_153052',\n",
    "    'llm_campaign_10391-guardians-of-gridori_gemini-1.5-pro_players_scratch_20250817_181454',\n",
    "    'llm_campaign_20049-age-of-death_gemini-1.5-pro_players_scratch_20250818_122503',\n",
    "    'llm_campaign_89221-banhaven-academy-year-1_gemini-1.5-pro_players_scratch_20250818_190918',\n",
    "    'llm_campaign_90630-firecat5s-dragon-of-icespire-peak_gemini-1.5-pro_players_scratch_20250818_103347',\n",
    "    'llm_campaign_7426-serpent-isle-private-campaign_gemini-1.5-pro_players_scratch_20250818_133539',\n",
    "\n",
    "    # no players claude\n",
    "    'llm_campaign_1262-firedeath-must-die-closed-play-by-post-open-ogg_claude-3-7-sonnet-latest_no_players_scratch_20250819_110000',\n",
    "    'llm_campaign_3135-the-head-of-the-serpent_claude-3-7-sonnet-latest_no_players_scratch_20250819_153636',\n",
    "    'llm_campaign_10391-guardians-of-gridori_claude-3-7-sonnet-latest_no_players_scratch_20250815_090708',\n",
    "    'llm_campaign_89221-banhaven-academy-year-1_claude-3-7-sonnet-latest_no_players_scratch_20250818_192211',\n",
    "    'llm_campaign_20049-age-of-death_claude-3-7-sonnet-latest_no_players_scratch_20250818_133738',\n",
    "    'llm_campaign_90630-firecat5s-dragon-of-icespire-peak_claude-3-7-sonnet-latest_no_players_scratch_20250815_234149',\n",
    "    'llm_campaign_7426-serpent-isle-private-campaign_claude-3-7-sonnet-latest_no_players_scratch_20250818_141059',\n",
    "\n",
    "    # players claude\n",
    "    'llm_campaign_1262-firedeath-must-die-closed-play-by-post-open-ogg_claude-3-7-sonnet-latest_players_scratch_20250819_132210',\n",
    "    'llm_campaign_3135-the-head-of-the-serpent_claude-3-7-sonnet-latest_players_scratch_20250818_154911',\n",
    "    'llm_campaign_10391-guardians-of-gridori_claude-3-7-sonnet-latest_players_scratch_20250814_143138',\n",
    "    'llm_campaign_20049-age-of-death_claude-3-7-sonnet-latest_players_scratch_20250818_120952',\n",
    "    'llm_campaign_89221-banhaven-academy-year-1_claude-3-7-sonnet-latest_players_scratch_20250819_205318',\n",
    "    'llm_campaign_90630-firecat5s-dragon-of-icespire-peak_claude-3-7-sonnet-latest_players_scratch_20250815_204211',\n",
    "    'llm_campaign_7426-serpent-isle-private-campaign_claude-3-7-sonnet-latest_players_scratch_20250818_143900',\n",
    "\n",
    "    # no players chatgpt\n",
    "    'llm_campaign_1262-firedeath-must-die-closed-play-by-post-open-ogg_gpt-4o_no_players_scratch_20250816_110159',\n",
    "    'llm_campaign_3135-the-head-of-the-serpent_gpt-4o_no_players_scratch_20250816_190300',\n",
    "    'llm_campaign_10391-guardians-of-gridori_gpt-4o_no_players_scratch_20250814_131744',\n",
    "    'llm_campaign_89221-banhaven-academy-year-1_gpt-4o_no_players_scratch_20250816_183355',\n",
    "    'llm_campaign_20049-age-of-death_gpt-4o_no_players_scratch_20250816_213933',\n",
    "    'llm_campaign_90630-firecat5s-dragon-of-icespire-peak_gpt-4o_no_players_scratch_20250815_101602',\n",
    "    'llm_campaign_7426-serpent-isle-private-campaign_gpt-4o_no_players_scratch_20250817_100448',\n",
    "\n",
    "    # players chatgpt\n",
    "    'llm_campaign_1262-firedeath-must-die-closed-play-by-post-open-ogg_gpt-4o_players_scratch_20250816_125646',\n",
    "    'llm_campaign_3135-the-head-of-the-serpent_gpt-4o_players_scratch_20250816_194054',\n",
    "    'llm_campaign_10391-guardians-of-gridori_gpt-4o_players_scratch_20250814_122435',\n",
    "    'llm_campaign_20049-age-of-death_gpt-4o_players_scratch_20250816_212424',\n",
    "    'llm_campaign_89221-banhaven-academy-year-1_gpt-4o_players_scratch_20250816_140525',\n",
    "    'llm_campaign_90630-firecat5s-dragon-of-icespire-peak_gpt-4o_players_scratch_20250814_153319',\n",
    "    'llm_campaign_7426-serpent-isle-private-campaign_gpt-4o_players_scratch_20250817_101144'\n",
    "]\n",
    "\n",
    "\n",
    "source = CAMPAIGN_NAME\n",
    "source = 'human'\n",
    "max_campaigns = 985#969\n",
    "messages_per_session = 5\n",
    "force_refresh = False\n",
    "scene_length = 175"
   ]
  },
  {
   "cell_type": "markdown",
   "id": "9a10fe79",
   "metadata": {},
   "source": [
    "# Calculate game log analyses"
   ]
  },
  {
   "cell_type": "code",
   "execution_count": null,
   "id": "475360e2",
   "metadata": {},
   "outputs": [
    {
     "name": "stdout",
     "output_type": "stream",
     "text": [
      "📂 Loading campaigns from individual files in /Users/annie/Code/Repositories/dnd-dynamics/data/raw-human-games/individual_campaigns\n",
      "📊 Found 985 campaign files\n",
      "🎯 Loading first 985 campaigns (max_campaigns=985)\n"
     ]
    },
    {
     "name": "stderr",
     "output_type": "stream",
     "text": [
      "Loading campaigns:   0%|          | 0/985 [00:00<?, ?it/s]"
     ]
    },
    {
     "name": "stdout",
     "output_type": "stream",
     "text": [
      "📚 Loaded manual corrections for 1 campaigns\n",
      "🔧 Applying corrections to campaign: 10391-guardians-of-gridori\n",
      "✅ Corrections completed for campaign: 10391-guardians-of-gridori\n",
      "📚 Loaded manual corrections for 1 campaigns\n",
      "🔧 Applying corrections to campaign: 10625-wrath-of-ashardalon\n",
      "⚠️ Character name conflict: 'Dhel' used by players ['LightSpeed', 'dryadgrl13']\n",
      "🔄 Player LightSpeed: 'Dhel' → 'Menus'\n"
     ]
    },
    {
     "name": "stderr",
     "output_type": "stream",
     "text": [
      "Loading campaigns:   0%|          | 2/985 [00:01<12:10,  1.35it/s]"
     ]
    },
    {
     "name": "stdout",
     "output_type": "stream",
     "text": [
      "✅ Player dryadgrl13: 'Dhel' (confirmed correct)\n",
      "✅ Corrections completed for campaign: 10625-wrath-of-ashardalon\n",
      "📚 Loaded manual corrections for 1 campaigns\n",
      "🔧 Applying corrections to campaign: 10639-the-crypt-of-the-dreaming-dead\n",
      "✅ Corrections completed for campaign: 10639-the-crypt-of-the-dreaming-dead\n"
     ]
    },
    {
     "name": "stderr",
     "output_type": "stream",
     "text": [
      "Loading campaigns:   0%|          | 3/985 [00:01<09:39,  1.69it/s]"
     ]
    },
    {
     "name": "stdout",
     "output_type": "stream",
     "text": [
      "📚 Loaded manual corrections for 1 campaigns\n",
      "🔧 Applying corrections to campaign: 10672-whispers-of-dissent\n",
      "⚠️ Character name conflict: 'Lera' used by players ['DungeonMaya', 'DungeonDad']\n",
      "✅ Player DungeonMaya: 'Lera' (confirmed correct)\n",
      "🔄 Player DungeonDad: 'Lera' → 'Zamar'\n",
      "✅ Corrections completed for campaign: 10672-whispers-of-dissent\n"
     ]
    },
    {
     "name": "stderr",
     "output_type": "stream",
     "text": [
      "Loading campaigns:   0%|          | 4/985 [00:03<16:06,  1.02it/s]"
     ]
    },
    {
     "name": "stdout",
     "output_type": "stream",
     "text": [
      "📚 Loaded manual corrections for 1 campaigns\n",
      "🔧 Applying corrections to campaign: 10826-ye-ol-yarn-spun-legend\n",
      "⚠️ Character name conflict: 'Hjol' used by players ['TheGmoat', 'ArgentTheWise']\n",
      "🔄 Player TheGmoat: 'Hjol' → 'Hjolmond'\n"
     ]
    },
    {
     "name": "stderr",
     "output_type": "stream",
     "text": [
      "Loading campaigns:   1%|          | 5/985 [00:04<17:57,  1.10s/it]"
     ]
    },
    {
     "name": "stdout",
     "output_type": "stream",
     "text": [
      "🔄 Player ArgentTheWise: 'Hjol' → 'Mythanthar Falynn'\n",
      "✅ Corrections completed for campaign: 10826-ye-ol-yarn-spun-legend\n",
      "📚 Loaded manual corrections for 1 campaigns\n",
      "🔧 Applying corrections to campaign: 11146-tomb-of-annihilation-4pbp\n",
      "✅ Corrections completed for campaign: 11146-tomb-of-annihilation-4pbp\n"
     ]
    },
    {
     "name": "stderr",
     "output_type": "stream",
     "text": [
      "Loading campaigns:   1%|          | 7/985 [00:05<10:53,  1.50it/s]"
     ]
    },
    {
     "name": "stdout",
     "output_type": "stream",
     "text": [
      "📚 Loaded manual corrections for 1 campaigns\n",
      "🔧 Applying corrections to campaign: 11153-in-the-shadows-of-a-stone-titan\n",
      "✅ Corrections completed for campaign: 11153-in-the-shadows-of-a-stone-titan\n",
      "📚 Loaded manual corrections for 1 campaigns\n",
      "🔧 Applying corrections to campaign: 11414-classic-crawl-the-lost-city\n",
      "✅ Corrections completed for campaign: 11414-classic-crawl-the-lost-city\n"
     ]
    },
    {
     "name": "stderr",
     "output_type": "stream",
     "text": [
      "Loading campaigns:   1%|          | 9/985 [00:05<06:27,  2.52it/s]"
     ]
    },
    {
     "name": "stdout",
     "output_type": "stream",
     "text": [
      "📚 Loaded manual corrections for 1 campaigns\n",
      "🔧 Applying corrections to campaign: 11531-legacy-of-the-ascended-ic-thread\n",
      "✅ Corrections completed for campaign: 11531-legacy-of-the-ascended-ic-thread\n",
      "📚 Loaded manual corrections for 1 campaigns\n",
      "🔧 Applying corrections to campaign: 11642-cellar-of-death-group-already-full\n",
      "⚠️ Character name conflict: 'Helga' used by players ['TinForged', 'SentientSpellbook']\n",
      "🔄 Player TinForged: 'Helga' → 'Malamus'\n"
     ]
    },
    {
     "name": "stderr",
     "output_type": "stream",
     "text": [
      "Loading campaigns:   1%|▏         | 13/985 [00:07<05:19,  3.04it/s]"
     ]
    },
    {
     "name": "stdout",
     "output_type": "stream",
     "text": [
      "🔄 Player SentientSpellbook: 'Helga' → 'Yllcerys'\n",
      "✅ Corrections completed for campaign: 11642-cellar-of-death-group-already-full\n",
      "📚 Loaded manual corrections for 1 campaigns\n",
      "🔧 Applying corrections to campaign: 11752-prison-break\n",
      "✅ Corrections completed for campaign: 11752-prison-break\n",
      "📚 Loaded manual corrections for 1 campaigns\n",
      "🔧 Applying corrections to campaign: 11767-goblins-the-nightrot-clan-ballad\n",
      "✅ Corrections completed for campaign: 11767-goblins-the-nightrot-clan-ballad\n",
      "📚 Loaded manual corrections for 1 campaigns\n",
      "🔧 Applying corrections to campaign: 11871-the-land-of-enlightenment-1-0-homebrew\n",
      "✅ Corrections completed for campaign: 11871-the-land-of-enlightenment-1-0-homebrew\n",
      "📚 Loaded manual corrections for 1 campaigns\n",
      "🔧 Applying corrections to campaign: 11878-the-wildlands-of-etheryl\n",
      "✅ Corrections completed for campaign: 11878-the-wildlands-of-etheryl\n",
      "📚 Loaded manual corrections for 1 campaigns\n",
      "🔧 Applying corrections to campaign: 11910-pillagers-of-ixalan-ic\n",
      "⚠️ Character name conflict: 'Polly' used by players ['Karpmageddon', 'JcAndD']\n",
      "🔄 Player Karpmageddon: 'Polly' → 'Grifhook'\n"
     ]
    },
    {
     "name": "stderr",
     "output_type": "stream",
     "text": [
      "Loading campaigns:   2%|▏         | 15/985 [00:08<07:36,  2.13it/s]"
     ]
    },
    {
     "name": "stdout",
     "output_type": "stream",
     "text": [
      "✅ Player JcAndD: 'Polly' (confirmed correct)\n",
      "✅ Corrections completed for campaign: 11910-pillagers-of-ixalan-ic\n",
      "📚 Loaded manual corrections for 1 campaigns\n",
      "🔧 Applying corrections to campaign: 11940-legerdemain-a-little-hocus-pocus\n",
      "✅ Corrections completed for campaign: 11940-legerdemain-a-little-hocus-pocus\n",
      "📚 Loaded manual corrections for 1 campaigns\n",
      "🔧 Applying corrections to campaign: 11998-5e-rise-of-the-runelords-ic-spanish\n",
      "✅ Corrections completed for campaign: 11998-5e-rise-of-the-runelords-ic-spanish\n"
     ]
    },
    {
     "name": "stderr",
     "output_type": "stream",
     "text": [
      "Loading campaigns:   2%|▏         | 17/985 [00:09<06:09,  2.62it/s]"
     ]
    },
    {
     "name": "stdout",
     "output_type": "stream",
     "text": [
      "📚 Loaded manual corrections for 1 campaigns\n",
      "🔧 Applying corrections to campaign: 12007-the-glory-of-the-coliseum-always-recruiting\n",
      "🗑️ Removing single-post characters: ['Talmich', 'Kogu', '’ve', 'Vagabon', \"Sel'eman\", 'Kulum', 'Glacia', 'Zeekrik']\n",
      "⚠️ Character name conflict: 'Shmitty' used by players ['Lawdawg', 'Keneux']\n",
      "⚠️ Character name conflict: 'Rothander' used by players ['Desmond_II', 'Hillbilly79']\n",
      "⚠️ Character name conflict: 'Morthos' used by players ['FrenchyTheDM', 'DarkBlood87']\n",
      "⚠️ Character name conflict: 'Orileo' used by players ['TheAnvil', 'ThalaiDawncaller']\n",
      "✅ Player Lawdawg: 'Shmitty' (confirmed correct)\n",
      "🔄 Player Keneux: 'Shmitty' → 'Swigg'\n",
      "✅ Player Desmond_II: 'Rothander' (confirmed correct)\n",
      "🔄 Player Hillbilly79: 'Rothander' → 'Paren'\n",
      "✅ Player FrenchyTheDM: 'Morthos' (confirmed correct)\n",
      "🔄 Player DarkBlood87: 'Morthos' → 'Talmich'\n",
      "🔄 Player TheAnvil: 'Orileo' → 'J-94'\n",
      "🔄 Player ThalaiDawncaller: 'Orileo' → 'Apium Graveolens'\n",
      "✅ Corrections completed for campaign: 12007-the-glory-of-the-coliseum-always-recruiting\n"
     ]
    },
    {
     "name": "stderr",
     "output_type": "stream",
     "text": [
      "Loading campaigns:   2%|▏         | 18/985 [00:16<26:26,  1.64s/it]"
     ]
    },
    {
     "name": "stdout",
     "output_type": "stream",
     "text": [
      "📚 Loaded manual corrections for 1 campaigns\n",
      "🔧 Applying corrections to campaign: 12013-tarvyns-world-of-magnificent-wonders-and-oddities\n",
      "✅ Corrections completed for campaign: 12013-tarvyns-world-of-magnificent-wonders-and-oddities\n",
      "📚 Loaded manual corrections for 1 campaigns\n",
      "🔧 Applying corrections to campaign: 12089-the-tavern-casual-rp-socializing\n",
      "⚠️ Character name conflict: 'Og' used by players ['featherhalf', 'Necmo']\n",
      "⚠️ Character name conflict: 'Morgan' used by players ['Bandersnatch22', 'NeoMagus']\n",
      "🔄 Player featherhalf: 'Og' → 'Gyro'\n",
      "🔄 Player Necmo: 'Og' → 'Ogoth Kinshield'\n",
      "🔄 Player Bandersnatch22: 'Morgan' → 'Sorrow’s Clutch'\n"
     ]
    },
    {
     "name": "stderr",
     "output_type": "stream",
     "text": [
      "Loading campaigns:   2%|▏         | 20/985 [00:19<26:57,  1.68s/it]"
     ]
    },
    {
     "name": "stdout",
     "output_type": "stream",
     "text": [
      "✅ Player NeoMagus: 'Morgan' (confirmed correct)\n",
      "✅ Corrections completed for campaign: 12089-the-tavern-casual-rp-socializing\n",
      "📚 Loaded manual corrections for 1 campaigns\n",
      "🔧 Applying corrections to campaign: 12120-a-rough-night\n",
      "✅ Corrections completed for campaign: 12120-a-rough-night\n"
     ]
    },
    {
     "name": "stderr",
     "output_type": "stream",
     "text": [
      "Loading campaigns:   2%|▏         | 22/985 [00:19<17:28,  1.09s/it]"
     ]
    },
    {
     "name": "stdout",
     "output_type": "stream",
     "text": [
      "📚 Loaded manual corrections for 1 campaigns\n",
      "🔧 Applying corrections to campaign: 12136-plunge-into-the-underdark\n",
      "✅ Corrections completed for campaign: 12136-plunge-into-the-underdark\n",
      "📚 Loaded manual corrections for 1 campaigns\n",
      "🔧 Applying corrections to campaign: 12251-rogue-monsters-in-game-thread\n",
      "✅ Corrections completed for campaign: 12251-rogue-monsters-in-game-thread\n",
      "📚 Loaded manual corrections for 1 campaigns\n",
      "🔧 Applying corrections to campaign: 12296-atriaxs-return\n",
      "✅ Corrections completed for campaign: 12296-atriaxs-return\n"
     ]
    },
    {
     "name": "stderr",
     "output_type": "stream",
     "text": [
      "Loading campaigns:   3%|▎         | 25/985 [00:20<09:26,  1.70it/s]"
     ]
    },
    {
     "name": "stdout",
     "output_type": "stream",
     "text": [
      "📚 Loaded manual corrections for 1 campaigns\n",
      "🔧 Applying corrections to campaign: 12394-monster-hunters\n",
      "✅ Corrections completed for campaign: 12394-monster-hunters\n",
      "📚 Loaded manual corrections for 1 campaigns\n",
      "🔧 Applying corrections to campaign: 12511-critical-role-demons-and-derolos\n",
      "⚠️ Character name conflict: 'Calder' used by players ['Saute_Monkey', 'terasques']\n",
      "✅ Player Saute_Monkey: 'Calder' (confirmed correct)\n"
     ]
    },
    {
     "name": "stderr",
     "output_type": "stream",
     "text": [
      "Loading campaigns:   3%|▎         | 26/985 [00:21<12:45,  1.25it/s]"
     ]
    },
    {
     "name": "stdout",
     "output_type": "stream",
     "text": [
      "✅ Player terasques: 'Calder' (confirmed correct)\n",
      "✅ Corrections completed for campaign: 12511-critical-role-demons-and-derolos\n",
      "📚 Loaded manual corrections for 1 campaigns\n",
      "🔧 Applying corrections to campaign: 12528-tieflings-of-annihilation\n",
      "✅ Corrections completed for campaign: 12528-tieflings-of-annihilation\n"
     ]
    },
    {
     "name": "stderr",
     "output_type": "stream",
     "text": [
      "Loading campaigns:   3%|▎         | 27/985 [00:22<11:19,  1.41it/s]"
     ]
    },
    {
     "name": "stdout",
     "output_type": "stream",
     "text": [
      "📚 Loaded manual corrections for 1 campaigns\n",
      "🔧 Applying corrections to campaign: 12554-dungeons-and-jumaji\n",
      "✅ Corrections completed for campaign: 12554-dungeons-and-jumaji\n",
      "📚 Loaded manual corrections for 1 campaigns\n",
      "🔧 Applying corrections to campaign: 1262-firedeath-must-die-closed-play-by-post-open-ogg\n",
      "📝 Applying manual character corrections: {'FaeDra': 'Rylei Dreemurr'}\n",
      "🗑️ Removing single-post characters: ['Sry']\n",
      "⚠️ Character name conflict: 'Argo' used by players ['Mutant_vapes27', 'Stubbazubba']\n",
      "🔄 Player Mutant_vapes27: 'Argo' → 'Dro Coborel'\n"
     ]
    },
    {
     "name": "stderr",
     "output_type": "stream",
     "text": [
      "Loading campaigns:   3%|▎         | 30/985 [00:23<09:29,  1.68it/s]"
     ]
    },
    {
     "name": "stdout",
     "output_type": "stream",
     "text": [
      "✅ Player Stubbazubba: 'Argo' (confirmed correct)\n",
      "✅ Corrections completed for campaign: 1262-firedeath-must-die-closed-play-by-post-open-ogg\n",
      "📚 Loaded manual corrections for 1 campaigns\n",
      "🔧 Applying corrections to campaign: 12783-chosen-homebrew-monster-hunters\n",
      "✅ Corrections completed for campaign: 12783-chosen-homebrew-monster-hunters\n",
      "📚 Loaded manual corrections for 1 campaigns\n",
      "🔧 Applying corrections to campaign: 12878-eon-survival-at-sea\n",
      "✅ Corrections completed for campaign: 12878-eon-survival-at-sea\n"
     ]
    },
    {
     "name": "stderr",
     "output_type": "stream",
     "text": [
      "Loading campaigns:   3%|▎         | 33/985 [00:24<06:07,  2.59it/s]"
     ]
    },
    {
     "name": "stdout",
     "output_type": "stream",
     "text": [
      "📚 Loaded manual corrections for 1 campaigns\n",
      "🔧 Applying corrections to campaign: 13123-the-land-of-woes\n",
      "✅ Corrections completed for campaign: 13123-the-land-of-woes\n",
      "📚 Loaded manual corrections for 1 campaigns\n",
      "🔧 Applying corrections to campaign: 13138-dreams-of-dagon-in-game-play\n",
      "✅ Corrections completed for campaign: 13138-dreams-of-dagon-in-game-play\n",
      "📚 Loaded manual corrections for 1 campaigns\n",
      "🔧 Applying corrections to campaign: 13139-dreams-of-dagon-game-discussion\n",
      "⚠️ Character name conflict: 'Adoy' used by players ['Kolbitr', 'Synthil']\n",
      "✅ Player Kolbitr: 'Adoy' (confirmed correct)\n"
     ]
    },
    {
     "name": "stderr",
     "output_type": "stream",
     "text": [
      "Loading campaigns:   3%|▎         | 34/985 [00:26<10:03,  1.58it/s]"
     ]
    },
    {
     "name": "stdout",
     "output_type": "stream",
     "text": [
      "🔄 Player Synthil: 'Adoy' → 'Ayoola'\n",
      "✅ Corrections completed for campaign: 13139-dreams-of-dagon-game-discussion\n",
      "📚 Loaded manual corrections for 1 campaigns\n",
      "🔧 Applying corrections to campaign: 13174-dragon-of-autumn-icc\n",
      "⚠️ Character name conflict: 'Geoff' used by players ['NerdOrNot', 'Necmo']\n",
      "🔄 Player NerdOrNot: 'Geoff' → 'Tyrros'\n"
     ]
    },
    {
     "name": "stderr",
     "output_type": "stream",
     "text": [
      "Loading campaigns:   4%|▎         | 35/985 [00:27<13:44,  1.15it/s]"
     ]
    },
    {
     "name": "stdout",
     "output_type": "stream",
     "text": [
      "🔄 Player Necmo: 'Geoff' → 'Xorn'\n",
      "✅ Corrections completed for campaign: 13174-dragon-of-autumn-icc\n",
      "📚 Loaded manual corrections for 1 campaigns\n",
      "🔧 Applying corrections to campaign: 13325-lost-magics-epic-of-pre-made-proportions\n",
      "⚠️ Character name conflict: 'Morgan' used by players ['NeoMagus', 'FrandalSilvereyes']\n",
      "✅ Player NeoMagus: 'Morgan' (confirmed correct)\n",
      "🔄 Player FrandalSilvereyes: 'Morgan' → 'Cyrnair Thonrar'\n",
      "✅ Corrections completed for campaign: 13325-lost-magics-epic-of-pre-made-proportions\n"
     ]
    },
    {
     "name": "stderr",
     "output_type": "stream",
     "text": [
      "Loading campaigns:   4%|▎         | 36/985 [00:29<18:02,  1.14s/it]"
     ]
    },
    {
     "name": "stdout",
     "output_type": "stream",
     "text": [
      "📚 Loaded manual corrections for 1 campaigns\n",
      "🔧 Applying corrections to campaign: 13340-temple-of-ishassara\n",
      "✅ Corrections completed for campaign: 13340-temple-of-ishassara\n"
     ]
    },
    {
     "name": "stderr",
     "output_type": "stream",
     "text": [
      "Loading campaigns:   4%|▍         | 37/985 [00:30<15:51,  1.00s/it]"
     ]
    },
    {
     "name": "stdout",
     "output_type": "stream",
     "text": [
      "📚 Loaded manual corrections for 1 campaigns\n",
      "🔧 Applying corrections to campaign: 13431-the-fake-one\n",
      "⚠️ Character name conflict: 'Gar' used by players ['DirtyDogP', 'Spiritgoyle']\n",
      "🔄 Player DirtyDogP: 'Gar' → 'Hob'\n"
     ]
    },
    {
     "name": "stderr",
     "output_type": "stream",
     "text": [
      "Loading campaigns:   4%|▍         | 38/985 [00:31<17:16,  1.10s/it]"
     ]
    },
    {
     "name": "stdout",
     "output_type": "stream",
     "text": [
      "✅ Player Spiritgoyle: 'Gar' (confirmed correct)\n",
      "✅ Corrections completed for campaign: 13431-the-fake-one\n",
      "📚 Loaded manual corrections for 1 campaigns\n",
      "🔧 Applying corrections to campaign: 13445-lost-mine-of-phandelver-revised\n",
      "🗑️ Removing single-post characters: ['Ivellios Tallwood']\n",
      "✅ Corrections completed for campaign: 13445-lost-mine-of-phandelver-revised\n"
     ]
    },
    {
     "name": "stderr",
     "output_type": "stream",
     "text": [
      "Loading campaigns:   4%|▍         | 39/985 [00:31<13:46,  1.14it/s]"
     ]
    },
    {
     "name": "stdout",
     "output_type": "stream",
     "text": [
      "📚 Loaded manual corrections for 1 campaigns\n",
      "🔧 Applying corrections to campaign: 13483-princes-of-the-apocalypse\n",
      "✅ Corrections completed for campaign: 13483-princes-of-the-apocalypse\n"
     ]
    },
    {
     "name": "stderr",
     "output_type": "stream",
     "text": [
      "Loading campaigns:   4%|▍         | 40/985 [00:32<10:54,  1.44it/s]"
     ]
    },
    {
     "name": "stdout",
     "output_type": "stream",
     "text": [
      "📚 Loaded manual corrections for 1 campaigns\n",
      "🔧 Applying corrections to campaign: 13503-glory-or-revenge\n",
      "✅ Corrections completed for campaign: 13503-glory-or-revenge\n",
      "📚 Loaded manual corrections for 1 campaigns\n",
      "🔧 Applying corrections to campaign: 13513-storm-kings-thunder\n",
      "✅ Corrections completed for campaign: 13513-storm-kings-thunder\n"
     ]
    },
    {
     "name": "stderr",
     "output_type": "stream",
     "text": [
      "Loading campaigns:   4%|▍         | 42/985 [00:32<06:51,  2.29it/s]"
     ]
    },
    {
     "name": "stdout",
     "output_type": "stream",
     "text": [
      "📚 Loaded manual corrections for 1 campaigns\n",
      "🔧 Applying corrections to campaign: 13626-the-dragon-prince\n",
      "✅ Corrections completed for campaign: 13626-the-dragon-prince\n",
      "📚 Loaded manual corrections for 1 campaigns\n",
      "🔧 Applying corrections to campaign: 13844-lost-mine-of-phandelver-kolbitr-dm\n",
      "✅ Corrections completed for campaign: 13844-lost-mine-of-phandelver-kolbitr-dm\n"
     ]
    },
    {
     "name": "stderr",
     "output_type": "stream",
     "text": [
      "Loading campaigns:   5%|▍         | 46/985 [00:33<04:02,  3.88it/s]"
     ]
    },
    {
     "name": "stdout",
     "output_type": "stream",
     "text": [
      "📚 Loaded manual corrections for 1 campaigns\n",
      "🔧 Applying corrections to campaign: 13875-sorte-nebbiosa-cuori-assenti-ita\n",
      "✅ Corrections completed for campaign: 13875-sorte-nebbiosa-cuori-assenti-ita\n",
      "📚 Loaded manual corrections for 1 campaigns\n",
      "🔧 Applying corrections to campaign: 13920-princes-of-the-apocalypse\n",
      "🗑️ Removing single-post characters: ['n’t']\n",
      "✅ Corrections completed for campaign: 13920-princes-of-the-apocalypse\n",
      "📚 Loaded manual corrections for 1 campaigns\n",
      "🔧 Applying corrections to campaign: 14005-ale-or-nothing-campaign-ended\n",
      "✅ Corrections completed for campaign: 14005-ale-or-nothing-campaign-ended\n"
     ]
    },
    {
     "name": "stderr",
     "output_type": "stream",
     "text": [
      "Loading campaigns:   5%|▍         | 48/985 [00:33<03:09,  4.93it/s]"
     ]
    },
    {
     "name": "stdout",
     "output_type": "stream",
     "text": [
      "📚 Loaded manual corrections for 1 campaigns\n",
      "🔧 Applying corrections to campaign: 14103-trouble-in-delving\n",
      "✅ Corrections completed for campaign: 14103-trouble-in-delving\n",
      "📚 Loaded manual corrections for 1 campaigns\n",
      "🔧 Applying corrections to campaign: 14168-out-of-the-abyss\n",
      "✅ Corrections completed for campaign: 14168-out-of-the-abyss\n",
      "📚 Loaded manual corrections for 1 campaigns\n",
      "🔧 Applying corrections to campaign: 14191-high-times-at-low-tides\n",
      "✅ Corrections completed for campaign: 14191-high-times-at-low-tides\n"
     ]
    },
    {
     "name": "stderr",
     "output_type": "stream",
     "text": [
      "Loading campaigns:   5%|▌         | 52/985 [00:33<02:13,  7.01it/s]"
     ]
    },
    {
     "name": "stdout",
     "output_type": "stream",
     "text": [
      "📚 Loaded manual corrections for 1 campaigns\n",
      "🔧 Applying corrections to campaign: 14243-dead-god-excavation-5pbp\n",
      "✅ Corrections completed for campaign: 14243-dead-god-excavation-5pbp\n",
      "📚 Loaded manual corrections for 1 campaigns\n",
      "🔧 Applying corrections to campaign: 14349-not-another-lost-mine-of-phandelver-campaign\n",
      "✅ Corrections completed for campaign: 14349-not-another-lost-mine-of-phandelver-campaign\n",
      "📚 Loaded manual corrections for 1 campaigns\n",
      "🔧 Applying corrections to campaign: 14352-al-legal-lmop-ic\n",
      "✅ Corrections completed for campaign: 14352-al-legal-lmop-ic\n"
     ]
    },
    {
     "name": "stderr",
     "output_type": "stream",
     "text": [
      "Loading campaigns:   5%|▌         | 54/985 [00:34<02:20,  6.62it/s]"
     ]
    },
    {
     "name": "stdout",
     "output_type": "stream",
     "text": [
      "📚 Loaded manual corrections for 1 campaigns\n",
      "🔧 Applying corrections to campaign: 14377-labyrinth-of-the-goblin-king\n",
      "🗑️ Removing single-post characters: ['Tyrv']\n",
      "✅ Corrections completed for campaign: 14377-labyrinth-of-the-goblin-king\n",
      "📚 Loaded manual corrections for 1 campaigns\n",
      "🔧 Applying corrections to campaign: 14630-order-of-medusa-homebrew-campaign\n",
      "✅ Corrections completed for campaign: 14630-order-of-medusa-homebrew-campaign\n"
     ]
    },
    {
     "name": "stderr",
     "output_type": "stream",
     "text": [
      "Loading campaigns:   6%|▌         | 56/985 [00:34<01:48,  8.54it/s]"
     ]
    },
    {
     "name": "stdout",
     "output_type": "stream",
     "text": [
      "📚 Loaded manual corrections for 1 campaigns\n",
      "🔧 Applying corrections to campaign: 14633-dungeon-divers-unlimited\n",
      "✅ Corrections completed for campaign: 14633-dungeon-divers-unlimited\n",
      "📚 Loaded manual corrections for 1 campaigns\n",
      "🔧 Applying corrections to campaign: 14753-hoard-of-the-dragon-queen\n",
      "✅ Corrections completed for campaign: 14753-hoard-of-the-dragon-queen\n"
     ]
    },
    {
     "name": "stderr",
     "output_type": "stream",
     "text": [
      "Loading campaigns:   6%|▌         | 58/985 [00:34<02:11,  7.03it/s]"
     ]
    },
    {
     "name": "stdout",
     "output_type": "stream",
     "text": [
      "📚 Loaded manual corrections for 1 campaigns\n",
      "🔧 Applying corrections to campaign: 14763-the-sunless-citadel-6pbp\n",
      "✅ Corrections completed for campaign: 14763-the-sunless-citadel-6pbp\n",
      "📚 Loaded manual corrections for 1 campaigns\n",
      "🔧 Applying corrections to campaign: 14765-khazad-dooom-productions-ic\n",
      "✅ Corrections completed for campaign: 14765-khazad-dooom-productions-ic\n",
      "📚 Loaded manual corrections for 1 campaigns\n",
      "🔧 Applying corrections to campaign: 14790-league-of-justice\n",
      "🗑️ Removing single-post characters: ['’ll']\n",
      "✅ Corrections completed for campaign: 14790-league-of-justice\n"
     ]
    },
    {
     "name": "stderr",
     "output_type": "stream",
     "text": [
      "Loading campaigns:   6%|▌         | 60/985 [00:34<01:44,  8.84it/s]"
     ]
    },
    {
     "name": "stdout",
     "output_type": "stream",
     "text": [
      "📚 Loaded manual corrections for 1 campaigns\n",
      "🔧 Applying corrections to campaign: 14842-legacy-of-the-ascended-2nd-iteration\n",
      "✅ Corrections completed for campaign: 14842-legacy-of-the-ascended-2nd-iteration\n",
      "📚 Loaded manual corrections for 1 campaigns\n",
      "🔧 Applying corrections to campaign: 14881-tomb-of-annihilation\n",
      "✅ Corrections completed for campaign: 14881-tomb-of-annihilation\n"
     ]
    },
    {
     "name": "stderr",
     "output_type": "stream",
     "text": [
      "Loading campaigns:   6%|▋         | 62/985 [00:35<02:53,  5.33it/s]"
     ]
    },
    {
     "name": "stdout",
     "output_type": "stream",
     "text": [
      "📚 Loaded manual corrections for 1 campaigns\n",
      "🔧 Applying corrections to campaign: 15093-curse-of-strahd\n",
      "🗑️ Removing single-post characters: ['Ariris Dragonsbane']\n",
      "⚠️ Character name conflict: 'Patch' used by players ['Tyrannosary', 'jimmop']\n",
      "✅ Player Tyrannosary: 'Patch' (confirmed correct)\n",
      "✅ Player jimmop: 'Patch' (confirmed correct)\n",
      "✅ Corrections completed for campaign: 15093-curse-of-strahd\n"
     ]
    },
    {
     "name": "stderr",
     "output_type": "stream",
     "text": [
      "Loading campaigns:   6%|▋         | 63/985 [00:36<07:20,  2.10it/s]"
     ]
    },
    {
     "name": "stdout",
     "output_type": "stream",
     "text": [
      "📚 Loaded manual corrections for 1 campaigns\n",
      "🔧 Applying corrections to campaign: 15154-new-adventure\n",
      "✅ Corrections completed for campaign: 15154-new-adventure\n"
     ]
    },
    {
     "name": "stderr",
     "output_type": "stream",
     "text": [
      "Loading campaigns:   6%|▋         | 64/985 [00:37<07:07,  2.15it/s]"
     ]
    },
    {
     "name": "stdout",
     "output_type": "stream",
     "text": [
      "📚 Loaded manual corrections for 1 campaigns\n",
      "🔧 Applying corrections to campaign: 15169-the-windhovers-call\n",
      "✅ Corrections completed for campaign: 15169-the-windhovers-call\n"
     ]
    },
    {
     "name": "stderr",
     "output_type": "stream",
     "text": [
      "Loading campaigns:   7%|▋         | 67/985 [00:37<04:10,  3.67it/s]"
     ]
    },
    {
     "name": "stdout",
     "output_type": "stream",
     "text": [
      "📚 Loaded manual corrections for 1 campaigns\n",
      "🔧 Applying corrections to campaign: 1522-kobold-fight-club-full-currently\n",
      "✅ Corrections completed for campaign: 1522-kobold-fight-club-full-currently\n",
      "📚 Loaded manual corrections for 1 campaigns\n",
      "🔧 Applying corrections to campaign: 15279-behind-enemy-lines\n",
      "✅ Corrections completed for campaign: 15279-behind-enemy-lines\n",
      "📚 Loaded manual corrections for 1 campaigns\n",
      "🔧 Applying corrections to campaign: 15310-bartys-lost-mine-of-phandelver\n",
      "✅ Corrections completed for campaign: 15310-bartys-lost-mine-of-phandelver\n"
     ]
    },
    {
     "name": "stderr",
     "output_type": "stream",
     "text": [
      "Loading campaigns:   7%|▋         | 68/985 [00:38<05:09,  2.96it/s]"
     ]
    },
    {
     "name": "stdout",
     "output_type": "stream",
     "text": [
      "📚 Loaded manual corrections for 1 campaigns\n",
      "🔧 Applying corrections to campaign: 15370-lmop-in-game-play\n",
      "⚠️ Character name conflict: 'Ragna' used by players ['TheSunsFirstborn', 'Widowleaf']\n",
      "✅ Player TheSunsFirstborn: 'Ragna' (confirmed correct)\n"
     ]
    },
    {
     "name": "stderr",
     "output_type": "stream",
     "text": [
      "Loading campaigns:   7%|▋         | 69/985 [00:39<08:42,  1.75it/s]"
     ]
    },
    {
     "name": "stdout",
     "output_type": "stream",
     "text": [
      "🔄 Player Widowleaf: 'Ragna' → 'Ragana Thunderspike'\n",
      "✅ Corrections completed for campaign: 15370-lmop-in-game-play\n",
      "📚 Loaded manual corrections for 1 campaigns\n",
      "🔧 Applying corrections to campaign: 15462-wibwubs-campaign-storm-kings-thunder\n",
      "✅ Corrections completed for campaign: 15462-wibwubs-campaign-storm-kings-thunder\n",
      "📚 Loaded manual corrections for 1 campaigns\n",
      "🔧 Applying corrections to campaign: 15526-stellarium-of-the-vinteralf\n",
      "✅ Corrections completed for campaign: 15526-stellarium-of-the-vinteralf\n"
     ]
    },
    {
     "name": "stderr",
     "output_type": "stream",
     "text": [
      "Loading campaigns:   7%|▋         | 71/985 [00:39<05:58,  2.55it/s]"
     ]
    },
    {
     "name": "stdout",
     "output_type": "stream",
     "text": [
      "📚 Loaded manual corrections for 1 campaigns\n",
      "🔧 Applying corrections to campaign: 15563-dragons-of-despair-dragon-lance\n",
      "✅ Corrections completed for campaign: 15563-dragons-of-despair-dragon-lance\n",
      "📚 Loaded manual corrections for 1 campaigns\n",
      "🔧 Applying corrections to campaign: 15568-fiefdoms-in-a-broken-land\n",
      "🗑️ Removing single-post characters: ['Aery Ulembe', 'Thokk', '-Kane Redwall-', 'Jeff']\n",
      "✅ Corrections completed for campaign: 15568-fiefdoms-in-a-broken-land\n"
     ]
    },
    {
     "name": "stderr",
     "output_type": "stream",
     "text": [
      "Loading campaigns:   8%|▊         | 74/985 [00:40<04:01,  3.77it/s]"
     ]
    },
    {
     "name": "stdout",
     "output_type": "stream",
     "text": [
      "📚 Loaded manual corrections for 1 campaigns\n",
      "🔧 Applying corrections to campaign: 15583-ive-fallen-down-and-i-cant-get-back-up\n",
      "✅ Corrections completed for campaign: 15583-ive-fallen-down-and-i-cant-get-back-up\n",
      "📚 Loaded manual corrections for 1 campaigns\n",
      "🔧 Applying corrections to campaign: 15627-pbp-after-apocalypse\n",
      "✅ Corrections completed for campaign: 15627-pbp-after-apocalypse\n"
     ]
    },
    {
     "name": "stderr",
     "output_type": "stream",
     "text": [
      "Loading campaigns:   8%|▊         | 75/985 [00:40<03:51,  3.93it/s]"
     ]
    },
    {
     "name": "stdout",
     "output_type": "stream",
     "text": [
      "📚 Loaded manual corrections for 1 campaigns\n",
      "🔧 Applying corrections to campaign: 15663-adventurers-never-rests\n",
      "✅ Corrections completed for campaign: 15663-adventurers-never-rests\n"
     ]
    },
    {
     "name": "stderr",
     "output_type": "stream",
     "text": [
      "Loading campaigns:   8%|▊         | 76/985 [00:40<03:51,  3.93it/s]"
     ]
    },
    {
     "name": "stdout",
     "output_type": "stream",
     "text": [
      "📚 Loaded manual corrections for 1 campaigns\n",
      "🔧 Applying corrections to campaign: 15917-pit-of-vipers-chapter-one\n",
      "⚠️ Character name conflict: 'Watl' used by players ['Simmon', 'Steedling']\n",
      "🔄 Player Simmon: 'Watl' → 'Watl Wiggins'\n",
      "🔄 Player Steedling: 'Watl' → 'Trust'\n",
      "✅ Corrections completed for campaign: 15917-pit-of-vipers-chapter-one\n"
     ]
    },
    {
     "name": "stderr",
     "output_type": "stream",
     "text": [
      "Loading campaigns:   8%|▊         | 77/985 [00:42<08:30,  1.78it/s]"
     ]
    },
    {
     "name": "stdout",
     "output_type": "stream",
     "text": [
      "📚 Loaded manual corrections for 1 campaigns\n",
      "🔧 Applying corrections to campaign: 15935-sail-on-sailor\n",
      "⚠️ Character name conflict: 'Rook' used by players ['Necmo', 'Hexblade37']\n",
      "🔄 Player Necmo: 'Rook' → 'Carolinas'\n"
     ]
    },
    {
     "name": "stderr",
     "output_type": "stream",
     "text": [
      "Loading campaigns:   8%|▊         | 78/985 [00:43<11:49,  1.28it/s]"
     ]
    },
    {
     "name": "stdout",
     "output_type": "stream",
     "text": [
      "🔄 Player Hexblade37: 'Rook' → 'Gerruk Smith'\n",
      "✅ Corrections completed for campaign: 15935-sail-on-sailor\n",
      "📚 Loaded manual corrections for 1 campaigns\n",
      "🔧 Applying corrections to campaign: 16126-otora-out-of-character-discussion\n",
      "⚠️ Character name conflict: 'Carmen' used by players ['Conlaed', 'WhitsEnd']\n",
      "✅ Player Conlaed: 'Carmen' (confirmed correct)\n"
     ]
    },
    {
     "name": "stderr",
     "output_type": "stream",
     "text": [
      "Loading campaigns:   8%|▊         | 79/985 [00:45<15:38,  1.04s/it]"
     ]
    },
    {
     "name": "stdout",
     "output_type": "stream",
     "text": [
      "✅ Player WhitsEnd: 'Carmen' (confirmed correct)\n",
      "✅ Corrections completed for campaign: 16126-otora-out-of-character-discussion\n",
      "📚 Loaded manual corrections for 1 campaigns\n",
      "🔧 Applying corrections to campaign: 16137-the-call-of-lon-dia\n",
      "✅ Corrections completed for campaign: 16137-the-call-of-lon-dia\n"
     ]
    },
    {
     "name": "stderr",
     "output_type": "stream",
     "text": [
      "Loading campaigns:   8%|▊         | 82/985 [00:45<07:48,  1.93it/s]"
     ]
    },
    {
     "name": "stdout",
     "output_type": "stream",
     "text": [
      "📚 Loaded manual corrections for 1 campaigns\n",
      "🔧 Applying corrections to campaign: 16289-spanish-adventures-in-taldorei\n",
      "✅ Corrections completed for campaign: 16289-spanish-adventures-in-taldorei\n",
      "📚 Loaded manual corrections for 1 campaigns\n",
      "🔧 Applying corrections to campaign: 16421-otora-story-thread\n",
      "✅ Corrections completed for campaign: 16421-otora-story-thread\n",
      "📚 Loaded manual corrections for 1 campaigns\n",
      "🔧 Applying corrections to campaign: 16427-clerical-heirs-a-divine-mystery\n",
      "🗑️ Removing single-post characters: ['Aasimar', 'Arthur']\n",
      "⚠️ Character name conflict: 'Demoiselle' used by players ['Jack_Joke', 'Rivina']\n",
      "🔄 Player Jack_Joke: 'Demoiselle' → 'Simeon Grey'\n"
     ]
    },
    {
     "name": "stderr",
     "output_type": "stream",
     "text": [
      "Loading campaigns:   8%|▊         | 83/985 [00:47<10:49,  1.39it/s]"
     ]
    },
    {
     "name": "stdout",
     "output_type": "stream",
     "text": [
      "🔄 Player Rivina: 'Demoiselle' → 'Dawnlord Wintermoon'\n",
      "✅ Corrections completed for campaign: 16427-clerical-heirs-a-divine-mystery\n",
      "📚 Loaded manual corrections for 1 campaigns\n",
      "🔧 Applying corrections to campaign: 16526-league-of-improbable-adventurers-chapter-1-of\n",
      "🗑️ Removing single-post characters: ['Elven Sorcerer']\n",
      "✅ Corrections completed for campaign: 16526-league-of-improbable-adventurers-chapter-1-of\n"
     ]
    },
    {
     "name": "stderr",
     "output_type": "stream",
     "text": [
      "Loading campaigns:   9%|▊         | 84/985 [00:47<09:09,  1.64it/s]"
     ]
    },
    {
     "name": "stdout",
     "output_type": "stream",
     "text": [
      "📚 Loaded manual corrections for 1 campaigns\n",
      "🔧 Applying corrections to campaign: 16560-lost-in-the-endless-tower-by-pokepaladdy\n",
      "⚠️ Character name conflict: 'Killian' used by players ['YoFizz', 'TonyBuckets']\n",
      "🔄 Player YoFizz: 'Killian' → 'Thursday'\n",
      "✅ Player TonyBuckets: 'Killian' (confirmed correct)\n",
      "✅ Corrections completed for campaign: 16560-lost-in-the-endless-tower-by-pokepaladdy\n"
     ]
    },
    {
     "name": "stderr",
     "output_type": "stream",
     "text": [
      "Loading campaigns:   9%|▉         | 87/985 [00:49<07:41,  1.95it/s]"
     ]
    },
    {
     "name": "stdout",
     "output_type": "stream",
     "text": [
      "📚 Loaded manual corrections for 1 campaigns\n",
      "🔧 Applying corrections to campaign: 1657-trouble-in-timberbottom\n",
      "✅ Corrections completed for campaign: 1657-trouble-in-timberbottom\n",
      "📚 Loaded manual corrections for 1 campaigns\n",
      "🔧 Applying corrections to campaign: 16614-mightyowls-taldorei-campaign-group-2\n",
      "✅ Corrections completed for campaign: 16614-mightyowls-taldorei-campaign-group-2\n",
      "📚 Loaded manual corrections for 1 campaigns\n",
      "🔧 Applying corrections to campaign: 16629-lost-mine-of-phandelver-by-pokepaladdy\n",
      "✅ Corrections completed for campaign: 16629-lost-mine-of-phandelver-by-pokepaladdy\n"
     ]
    },
    {
     "name": "stderr",
     "output_type": "stream",
     "text": [
      "Loading campaigns:   9%|▉         | 88/985 [00:49<06:36,  2.26it/s]"
     ]
    },
    {
     "name": "stdout",
     "output_type": "stream",
     "text": [
      "📚 Loaded manual corrections for 1 campaigns\n",
      "🔧 Applying corrections to campaign: 16683-mightyowls-taldorei-campaign-group-1\n",
      "🗑️ Removing single-post characters: ['Wittrun']\n",
      "✅ Corrections completed for campaign: 16683-mightyowls-taldorei-campaign-group-1\n",
      "📚 Loaded manual corrections for 1 campaigns\n",
      "🔧 Applying corrections to campaign: 16687-the-shackled-city\n",
      "✅ Corrections completed for campaign: 16687-the-shackled-city\n"
     ]
    },
    {
     "name": "stderr",
     "output_type": "stream",
     "text": [
      "Loading campaigns:   9%|▉         | 90/985 [00:50<05:43,  2.61it/s]"
     ]
    },
    {
     "name": "stdout",
     "output_type": "stream",
     "text": [
      "📚 Loaded manual corrections for 1 campaigns\n",
      "🔧 Applying corrections to campaign: 16741-the-shade-over-runewarren\n",
      "✅ Corrections completed for campaign: 16741-the-shade-over-runewarren\n",
      "📚 Loaded manual corrections for 1 campaigns\n",
      "🔧 Applying corrections to campaign: 16830-knights-of-the-day-lost-mine-of-phandelver\n",
      "✅ Corrections completed for campaign: 16830-knights-of-the-day-lost-mine-of-phandelver\n"
     ]
    },
    {
     "name": "stderr",
     "output_type": "stream",
     "text": [
      "Loading campaigns:  10%|▉         | 94/985 [00:50<03:30,  4.23it/s]"
     ]
    },
    {
     "name": "stdout",
     "output_type": "stream",
     "text": [
      "📚 Loaded manual corrections for 1 campaigns\n",
      "🔧 Applying corrections to campaign: 16964-one-shot-meeting-in-deepnight-ft-greyhawk\n",
      "✅ Corrections completed for campaign: 16964-one-shot-meeting-in-deepnight-ft-greyhawk\n",
      "📚 Loaded manual corrections for 1 campaigns\n",
      "🔧 Applying corrections to campaign: 16990-dunes-and-dragons-an-egyptian-themed-adventure\n",
      "✅ Corrections completed for campaign: 16990-dunes-and-dragons-an-egyptian-themed-adventure\n",
      "📚 Loaded manual corrections for 1 campaigns\n",
      "🔧 Applying corrections to campaign: 17072-an-adventure-of-amazing-proportions-and-mixed\n",
      "🗑️ Removing single-post characters: ['Vyncent']\n",
      "✅ Corrections completed for campaign: 17072-an-adventure-of-amazing-proportions-and-mixed\n"
     ]
    },
    {
     "name": "stderr",
     "output_type": "stream",
     "text": [
      "Loading campaigns:  10%|▉         | 96/985 [00:50<02:50,  5.22it/s]"
     ]
    },
    {
     "name": "stdout",
     "output_type": "stream",
     "text": [
      "📚 Loaded manual corrections for 1 campaigns\n",
      "🔧 Applying corrections to campaign: 17175-the-guild-discussion\n",
      "🗑️ Removing single-post characters: ['Howdy']\n",
      "✅ Corrections completed for campaign: 17175-the-guild-discussion\n",
      "📚 Loaded manual corrections for 1 campaigns\n",
      "🔧 Applying corrections to campaign: 17247-spanish-dark-eras-in-eliorien\n",
      "⚠️ Character name conflict: 'Zan' used by players ['Theagan', 'IscalF']\n",
      "🔄 Player Theagan: 'Zan' → 'Galeath'\n"
     ]
    },
    {
     "name": "stderr",
     "output_type": "stream",
     "text": [
      "Loading campaigns:  10%|▉         | 97/985 [00:52<06:30,  2.27it/s]"
     ]
    },
    {
     "name": "stdout",
     "output_type": "stream",
     "text": [
      "🔄 Player IscalF: 'Zan' → 'Zanarcot'\n",
      "✅ Corrections completed for campaign: 17247-spanish-dark-eras-in-eliorien\n",
      "📚 Loaded manual corrections for 1 campaigns\n",
      "🔧 Applying corrections to campaign: 17274-the-guild-game-thread\n",
      "✅ Corrections completed for campaign: 17274-the-guild-game-thread\n"
     ]
    },
    {
     "name": "stderr",
     "output_type": "stream",
     "text": [
      "Loading campaigns:  10%|▉         | 98/985 [00:53<10:43,  1.38it/s]"
     ]
    },
    {
     "name": "stdout",
     "output_type": "stream",
     "text": [
      "📚 Loaded manual corrections for 1 campaigns\n",
      "🔧 Applying corrections to campaign: 17356-tomb-of-annihilation-boat-party-edition\n",
      "⚠️ Character name conflict: 'Fenrir' used by players ['Lumas_Ala', 'Nova_Belle']\n",
      "✅ Player Lumas_Ala: 'Fenrir' (confirmed correct)\n"
     ]
    },
    {
     "name": "stderr",
     "output_type": "stream",
     "text": [
      "Loading campaigns:  10%|█         | 99/985 [00:55<15:21,  1.04s/it]"
     ]
    },
    {
     "name": "stdout",
     "output_type": "stream",
     "text": [
      "✅ Player Nova_Belle: 'Fenrir' (confirmed correct)\n",
      "✅ Corrections completed for campaign: 17356-tomb-of-annihilation-boat-party-edition\n",
      "📚 Loaded manual corrections for 1 campaigns\n",
      "🔧 Applying corrections to campaign: 17496-eon-scorched-skies\n",
      "⚠️ Character name conflict: 'Reigntail' used by players ['BKHusker', 'NeoMagus']\n",
      "✅ Player BKHusker: 'Reigntail' (confirmed correct)\n"
     ]
    },
    {
     "name": "stderr",
     "output_type": "stream",
     "text": [
      "Loading campaigns:  10%|█         | 100/985 [00:56<16:52,  1.14s/it]"
     ]
    },
    {
     "name": "stdout",
     "output_type": "stream",
     "text": [
      "✅ Player NeoMagus: 'Reigntail' (confirmed correct)\n",
      "✅ Corrections completed for campaign: 17496-eon-scorched-skies\n",
      "📚 Loaded manual corrections for 1 campaigns\n",
      "🔧 Applying corrections to campaign: 17613-the-full-dark-stone\n",
      "✅ Corrections completed for campaign: 17613-the-full-dark-stone\n"
     ]
    },
    {
     "name": "stderr",
     "output_type": "stream",
     "text": [
      "Loading campaigns:  10%|█         | 101/985 [00:57<12:52,  1.14it/s]"
     ]
    },
    {
     "name": "stdout",
     "output_type": "stream",
     "text": [
      "📚 Loaded manual corrections for 1 campaigns\n",
      "🔧 Applying corrections to campaign: 17623-a-journey-across-the-planes\n",
      "⚠️ Character name conflict: 'Zotar' used by players ['Madclergy', 'Kyleh2486']\n",
      "✅ Player Madclergy: 'Zotar' (confirmed correct)\n"
     ]
    },
    {
     "name": "stderr",
     "output_type": "stream",
     "text": [
      "Loading campaigns:  10%|█         | 102/985 [00:58<16:05,  1.09s/it]"
     ]
    },
    {
     "name": "stdout",
     "output_type": "stream",
     "text": [
      "🔄 Player Kyleh2486: 'Zotar' → 'Ammom'\n",
      "✅ Corrections completed for campaign: 17623-a-journey-across-the-planes\n",
      "📚 Loaded manual corrections for 1 campaigns\n",
      "🔧 Applying corrections to campaign: 17747-the-forge-of-fury-7pbp\n",
      "⚠️ Character name conflict: 'Luthien' used by players ['Slytuna', 'o_Merlin_o']\n",
      "🔄 Player Slytuna: 'Luthien' → 'Thoben Battlebeard'\n"
     ]
    },
    {
     "name": "stderr",
     "output_type": "stream",
     "text": [
      "Loading campaigns:  10%|█         | 103/985 [01:00<18:08,  1.23s/it]"
     ]
    },
    {
     "name": "stdout",
     "output_type": "stream",
     "text": [
      "🔄 Player o_Merlin_o: 'Luthien' → 'Lúthien Adril'\n",
      "✅ Corrections completed for campaign: 17747-the-forge-of-fury-7pbp\n",
      "📚 Loaded manual corrections for 1 campaigns\n",
      "🔧 Applying corrections to campaign: 17857-lost-mines-of-phandelver-amazing-edition\n",
      "✅ Corrections completed for campaign: 17857-lost-mines-of-phandelver-amazing-edition\n",
      "📚 Loaded manual corrections for 1 campaigns\n",
      "🔧 Applying corrections to campaign: 17970-shepherds-crossing\n",
      "✅ Corrections completed for campaign: 17970-shepherds-crossing\n"
     ]
    },
    {
     "name": "stderr",
     "output_type": "stream",
     "text": [
      "Loading campaigns:  11%|█         | 106/985 [01:00<08:53,  1.65it/s]"
     ]
    },
    {
     "name": "stdout",
     "output_type": "stream",
     "text": [
      "📚 Loaded manual corrections for 1 campaigns\n",
      "🔧 Applying corrections to campaign: 17972-curse-of-strahd-first-group\n",
      "✅ Corrections completed for campaign: 17972-curse-of-strahd-first-group\n",
      "📚 Loaded manual corrections for 1 campaigns\n",
      "🔧 Applying corrections to campaign: 17982-lost-mine-of-phandelver\n",
      "⚠️ Character name conflict: 'Leek' used by players ['Wolvesgar', 'mpeloquin']\n",
      "⚠️ Character name conflict: 'Katerielle' used by players ['Katerielle', 'Giasrhen']\n",
      "⚠️ Character name conflict: 'Elila' used by players ['FleurangeParent', 'Wysperra']\n",
      "🔄 Player Wolvesgar: 'Leek' → 'Kitryn'\n",
      "✅ Player mpeloquin: 'Leek' (confirmed correct)\n",
      "✅ Player Katerielle: 'Katerielle' (confirmed correct)\n",
      "✅ Player Giasrhen: 'Katerielle' (confirmed correct)\n",
      "✅ Player FleurangeParent: 'Elila' (confirmed correct)\n",
      "✅ Player Wysperra: 'Elila' (confirmed correct)\n",
      "✅ Corrections completed for campaign: 17982-lost-mine-of-phandelver\n"
     ]
    },
    {
     "name": "stderr",
     "output_type": "stream",
     "text": [
      "Loading campaigns:  11%|█         | 109/985 [01:05<14:29,  1.01it/s]"
     ]
    },
    {
     "name": "stdout",
     "output_type": "stream",
     "text": [
      "📚 Loaded manual corrections for 1 campaigns\n",
      "🔧 Applying corrections to campaign: 18129-from-dusk-till-dawn-modified-sunless-citadel\n",
      "🗑️ Removing single-post characters: ['Thomas']\n",
      "✅ Corrections completed for campaign: 18129-from-dusk-till-dawn-modified-sunless-citadel\n",
      "📚 Loaded manual corrections for 1 campaigns\n",
      "🔧 Applying corrections to campaign: 18286-city-of-the-spider-queen-icc\n",
      "✅ Corrections completed for campaign: 18286-city-of-the-spider-queen-icc\n",
      "📚 Loaded manual corrections for 1 campaigns\n",
      "🔧 Applying corrections to campaign: 18301-price-of-misfortune-ended\n",
      "⚠️ Character name conflict: 'Crassus' used by players ['Kyleh2486', 'Sarcasticfury']\n",
      "🔄 Player Kyleh2486: 'Crassus' → 'Erlan'\n"
     ]
    },
    {
     "name": "stderr",
     "output_type": "stream",
     "text": [
      "Loading campaigns:  11%|█         | 110/985 [01:06<15:04,  1.03s/it]"
     ]
    },
    {
     "name": "stdout",
     "output_type": "stream",
     "text": [
      "✅ Player Sarcasticfury: 'Crassus' (confirmed correct)\n",
      "✅ Corrections completed for campaign: 18301-price-of-misfortune-ended\n",
      "📚 Loaded manual corrections for 1 campaigns\n",
      "🔧 Applying corrections to campaign: 18442-the-bounders-ooc\n",
      "✅ Corrections completed for campaign: 18442-the-bounders-ooc\n",
      "📚 Loaded manual corrections for 1 campaigns\n",
      "🔧 Applying corrections to campaign: 18511-platinum-plated-keys\n",
      "✅ Corrections completed for campaign: 18511-platinum-plated-keys\n"
     ]
    },
    {
     "name": "stderr",
     "output_type": "stream",
     "text": [
      "Loading campaigns:  11%|█▏        | 112/985 [01:07<09:35,  1.52it/s]"
     ]
    },
    {
     "name": "stdout",
     "output_type": "stream",
     "text": [
      "📚 Loaded manual corrections for 1 campaigns\n",
      "🔧 Applying corrections to campaign: 18546-reign-of-villains-game-thread\n",
      "✅ Corrections completed for campaign: 18546-reign-of-villains-game-thread\n",
      "📚 Loaded manual corrections for 1 campaigns\n",
      "🔧 Applying corrections to campaign: 18613-the-bounders-story\n",
      "✅ Corrections completed for campaign: 18613-the-bounders-story\n"
     ]
    },
    {
     "name": "stderr",
     "output_type": "stream",
     "text": [
      "Loading campaigns:  12%|█▏        | 114/985 [01:07<07:11,  2.02it/s]"
     ]
    },
    {
     "name": "stdout",
     "output_type": "stream",
     "text": [
      "📚 Loaded manual corrections for 1 campaigns\n",
      "🔧 Applying corrections to campaign: 18713-delian-tomb-iv\n",
      "⚠️ Character name conflict: 'Vokrul' used by players ['Sturm55', 'Nattieoak']\n",
      "🔄 Player Sturm55: 'Vokrul' → 'Sturm'\n"
     ]
    },
    {
     "name": "stderr",
     "output_type": "stream",
     "text": [
      "Loading campaigns:  12%|█▏        | 116/985 [01:09<08:16,  1.75it/s]"
     ]
    },
    {
     "name": "stdout",
     "output_type": "stream",
     "text": [
      "✅ Player Nattieoak: 'Vokrul' (confirmed correct)\n",
      "✅ Corrections completed for campaign: 18713-delian-tomb-iv\n",
      "📚 Loaded manual corrections for 1 campaigns\n",
      "🔧 Applying corrections to campaign: 18746-journey-unto-chaos\n",
      "✅ Corrections completed for campaign: 18746-journey-unto-chaos\n",
      "📚 Loaded manual corrections for 1 campaigns\n",
      "🔧 Applying corrections to campaign: 18865-arsenal-of-the-orc-lord\n",
      "✅ Corrections completed for campaign: 18865-arsenal-of-the-orc-lord\n"
     ]
    },
    {
     "name": "stderr",
     "output_type": "stream",
     "text": [
      "Loading campaigns:  12%|█▏        | 117/985 [01:09<07:00,  2.06it/s]"
     ]
    },
    {
     "name": "stdout",
     "output_type": "stream",
     "text": [
      "📚 Loaded manual corrections for 1 campaigns\n",
      "🔧 Applying corrections to campaign: 18881-city-of-cresthall\n",
      "✅ Corrections completed for campaign: 18881-city-of-cresthall\n"
     ]
    },
    {
     "name": "stderr",
     "output_type": "stream",
     "text": [
      "Loading campaigns:  12%|█▏        | 118/985 [01:09<07:30,  1.93it/s]"
     ]
    },
    {
     "name": "stdout",
     "output_type": "stream",
     "text": [
      "📚 Loaded manual corrections for 1 campaigns\n",
      "🔧 Applying corrections to campaign: 18919-dark-dealings-city-of-cresthall\n",
      "✅ Corrections completed for campaign: 18919-dark-dealings-city-of-cresthall\n",
      "📚 Loaded manual corrections for 1 campaigns\n",
      "🔧 Applying corrections to campaign: 19115-the-seven-saints-adventuring-company-group-thread\n",
      "⚠️ Character name conflict: 'Crispy' used by players ['CrispyDM', 'FrandalSilvereyes']\n",
      "✅ Player CrispyDM: 'Crispy' (confirmed correct)\n"
     ]
    },
    {
     "name": "stderr",
     "output_type": "stream",
     "text": [
      "Loading campaigns:  12%|█▏        | 122/985 [01:11<06:13,  2.31it/s]"
     ]
    },
    {
     "name": "stdout",
     "output_type": "stream",
     "text": [
      "🔄 Player FrandalSilvereyes: 'Crispy' → 'Dar'quilyn Redn'Avir'\n",
      "✅ Corrections completed for campaign: 19115-the-seven-saints-adventuring-company-group-thread\n",
      "📚 Loaded manual corrections for 1 campaigns\n",
      "🔧 Applying corrections to campaign: 19154-a-candle-in-the-dark-in-game-play\n",
      "✅ Corrections completed for campaign: 19154-a-candle-in-the-dark-in-game-play\n",
      "📚 Loaded manual corrections for 1 campaigns\n",
      "🔧 Applying corrections to campaign: 19348-hoard-of-the-dragon-queen\n",
      "✅ Corrections completed for campaign: 19348-hoard-of-the-dragon-queen\n",
      "📚 Loaded manual corrections for 1 campaigns\n",
      "🔧 Applying corrections to campaign: 19362-seven-saints-crimson-fang\n",
      "✅ Corrections completed for campaign: 19362-seven-saints-crimson-fang\n"
     ]
    },
    {
     "name": "stderr",
     "output_type": "stream",
     "text": [
      "Loading campaigns:  13%|█▎        | 124/985 [01:12<05:27,  2.63it/s]"
     ]
    },
    {
     "name": "stdout",
     "output_type": "stream",
     "text": [
      "📚 Loaded manual corrections for 1 campaigns\n",
      "🔧 Applying corrections to campaign: 19364-seven-saints-azure-claw\n",
      "✅ Corrections completed for campaign: 19364-seven-saints-azure-claw\n",
      "📚 Loaded manual corrections for 1 campaigns\n",
      "🔧 Applying corrections to campaign: 19381-of-gunsmoke-and-giants-game-thread\n",
      "✅ Corrections completed for campaign: 19381-of-gunsmoke-and-giants-game-thread\n"
     ]
    },
    {
     "name": "stderr",
     "output_type": "stream",
     "text": [
      "Loading campaigns:  13%|█▎        | 127/985 [01:12<03:15,  4.38it/s]"
     ]
    },
    {
     "name": "stdout",
     "output_type": "stream",
     "text": [
      "📚 Loaded manual corrections for 1 campaigns\n",
      "🔧 Applying corrections to campaign: 19709-bartys-blood-kin-doom-portals-part-0\n",
      "✅ Corrections completed for campaign: 19709-bartys-blood-kin-doom-portals-part-0\n",
      "📚 Loaded manual corrections for 1 campaigns\n",
      "🔧 Applying corrections to campaign: 19796-long-term-toa\n",
      "🗑️ Removing single-post characters: ['Devlin']\n",
      "✅ Corrections completed for campaign: 19796-long-term-toa\n",
      "📚 Loaded manual corrections for 1 campaigns\n",
      "🔧 Applying corrections to campaign: 19822-maze-of-the-blue-medusa-9-pbp\n",
      "✅ Corrections completed for campaign: 19822-maze-of-the-blue-medusa-9-pbp\n",
      "📚 Loaded manual corrections for 1 campaigns\n",
      "🔧 Applying corrections to campaign: 19837-the-new-frontier-the-twilight-of-an-age\n",
      "⚠️ Character name conflict: 'Sariya' used by players ['Elizar', 'SariyaNightshade']\n",
      "🔄 Player Elizar: 'Sariya' → 'Glenys'\n"
     ]
    },
    {
     "name": "stderr",
     "output_type": "stream",
     "text": [
      "Loading campaigns:  13%|█▎        | 129/985 [01:14<06:39,  2.15it/s]"
     ]
    },
    {
     "name": "stdout",
     "output_type": "stream",
     "text": [
      "✅ Player SariyaNightshade: 'Sariya' (confirmed correct)\n",
      "✅ Corrections completed for campaign: 19837-the-new-frontier-the-twilight-of-an-age\n",
      "📚 Loaded manual corrections for 1 campaigns\n",
      "🔧 Applying corrections to campaign: 19876-spanish-greyhawk-tales\n",
      "⚠️ Character name conflict: 'Jen' used by players ['FairIthilien', 'irene_sirius92']\n",
      "✅ Player FairIthilien: 'Jen' (confirmed correct)\n",
      "✅ Player irene_sirius92: 'Jen' (confirmed correct)\n",
      "✅ Corrections completed for campaign: 19876-spanish-greyhawk-tales\n"
     ]
    },
    {
     "name": "stderr",
     "output_type": "stream",
     "text": [
      "Loading campaigns:  13%|█▎        | 132/985 [01:16<07:36,  1.87it/s]"
     ]
    },
    {
     "name": "stdout",
     "output_type": "stream",
     "text": [
      "📚 Loaded manual corrections for 1 campaigns\n",
      "🔧 Applying corrections to campaign: 19899-library-of-worlds-group-1\n",
      "✅ Corrections completed for campaign: 19899-library-of-worlds-group-1\n",
      "📚 Loaded manual corrections for 1 campaigns\n",
      "🔧 Applying corrections to campaign: 19902-library-of-worlds-group-2\n",
      "✅ Corrections completed for campaign: 19902-library-of-worlds-group-2\n",
      "📚 Loaded manual corrections for 1 campaigns\n",
      "🔧 Applying corrections to campaign: 19917-who-let-the-vamp-out-um-us\n",
      "✅ Corrections completed for campaign: 19917-who-let-the-vamp-out-um-us\n"
     ]
    },
    {
     "name": "stderr",
     "output_type": "stream",
     "text": [
      "Loading campaigns:  14%|█▎        | 133/985 [01:16<07:05,  2.00it/s]"
     ]
    },
    {
     "name": "stdout",
     "output_type": "stream",
     "text": [
      "📚 Loaded manual corrections for 1 campaigns\n",
      "🔧 Applying corrections to campaign: 19970-princes-of-the-apocalypse\n",
      "✅ Corrections completed for campaign: 19970-princes-of-the-apocalypse\n"
     ]
    },
    {
     "name": "stderr",
     "output_type": "stream",
     "text": [
      "Loading campaigns:  14%|█▎        | 134/985 [01:17<06:26,  2.20it/s]"
     ]
    },
    {
     "name": "stdout",
     "output_type": "stream",
     "text": [
      "📚 Loaded manual corrections for 1 campaigns\n",
      "🔧 Applying corrections to campaign: 20017-the-wizards-challenge\n",
      "✅ Corrections completed for campaign: 20017-the-wizards-challenge\n"
     ]
    },
    {
     "name": "stderr",
     "output_type": "stream",
     "text": [
      "Loading campaigns:  14%|█▎        | 135/985 [01:17<06:16,  2.26it/s]"
     ]
    },
    {
     "name": "stdout",
     "output_type": "stream",
     "text": [
      "📚 Loaded manual corrections for 1 campaigns\n",
      "🔧 Applying corrections to campaign: 20049-age-of-death\n",
      "⚠️ Character name conflict: 'Finlan' used by players ['Tyrannosary', 'naomigmather']\n",
      "✅ Player Tyrannosary: 'Finlan' (confirmed correct)\n"
     ]
    },
    {
     "name": "stderr",
     "output_type": "stream",
     "text": [
      "Loading campaigns:  14%|█▍        | 136/985 [01:18<09:26,  1.50it/s]"
     ]
    },
    {
     "name": "stdout",
     "output_type": "stream",
     "text": [
      "🔄 Player naomigmather: 'Finlan' → 'Pizza'\n",
      "✅ Corrections completed for campaign: 20049-age-of-death\n",
      "📚 Loaded manual corrections for 1 campaigns\n",
      "🔧 Applying corrections to campaign: 20096-mires-edge\n",
      "✅ Corrections completed for campaign: 20096-mires-edge\n"
     ]
    },
    {
     "name": "stderr",
     "output_type": "stream",
     "text": [
      "Loading campaigns:  14%|█▍        | 137/985 [01:19<07:35,  1.86it/s]"
     ]
    },
    {
     "name": "stdout",
     "output_type": "stream",
     "text": [
      "📚 Loaded manual corrections for 1 campaigns\n",
      "🔧 Applying corrections to campaign: 20139-lost-mines-of-phandelver-by-kyleh2486\n",
      "✅ Corrections completed for campaign: 20139-lost-mines-of-phandelver-by-kyleh2486\n"
     ]
    },
    {
     "name": "stderr",
     "output_type": "stream",
     "text": [
      "Loading campaigns:  14%|█▍        | 139/985 [01:19<05:33,  2.54it/s]"
     ]
    },
    {
     "name": "stdout",
     "output_type": "stream",
     "text": [
      "📚 Loaded manual corrections for 1 campaigns\n",
      "🔧 Applying corrections to campaign: 20295-sparlocks-hoard-of-the-dragon-queen\n",
      "✅ Corrections completed for campaign: 20295-sparlocks-hoard-of-the-dragon-queen\n",
      "📚 Loaded manual corrections for 1 campaigns\n",
      "🔧 Applying corrections to campaign: 20309-curse-of-strahd-harkers-heroes-adventure\n",
      "✅ Corrections completed for campaign: 20309-curse-of-strahd-harkers-heroes-adventure\n"
     ]
    },
    {
     "name": "stderr",
     "output_type": "stream",
     "text": [
      "Loading campaigns:  14%|█▍        | 140/985 [01:19<04:31,  3.11it/s]"
     ]
    },
    {
     "name": "stdout",
     "output_type": "stream",
     "text": [
      "📚 Loaded manual corrections for 1 campaigns\n",
      "🔧 Applying corrections to campaign: 20310-curse-of-strahd-van-helsings-vigilantes-adventure\n",
      "⚠️ Character name conflict: 'Silvana' used by players ['kippskodd', 'Kyleh2486']\n",
      "✅ Player kippskodd: 'Silvana' (confirmed correct)\n"
     ]
    },
    {
     "name": "stderr",
     "output_type": "stream",
     "text": [
      "Loading campaigns:  14%|█▍        | 141/985 [01:21<08:13,  1.71it/s]"
     ]
    },
    {
     "name": "stdout",
     "output_type": "stream",
     "text": [
      "🔄 Player Kyleh2486: 'Silvana' → 'Reed'\n",
      "✅ Corrections completed for campaign: 20310-curse-of-strahd-van-helsings-vigilantes-adventure\n",
      "📚 Loaded manual corrections for 1 campaigns\n",
      "🔧 Applying corrections to campaign: 20318-dark-sun-ashes-of-athas-icc\n",
      "✅ Corrections completed for campaign: 20318-dark-sun-ashes-of-athas-icc\n",
      "📚 Loaded manual corrections for 1 campaigns\n",
      "🔧 Applying corrections to campaign: 20496-ragnarok-game\n",
      "✅ Corrections completed for campaign: 20496-ragnarok-game\n"
     ]
    },
    {
     "name": "stderr",
     "output_type": "stream",
     "text": [
      "Loading campaigns:  15%|█▍        | 144/985 [01:21<04:07,  3.40it/s]"
     ]
    },
    {
     "name": "stdout",
     "output_type": "stream",
     "text": [
      "📚 Loaded manual corrections for 1 campaigns\n",
      "🔧 Applying corrections to campaign: 20547-aerovail-cities-in-the-sky\n",
      "✅ Corrections completed for campaign: 20547-aerovail-cities-in-the-sky\n",
      "📚 Loaded manual corrections for 1 campaigns\n",
      "🔧 Applying corrections to campaign: 20595-kobolds-of-the-sunless-citadel\n",
      "✅ Corrections completed for campaign: 20595-kobolds-of-the-sunless-citadel\n",
      "📚 Loaded manual corrections for 1 campaigns\n",
      "🔧 Applying corrections to campaign: 2067-a-natural-order\n",
      "✅ Corrections completed for campaign: 2067-a-natural-order\n"
     ]
    },
    {
     "name": "stderr",
     "output_type": "stream",
     "text": [
      "Loading campaigns:  15%|█▍        | 146/985 [01:21<02:58,  4.71it/s]"
     ]
    },
    {
     "name": "stdout",
     "output_type": "stream",
     "text": [
      "📚 Loaded manual corrections for 1 campaigns\n",
      "🔧 Applying corrections to campaign: 20697-lerus-the-meeting-at-deepnight\n",
      "✅ Corrections completed for campaign: 20697-lerus-the-meeting-at-deepnight\n",
      "📚 Loaded manual corrections for 1 campaigns\n",
      "🔧 Applying corrections to campaign: 20753-rising-of-the-accursed-dragon\n",
      "✅ Corrections completed for campaign: 20753-rising-of-the-accursed-dragon\n"
     ]
    },
    {
     "name": "stderr",
     "output_type": "stream",
     "text": [
      "Loading campaigns:  15%|█▌        | 148/985 [01:21<03:03,  4.55it/s]"
     ]
    },
    {
     "name": "stdout",
     "output_type": "stream",
     "text": [
      "📚 Loaded manual corrections for 1 campaigns\n",
      "🔧 Applying corrections to campaign: 20793-open-pbp-the-rest-in-the-quest\n",
      "🗑️ Removing single-post characters: ['Feral', 'Kalahari']\n",
      "⚠️ Character name conflict: 'Arnold' used by players ['Kishu', 'Virst']\n",
      "⚠️ Character name conflict: 'Flint' used by players ['Foalan2003', 'WoobyDoobyDoo']\n",
      "⚠️ Character name conflict: 'Ana' used by players ['badpanda', 'Nantook']\n",
      "✅ Player Kishu: 'Arnold' (confirmed correct)\n",
      "🔄 Player Virst: 'Arnold' → 'Sloth'\n",
      "✅ Player Foalan2003: 'Flint' (confirmed correct)\n",
      "🔄 Player WoobyDoobyDoo: 'Flint' → 'Only-The-Cold'\n",
      "✅ Player badpanda: 'Ana' (confirmed correct)\n"
     ]
    },
    {
     "name": "stderr",
     "output_type": "stream",
     "text": [
      "Loading campaigns:  15%|█▌        | 149/985 [01:25<12:35,  1.11it/s]"
     ]
    },
    {
     "name": "stdout",
     "output_type": "stream",
     "text": [
      "🔄 Player Nantook: 'Ana' → 'Slider'\n",
      "✅ Corrections completed for campaign: 20793-open-pbp-the-rest-in-the-quest\n",
      "📚 Loaded manual corrections for 1 campaigns\n",
      "🔧 Applying corrections to campaign: 20841-shadows-of-the-dusk-queen-group-1\n",
      "✅ Corrections completed for campaign: 20841-shadows-of-the-dusk-queen-group-1\n"
     ]
    },
    {
     "name": "stderr",
     "output_type": "stream",
     "text": [
      "Loading campaigns:  15%|█▌        | 151/985 [01:25<08:24,  1.65it/s]"
     ]
    },
    {
     "name": "stdout",
     "output_type": "stream",
     "text": [
      "📚 Loaded manual corrections for 1 campaigns\n",
      "🔧 Applying corrections to campaign: 20846-bartys-blade-bizarre-doom-portals-part-1a\n",
      "✅ Corrections completed for campaign: 20846-bartys-blade-bizarre-doom-portals-part-1a\n",
      "📚 Loaded manual corrections for 1 campaigns\n",
      "🔧 Applying corrections to campaign: 20950-the-war-of-no-end-group-b\n",
      "✅ Corrections completed for campaign: 20950-the-war-of-no-end-group-b\n",
      "📚 Loaded manual corrections for 1 campaigns\n",
      "🔧 Applying corrections to campaign: 20978-the-shield-of-bahamut\n",
      "✅ Corrections completed for campaign: 20978-the-shield-of-bahamut\n"
     ]
    },
    {
     "name": "stderr",
     "output_type": "stream",
     "text": [
      "Loading campaigns:  16%|█▌        | 153/985 [01:26<06:51,  2.02it/s]"
     ]
    },
    {
     "name": "stdout",
     "output_type": "stream",
     "text": [
      "📚 Loaded manual corrections for 1 campaigns\n",
      "🔧 Applying corrections to campaign: 21057-tyranny-of-dragons-campaign-feanor44-dm\n",
      "✅ Corrections completed for campaign: 21057-tyranny-of-dragons-campaign-feanor44-dm\n",
      "📚 Loaded manual corrections for 1 campaigns\n",
      "🔧 Applying corrections to campaign: 21069-shipwrecked-mini-adventure\n",
      "✅ Corrections completed for campaign: 21069-shipwrecked-mini-adventure\n",
      "📚 Loaded manual corrections for 1 campaigns\n",
      "🔧 Applying corrections to campaign: 21089-hoard-of-the-dragon-queen-dm-virst\n",
      "✅ Corrections completed for campaign: 21089-hoard-of-the-dragon-queen-dm-virst\n"
     ]
    },
    {
     "name": "stderr",
     "output_type": "stream",
     "text": [
      "Loading campaigns:  16%|█▌        | 156/985 [01:26<04:25,  3.12it/s]"
     ]
    },
    {
     "name": "stdout",
     "output_type": "stream",
     "text": [
      "📚 Loaded manual corrections for 1 campaigns\n",
      "🔧 Applying corrections to campaign: 21242-waiting-for-adventure\n",
      "✅ Corrections completed for campaign: 21242-waiting-for-adventure\n",
      "📚 Loaded manual corrections for 1 campaigns\n",
      "🔧 Applying corrections to campaign: 21281-rescue-at-rivenroar\n",
      "🗑️ Removing single-post characters: ['Fezzik']\n",
      "✅ Corrections completed for campaign: 21281-rescue-at-rivenroar\n"
     ]
    },
    {
     "name": "stderr",
     "output_type": "stream",
     "text": [
      "Loading campaigns:  16%|█▌        | 160/985 [01:26<02:52,  4.78it/s]"
     ]
    },
    {
     "name": "stdout",
     "output_type": "stream",
     "text": [
      "📚 Loaded manual corrections for 1 campaigns\n",
      "🔧 Applying corrections to campaign: 21305-the-city-of-oakharbour\n",
      "✅ Corrections completed for campaign: 21305-the-city-of-oakharbour\n",
      "📚 Loaded manual corrections for 1 campaigns\n",
      "🔧 Applying corrections to campaign: 21314-the-screams-at-dawn-dm-lerus\n",
      "✅ Corrections completed for campaign: 21314-the-screams-at-dawn-dm-lerus\n",
      "📚 Loaded manual corrections for 1 campaigns\n",
      "🔧 Applying corrections to campaign: 2143-codex-anathema-vol-viii-rise-of-the-quori\n",
      "✅ Corrections completed for campaign: 2143-codex-anathema-vol-viii-rise-of-the-quori\n"
     ]
    },
    {
     "name": "stderr",
     "output_type": "stream",
     "text": [
      "Loading campaigns:  16%|█▋        | 162/985 [01:27<02:27,  5.60it/s]"
     ]
    },
    {
     "name": "stdout",
     "output_type": "stream",
     "text": [
      "📚 Loaded manual corrections for 1 campaigns\n",
      "🔧 Applying corrections to campaign: 21737-tomb-of-horrors-desert\n",
      "✅ Corrections completed for campaign: 21737-tomb-of-horrors-desert\n",
      "📚 Loaded manual corrections for 1 campaigns\n",
      "🔧 Applying corrections to campaign: 21780-pbp-crypt-of-the-elf-king\n",
      "🗑️ Removing single-post characters: ['S éo']\n",
      "✅ Corrections completed for campaign: 21780-pbp-crypt-of-the-elf-king\n",
      "📚 Loaded manual corrections for 1 campaigns\n",
      "🔧 Applying corrections to campaign: 21956-trial-by-fire\n",
      "🗑️ Removing single-post characters: ['Taryas Thorngage', 'Sigil']\n",
      "✅ Corrections completed for campaign: 21956-trial-by-fire\n"
     ]
    },
    {
     "name": "stderr",
     "output_type": "stream",
     "text": [
      "Loading campaigns:  17%|█▋        | 166/985 [01:27<01:57,  6.98it/s]"
     ]
    },
    {
     "name": "stdout",
     "output_type": "stream",
     "text": [
      "📚 Loaded manual corrections for 1 campaigns\n",
      "🔧 Applying corrections to campaign: 21958-void-beyond-the-stars-rebirth\n",
      "✅ Corrections completed for campaign: 21958-void-beyond-the-stars-rebirth\n",
      "📚 Loaded manual corrections for 1 campaigns\n",
      "🔧 Applying corrections to campaign: 21967-tomb-of-horrors-swamp\n",
      "✅ Corrections completed for campaign: 21967-tomb-of-horrors-swamp\n",
      "📚 Loaded manual corrections for 1 campaigns\n",
      "🔧 Applying corrections to campaign: 22166-a-ilha-pt-pt\n",
      "⚠️ Character name conflict: 'Não' used by players ['ObiChe', 'mrtranqui']\n",
      "🔄 Player ObiChe: 'Não' → 'Koordak'\n"
     ]
    },
    {
     "name": "stderr",
     "output_type": "stream",
     "text": [
      "Loading campaigns:  17%|█▋        | 168/985 [01:28<03:50,  3.55it/s]"
     ]
    },
    {
     "name": "stdout",
     "output_type": "stream",
     "text": [
      "🔄 Player mrtranqui: 'Não' → 'Scratch'\n",
      "✅ Corrections completed for campaign: 22166-a-ilha-pt-pt\n",
      "📚 Loaded manual corrections for 1 campaigns\n",
      "🔧 Applying corrections to campaign: 22250-ddex-01-04-dues-for-the-dead\n",
      "✅ Corrections completed for campaign: 22250-ddex-01-04-dues-for-the-dead\n",
      "📚 Loaded manual corrections for 1 campaigns\n",
      "🔧 Applying corrections to campaign: 22396-the-chronicles-of-arden-sheercleft\n",
      "✅ Corrections completed for campaign: 22396-the-chronicles-of-arden-sheercleft\n"
     ]
    },
    {
     "name": "stderr",
     "output_type": "stream",
     "text": [
      "Loading campaigns:  17%|█▋        | 170/985 [01:29<04:17,  3.17it/s]"
     ]
    },
    {
     "name": "stdout",
     "output_type": "stream",
     "text": [
      "📚 Loaded manual corrections for 1 campaigns\n",
      "🔧 Applying corrections to campaign: 22398-curse-of-strahd\n",
      "✅ Corrections completed for campaign: 22398-curse-of-strahd\n",
      "📚 Loaded manual corrections for 1 campaigns\n",
      "🔧 Applying corrections to campaign: 22412-the-sunless-citadel\n",
      "✅ Corrections completed for campaign: 22412-the-sunless-citadel\n",
      "📚 Loaded manual corrections for 1 campaigns\n",
      "🔧 Applying corrections to campaign: 22461-the-shards-of-sharn-group-thread-by-pokepaladdy\n",
      "🗑️ Removing single-post characters: ['Tarhorn Laydbek']\n",
      "⚠️ Character name conflict: 'Boo' used by players ['DirtyDogP', 'Oddlot']\n",
      "🔄 Player DirtyDogP: 'Boo' → 'Eleven'\n"
     ]
    },
    {
     "name": "stderr",
     "output_type": "stream",
     "text": [
      "Loading campaigns:  17%|█▋        | 172/985 [01:31<06:19,  2.14it/s]"
     ]
    },
    {
     "name": "stdout",
     "output_type": "stream",
     "text": [
      "🔄 Player Oddlot: 'Boo' → 'Boosandei Belfrye'\n",
      "✅ Corrections completed for campaign: 22461-the-shards-of-sharn-group-thread-by-pokepaladdy\n",
      "📚 Loaded manual corrections for 1 campaigns\n",
      "🔧 Applying corrections to campaign: 22468-the-gm-o-a-t-s-eberron-the-mark-of-the-betrayed-an\n",
      "🗑️ Removing single-post characters: ['Carrick', 'Esmé', 'Odmun']\n",
      "⚠️ Character name conflict: 'Wes' used by players ['FrandalSilvereyes', 'JacWalke']\n",
      "🔄 Player FrandalSilvereyes: 'Wes' → 'Vrailin Lyrandar'\n"
     ]
    },
    {
     "name": "stderr",
     "output_type": "stream",
     "text": [
      "Loading campaigns:  18%|█▊        | 173/985 [01:32<08:45,  1.55it/s]"
     ]
    },
    {
     "name": "stdout",
     "output_type": "stream",
     "text": [
      "✅ Player JacWalke: 'Wes' (confirmed correct)\n",
      "✅ Corrections completed for campaign: 22468-the-gm-o-a-t-s-eberron-the-mark-of-the-betrayed-an\n",
      "📚 Loaded manual corrections for 1 campaigns\n",
      "🔧 Applying corrections to campaign: 22493-felix-and-friends\n",
      "✅ Corrections completed for campaign: 22493-felix-and-friends\n",
      "📚 Loaded manual corrections for 1 campaigns\n",
      "🔧 Applying corrections to campaign: 22524-the-gruesome-tomb-of-horrors-campaign\n",
      "✅ Corrections completed for campaign: 22524-the-gruesome-tomb-of-horrors-campaign\n"
     ]
    },
    {
     "name": "stderr",
     "output_type": "stream",
     "text": [
      "Loading campaigns:  18%|█▊        | 177/985 [01:32<04:10,  3.23it/s]"
     ]
    },
    {
     "name": "stdout",
     "output_type": "stream",
     "text": [
      "📚 Loaded manual corrections for 1 campaigns\n",
      "🔧 Applying corrections to campaign: 22532-princes-of-the-apocalypse-group-1\n",
      "✅ Corrections completed for campaign: 22532-princes-of-the-apocalypse-group-1\n",
      "📚 Loaded manual corrections for 1 campaigns\n",
      "🔧 Applying corrections to campaign: 22648-the-forgotten-forge-an-eberron-adventure-5e\n",
      "✅ Corrections completed for campaign: 22648-the-forgotten-forge-an-eberron-adventure-5e\n",
      "📚 Loaded manual corrections for 1 campaigns\n",
      "🔧 Applying corrections to campaign: 22657-official-out-of-the-abyss\n",
      "✅ Corrections completed for campaign: 22657-official-out-of-the-abyss\n"
     ]
    },
    {
     "name": "stderr",
     "output_type": "stream",
     "text": [
      "Loading campaigns:  18%|█▊        | 178/985 [01:32<04:00,  3.36it/s]"
     ]
    },
    {
     "name": "stdout",
     "output_type": "stream",
     "text": [
      "📚 Loaded manual corrections for 1 campaigns\n",
      "🔧 Applying corrections to campaign: 22746-curse-of-strahd\n",
      "⚠️ Character name conflict: 'Thrash' used by players ['Wreckzors', 'WoobyDoobyDoo']\n",
      "🔄 Player Wreckzors: 'Thrash' → 'Trash'\n",
      "🔄 Player WoobyDoobyDoo: 'Thrash' → 'Only-The-Cold'\n",
      "✅ Corrections completed for campaign: 22746-curse-of-strahd\n"
     ]
    },
    {
     "name": "stderr",
     "output_type": "stream",
     "text": [
      "Loading campaigns:  18%|█▊        | 179/985 [01:34<07:44,  1.74it/s]"
     ]
    },
    {
     "name": "stdout",
     "output_type": "stream",
     "text": [
      "📚 Loaded manual corrections for 1 campaigns\n",
      "🔧 Applying corrections to campaign: 22827-what-is-and-what-should-never-be-shepherds-of\n",
      "✅ Corrections completed for campaign: 22827-what-is-and-what-should-never-be-shepherds-of\n"
     ]
    },
    {
     "name": "stderr",
     "output_type": "stream",
     "text": [
      "Loading campaigns:  18%|█▊        | 180/985 [01:34<07:38,  1.76it/s]"
     ]
    },
    {
     "name": "stdout",
     "output_type": "stream",
     "text": [
      "📚 Loaded manual corrections for 1 campaigns\n",
      "🔧 Applying corrections to campaign: 22830-vashs-undead-nightmare\n",
      "✅ Corrections completed for campaign: 22830-vashs-undead-nightmare\n",
      "📚 Loaded manual corrections for 1 campaigns\n",
      "🔧 Applying corrections to campaign: 22994-tomb-of-annihilation\n",
      "⚠️ Character name conflict: 'Mel' used by players ['Mehmen', 'LordShadowthorn']\n",
      "🔄 Player Mehmen: 'Mel' → 'Nobody'\n"
     ]
    },
    {
     "name": "stderr",
     "output_type": "stream",
     "text": [
      "Loading campaigns:  18%|█▊        | 182/985 [01:36<08:13,  1.63it/s]"
     ]
    },
    {
     "name": "stdout",
     "output_type": "stream",
     "text": [
      "🔄 Player LordShadowthorn: 'Mel' → 'Melanthios'\n",
      "✅ Corrections completed for campaign: 22994-tomb-of-annihilation\n",
      "📚 Loaded manual corrections for 1 campaigns\n",
      "🔧 Applying corrections to campaign: 22995-tomb-of-annihilation\n",
      "✅ Corrections completed for campaign: 22995-tomb-of-annihilation\n",
      "📚 Loaded manual corrections for 1 campaigns\n",
      "🔧 Applying corrections to campaign: 2317-beregost-blues\n",
      "⚠️ Character name conflict: 'Zina' used by players ['DJMac', 'DungeonMaya']\n",
      "🔄 Player DJMac: 'Zina' → 'Argonox Vindaine'\n",
      "🔄 Player DungeonMaya: 'Zina' → 'Kook'\n",
      "✅ Corrections completed for campaign: 2317-beregost-blues\n"
     ]
    },
    {
     "name": "stderr",
     "output_type": "stream",
     "text": [
      "Loading campaigns:  19%|█▊        | 184/985 [01:38<09:51,  1.35it/s]"
     ]
    },
    {
     "name": "stdout",
     "output_type": "stream",
     "text": [
      "📚 Loaded manual corrections for 1 campaigns\n",
      "🔧 Applying corrections to campaign: 23291-out-of-the-abyss\n",
      "✅ Corrections completed for campaign: 23291-out-of-the-abyss\n"
     ]
    },
    {
     "name": "stderr",
     "output_type": "stream",
     "text": [
      "Loading campaigns:  19%|█▉        | 186/985 [01:38<06:52,  1.94it/s]"
     ]
    },
    {
     "name": "stdout",
     "output_type": "stream",
     "text": [
      "📚 Loaded manual corrections for 1 campaigns\n",
      "🔧 Applying corrections to campaign: 23392-reborn\n",
      "✅ Corrections completed for campaign: 23392-reborn\n",
      "📚 Loaded manual corrections for 1 campaigns\n",
      "🔧 Applying corrections to campaign: 23433-the-case-of-the-missing-schema\n",
      "✅ Corrections completed for campaign: 23433-the-case-of-the-missing-schema\n",
      "📚 Loaded manual corrections for 1 campaigns\n",
      "🔧 Applying corrections to campaign: 23445-the-next-leap\n",
      "✅ Corrections completed for campaign: 23445-the-next-leap\n"
     ]
    },
    {
     "name": "stderr",
     "output_type": "stream",
     "text": [
      "Loading campaigns:  19%|█▉        | 189/985 [01:39<05:10,  2.57it/s]"
     ]
    },
    {
     "name": "stdout",
     "output_type": "stream",
     "text": [
      "📚 Loaded manual corrections for 1 campaigns\n",
      "🔧 Applying corrections to campaign: 23457-indrafatmokos-defiance-in-phlan\n",
      "✅ Corrections completed for campaign: 23457-indrafatmokos-defiance-in-phlan\n",
      "📚 Loaded manual corrections for 1 campaigns\n",
      "🔧 Applying corrections to campaign: 23579-shards-of-sharn-group-a\n",
      "✅ Corrections completed for campaign: 23579-shards-of-sharn-group-a\n"
     ]
    },
    {
     "name": "stderr",
     "output_type": "stream",
     "text": [
      "Loading campaigns:  19%|█▉        | 190/985 [01:39<04:16,  3.10it/s]"
     ]
    },
    {
     "name": "stdout",
     "output_type": "stream",
     "text": [
      "📚 Loaded manual corrections for 1 campaigns\n",
      "🔧 Applying corrections to campaign: 23580-shards-of-sharn-group-1\n",
      "✅ Corrections completed for campaign: 23580-shards-of-sharn-group-1\n",
      "📚 Loaded manual corrections for 1 campaigns\n",
      "🔧 Applying corrections to campaign: 23649-elustran-days\n",
      "✅ Corrections completed for campaign: 23649-elustran-days\n"
     ]
    },
    {
     "name": "stderr",
     "output_type": "stream",
     "text": [
      "Loading campaigns:  19%|█▉        | 192/985 [01:39<03:24,  3.88it/s]"
     ]
    },
    {
     "name": "stdout",
     "output_type": "stream",
     "text": [
      "📚 Loaded manual corrections for 1 campaigns\n",
      "🔧 Applying corrections to campaign: 23690-lost-mines-of-phandelver-with-dm-ceekay77\n",
      "⚠️ Character name conflict: 'Anton' used by players ['Esker', 'Jynne']\n",
      "✅ Player Esker: 'Anton' (confirmed correct)\n",
      "🔄 Player Jynne: 'Anton' → 'Riverwing'\n",
      "✅ Corrections completed for campaign: 23690-lost-mines-of-phandelver-with-dm-ceekay77\n"
     ]
    },
    {
     "name": "stderr",
     "output_type": "stream",
     "text": [
      "Loading campaigns:  20%|█▉        | 193/985 [01:41<07:39,  1.72it/s]"
     ]
    },
    {
     "name": "stdout",
     "output_type": "stream",
     "text": [
      "📚 Loaded manual corrections for 1 campaigns\n",
      "🔧 Applying corrections to campaign: 23730-the-tavern\n",
      "⚠️ Character name conflict: 'Karriz' used by players ['Galthor', 'pokepaladdy']\n",
      "⚠️ Character name conflict: 'Goliath' used by players ['Skorgevondoom', 'TimeAlchemist']\n",
      "🔄 Player Galthor: 'Karriz' → 'Thalion'\n",
      "✅ Player pokepaladdy: 'Karriz' (confirmed correct)\n",
      "🔄 Player Skorgevondoom: 'Goliath' → 'Tark'\n"
     ]
    },
    {
     "name": "stderr",
     "output_type": "stream",
     "text": [
      "Loading campaigns:  20%|█▉        | 194/985 [01:44<14:33,  1.10s/it]"
     ]
    },
    {
     "name": "stdout",
     "output_type": "stream",
     "text": [
      "🔄 Player TimeAlchemist: 'Goliath' → 'Keo Dawnbreaker Ikaika'\n",
      "✅ Corrections completed for campaign: 23730-the-tavern\n",
      "📚 Loaded manual corrections for 1 campaigns\n",
      "🔧 Applying corrections to campaign: 23733-the-dead-at-highsun-dm-lerus\n",
      "✅ Corrections completed for campaign: 23733-the-dead-at-highsun-dm-lerus\n"
     ]
    },
    {
     "name": "stderr",
     "output_type": "stream",
     "text": [
      "Loading campaigns:  20%|█▉        | 196/985 [01:44<08:46,  1.50it/s]"
     ]
    },
    {
     "name": "stdout",
     "output_type": "stream",
     "text": [
      "📚 Loaded manual corrections for 1 campaigns\n",
      "🔧 Applying corrections to campaign: 23808-anvil-of-gods-main\n",
      "✅ Corrections completed for campaign: 23808-anvil-of-gods-main\n",
      "📚 Loaded manual corrections for 1 campaigns\n",
      "🔧 Applying corrections to campaign: 23854-the-rogues-gallery\n",
      "✅ Corrections completed for campaign: 23854-the-rogues-gallery\n"
     ]
    },
    {
     "name": "stderr",
     "output_type": "stream",
     "text": [
      "Loading campaigns:  20%|██        | 198/985 [01:45<05:43,  2.29it/s]"
     ]
    },
    {
     "name": "stdout",
     "output_type": "stream",
     "text": [
      "📚 Loaded manual corrections for 1 campaigns\n",
      "🔧 Applying corrections to campaign: 23895-runnerricks-into-the-borderlands\n",
      "✅ Corrections completed for campaign: 23895-runnerricks-into-the-borderlands\n",
      "📚 Loaded manual corrections for 1 campaigns\n",
      "🔧 Applying corrections to campaign: 23927-masters-of-eothia-1-20\n",
      "✅ Corrections completed for campaign: 23927-masters-of-eothia-1-20\n"
     ]
    },
    {
     "name": "stderr",
     "output_type": "stream",
     "text": [
      "Loading campaigns:  20%|██        | 200/985 [01:45<04:29,  2.91it/s]"
     ]
    },
    {
     "name": "stdout",
     "output_type": "stream",
     "text": [
      "📚 Loaded manual corrections for 1 campaigns\n",
      "🔧 Applying corrections to campaign: 23933-gamblers-quest\n",
      "✅ Corrections completed for campaign: 23933-gamblers-quest\n",
      "📚 Loaded manual corrections for 1 campaigns\n",
      "🔧 Applying corrections to campaign: 23963-dragon-heist-8-pbp-offical-thread\n",
      "⚠️ Character name conflict: 'Azrael' used by players ['AfroSamurai', 'Raiketsu']\n",
      "🔄 Player AfroSamurai: 'Azrael' → 'FC'\n",
      "🔄 Player Raiketsu: 'Azrael' → 'Azrael Zifandiel'\n",
      "✅ Corrections completed for campaign: 23963-dragon-heist-8-pbp-offical-thread\n"
     ]
    },
    {
     "name": "stderr",
     "output_type": "stream",
     "text": [
      "Loading campaigns:  21%|██        | 202/985 [01:47<08:13,  1.59it/s]"
     ]
    },
    {
     "name": "stdout",
     "output_type": "stream",
     "text": [
      "📚 Loaded manual corrections for 1 campaigns\n",
      "🔧 Applying corrections to campaign: 24003-red-skies-in-mourning\n",
      "✅ Corrections completed for campaign: 24003-red-skies-in-mourning\n",
      "📚 Loaded manual corrections for 1 campaigns\n",
      "🔧 Applying corrections to campaign: 2406-void-beyond-the-stars\n",
      "✅ Corrections completed for campaign: 2406-void-beyond-the-stars\n"
     ]
    },
    {
     "name": "stderr",
     "output_type": "stream",
     "text": [
      "Loading campaigns:  21%|██        | 203/985 [01:47<06:14,  2.09it/s]"
     ]
    },
    {
     "name": "stdout",
     "output_type": "stream",
     "text": [
      "📚 Loaded manual corrections for 1 campaigns\n",
      "🔧 Applying corrections to campaign: 24111-princes-of-the-apocalypse-group-2\n",
      "✅ Corrections completed for campaign: 24111-princes-of-the-apocalypse-group-2\n",
      "📚 Loaded manual corrections for 1 campaigns\n",
      "🔧 Applying corrections to campaign: 24119-bittborg-awaits\n",
      "⚠️ Character name conflict: 'Nox' used by players ['Nekraen', '_Epiphany_']\n",
      "🔄 Player Nekraen: 'Nox' → 'Renna Harper'\n"
     ]
    },
    {
     "name": "stderr",
     "output_type": "stream",
     "text": [
      "Loading campaigns:  21%|██        | 207/985 [01:49<05:24,  2.39it/s]"
     ]
    },
    {
     "name": "stdout",
     "output_type": "stream",
     "text": [
      "🔄 Player _Epiphany_: 'Nox' → 'Emeny Weaver'\n",
      "✅ Corrections completed for campaign: 24119-bittborg-awaits\n",
      "📚 Loaded manual corrections for 1 campaigns\n",
      "🔧 Applying corrections to campaign: 24232-a-bird-in-the-hand\n",
      "✅ Corrections completed for campaign: 24232-a-bird-in-the-hand\n",
      "📚 Loaded manual corrections for 1 campaigns\n",
      "🔧 Applying corrections to campaign: 24299-end-of-a-campaign\n",
      "✅ Corrections completed for campaign: 24299-end-of-a-campaign\n",
      "📚 Loaded manual corrections for 1 campaigns\n",
      "🔧 Applying corrections to campaign: 24305-the-continent-of-avamoore\n",
      "✅ Corrections completed for campaign: 24305-the-continent-of-avamoore\n",
      "📚 Loaded manual corrections for 1 campaigns\n",
      "🔧 Applying corrections to campaign: 24333-the-giants-unrest\n",
      "⚠️ Character name conflict: 'Vigan' used by players ['MindDetective', 'ceuk24']\n",
      "🔄 Player MindDetective: 'Vigan' → 'Rixton'\n",
      "✅ Player ceuk24: 'Vigan' (confirmed correct)\n",
      "✅ Corrections completed for campaign: 24333-the-giants-unrest\n"
     ]
    },
    {
     "name": "stderr",
     "output_type": "stream",
     "text": [
      "Loading campaigns:  21%|██        | 209/985 [01:51<07:29,  1.73it/s]"
     ]
    },
    {
     "name": "stdout",
     "output_type": "stream",
     "text": [
      "📚 Loaded manual corrections for 1 campaigns\n",
      "🔧 Applying corrections to campaign: 24345-echoes-of-the-past-a-lmop-adventure\n",
      "✅ Corrections completed for campaign: 24345-echoes-of-the-past-a-lmop-adventure\n"
     ]
    },
    {
     "name": "stderr",
     "output_type": "stream",
     "text": [
      "Loading campaigns:  21%|██▏       | 210/985 [01:52<07:29,  1.72it/s]"
     ]
    },
    {
     "name": "stdout",
     "output_type": "stream",
     "text": [
      "📚 Loaded manual corrections for 1 campaigns\n",
      "🔧 Applying corrections to campaign: 24373-continued-table-toppery\n",
      "✅ Corrections completed for campaign: 24373-continued-table-toppery\n"
     ]
    },
    {
     "name": "stderr",
     "output_type": "stream",
     "text": [
      "Loading campaigns:  22%|██▏       | 212/985 [01:52<05:20,  2.42it/s]"
     ]
    },
    {
     "name": "stdout",
     "output_type": "stream",
     "text": [
      "📚 Loaded manual corrections for 1 campaigns\n",
      "🔧 Applying corrections to campaign: 24464-rise-of-the-rough-riders\n",
      "✅ Corrections completed for campaign: 24464-rise-of-the-rough-riders\n",
      "📚 Loaded manual corrections for 1 campaigns\n",
      "🔧 Applying corrections to campaign: 24475-dragon-heist-espanol\n",
      "🗑️ Removing single-post characters: ['Nombre', 'Todavía']\n",
      "✅ Corrections completed for campaign: 24475-dragon-heist-espanol\n",
      "📚 Loaded manual corrections for 1 campaigns\n",
      "🔧 Applying corrections to campaign: 24536-dragon-heist\n",
      "✅ Corrections completed for campaign: 24536-dragon-heist\n"
     ]
    },
    {
     "name": "stderr",
     "output_type": "stream",
     "text": [
      "Loading campaigns:  22%|██▏       | 214/985 [01:52<03:39,  3.52it/s]"
     ]
    },
    {
     "name": "stdout",
     "output_type": "stream",
     "text": [
      "📚 Loaded manual corrections for 1 campaigns\n",
      "🔧 Applying corrections to campaign: 24603-blood-scales-game\n",
      "✅ Corrections completed for campaign: 24603-blood-scales-game\n"
     ]
    },
    {
     "name": "stderr",
     "output_type": "stream",
     "text": [
      "Loading campaigns:  22%|██▏       | 216/985 [01:53<04:24,  2.91it/s]"
     ]
    },
    {
     "name": "stdout",
     "output_type": "stream",
     "text": [
      "📚 Loaded manual corrections for 1 campaigns\n",
      "🔧 Applying corrections to campaign: 24730-once-in-waterdeep-curtain-call\n",
      "✅ Corrections completed for campaign: 24730-once-in-waterdeep-curtain-call\n",
      "📚 Loaded manual corrections for 1 campaigns\n",
      "🔧 Applying corrections to campaign: 24731-once-in-waterdeep-take-a-bow\n",
      "✅ Corrections completed for campaign: 24731-once-in-waterdeep-take-a-bow\n"
     ]
    },
    {
     "name": "stderr",
     "output_type": "stream",
     "text": [
      "Loading campaigns:  22%|██▏       | 217/985 [01:53<03:38,  3.52it/s]"
     ]
    },
    {
     "name": "stdout",
     "output_type": "stream",
     "text": [
      "📚 Loaded manual corrections for 1 campaigns\n",
      "🔧 Applying corrections to campaign: 24765-lost-notes-of-vasileo\n",
      "✅ Corrections completed for campaign: 24765-lost-notes-of-vasileo\n",
      "📚 Loaded manual corrections for 1 campaigns\n",
      "🔧 Applying corrections to campaign: 24959-very-laid-back-playing-of-hoard-of-the-dragon\n",
      "🗑️ Removing single-post characters: ['Ahriman', 'Parcet', 'Maximilian']\n",
      "✅ Corrections completed for campaign: 24959-very-laid-back-playing-of-hoard-of-the-dragon\n"
     ]
    },
    {
     "name": "stderr",
     "output_type": "stream",
     "text": [
      "Loading campaigns:  22%|██▏       | 221/985 [01:54<02:14,  5.68it/s]"
     ]
    },
    {
     "name": "stdout",
     "output_type": "stream",
     "text": [
      "📚 Loaded manual corrections for 1 campaigns\n",
      "🔧 Applying corrections to campaign: 24965-bartys-betrayal-at-devilsfall-doom-portals-part-2a\n",
      "✅ Corrections completed for campaign: 24965-bartys-betrayal-at-devilsfall-doom-portals-part-2a\n",
      "📚 Loaded manual corrections for 1 campaigns\n",
      "🔧 Applying corrections to campaign: 24972-white-plume-mountain\n",
      "✅ Corrections completed for campaign: 24972-white-plume-mountain\n",
      "📚 Loaded manual corrections for 1 campaigns\n",
      "🔧 Applying corrections to campaign: 25033-waterdeep-dragon-heist\n",
      "⚠️ Character name conflict: 'Dihek'nir' used by players ['Wreckzors', 'Winenose']\n",
      "🔄 Player Wreckzors: 'Dihek'nir' → 'E5P10NAG3'\n"
     ]
    },
    {
     "name": "stderr",
     "output_type": "stream",
     "text": [
      "Loading campaigns:  23%|██▎       | 223/985 [01:55<04:28,  2.84it/s]"
     ]
    },
    {
     "name": "stdout",
     "output_type": "stream",
     "text": [
      "✅ Player Winenose: 'Dihek'nir' (confirmed correct)\n",
      "✅ Corrections completed for campaign: 25033-waterdeep-dragon-heist\n",
      "📚 Loaded manual corrections for 1 campaigns\n",
      "🔧 Applying corrections to campaign: 25098-a-shock-at-evenfeast-dm-lerus\n",
      "✅ Corrections completed for campaign: 25098-a-shock-at-evenfeast-dm-lerus\n",
      "📚 Loaded manual corrections for 1 campaigns\n",
      "🔧 Applying corrections to campaign: 25109-lost-mine-of-phandelver-charwoman-gene\n",
      "✅ Corrections completed for campaign: 25109-lost-mine-of-phandelver-charwoman-gene\n",
      "📚 Loaded manual corrections for 1 campaigns\n",
      "🔧 Applying corrections to campaign: 25374-the-mistarl-an-adventure-in-the-black-maze\n",
      "✅ Corrections completed for campaign: 25374-the-mistarl-an-adventure-in-the-black-maze\n"
     ]
    },
    {
     "name": "stderr",
     "output_type": "stream",
     "text": [
      "Loading campaigns:  23%|██▎       | 225/985 [01:55<03:55,  3.23it/s]"
     ]
    },
    {
     "name": "stdout",
     "output_type": "stream",
     "text": [
      "📚 Loaded manual corrections for 1 campaigns\n",
      "🔧 Applying corrections to campaign: 25598-a-curse-of-strahds-ic\n",
      "⚠️ Character name conflict: 'Embir' used by players ['mspencemusic98', 'Sirdi']\n",
      "✅ Player mspencemusic98: 'Embir' (confirmed correct)\n",
      "✅ Player Sirdi: 'Embir' (confirmed correct)\n",
      "✅ Corrections completed for campaign: 25598-a-curse-of-strahds-ic\n"
     ]
    },
    {
     "name": "stderr",
     "output_type": "stream",
     "text": [
      "Loading campaigns:  23%|██▎       | 226/985 [01:57<07:40,  1.65it/s]"
     ]
    },
    {
     "name": "stdout",
     "output_type": "stream",
     "text": [
      "📚 Loaded manual corrections for 1 campaigns\n",
      "🔧 Applying corrections to campaign: 25603-the-lost-ones\n",
      "✅ Corrections completed for campaign: 25603-the-lost-ones\n",
      "📚 Loaded manual corrections for 1 campaigns\n",
      "🔧 Applying corrections to campaign: 25810-tanziers-waterdeep-dragon-heist\n",
      "✅ Corrections completed for campaign: 25810-tanziers-waterdeep-dragon-heist\n"
     ]
    },
    {
     "name": "stderr",
     "output_type": "stream",
     "text": [
      "Loading campaigns:  23%|██▎       | 230/985 [01:58<04:04,  3.09it/s]"
     ]
    },
    {
     "name": "stdout",
     "output_type": "stream",
     "text": [
      "📚 Loaded manual corrections for 1 campaigns\n",
      "🔧 Applying corrections to campaign: 25856-spelljammer-beyond-evadil-by-pokepaladdy\n",
      "✅ Corrections completed for campaign: 25856-spelljammer-beyond-evadil-by-pokepaladdy\n",
      "📚 Loaded manual corrections for 1 campaigns\n",
      "🔧 Applying corrections to campaign: 25857-tyrants-terrors-1st-edition\n",
      "✅ Corrections completed for campaign: 25857-tyrants-terrors-1st-edition\n",
      "📚 Loaded manual corrections for 1 campaigns\n",
      "🔧 Applying corrections to campaign: 26003-octoberween-cornfield-of-dooom\n",
      "✅ Corrections completed for campaign: 26003-octoberween-cornfield-of-dooom\n",
      "📚 Loaded manual corrections for 1 campaigns\n",
      "🔧 Applying corrections to campaign: 2606-stormphrax-rising-ooc\n",
      "⚠️ Character name conflict: 'Rammen' used by players ['Barlow', 'ArgentTheWise']\n",
      "🔄 Player Barlow: 'Rammen' → 'Valen'\n"
     ]
    },
    {
     "name": "stderr",
     "output_type": "stream",
     "text": [
      "Loading campaigns:  24%|██▍       | 234/985 [01:59<03:49,  3.27it/s]"
     ]
    },
    {
     "name": "stdout",
     "output_type": "stream",
     "text": [
      "🔄 Player ArgentTheWise: 'Rammen' → 'Rammenchi Frozen Mountain'\n",
      "✅ Corrections completed for campaign: 2606-stormphrax-rising-ooc\n",
      "📚 Loaded manual corrections for 1 campaigns\n",
      "🔧 Applying corrections to campaign: 26095-delian-tomb-v\n",
      "✅ Corrections completed for campaign: 26095-delian-tomb-v\n",
      "📚 Loaded manual corrections for 1 campaigns\n",
      "🔧 Applying corrections to campaign: 26188-the-trials-all-four-one\n",
      "✅ Corrections completed for campaign: 26188-the-trials-all-four-one\n",
      "📚 Loaded manual corrections for 1 campaigns\n",
      "🔧 Applying corrections to campaign: 26189-the-trials-natural-chaos\n",
      "⚠️ Character name conflict: 'Nox' used by players ['EliteHatter', 'Palfatreos']\n",
      "🔄 Player EliteHatter: 'Nox' → 'Lot'\n"
     ]
    },
    {
     "name": "stderr",
     "output_type": "stream",
     "text": [
      "Loading campaigns:  24%|██▍       | 235/985 [02:01<06:10,  2.02it/s]"
     ]
    },
    {
     "name": "stdout",
     "output_type": "stream",
     "text": [
      "✅ Player Palfatreos: 'Nox' (confirmed correct)\n",
      "✅ Corrections completed for campaign: 26189-the-trials-natural-chaos\n",
      "📚 Loaded manual corrections for 1 campaigns\n",
      "🔧 Applying corrections to campaign: 26292-custom-campaign-halfling-lands\n",
      "✅ Corrections completed for campaign: 26292-custom-campaign-halfling-lands\n"
     ]
    },
    {
     "name": "stderr",
     "output_type": "stream",
     "text": [
      "Loading campaigns:  24%|██▍       | 237/985 [02:01<04:38,  2.69it/s]"
     ]
    },
    {
     "name": "stdout",
     "output_type": "stream",
     "text": [
      "📚 Loaded manual corrections for 1 campaigns\n",
      "🔧 Applying corrections to campaign: 26310-the-blighted-lands\n",
      "✅ Corrections completed for campaign: 26310-the-blighted-lands\n",
      "📚 Loaded manual corrections for 1 campaigns\n",
      "🔧 Applying corrections to campaign: 26313-custom-campaign-cold-cash\n",
      "✅ Corrections completed for campaign: 26313-custom-campaign-cold-cash\n"
     ]
    },
    {
     "name": "stderr",
     "output_type": "stream",
     "text": [
      "Loading campaigns:  24%|██▍       | 238/985 [02:01<04:06,  3.03it/s]"
     ]
    },
    {
     "name": "stdout",
     "output_type": "stream",
     "text": [
      "📚 Loaded manual corrections for 1 campaigns\n",
      "🔧 Applying corrections to campaign: 26318-storm-kings-thunder-the-gods-respond\n",
      "✅ Corrections completed for campaign: 26318-storm-kings-thunder-the-gods-respond\n"
     ]
    },
    {
     "name": "stderr",
     "output_type": "stream",
     "text": [
      "Loading campaigns:  24%|██▍       | 239/985 [02:02<04:52,  2.55it/s]"
     ]
    },
    {
     "name": "stdout",
     "output_type": "stream",
     "text": [
      "📚 Loaded manual corrections for 1 campaigns\n",
      "🔧 Applying corrections to campaign: 26320-the-missing-priest\n",
      "⚠️ Character name conflict: 'Richard' used by players ['Neilysth', 'AndieLuke']\n",
      "🔄 Player Neilysth: 'Richard' → 'Nikolas Andre Billi Supangkat'\n"
     ]
    },
    {
     "name": "stderr",
     "output_type": "stream",
     "text": [
      "Loading campaigns:  24%|██▍       | 240/985 [02:03<07:54,  1.57it/s]"
     ]
    },
    {
     "name": "stdout",
     "output_type": "stream",
     "text": [
      "🔄 Player AndieLuke: 'Richard' → 'Got'ta-Go the Second'\n",
      "✅ Corrections completed for campaign: 26320-the-missing-priest\n",
      "📚 Loaded manual corrections for 1 campaigns\n",
      "🔧 Applying corrections to campaign: 26350-terra-open-world\n",
      "✅ Corrections completed for campaign: 26350-terra-open-world\n"
     ]
    },
    {
     "name": "stderr",
     "output_type": "stream",
     "text": [
      "Loading campaigns:  25%|██▍       | 242/985 [02:03<05:13,  2.37it/s]"
     ]
    },
    {
     "name": "stdout",
     "output_type": "stream",
     "text": [
      "📚 Loaded manual corrections for 1 campaigns\n",
      "🔧 Applying corrections to campaign: 2637-kaladesh-silence-in-peema-ig-rp\n",
      "✅ Corrections completed for campaign: 2637-kaladesh-silence-in-peema-ig-rp\n",
      "📚 Loaded manual corrections for 1 campaigns\n",
      "🔧 Applying corrections to campaign: 26462-fergs-waterdeep-dragon-heist\n",
      "✅ Corrections completed for campaign: 26462-fergs-waterdeep-dragon-heist\n",
      "📚 Loaded manual corrections for 1 campaigns\n",
      "🔧 Applying corrections to campaign: 26474-rul-from-grotto-to-glory\n",
      "✅ Corrections completed for campaign: 26474-rul-from-grotto-to-glory\n"
     ]
    },
    {
     "name": "stderr",
     "output_type": "stream",
     "text": [
      "Loading campaigns:  25%|██▍       | 244/985 [02:04<03:46,  3.28it/s]"
     ]
    },
    {
     "name": "stdout",
     "output_type": "stream",
     "text": [
      "📚 Loaded manual corrections for 1 campaigns\n",
      "🔧 Applying corrections to campaign: 26494-urchin-hostels-and-tavern-deeds\n",
      "⚠️ Character name conflict: 'Chen' used by players ['KerriganNation', 'Longshot5777']\n",
      "✅ Player KerriganNation: 'Chen' (confirmed correct)\n"
     ]
    },
    {
     "name": "stderr",
     "output_type": "stream",
     "text": [
      "Loading campaigns:  25%|██▍       | 245/985 [02:05<06:58,  1.77it/s]"
     ]
    },
    {
     "name": "stdout",
     "output_type": "stream",
     "text": [
      "🔄 Player Longshot5777: 'Chen' → 'Lucian'\n",
      "✅ Corrections completed for campaign: 26494-urchin-hostels-and-tavern-deeds\n",
      "📚 Loaded manual corrections for 1 campaigns\n",
      "🔧 Applying corrections to campaign: 26547-out-of-the-abyss\n",
      "✅ Corrections completed for campaign: 26547-out-of-the-abyss\n"
     ]
    },
    {
     "name": "stderr",
     "output_type": "stream",
     "text": [
      "Loading campaigns:  25%|██▌       | 248/985 [02:06<05:21,  2.29it/s]"
     ]
    },
    {
     "name": "stdout",
     "output_type": "stream",
     "text": [
      "📚 Loaded manual corrections for 1 campaigns\n",
      "🔧 Applying corrections to campaign: 2660-stormphrax-rising-icc\n",
      "✅ Corrections completed for campaign: 2660-stormphrax-rising-icc\n",
      "📚 Loaded manual corrections for 1 campaigns\n",
      "🔧 Applying corrections to campaign: 26628-lost-mine-of-phandelver\n",
      "✅ Corrections completed for campaign: 26628-lost-mine-of-phandelver\n",
      "📚 Loaded manual corrections for 1 campaigns\n",
      "🔧 Applying corrections to campaign: 26723-gladiatorium-game-thread-lion-pride\n",
      "✅ Corrections completed for campaign: 26723-gladiatorium-game-thread-lion-pride\n",
      "📚 Loaded manual corrections for 1 campaigns\n",
      "🔧 Applying corrections to campaign: 26724-gladiatorium-game-thread-the-grim-reapers\n",
      "✅ Corrections completed for campaign: 26724-gladiatorium-game-thread-the-grim-reapers\n",
      "📚 Loaded manual corrections for 1 campaigns\n",
      "🔧 Applying corrections to campaign: 26726-gladiatorium-game-thread-the-blood-sharks\n",
      "✅ Corrections completed for campaign: 26726-gladiatorium-game-thread-the-blood-sharks\n"
     ]
    },
    {
     "name": "stderr",
     "output_type": "stream",
     "text": [
      "Loading campaigns:  25%|██▌       | 251/985 [02:06<03:07,  3.91it/s]"
     ]
    },
    {
     "name": "stdout",
     "output_type": "stream",
     "text": [
      "📚 Loaded manual corrections for 1 campaigns\n",
      "🔧 Applying corrections to campaign: 26786-frontier-city-of-nunkreet\n",
      "✅ Corrections completed for campaign: 26786-frontier-city-of-nunkreet\n",
      "📚 Loaded manual corrections for 1 campaigns\n",
      "🔧 Applying corrections to campaign: 26831-dungeon-of-the-mad-mage-9-pbp\n",
      "⚠️ Character name conflict: 'Alessandra' used by players ['Cherri', 'o_Merlin_o']\n",
      "🔄 Player Cherri: 'Alessandra' → 'Grianne'\n",
      "🔄 Player o_Merlin_o: 'Alessandra' → 'OU812'\n",
      "✅ Corrections completed for campaign: 26831-dungeon-of-the-mad-mage-9-pbp\n"
     ]
    },
    {
     "name": "stderr",
     "output_type": "stream",
     "text": [
      "Loading campaigns:  26%|██▌       | 253/985 [02:09<06:35,  1.85it/s]"
     ]
    },
    {
     "name": "stdout",
     "output_type": "stream",
     "text": [
      "📚 Loaded manual corrections for 1 campaigns\n",
      "🔧 Applying corrections to campaign: 26832-the-lord-of-sands-private\n",
      "⚠️ Character name conflict: 'Sage' used by players ['ItchyTriggerFinger', 'DrowSpellcaster']\n",
      "✅ Player ItchyTriggerFinger: 'Sage' (confirmed correct)\n"
     ]
    },
    {
     "name": "stderr",
     "output_type": "stream",
     "text": [
      "Loading campaigns:  26%|██▌       | 254/985 [02:10<08:31,  1.43it/s]"
     ]
    },
    {
     "name": "stdout",
     "output_type": "stream",
     "text": [
      "🔄 Player DrowSpellcaster: 'Sage' → 'Sage Fulkrum'\n",
      "✅ Corrections completed for campaign: 26832-the-lord-of-sands-private\n",
      "📚 Loaded manual corrections for 1 campaigns\n",
      "🔧 Applying corrections to campaign: 26890-the-danger-at-dusk-dm-lerus\n",
      "✅ Corrections completed for campaign: 26890-the-danger-at-dusk-dm-lerus\n",
      "📚 Loaded manual corrections for 1 campaigns\n",
      "🔧 Applying corrections to campaign: 26940-the-mystery-of-absoli\n",
      "✅ Corrections completed for campaign: 26940-the-mystery-of-absoli\n"
     ]
    },
    {
     "name": "stderr",
     "output_type": "stream",
     "text": [
      "Loading campaigns:  26%|██▌       | 258/985 [02:11<04:18,  2.81it/s]"
     ]
    },
    {
     "name": "stdout",
     "output_type": "stream",
     "text": [
      "📚 Loaded manual corrections for 1 campaigns\n",
      "🔧 Applying corrections to campaign: 26984-the-machine\n",
      "✅ Corrections completed for campaign: 26984-the-machine\n",
      "📚 Loaded manual corrections for 1 campaigns\n",
      "🔧 Applying corrections to campaign: 27046-city-of-sorrow\n",
      "✅ Corrections completed for campaign: 27046-city-of-sorrow\n",
      "📚 Loaded manual corrections for 1 campaigns\n",
      "🔧 Applying corrections to campaign: 27074-curse-of-strahd-play-by-post\n",
      "✅ Corrections completed for campaign: 27074-curse-of-strahd-play-by-post\n",
      "📚 Loaded manual corrections for 1 campaigns\n",
      "🔧 Applying corrections to campaign: 27136-cos-ravens-gate\n",
      "✅ Corrections completed for campaign: 27136-cos-ravens-gate\n"
     ]
    },
    {
     "name": "stderr",
     "output_type": "stream",
     "text": [
      "Loading campaigns:  26%|██▋       | 261/985 [02:11<02:45,  4.38it/s]"
     ]
    },
    {
     "name": "stdout",
     "output_type": "stream",
     "text": [
      "📚 Loaded manual corrections for 1 campaigns\n",
      "🔧 Applying corrections to campaign: 2716-isles-the-famine-game-thread\n",
      "✅ Corrections completed for campaign: 2716-isles-the-famine-game-thread\n",
      "📚 Loaded manual corrections for 1 campaigns\n",
      "🔧 Applying corrections to campaign: 27164-mortal-grit-gameplay-thread\n",
      "✅ Corrections completed for campaign: 27164-mortal-grit-gameplay-thread\n",
      "📚 Loaded manual corrections for 1 campaigns\n",
      "🔧 Applying corrections to campaign: 27192-a-new-world-homebrew-pbp\n",
      "🗑️ Removing single-post characters: ['Brynn', 'Wick', 'Disgusted']\n",
      "✅ Corrections completed for campaign: 27192-a-new-world-homebrew-pbp\n"
     ]
    },
    {
     "name": "stderr",
     "output_type": "stream",
     "text": [
      "Loading campaigns:  27%|██▋       | 263/985 [02:11<02:18,  5.20it/s]"
     ]
    },
    {
     "name": "stdout",
     "output_type": "stream",
     "text": [
      "📚 Loaded manual corrections for 1 campaigns\n",
      "🔧 Applying corrections to campaign: 27198-ooc-out-of-the-abyss-by-kerrec\n",
      "✅ Corrections completed for campaign: 27198-ooc-out-of-the-abyss-by-kerrec\n"
     ]
    },
    {
     "name": "stderr",
     "output_type": "stream",
     "text": [
      "Loading campaigns:  27%|██▋       | 265/985 [02:12<02:40,  4.49it/s]"
     ]
    },
    {
     "name": "stdout",
     "output_type": "stream",
     "text": [
      "📚 Loaded manual corrections for 1 campaigns\n",
      "🔧 Applying corrections to campaign: 27212-the-theives-of-shakrem\n",
      "✅ Corrections completed for campaign: 27212-the-theives-of-shakrem\n",
      "📚 Loaded manual corrections for 1 campaigns\n",
      "🔧 Applying corrections to campaign: 27297-x-marks-the-spot-an-ixalan-adventure\n",
      "✅ Corrections completed for campaign: 27297-x-marks-the-spot-an-ixalan-adventure\n",
      "📚 Loaded manual corrections for 1 campaigns\n",
      "🔧 Applying corrections to campaign: 27339-tomb-of-annihilation\n",
      "⚠️ Character name conflict: 'Thom' used by players ['Vash_of_York', 'Potato_Castle']\n",
      "⚠️ Character name conflict: 'Damien' used by players ['melabam', 'RasecAlugard']\n",
      "🔄 Player Vash_of_York: 'Thom' → 'Lesnalore'\n",
      "🔄 Player Potato_Castle: 'Thom' → 'Thom Merrillin'\n",
      "✅ Player melabam: 'Damien' (confirmed correct)\n"
     ]
    },
    {
     "name": "stderr",
     "output_type": "stream",
     "text": [
      "Loading campaigns:  27%|██▋       | 267/985 [02:14<06:32,  1.83it/s]"
     ]
    },
    {
     "name": "stdout",
     "output_type": "stream",
     "text": [
      "✅ Player RasecAlugard: 'Damien' (confirmed correct)\n",
      "✅ Corrections completed for campaign: 27339-tomb-of-annihilation\n",
      "📚 Loaded manual corrections for 1 campaigns\n",
      "🔧 Applying corrections to campaign: 27371-eternal-warfare-gameplay-thread-always-recruiting\n",
      "🗑️ Removing single-post characters: ['Pheara', \"ma'am\"]\n",
      "⚠️ Character name conflict: 'Quoren' used by players ['Caobis', 'kikdij']\n",
      "✅ Player Caobis: 'Quoren' (confirmed correct)\n"
     ]
    },
    {
     "name": "stderr",
     "output_type": "stream",
     "text": [
      "Loading campaigns:  27%|██▋       | 268/985 [02:15<07:54,  1.51it/s]"
     ]
    },
    {
     "name": "stdout",
     "output_type": "stream",
     "text": [
      "✅ Player kikdij: 'Quoren' (confirmed correct)\n",
      "✅ Corrections completed for campaign: 27371-eternal-warfare-gameplay-thread-always-recruiting\n",
      "📚 Loaded manual corrections for 1 campaigns\n",
      "🔧 Applying corrections to campaign: 27393-official-thread-out-of-the-abyss-by-kerrec\n",
      "⚠️ Character name conflict: 'Tozer' used by players ['Jack_Joke', 'AlphaLyrae']\n",
      "✅ Player Jack_Joke: 'Tozer' (confirmed correct)\n",
      "🔄 Player AlphaLyrae: 'Tozer' → 'Ferry'\n",
      "✅ Corrections completed for campaign: 27393-official-thread-out-of-the-abyss-by-kerrec\n"
     ]
    },
    {
     "name": "stderr",
     "output_type": "stream",
     "text": [
      "Loading campaigns:  27%|██▋       | 269/985 [02:17<10:16,  1.16it/s]"
     ]
    },
    {
     "name": "stdout",
     "output_type": "stream",
     "text": [
      "📚 Loaded manual corrections for 1 campaigns\n",
      "🔧 Applying corrections to campaign: 27445-eberron-omega\n",
      "✅ Corrections completed for campaign: 27445-eberron-omega\n"
     ]
    },
    {
     "name": "stderr",
     "output_type": "stream",
     "text": [
      "Loading campaigns:  27%|██▋       | 270/985 [02:17<08:48,  1.35it/s]"
     ]
    },
    {
     "name": "stdout",
     "output_type": "stream",
     "text": [
      "📚 Loaded manual corrections for 1 campaigns\n",
      "🔧 Applying corrections to campaign: 27446-eberron-alpha\n",
      "✅ Corrections completed for campaign: 27446-eberron-alpha\n",
      "📚 Loaded manual corrections for 1 campaigns\n",
      "🔧 Applying corrections to campaign: 27461-war-of-no-end-gameplay-thread\n",
      "⚠️ Character name conflict: 'Cross' used by players ['JJWattaker99', 'Caobis']\n",
      "✅ Player JJWattaker99: 'Cross' (confirmed correct)\n"
     ]
    },
    {
     "name": "stderr",
     "output_type": "stream",
     "text": [
      "Loading campaigns:  28%|██▊       | 272/985 [02:19<08:23,  1.41it/s]"
     ]
    },
    {
     "name": "stdout",
     "output_type": "stream",
     "text": [
      "✅ Player Caobis: 'Cross' (confirmed correct)\n",
      "✅ Corrections completed for campaign: 27461-war-of-no-end-gameplay-thread\n",
      "📚 Loaded manual corrections for 1 campaigns\n",
      "🔧 Applying corrections to campaign: 27482-into-the-mists-cos-by-hanyouslayer\n",
      "✅ Corrections completed for campaign: 27482-into-the-mists-cos-by-hanyouslayer\n"
     ]
    },
    {
     "name": "stderr",
     "output_type": "stream",
     "text": [
      "Loading campaigns:  28%|██▊       | 273/985 [02:19<07:05,  1.67it/s]"
     ]
    },
    {
     "name": "stdout",
     "output_type": "stream",
     "text": [
      "📚 Loaded manual corrections for 1 campaigns\n",
      "🔧 Applying corrections to campaign: 27511-chapter-one-a-lmop-adventure\n",
      "✅ Corrections completed for campaign: 27511-chapter-one-a-lmop-adventure\n"
     ]
    },
    {
     "name": "stderr",
     "output_type": "stream",
     "text": [
      "Loading campaigns:  28%|██▊       | 275/985 [02:20<05:46,  2.05it/s]"
     ]
    },
    {
     "name": "stdout",
     "output_type": "stream",
     "text": [
      "📚 Loaded manual corrections for 1 campaigns\n",
      "🔧 Applying corrections to campaign: 27529-the-cottage-on-the-long-road-game-finished\n",
      "✅ Corrections completed for campaign: 27529-the-cottage-on-the-long-road-game-finished\n",
      "📚 Loaded manual corrections for 1 campaigns\n",
      "🔧 Applying corrections to campaign: 27661-dead-in-thay-game-thread\n",
      "✅ Corrections completed for campaign: 27661-dead-in-thay-game-thread\n"
     ]
    },
    {
     "name": "stderr",
     "output_type": "stream",
     "text": [
      "Loading campaigns:  28%|██▊       | 279/985 [02:20<02:49,  4.17it/s]"
     ]
    },
    {
     "name": "stdout",
     "output_type": "stream",
     "text": [
      "📚 Loaded manual corrections for 1 campaigns\n",
      "🔧 Applying corrections to campaign: 27701-bartys-the-sands-of-ascore-doom-portals-part-2b\n",
      "✅ Corrections completed for campaign: 27701-bartys-the-sands-of-ascore-doom-portals-part-2b\n",
      "📚 Loaded manual corrections for 1 campaigns\n",
      "🔧 Applying corrections to campaign: 27764-espanol-historias-perdidas\n",
      "🗑️ Removing single-post characters: ['del Helm', 'Todavía']\n",
      "✅ Corrections completed for campaign: 27764-espanol-historias-perdidas\n",
      "📚 Loaded manual corrections for 1 campaigns\n",
      "🔧 Applying corrections to campaign: 27834-guilds-of-ravnica-always-recruiting\n",
      "✅ Corrections completed for campaign: 27834-guilds-of-ravnica-always-recruiting\n",
      "📚 Loaded manual corrections for 1 campaigns\n",
      "🔧 Applying corrections to campaign: 27889-last-gasp-a-deadly-dungeon-delve\n",
      "✅ Corrections completed for campaign: 27889-last-gasp-a-deadly-dungeon-delve\n"
     ]
    },
    {
     "name": "stderr",
     "output_type": "stream",
     "text": [
      "Loading campaigns:  29%|██▊       | 281/985 [02:21<02:54,  4.03it/s]"
     ]
    },
    {
     "name": "stdout",
     "output_type": "stream",
     "text": [
      "📚 Loaded manual corrections for 1 campaigns\n",
      "🔧 Applying corrections to campaign: 27904-gladiatorium-game-thread-team-a\n",
      "✅ Corrections completed for campaign: 27904-gladiatorium-game-thread-team-a\n",
      "📚 Loaded manual corrections for 1 campaigns\n",
      "🔧 Applying corrections to campaign: 27905-gladiatorium-game-thread-team-b\n",
      "✅ Corrections completed for campaign: 27905-gladiatorium-game-thread-team-b\n",
      "📚 Loaded manual corrections for 1 campaigns\n",
      "🔧 Applying corrections to campaign: 27906-gladiatorium-game-thread-team-c\n",
      "✅ Corrections completed for campaign: 27906-gladiatorium-game-thread-team-c\n",
      "📚 Loaded manual corrections for 1 campaigns\n",
      "🔧 Applying corrections to campaign: 27907-gladiatorium-game-thread-the-chimera\n",
      "✅ Corrections completed for campaign: 27907-gladiatorium-game-thread-the-chimera\n"
     ]
    },
    {
     "name": "stderr",
     "output_type": "stream",
     "text": [
      "Loading campaigns:  29%|██▉       | 284/985 [02:21<01:49,  6.41it/s]"
     ]
    },
    {
     "name": "stdout",
     "output_type": "stream",
     "text": [
      "📚 Loaded manual corrections for 1 campaigns\n",
      "🔧 Applying corrections to campaign: 27911-you-as-a-character\n",
      "⚠️ Character name conflict: 'Rachel' used by players ['Fatebringer', 'Daishain']\n",
      "⚠️ Character name conflict: '’ll' used by players ['herschelcreech', 'Dumarest']\n",
      "🔄 Player Fatebringer: 'Rachel' → 'Myth-Weaver'\n",
      "✅ Player Daishain: 'Rachel' (confirmed correct)\n",
      "✅ Player herschelcreech: '’ll' (confirmed correct)\n",
      "✅ Player Dumarest: '’ll' (confirmed correct)\n",
      "✅ Corrections completed for campaign: 27911-you-as-a-character\n",
      "📚 Loaded manual corrections for 1 campaigns\n",
      "🔧 Applying corrections to campaign: 27919-3-5-d-d-character-action-thread\n",
      "✅ Corrections completed for campaign: 27919-3-5-d-d-character-action-thread\n"
     ]
    },
    {
     "name": "stderr",
     "output_type": "stream",
     "text": [
      "Loading campaigns:  29%|██▉       | 286/985 [02:24<07:03,  1.65it/s]"
     ]
    },
    {
     "name": "stdout",
     "output_type": "stream",
     "text": [
      "📚 Loaded manual corrections for 1 campaigns\n",
      "🔧 Applying corrections to campaign: 27921-pathfinder-way-of-the-wicked\n",
      "✅ Corrections completed for campaign: 27921-pathfinder-way-of-the-wicked\n"
     ]
    },
    {
     "name": "stderr",
     "output_type": "stream",
     "text": [
      "Loading campaigns:  29%|██▉       | 287/985 [02:24<06:36,  1.76it/s]"
     ]
    },
    {
     "name": "stdout",
     "output_type": "stream",
     "text": [
      "📚 Loaded manual corrections for 1 campaigns\n",
      "🔧 Applying corrections to campaign: 27955-dark-wings-a-tyranny-of-dragons-game\n",
      "✅ Corrections completed for campaign: 27955-dark-wings-a-tyranny-of-dragons-game\n"
     ]
    },
    {
     "name": "stderr",
     "output_type": "stream",
     "text": [
      "Loading campaigns:  29%|██▉       | 288/985 [02:25<06:29,  1.79it/s]"
     ]
    },
    {
     "name": "stdout",
     "output_type": "stream",
     "text": [
      "📚 Loaded manual corrections for 1 campaigns\n",
      "🔧 Applying corrections to campaign: 28014-waterdeep-dragon-heist-g3\n",
      "⚠️ Character name conflict: 'Sim' used by players ['GoetheKatzchen', 'Telmat1']\n",
      "✅ Player GoetheKatzchen: 'Sim' (confirmed correct)\n"
     ]
    },
    {
     "name": "stderr",
     "output_type": "stream",
     "text": [
      "Loading campaigns:  29%|██▉       | 289/985 [02:27<09:34,  1.21it/s]"
     ]
    },
    {
     "name": "stdout",
     "output_type": "stream",
     "text": [
      "✅ Player Telmat1: 'Sim' (confirmed correct)\n",
      "✅ Corrections completed for campaign: 28014-waterdeep-dragon-heist-g3\n",
      "📚 Loaded manual corrections for 1 campaigns\n",
      "🔧 Applying corrections to campaign: 28089-hidden-heroes-game\n",
      "✅ Corrections completed for campaign: 28089-hidden-heroes-game\n"
     ]
    },
    {
     "name": "stderr",
     "output_type": "stream",
     "text": [
      "Loading campaigns:  29%|██▉       | 290/985 [02:27<08:18,  1.39it/s]"
     ]
    },
    {
     "name": "stdout",
     "output_type": "stream",
     "text": [
      "📚 Loaded manual corrections for 1 campaigns\n",
      "🔧 Applying corrections to campaign: 28138-the-king-is-dead-long-live-the-king\n",
      "✅ Corrections completed for campaign: 28138-the-king-is-dead-long-live-the-king\n",
      "📚 Loaded manual corrections for 1 campaigns\n",
      "🔧 Applying corrections to campaign: 28190-trudvang-wildheart-for-5e\n",
      "⚠️ Character name conflict: 'Angie' used by players ['Barrowfell', 'TeamPlayer']\n",
      "🔄 Player Barrowfell: 'Angie' → 'Healer'\n",
      "✅ Player TeamPlayer: 'Angie' (confirmed correct)\n",
      "✅ Corrections completed for campaign: 28190-trudvang-wildheart-for-5e\n"
     ]
    },
    {
     "name": "stderr",
     "output_type": "stream",
     "text": [
      "Loading campaigns:  30%|██▉       | 292/985 [02:28<08:05,  1.43it/s]"
     ]
    },
    {
     "name": "stdout",
     "output_type": "stream",
     "text": [
      "📚 Loaded manual corrections for 1 campaigns\n",
      "🔧 Applying corrections to campaign: 28249-the-new-circle-of-eight\n",
      "✅ Corrections completed for campaign: 28249-the-new-circle-of-eight\n",
      "📚 Loaded manual corrections for 1 campaigns\n",
      "🔧 Applying corrections to campaign: 28352-necromancers-delusion-homebrew\n",
      "✅ Corrections completed for campaign: 28352-necromancers-delusion-homebrew\n"
     ]
    },
    {
     "name": "stderr",
     "output_type": "stream",
     "text": [
      "Loading campaigns:  30%|███       | 296/985 [02:30<05:23,  2.13it/s]"
     ]
    },
    {
     "name": "stdout",
     "output_type": "stream",
     "text": [
      "📚 Loaded manual corrections for 1 campaigns\n",
      "🔧 Applying corrections to campaign: 28436-a-thousand-tiny-deaths\n",
      "✅ Corrections completed for campaign: 28436-a-thousand-tiny-deaths\n",
      "📚 Loaded manual corrections for 1 campaigns\n",
      "🔧 Applying corrections to campaign: 2856-adventures-in-faerun\n",
      "✅ Corrections completed for campaign: 2856-adventures-in-faerun\n",
      "📚 Loaded manual corrections for 1 campaigns\n",
      "🔧 Applying corrections to campaign: 28611-waterdeep-dragon-heist-cg\n",
      "⚠️ Character name conflict: 'Boo' used by players ['Xero_Larkspur', 'Oddlot']\n",
      "⚠️ Character name conflict: 'Zuldarr' used by players ['Howl', 'Sir_Karnic']\n",
      "🔄 Player Xero_Larkspur: 'Boo' → 'Mercy'\n",
      "✅ Player Oddlot: 'Boo' (confirmed correct)\n",
      "🔄 Player Howl: 'Zuldarr' → 'Summer'\n"
     ]
    },
    {
     "name": "stderr",
     "output_type": "stream",
     "text": [
      "Loading campaigns:  30%|███       | 297/985 [02:32<09:53,  1.16it/s]"
     ]
    },
    {
     "name": "stdout",
     "output_type": "stream",
     "text": [
      "✅ Player Sir_Karnic: 'Zuldarr' (confirmed correct)\n",
      "✅ Corrections completed for campaign: 28611-waterdeep-dragon-heist-cg\n",
      "📚 Loaded manual corrections for 1 campaigns\n",
      "🔧 Applying corrections to campaign: 28710-the-little-village-of-brine\n",
      "🗑️ Removing single-post characters: ['DND']\n",
      "⚠️ Character name conflict: 'Milo' used by players ['Jabthar', 'Damien_Dark_Elf']\n",
      "🔄 Player Jabthar: 'Milo' → 'Sweet Milo'\n"
     ]
    },
    {
     "name": "stderr",
     "output_type": "stream",
     "text": [
      "Loading campaigns:  30%|███       | 298/985 [02:34<11:33,  1.01s/it]"
     ]
    },
    {
     "name": "stdout",
     "output_type": "stream",
     "text": [
      "🔄 Player Damien_Dark_Elf: 'Milo' → 'John Smith'\n",
      "✅ Corrections completed for campaign: 28710-the-little-village-of-brine\n",
      "📚 Loaded manual corrections for 1 campaigns\n",
      "🔧 Applying corrections to campaign: 28771-dungeons-and-draculas-cos-gameplay-thread\n",
      "✅ Corrections completed for campaign: 28771-dungeons-and-draculas-cos-gameplay-thread\n"
     ]
    },
    {
     "name": "stderr",
     "output_type": "stream",
     "text": [
      "Loading campaigns:  30%|███       | 300/985 [02:34<07:20,  1.55it/s]"
     ]
    },
    {
     "name": "stdout",
     "output_type": "stream",
     "text": [
      "📚 Loaded manual corrections for 1 campaigns\n",
      "🔧 Applying corrections to campaign: 28961-ravnica-city-of-guilds\n",
      "✅ Corrections completed for campaign: 28961-ravnica-city-of-guilds\n",
      "📚 Loaded manual corrections for 1 campaigns\n",
      "🔧 Applying corrections to campaign: 2897-the-gm-o-a-t-s-sunless-citadel-beyond-the-wild-pbp\n",
      "✅ Corrections completed for campaign: 2897-the-gm-o-a-t-s-sunless-citadel-beyond-the-wild-pbp\n"
     ]
    },
    {
     "name": "stderr",
     "output_type": "stream",
     "text": [
      "Loading campaigns:  31%|███       | 301/985 [02:36<11:13,  1.02it/s]"
     ]
    },
    {
     "name": "stdout",
     "output_type": "stream",
     "text": [
      "📚 Loaded manual corrections for 1 campaigns\n",
      "🔧 Applying corrections to campaign: 28975-city-of-splendors-sheepys-dragonheist-gamethread\n",
      "✅ Corrections completed for campaign: 28975-city-of-splendors-sheepys-dragonheist-gamethread\n",
      "📚 Loaded manual corrections for 1 campaigns\n",
      "🔧 Applying corrections to campaign: 28977-the-trials-vale-tudo\n",
      "✅ Corrections completed for campaign: 28977-the-trials-vale-tudo\n"
     ]
    },
    {
     "name": "stderr",
     "output_type": "stream",
     "text": [
      "Loading campaigns:  31%|███       | 304/985 [02:37<07:07,  1.59it/s]"
     ]
    },
    {
     "name": "stdout",
     "output_type": "stream",
     "text": [
      "📚 Loaded manual corrections for 1 campaigns\n",
      "🔧 Applying corrections to campaign: 28983-the-village-of-nowhere-game-thread\n",
      "✅ Corrections completed for campaign: 28983-the-village-of-nowhere-game-thread\n",
      "📚 Loaded manual corrections for 1 campaigns\n",
      "🔧 Applying corrections to campaign: 29227-homebrew-pbp-the-world-of-zanoliv\n",
      "🗑️ Removing single-post characters: ['Thoram', 'Grell']\n",
      "✅ Corrections completed for campaign: 29227-homebrew-pbp-the-world-of-zanoliv\n"
     ]
    },
    {
     "name": "stderr",
     "output_type": "stream",
     "text": [
      "Loading campaigns:  31%|███       | 305/985 [02:37<06:05,  1.86it/s]"
     ]
    },
    {
     "name": "stdout",
     "output_type": "stream",
     "text": [
      "📚 Loaded manual corrections for 1 campaigns\n",
      "🔧 Applying corrections to campaign: 29279-a-dalelands-adventure\n",
      "✅ Corrections completed for campaign: 29279-a-dalelands-adventure\n",
      "📚 Loaded manual corrections for 1 campaigns\n",
      "🔧 Applying corrections to campaign: 29283-atlas-open-map\n",
      "✅ Corrections completed for campaign: 29283-atlas-open-map\n"
     ]
    },
    {
     "name": "stderr",
     "output_type": "stream",
     "text": [
      "Loading campaigns:  31%|███▏      | 308/985 [02:38<03:31,  3.21it/s]"
     ]
    },
    {
     "name": "stdout",
     "output_type": "stream",
     "text": [
      "📚 Loaded manual corrections for 1 campaigns\n",
      "🔧 Applying corrections to campaign: 29290-descent-to-ascension-a-one-shot-for-20th-level\n",
      "✅ Corrections completed for campaign: 29290-descent-to-ascension-a-one-shot-for-20th-level\n",
      "📚 Loaded manual corrections for 1 campaigns\n",
      "🔧 Applying corrections to campaign: 29418-lost-mines-of-phandelver-with-kryptikk81\n",
      "✅ Corrections completed for campaign: 29418-lost-mines-of-phandelver-with-kryptikk81\n"
     ]
    },
    {
     "name": "stderr",
     "output_type": "stream",
     "text": [
      "Loading campaigns:  31%|███▏      | 309/985 [02:38<03:35,  3.14it/s]"
     ]
    },
    {
     "name": "stdout",
     "output_type": "stream",
     "text": [
      "📚 Loaded manual corrections for 1 campaigns\n",
      "🔧 Applying corrections to campaign: 29549-no-rest-for-the-dead-in-avlor\n",
      "✅ Corrections completed for campaign: 29549-no-rest-for-the-dead-in-avlor\n"
     ]
    },
    {
     "name": "stderr",
     "output_type": "stream",
     "text": [
      "Loading campaigns:  32%|███▏      | 311/985 [02:39<02:54,  3.87it/s]"
     ]
    },
    {
     "name": "stdout",
     "output_type": "stream",
     "text": [
      "📚 Loaded manual corrections for 1 campaigns\n",
      "🔧 Applying corrections to campaign: 29669-caer-blaine-campaign\n",
      "🗑️ Removing single-post characters: ['Zael']\n",
      "✅ Corrections completed for campaign: 29669-caer-blaine-campaign\n",
      "📚 Loaded manual corrections for 1 campaigns\n",
      "🔧 Applying corrections to campaign: 29672-the-guardians-of-kinloran-a-homebrew-adventure\n",
      "⚠️ Character name conflict: 'Jubilant' used by players ['Wreckzors', 'artemisdebunked']\n",
      "🔄 Player Wreckzors: 'Jubilant' → 'Strife'\n"
     ]
    },
    {
     "name": "stderr",
     "output_type": "stream",
     "text": [
      "Loading campaigns:  32%|███▏      | 312/985 [02:40<06:11,  1.81it/s]"
     ]
    },
    {
     "name": "stdout",
     "output_type": "stream",
     "text": [
      "✅ Player artemisdebunked: 'Jubilant' (confirmed correct)\n",
      "✅ Corrections completed for campaign: 29672-the-guardians-of-kinloran-a-homebrew-adventure\n",
      "📚 Loaded manual corrections for 1 campaigns\n",
      "🔧 Applying corrections to campaign: 2989-star-wars-shadows-of-the-old-republic-ig-rp-thread\n",
      "⚠️ Character name conflict: 'Rem' used by players ['wardsey', 'AlexandreRola']\n",
      "🔄 Player wardsey: 'Rem' → 'BC-09 HK-0037'\n"
     ]
    },
    {
     "name": "stderr",
     "output_type": "stream",
     "text": [
      "Loading campaigns:  32%|███▏      | 313/985 [02:41<08:43,  1.28it/s]"
     ]
    },
    {
     "name": "stdout",
     "output_type": "stream",
     "text": [
      "🔄 Player AlexandreRola: 'Rem' → 'Rem-Jas'\n",
      "✅ Corrections completed for campaign: 2989-star-wars-shadows-of-the-old-republic-ig-rp-thread\n",
      "📚 Loaded manual corrections for 1 campaigns\n",
      "🔧 Applying corrections to campaign: 2995-a-tale-from-the-sea\n",
      "✅ Corrections completed for campaign: 2995-a-tale-from-the-sea\n"
     ]
    },
    {
     "name": "stderr",
     "output_type": "stream",
     "text": [
      "Loading campaigns:  32%|███▏      | 315/985 [02:42<05:13,  2.14it/s]"
     ]
    },
    {
     "name": "stdout",
     "output_type": "stream",
     "text": [
      "📚 Loaded manual corrections for 1 campaigns\n",
      "🔧 Applying corrections to campaign: 29999-the-burning-dead-gameplay-thread\n",
      "✅ Corrections completed for campaign: 29999-the-burning-dead-gameplay-thread\n",
      "📚 Loaded manual corrections for 1 campaigns\n",
      "🔧 Applying corrections to campaign: 30061-swamp-temple\n",
      "✅ Corrections completed for campaign: 30061-swamp-temple\n",
      "📚 Loaded manual corrections for 1 campaigns\n",
      "🔧 Applying corrections to campaign: 30235-lyrels-lost-mines-of-phandelver\n",
      "🗑️ Removing single-post characters: ['Kyanite', 'Ffermwyr']\n",
      "✅ Corrections completed for campaign: 30235-lyrels-lost-mines-of-phandelver\n"
     ]
    },
    {
     "name": "stderr",
     "output_type": "stream",
     "text": [
      "Loading campaigns:  32%|███▏      | 317/985 [02:42<03:11,  3.49it/s]"
     ]
    },
    {
     "name": "stdout",
     "output_type": "stream",
     "text": [
      "📚 Loaded manual corrections for 1 campaigns\n",
      "🔧 Applying corrections to campaign: 30255-ultimate-adventure-ooc-thread\n",
      "🗑️ Removing single-post characters: ['HP']\n",
      "⚠️ Character name conflict: 'Fang' used by players ['Baxthon', 'RasecAlugard']\n",
      "🔄 Player Baxthon: 'Fang' → 'Baxthon Brighteyes'\n"
     ]
    },
    {
     "name": "stderr",
     "output_type": "stream",
     "text": [
      "Loading campaigns:  32%|███▏      | 318/985 [02:43<05:54,  1.88it/s]"
     ]
    },
    {
     "name": "stdout",
     "output_type": "stream",
     "text": [
      "✅ Player RasecAlugard: 'Fang' (confirmed correct)\n",
      "✅ Corrections completed for campaign: 30255-ultimate-adventure-ooc-thread\n",
      "📚 Loaded manual corrections for 1 campaigns\n",
      "🔧 Applying corrections to campaign: 3037-primordial-depths-pbp-game\n",
      "⚠️ Character name conflict: 'Gary' used by players ['user-100052051', 'skizzerz']\n",
      "🔄 Player user-100052051: 'Gary' → 'Mjoll'\n"
     ]
    },
    {
     "name": "stderr",
     "output_type": "stream",
     "text": [
      "Loading campaigns:  32%|███▏      | 319/985 [02:45<09:55,  1.12it/s]"
     ]
    },
    {
     "name": "stdout",
     "output_type": "stream",
     "text": [
      "🔄 Player skizzerz: 'Gary' → 'Excecian'\n",
      "✅ Corrections completed for campaign: 3037-primordial-depths-pbp-game\n",
      "📚 Loaded manual corrections for 1 campaigns\n",
      "🔧 Applying corrections to campaign: 30525-the-blackmire-company-campaign\n",
      "✅ Corrections completed for campaign: 30525-the-blackmire-company-campaign\n"
     ]
    },
    {
     "name": "stderr",
     "output_type": "stream",
     "text": [
      "Loading campaigns:  33%|███▎      | 323/985 [02:46<04:15,  2.59it/s]"
     ]
    },
    {
     "name": "stdout",
     "output_type": "stream",
     "text": [
      "📚 Loaded manual corrections for 1 campaigns\n",
      "🔧 Applying corrections to campaign: 3053-void-beyond-the-stars-otherside\n",
      "✅ Corrections completed for campaign: 3053-void-beyond-the-stars-otherside\n",
      "📚 Loaded manual corrections for 1 campaigns\n",
      "🔧 Applying corrections to campaign: 30592-bartys-the-lonely-tower-doom-portals-part-3a\n",
      "🗑️ Removing single-post characters: ['Ivar']\n",
      "✅ Corrections completed for campaign: 30592-bartys-the-lonely-tower-doom-portals-part-3a\n",
      "📚 Loaded manual corrections for 1 campaigns\n",
      "🔧 Applying corrections to campaign: 30680-dragons-of-autumn-twilight\n",
      "✅ Corrections completed for campaign: 30680-dragons-of-autumn-twilight\n",
      "📚 Loaded manual corrections for 1 campaigns\n",
      "🔧 Applying corrections to campaign: 30723-princes-of-the-apocalypse-10-pbp\n",
      "⚠️ Character name conflict: 'Carrhae' used by players ['krimp47', 'Sarcasticfury']\n",
      "🔄 Player krimp47: 'Carrhae' → 'Strife'\n"
     ]
    },
    {
     "name": "stderr",
     "output_type": "stream",
     "text": [
      "Loading campaigns:  33%|███▎      | 324/985 [02:47<07:21,  1.50it/s]"
     ]
    },
    {
     "name": "stdout",
     "output_type": "stream",
     "text": [
      "✅ Player Sarcasticfury: 'Carrhae' (confirmed correct)\n",
      "✅ Corrections completed for campaign: 30723-princes-of-the-apocalypse-10-pbp\n",
      "📚 Loaded manual corrections for 1 campaigns\n",
      "🔧 Applying corrections to campaign: 30739-coliseum-of-conquest-underground\n",
      "🗑️ Removing single-post characters: ['Bruenor', 'Eldin']\n",
      "⚠️ Character name conflict: 'Og' used by players ['BoboBoombang', 'HippieWhipper', 'LordShadowthorn']\n",
      "⚠️ Character name conflict: 'Scarab' used by players ['OpelGt', 'futuristic_kf']\n",
      "⚠️ Character name conflict: 'Morthos' used by players ['Mehmen', 'FrenchyTheDM']\n",
      "⚠️ Character name conflict: 'Toren' used by players ['EliteHatter', 'AnimeSquirrel', 'Brian_Avery']\n",
      "⚠️ Character name conflict: 'Bill' used by players ['VanderLegion', '0ld_Man']\n",
      "✅ Player BoboBoombang: 'Og' (confirmed correct)\n",
      "🔄 Player HippieWhipper: 'Og' → 'Blue'\n",
      "✅ Player LordShadowthorn: 'Og' (confirmed correct)\n",
      "🔄 Player OpelGt: 'Scarab' → 'Sarah'\n",
      "✅ Player futuristic_kf: 'Scarab' (confirmed correct)\n",
      "🔄 Player Mehmen: 'Morthos' → 'Gell'\n",
      "✅ Player FrenchyTheDM: 'Morthos' (confirmed correct)\n",
      "🔄 Player EliteHatter: 'Toren' → 'Eider'\n",
      "🔄 Player AnimeSquirrel: 'Toren' → 'Grianne'\n",
      "✅ Player Brian_Avery: 'Toren' (confirmed correct)\n",
      "✅ Player VanderLegion: 'Bill' (confirmed correct)\n",
      "✅ Player 0ld_Man: 'Bill' (confirmed correct)\n",
      "✅ Corrections completed for campaign: 30739-coliseum-of-conquest-underground\n"
     ]
    },
    {
     "name": "stderr",
     "output_type": "stream",
     "text": [
      "Loading campaigns:  33%|███▎      | 325/985 [02:54<23:01,  2.09s/it]"
     ]
    },
    {
     "name": "stdout",
     "output_type": "stream",
     "text": [
      "📚 Loaded manual corrections for 1 campaigns\n",
      "🔧 Applying corrections to campaign: 30752-eternal-warfare-war-party-a\n",
      "🗑️ Removing single-post characters: ['Leoxian']\n",
      "✅ Corrections completed for campaign: 30752-eternal-warfare-war-party-a\n",
      "📚 Loaded manual corrections for 1 campaigns\n",
      "🔧 Applying corrections to campaign: 30762-eternal-warfare-war-party-c\n",
      "⚠️ Character name conflict: 'Kalahari' used by players ['artemisdebunked', 'GoodShepherd']\n",
      "🔄 Player artemisdebunked: 'Kalahari' → 'Galahut'\n"
     ]
    },
    {
     "name": "stderr",
     "output_type": "stream",
     "text": [
      "Loading campaigns:  33%|███▎      | 327/985 [02:56<16:43,  1.53s/it]"
     ]
    },
    {
     "name": "stdout",
     "output_type": "stream",
     "text": [
      "🔄 Player GoodShepherd: 'Kalahari' → 'Venture'\n",
      "✅ Corrections completed for campaign: 30762-eternal-warfare-war-party-c\n",
      "📚 Loaded manual corrections for 1 campaigns\n",
      "🔧 Applying corrections to campaign: 30767-eternal-warfare-war-party-e\n",
      "🗑️ Removing single-post characters: ['LunaticKnight']\n",
      "✅ Corrections completed for campaign: 30767-eternal-warfare-war-party-e\n",
      "📚 Loaded manual corrections for 1 campaigns\n",
      "🔧 Applying corrections to campaign: 30778-lost-mine-of-phandelver-pbp\n",
      "✅ Corrections completed for campaign: 30778-lost-mine-of-phandelver-pbp\n"
     ]
    },
    {
     "name": "stderr",
     "output_type": "stream",
     "text": [
      "Loading campaigns:  33%|███▎      | 329/985 [02:56<11:22,  1.04s/it]"
     ]
    },
    {
     "name": "stdout",
     "output_type": "stream",
     "text": [
      "📚 Loaded manual corrections for 1 campaigns\n",
      "🔧 Applying corrections to campaign: 30787-imela-the-adventure-begins\n",
      "⚠️ Character name conflict: 'Zakon' used by players ['loathe', 'cogema']\n",
      "✅ Player loathe: 'Zakon' (confirmed correct)\n"
     ]
    },
    {
     "name": "stderr",
     "output_type": "stream",
     "text": [
      "Loading campaigns:  34%|███▎      | 330/985 [02:57<12:12,  1.12s/it]"
     ]
    },
    {
     "name": "stdout",
     "output_type": "stream",
     "text": [
      "🔄 Player cogema: 'Zakon' → 'Saryn'\n",
      "✅ Corrections completed for campaign: 30787-imela-the-adventure-begins\n",
      "📚 Loaded manual corrections for 1 campaigns\n",
      "🔧 Applying corrections to campaign: 30830-bartys-winters-splendor\n",
      "✅ Corrections completed for campaign: 30830-bartys-winters-splendor\n"
     ]
    },
    {
     "name": "stderr",
     "output_type": "stream",
     "text": [
      "Loading campaigns:  34%|███▎      | 332/985 [02:57<07:56,  1.37it/s]"
     ]
    },
    {
     "name": "stdout",
     "output_type": "stream",
     "text": [
      "📚 Loaded manual corrections for 1 campaigns\n",
      "🔧 Applying corrections to campaign: 30849-eternal-warfare-war-party-d\n",
      "✅ Corrections completed for campaign: 30849-eternal-warfare-war-party-d\n",
      "📚 Loaded manual corrections for 1 campaigns\n",
      "🔧 Applying corrections to campaign: 30901-secrets-of-sokol-keep-dm-lerus\n",
      "✅ Corrections completed for campaign: 30901-secrets-of-sokol-keep-dm-lerus\n"
     ]
    },
    {
     "name": "stderr",
     "output_type": "stream",
     "text": [
      "Loading campaigns:  34%|███▍      | 333/985 [02:58<06:43,  1.62it/s]"
     ]
    },
    {
     "name": "stdout",
     "output_type": "stream",
     "text": [
      "📚 Loaded manual corrections for 1 campaigns\n",
      "🔧 Applying corrections to campaign: 30964-waterdeep-camel-heist-2020\n",
      "✅ Corrections completed for campaign: 30964-waterdeep-camel-heist-2020\n"
     ]
    },
    {
     "name": "stderr",
     "output_type": "stream",
     "text": [
      "Loading campaigns:  34%|███▍      | 334/985 [02:59<08:39,  1.25it/s]"
     ]
    },
    {
     "name": "stdout",
     "output_type": "stream",
     "text": [
      "📚 Loaded manual corrections for 1 campaigns\n",
      "🔧 Applying corrections to campaign: 31052-cave-of-ordeals\n",
      "⚠️ Character name conflict: 'Felicity' used by players ['jaydee88', 'JMBeckwith']\n",
      "✅ Player jaydee88: 'Felicity' (confirmed correct)\n"
     ]
    },
    {
     "name": "stderr",
     "output_type": "stream",
     "text": [
      "Loading campaigns:  34%|███▍      | 335/985 [03:00<09:49,  1.10it/s]"
     ]
    },
    {
     "name": "stdout",
     "output_type": "stream",
     "text": [
      "🔄 Player JMBeckwith: 'Felicity' → 'Stanford Bluehand'\n",
      "✅ Corrections completed for campaign: 31052-cave-of-ordeals\n",
      "📚 Loaded manual corrections for 1 campaigns\n",
      "🔧 Applying corrections to campaign: 31256-random-dungeon-crawl-group-1\n",
      "✅ Corrections completed for campaign: 31256-random-dungeon-crawl-group-1\n",
      "📚 Loaded manual corrections for 1 campaigns\n",
      "🔧 Applying corrections to campaign: 31257-random-dungeon-crawl-group-2\n",
      "✅ Corrections completed for campaign: 31257-random-dungeon-crawl-group-2\n"
     ]
    },
    {
     "name": "stderr",
     "output_type": "stream",
     "text": [
      "Loading campaigns:  34%|███▍      | 339/985 [03:01<04:09,  2.58it/s]"
     ]
    },
    {
     "name": "stdout",
     "output_type": "stream",
     "text": [
      "📚 Loaded manual corrections for 1 campaigns\n",
      "🔧 Applying corrections to campaign: 31258-delian-tomb-vi\n",
      "✅ Corrections completed for campaign: 31258-delian-tomb-vi\n",
      "📚 Loaded manual corrections for 1 campaigns\n",
      "🔧 Applying corrections to campaign: 31332-ultimate-adventure-group-a\n",
      "✅ Corrections completed for campaign: 31332-ultimate-adventure-group-a\n",
      "📚 Loaded manual corrections for 1 campaigns\n",
      "🔧 Applying corrections to campaign: 3135-the-head-of-the-serpent\n",
      "✅ Corrections completed for campaign: 3135-the-head-of-the-serpent\n",
      "📚 Loaded manual corrections for 1 campaigns\n",
      "🔧 Applying corrections to campaign: 31364-sword-coast-rambling\n",
      "✅ Corrections completed for campaign: 31364-sword-coast-rambling\n"
     ]
    },
    {
     "name": "stderr",
     "output_type": "stream",
     "text": [
      "Loading campaigns:  35%|███▍      | 342/985 [03:02<04:10,  2.57it/s]"
     ]
    },
    {
     "name": "stdout",
     "output_type": "stream",
     "text": [
      "📚 Loaded manual corrections for 1 campaigns\n",
      "🔧 Applying corrections to campaign: 31418-adventures-in-the-hinterlands-game-thread\n",
      "✅ Corrections completed for campaign: 31418-adventures-in-the-hinterlands-game-thread\n",
      "📚 Loaded manual corrections for 1 campaigns\n",
      "🔧 Applying corrections to campaign: 3146-foul-times-in-ashcaster\n",
      "✅ Corrections completed for campaign: 3146-foul-times-in-ashcaster\n",
      "📚 Loaded manual corrections for 1 campaigns\n",
      "🔧 Applying corrections to campaign: 31494-the-ravens-call-group-a\n",
      "✅ Corrections completed for campaign: 31494-the-ravens-call-group-a\n"
     ]
    },
    {
     "name": "stderr",
     "output_type": "stream",
     "text": [
      "Loading campaigns:  35%|███▍      | 344/985 [03:02<02:52,  3.71it/s]"
     ]
    },
    {
     "name": "stdout",
     "output_type": "stream",
     "text": [
      "📚 Loaded manual corrections for 1 campaigns\n",
      "🔧 Applying corrections to campaign: 31526-monasteries-monsters-gameplay\n",
      "⚠️ Character name conflict: 'Saida' used by players ['PunchSwordArrow', 'artemisdebunked', 'Jusblazm']\n",
      "🔄 Player PunchSwordArrow: 'Saida' → 'Hungry'\n",
      "✅ Player artemisdebunked: 'Saida' (confirmed correct)\n"
     ]
    },
    {
     "name": "stderr",
     "output_type": "stream",
     "text": [
      "Loading campaigns:  35%|███▌      | 345/985 [03:04<07:02,  1.51it/s]"
     ]
    },
    {
     "name": "stdout",
     "output_type": "stream",
     "text": [
      "🔄 Player Jusblazm: 'Saida' → 'Chatters'\n",
      "✅ Corrections completed for campaign: 31526-monasteries-monsters-gameplay\n",
      "📚 Loaded manual corrections for 1 campaigns\n",
      "🔧 Applying corrections to campaign: 31619-parths-adventurer-training\n",
      "✅ Corrections completed for campaign: 31619-parths-adventurer-training\n"
     ]
    },
    {
     "name": "stderr",
     "output_type": "stream",
     "text": [
      "Loading campaigns:  35%|███▌      | 347/985 [03:05<04:46,  2.23it/s]"
     ]
    },
    {
     "name": "stdout",
     "output_type": "stream",
     "text": [
      "📚 Loaded manual corrections for 1 campaigns\n",
      "🔧 Applying corrections to campaign: 31652-maalim-a-land-awakened\n",
      "✅ Corrections completed for campaign: 31652-maalim-a-land-awakened\n",
      "📚 Loaded manual corrections for 1 campaigns\n",
      "🔧 Applying corrections to campaign: 31920-blobbins-adventurer-camp\n",
      "⚠️ Character name conflict: 'Tordal' used by players ['Anteneko', 'KingDolly']\n",
      "✅ Player Anteneko: 'Tordal' (confirmed correct)\n",
      "🔄 Player KingDolly: 'Tordal' → 'Vail'\n",
      "✅ Corrections completed for campaign: 31920-blobbins-adventurer-camp\n"
     ]
    },
    {
     "name": "stderr",
     "output_type": "stream",
     "text": [
      "Loading campaigns:  35%|███▌      | 348/985 [03:06<08:21,  1.27it/s]"
     ]
    },
    {
     "name": "stdout",
     "output_type": "stream",
     "text": [
      "📚 Loaded manual corrections for 1 campaigns\n",
      "🔧 Applying corrections to campaign: 31923-waterdeep-the-disappearance-of-anna-kelver\n",
      "✅ Corrections completed for campaign: 31923-waterdeep-the-disappearance-of-anna-kelver\n"
     ]
    },
    {
     "name": "stderr",
     "output_type": "stream",
     "text": [
      "Loading campaigns:  35%|███▌      | 349/985 [03:07<06:49,  1.55it/s]"
     ]
    },
    {
     "name": "stdout",
     "output_type": "stream",
     "text": [
      "📚 Loaded manual corrections for 1 campaigns\n",
      "🔧 Applying corrections to campaign: 32032-the-tome-of-atlas-chapter-one\n",
      "⚠️ Character name conflict: 'Kelric' used by players ['HunterOmega', 'TRS_Red']\n",
      "⚠️ Character name conflict: 'Misha' used by players ['CrispyDM', 'Cherri']\n",
      "🔄 Player HunterOmega: 'Kelric' → 'Phantom'\n",
      "✅ Player TRS_Red: 'Kelric' (confirmed correct)\n",
      "🔄 Player CrispyDM: 'Misha' → 'Misha Praskovia'\n"
     ]
    },
    {
     "name": "stderr",
     "output_type": "stream",
     "text": [
      "Loading campaigns:  36%|███▌      | 350/985 [03:09<12:48,  1.21s/it]"
     ]
    },
    {
     "name": "stdout",
     "output_type": "stream",
     "text": [
      "🔄 Player Cherri: 'Misha' → 'Natasha'\n",
      "✅ Corrections completed for campaign: 32032-the-tome-of-atlas-chapter-one\n",
      "📚 Loaded manual corrections for 1 campaigns\n",
      "🔧 Applying corrections to campaign: 32204-all-that-glitters\n",
      "✅ Corrections completed for campaign: 32204-all-that-glitters\n"
     ]
    },
    {
     "name": "stderr",
     "output_type": "stream",
     "text": [
      "Loading campaigns:  36%|███▌      | 351/985 [03:09<09:57,  1.06it/s]"
     ]
    },
    {
     "name": "stdout",
     "output_type": "stream",
     "text": [
      "📚 Loaded manual corrections for 1 campaigns\n",
      "🔧 Applying corrections to campaign: 32229-the-chronicle-campaign-gameplay-pbp\n",
      "✅ Corrections completed for campaign: 32229-the-chronicle-campaign-gameplay-pbp\n"
     ]
    },
    {
     "name": "stderr",
     "output_type": "stream",
     "text": [
      "Loading campaigns:  36%|███▌      | 353/985 [03:10<06:04,  1.74it/s]"
     ]
    },
    {
     "name": "stdout",
     "output_type": "stream",
     "text": [
      "📚 Loaded manual corrections for 1 campaigns\n",
      "🔧 Applying corrections to campaign: 32247-lost-mines-of-phandelver-off-the-rails-by\n",
      "✅ Corrections completed for campaign: 32247-lost-mines-of-phandelver-off-the-rails-by\n",
      "📚 Loaded manual corrections for 1 campaigns\n",
      "🔧 Applying corrections to campaign: 3225-private-princes-of-the-apocalypse\n",
      "✅ Corrections completed for campaign: 3225-private-princes-of-the-apocalypse\n",
      "📚 Loaded manual corrections for 1 campaigns\n",
      "🔧 Applying corrections to campaign: 32262-the-chronicles-of-arden-hunters\n",
      "✅ Corrections completed for campaign: 32262-the-chronicles-of-arden-hunters\n"
     ]
    },
    {
     "name": "stderr",
     "output_type": "stream",
     "text": [
      "Loading campaigns:  36%|███▌      | 357/985 [03:11<03:01,  3.46it/s]"
     ]
    },
    {
     "name": "stdout",
     "output_type": "stream",
     "text": [
      "📚 Loaded manual corrections for 1 campaigns\n",
      "🔧 Applying corrections to campaign: 32394-storm-kings-thunder\n",
      "✅ Corrections completed for campaign: 32394-storm-kings-thunder\n",
      "📚 Loaded manual corrections for 1 campaigns\n",
      "🔧 Applying corrections to campaign: 32395-dawn-of-drowkon-5e-campaign-2-3-more-players\n",
      "✅ Corrections completed for campaign: 32395-dawn-of-drowkon-5e-campaign-2-3-more-players\n",
      "📚 Loaded manual corrections for 1 campaigns\n",
      "🔧 Applying corrections to campaign: 32473-the-culled-of-olber\n",
      "⚠️ Character name conflict: 'Ackam' used by players ['PhotonMoton', 'Dcattarina']\n",
      "🔄 Player PhotonMoton: 'Ackam' → 'Agency'\n"
     ]
    },
    {
     "name": "stderr",
     "output_type": "stream",
     "text": [
      "Loading campaigns:  36%|███▋      | 358/985 [03:12<05:21,  1.95it/s]"
     ]
    },
    {
     "name": "stdout",
     "output_type": "stream",
     "text": [
      "✅ Player Dcattarina: 'Ackam' (confirmed correct)\n",
      "✅ Corrections completed for campaign: 32473-the-culled-of-olber\n",
      "📚 Loaded manual corrections for 1 campaigns\n",
      "🔧 Applying corrections to campaign: 32476-lost-mine-of-phandelver\n",
      "⚠️ Character name conflict: 'Jared' used by players ['Fromnibelheim', 'Faeth']\n",
      "🔄 Player Fromnibelheim: 'Jared' → 'Alteria'\n"
     ]
    },
    {
     "name": "stderr",
     "output_type": "stream",
     "text": [
      "Loading campaigns:  36%|███▋      | 359/985 [03:13<07:47,  1.34it/s]"
     ]
    },
    {
     "name": "stdout",
     "output_type": "stream",
     "text": [
      "🔄 Player Faeth: 'Jared' → 'Narissa'\n",
      "✅ Corrections completed for campaign: 32476-lost-mine-of-phandelver\n",
      "📚 Loaded manual corrections for 1 campaigns\n",
      "🔧 Applying corrections to campaign: 32478-stormpoint-mountains-a-critical-role-adventure\n",
      "✅ Corrections completed for campaign: 32478-stormpoint-mountains-a-critical-role-adventure\n"
     ]
    },
    {
     "name": "stderr",
     "output_type": "stream",
     "text": [
      "Loading campaigns:  37%|███▋      | 360/985 [03:14<06:17,  1.65it/s]"
     ]
    },
    {
     "name": "stdout",
     "output_type": "stream",
     "text": [
      "📚 Loaded manual corrections for 1 campaigns\n",
      "🔧 Applying corrections to campaign: 3248-classic-crawl-the-dungeon-under-citadel-adbar\n",
      "✅ Corrections completed for campaign: 3248-classic-crawl-the-dungeon-under-citadel-adbar\n",
      "📚 Loaded manual corrections for 1 campaigns\n",
      "🔧 Applying corrections to campaign: 32521-tales-of-solforanna-epoch-1-ooc-thread\n",
      "✅ Corrections completed for campaign: 32521-tales-of-solforanna-epoch-1-ooc-thread\n",
      "📚 Loaded manual corrections for 1 campaigns\n",
      "🔧 Applying corrections to campaign: 32533-tomb-of-annihilation-a-new-adventure\n",
      "✅ Corrections completed for campaign: 32533-tomb-of-annihilation-a-new-adventure\n"
     ]
    },
    {
     "name": "stderr",
     "output_type": "stream",
     "text": [
      "Loading campaigns:  37%|███▋      | 363/985 [03:14<03:45,  2.75it/s]"
     ]
    },
    {
     "name": "stdout",
     "output_type": "stream",
     "text": [
      "📚 Loaded manual corrections for 1 campaigns\n",
      "🔧 Applying corrections to campaign: 32535-sex-drugs-and-bardic-roll-mature-pbp-game\n",
      "✅ Corrections completed for campaign: 32535-sex-drugs-and-bardic-roll-mature-pbp-game\n"
     ]
    },
    {
     "name": "stderr",
     "output_type": "stream",
     "text": [
      "Loading campaigns:  37%|███▋      | 365/985 [03:14<03:02,  3.39it/s]"
     ]
    },
    {
     "name": "stdout",
     "output_type": "stream",
     "text": [
      "📚 Loaded manual corrections for 1 campaigns\n",
      "🔧 Applying corrections to campaign: 32576-tomb-of-annihilation\n",
      "✅ Corrections completed for campaign: 32576-tomb-of-annihilation\n",
      "📚 Loaded manual corrections for 1 campaigns\n",
      "🔧 Applying corrections to campaign: 32692-tales-of-solforanna-epoch-i-campaign-thread\n",
      "⚠️ Character name conflict: 'Alexia' used by players ['Laserwhit', 'booksbooks3']\n",
      "🔄 Player Laserwhit: 'Alexia' → 'Arc'\n"
     ]
    },
    {
     "name": "stderr",
     "output_type": "stream",
     "text": [
      "Loading campaigns:  37%|███▋      | 366/985 [03:16<05:38,  1.83it/s]"
     ]
    },
    {
     "name": "stdout",
     "output_type": "stream",
     "text": [
      "✅ Player booksbooks3: 'Alexia' (confirmed correct)\n",
      "✅ Corrections completed for campaign: 32692-tales-of-solforanna-epoch-i-campaign-thread\n",
      "📚 Loaded manual corrections for 1 campaigns\n",
      "🔧 Applying corrections to campaign: 32704-the-goblins-gambit-crew-1\n",
      "✅ Corrections completed for campaign: 32704-the-goblins-gambit-crew-1\n"
     ]
    },
    {
     "name": "stderr",
     "output_type": "stream",
     "text": [
      "Loading campaigns:  37%|███▋      | 367/985 [03:16<04:40,  2.20it/s]"
     ]
    },
    {
     "name": "stdout",
     "output_type": "stream",
     "text": [
      "📚 Loaded manual corrections for 1 campaigns\n",
      "🔧 Applying corrections to campaign: 32736-the-horror-below\n",
      "✅ Corrections completed for campaign: 32736-the-horror-below\n",
      "📚 Loaded manual corrections for 1 campaigns\n",
      "🔧 Applying corrections to campaign: 32763-robbys-beast-fighting-fun-times-the-arena-of\n",
      "⚠️ Character name conflict: 'Smith' used by players ['dogfacedad', 'HorseyHorsey']\n",
      "🔄 Player dogfacedad: 'Smith' → 'Whipperwheel'\n"
     ]
    },
    {
     "name": "stderr",
     "output_type": "stream",
     "text": [
      "Loading campaigns:  37%|███▋      | 369/985 [03:17<05:35,  1.84it/s]"
     ]
    },
    {
     "name": "stdout",
     "output_type": "stream",
     "text": [
      "✅ Player HorseyHorsey: 'Smith' (confirmed correct)\n",
      "✅ Corrections completed for campaign: 32763-robbys-beast-fighting-fun-times-the-arena-of\n",
      "📚 Loaded manual corrections for 1 campaigns\n",
      "🔧 Applying corrections to campaign: 32814-lost-mines-of-phandelver-chapter-two\n",
      "✅ Corrections completed for campaign: 32814-lost-mines-of-phandelver-chapter-two\n"
     ]
    },
    {
     "name": "stderr",
     "output_type": "stream",
     "text": [
      "Loading campaigns:  38%|███▊      | 372/985 [03:18<03:15,  3.13it/s]"
     ]
    },
    {
     "name": "stdout",
     "output_type": "stream",
     "text": [
      "📚 Loaded manual corrections for 1 campaigns\n",
      "🔧 Applying corrections to campaign: 32833-bartys-they-know-doom-portals-part-3b\n",
      "✅ Corrections completed for campaign: 32833-bartys-they-know-doom-portals-part-3b\n",
      "📚 Loaded manual corrections for 1 campaigns\n",
      "🔧 Applying corrections to campaign: 32837-lost-mine-of-phandelver-story-gm-kikdij\n",
      "✅ Corrections completed for campaign: 32837-lost-mine-of-phandelver-story-gm-kikdij\n",
      "📚 Loaded manual corrections for 1 campaigns\n",
      "🔧 Applying corrections to campaign: 32922-robbys-best-beast-fighting-fun-times-rp-thread-the\n",
      "✅ Corrections completed for campaign: 32922-robbys-best-beast-fighting-fun-times-rp-thread-the\n",
      "📚 Loaded manual corrections for 1 campaigns\n",
      "🔧 Applying corrections to campaign: 3296-storm-kings-thunder-against-the-giants\n",
      "✅ Corrections completed for campaign: 3296-storm-kings-thunder-against-the-giants\n"
     ]
    },
    {
     "name": "stderr",
     "output_type": "stream",
     "text": [
      "Loading campaigns:  38%|███▊      | 374/985 [03:19<05:22,  1.89it/s]"
     ]
    },
    {
     "name": "stdout",
     "output_type": "stream",
     "text": [
      "📚 Loaded manual corrections for 1 campaigns\n",
      "🔧 Applying corrections to campaign: 33209-the-lost-island\n",
      "⚠️ Character name conflict: 'Seldor' used by players ['Wreckzors', 'Sarcasticfury']\n",
      "🔄 Player Wreckzors: 'Seldor' → 'Strife'\n"
     ]
    },
    {
     "name": "stderr",
     "output_type": "stream",
     "text": [
      "Loading campaigns:  38%|███▊      | 375/985 [03:21<07:16,  1.40it/s]"
     ]
    },
    {
     "name": "stdout",
     "output_type": "stream",
     "text": [
      "✅ Player Sarcasticfury: 'Seldor' (confirmed correct)\n",
      "✅ Corrections completed for campaign: 33209-the-lost-island\n",
      "📚 Loaded manual corrections for 1 campaigns\n",
      "🔧 Applying corrections to campaign: 33367-looting-and-scavenging-101-with-the-herr-doktor\n",
      "✅ Corrections completed for campaign: 33367-looting-and-scavenging-101-with-the-herr-doktor\n"
     ]
    },
    {
     "name": "stderr",
     "output_type": "stream",
     "text": [
      "Loading campaigns:  38%|███▊      | 377/985 [03:22<05:29,  1.84it/s]"
     ]
    },
    {
     "name": "stdout",
     "output_type": "stream",
     "text": [
      "📚 Loaded manual corrections for 1 campaigns\n",
      "🔧 Applying corrections to campaign: 33368-on-the-shoulders-of-titans-game-thread\n",
      "✅ Corrections completed for campaign: 33368-on-the-shoulders-of-titans-game-thread\n",
      "📚 Loaded manual corrections for 1 campaigns\n",
      "🔧 Applying corrections to campaign: 33384-ripples\n",
      "✅ Corrections completed for campaign: 33384-ripples\n",
      "📚 Loaded manual corrections for 1 campaigns\n",
      "🔧 Applying corrections to campaign: 33419-curse-of-strahd\n",
      "✅ Corrections completed for campaign: 33419-curse-of-strahd\n"
     ]
    },
    {
     "name": "stderr",
     "output_type": "stream",
     "text": [
      "Loading campaigns:  38%|███▊      | 379/985 [03:22<04:50,  2.08it/s]"
     ]
    },
    {
     "name": "stdout",
     "output_type": "stream",
     "text": [
      "📚 Loaded manual corrections for 1 campaigns\n",
      "🔧 Applying corrections to campaign: 33545-the-long-road-dragon-heist-game-thread\n",
      "✅ Corrections completed for campaign: 33545-the-long-road-dragon-heist-game-thread\n"
     ]
    },
    {
     "name": "stderr",
     "output_type": "stream",
     "text": [
      "Loading campaigns:  39%|███▊      | 380/985 [03:23<05:29,  1.84it/s]"
     ]
    },
    {
     "name": "stdout",
     "output_type": "stream",
     "text": [
      "📚 Loaded manual corrections for 1 campaigns\n",
      "🔧 Applying corrections to campaign: 33569-dumats-institute-of-higher-magic\n",
      "✅ Corrections completed for campaign: 33569-dumats-institute-of-higher-magic\n"
     ]
    },
    {
     "name": "stderr",
     "output_type": "stream",
     "text": [
      "Loading campaigns:  39%|███▊      | 381/985 [03:23<04:44,  2.12it/s]"
     ]
    },
    {
     "name": "stdout",
     "output_type": "stream",
     "text": [
      "📚 Loaded manual corrections for 1 campaigns\n",
      "🔧 Applying corrections to campaign: 33709-tomb-of-annihilation\n",
      "✅ Corrections completed for campaign: 33709-tomb-of-annihilation\n",
      "📚 Loaded manual corrections for 1 campaigns\n",
      "🔧 Applying corrections to campaign: 33796-the-ancient-gear-of-eternal-flame\n",
      "🗑️ Removing single-post characters: ['Mitty', 'Grurim']\n",
      "⚠️ Character name conflict: 'Namira' used by players ['d4edroth', 'Critzible']\n",
      "✅ Player d4edroth: 'Namira' (confirmed correct)\n"
     ]
    },
    {
     "name": "stderr",
     "output_type": "stream",
     "text": [
      "Loading campaigns:  39%|███▉      | 383/985 [03:25<06:44,  1.49it/s]"
     ]
    },
    {
     "name": "stdout",
     "output_type": "stream",
     "text": [
      "🔄 Player Critzible: 'Namira' → 'Oniestra'\n",
      "✅ Corrections completed for campaign: 33796-the-ancient-gear-of-eternal-flame\n",
      "📚 Loaded manual corrections for 1 campaigns\n",
      "🔧 Applying corrections to campaign: 33881-curse-of-strahd-11-pbp\n",
      "⚠️ Character name conflict: 'Anborn' used by players ['Cherri', 'Sarcasticfury']\n",
      "🔄 Player Cherri: 'Anborn' → 'Winter'\n",
      "✅ Player Sarcasticfury: 'Anborn' (confirmed correct)\n",
      "✅ Corrections completed for campaign: 33881-curse-of-strahd-11-pbp\n"
     ]
    },
    {
     "name": "stderr",
     "output_type": "stream",
     "text": [
      "Loading campaigns:  39%|███▉      | 386/985 [03:27<05:23,  1.85it/s]"
     ]
    },
    {
     "name": "stdout",
     "output_type": "stream",
     "text": [
      "📚 Loaded manual corrections for 1 campaigns\n",
      "🔧 Applying corrections to campaign: 3393-beyond-this-earthly-realm-ic\n",
      "✅ Corrections completed for campaign: 3393-beyond-this-earthly-realm-ic\n",
      "📚 Loaded manual corrections for 1 campaigns\n",
      "🔧 Applying corrections to campaign: 33973-lost-mine-of-phandelver\n",
      "✅ Corrections completed for campaign: 33973-lost-mine-of-phandelver\n",
      "📚 Loaded manual corrections for 1 campaigns\n",
      "🔧 Applying corrections to campaign: 33978-westfield-travels\n",
      "✅ Corrections completed for campaign: 33978-westfield-travels\n",
      "📚 Loaded manual corrections for 1 campaigns\n",
      "🔧 Applying corrections to campaign: 34067-hunted\n",
      "✅ Corrections completed for campaign: 34067-hunted\n"
     ]
    },
    {
     "name": "stderr",
     "output_type": "stream",
     "text": [
      "Loading campaigns:  39%|███▉      | 388/985 [03:27<03:56,  2.52it/s]"
     ]
    },
    {
     "name": "stdout",
     "output_type": "stream",
     "text": [
      "📚 Loaded manual corrections for 1 campaigns\n",
      "🔧 Applying corrections to campaign: 34149-the-prophecy-of-kuyutha\n",
      "⚠️ Character name conflict: 'Preah' used by players ['Vaynol', 'Hydra1418']\n",
      "🔄 Player Vaynol: 'Preah' → 'Lucky'\n"
     ]
    },
    {
     "name": "stderr",
     "output_type": "stream",
     "text": [
      "Loading campaigns:  39%|███▉      | 389/985 [03:28<05:43,  1.74it/s]"
     ]
    },
    {
     "name": "stdout",
     "output_type": "stream",
     "text": [
      "🔄 Player Hydra1418: 'Preah' → 'Irthos'\n",
      "✅ Corrections completed for campaign: 34149-the-prophecy-of-kuyutha\n",
      "📚 Loaded manual corrections for 1 campaigns\n",
      "🔧 Applying corrections to campaign: 34220-waterdeep-dungeon-of-the-mad-mage\n",
      "✅ Corrections completed for campaign: 34220-waterdeep-dungeon-of-the-mad-mage\n"
     ]
    },
    {
     "name": "stderr",
     "output_type": "stream",
     "text": [
      "Loading campaigns:  40%|███▉      | 390/985 [03:29<05:25,  1.83it/s]"
     ]
    },
    {
     "name": "stdout",
     "output_type": "stream",
     "text": [
      "📚 Loaded manual corrections for 1 campaigns\n",
      "🔧 Applying corrections to campaign: 34258-gmoats-eberron-battle-for-the-reaches-an-eberron\n",
      "✅ Corrections completed for campaign: 34258-gmoats-eberron-battle-for-the-reaches-an-eberron\n"
     ]
    },
    {
     "name": "stderr",
     "output_type": "stream",
     "text": [
      "Loading campaigns:  40%|███▉      | 391/985 [03:29<05:08,  1.92it/s]"
     ]
    },
    {
     "name": "stdout",
     "output_type": "stream",
     "text": [
      "📚 Loaded manual corrections for 1 campaigns\n",
      "🔧 Applying corrections to campaign: 34397-waterdeep-dragon-heist-for-friendship\n",
      "⚠️ Character name conflict: 'Ira' used by players ['FriendlyNeighbourhoodSatan', 'DuckKing44']\n",
      "⚠️ Character name conflict: 'Gaz' used by players ['Cheapdoc', 'WoodBlade']\n",
      "🔄 Player FriendlyNeighbourhoodSatan: 'Ira' → 'Lady Majarra'\n",
      "🔄 Player DuckKing44: 'Ira' → 'Aegis'\n",
      "✅ Player Cheapdoc: 'Gaz' (confirmed correct)\n"
     ]
    },
    {
     "name": "stderr",
     "output_type": "stream",
     "text": [
      "Loading campaigns:  40%|███▉      | 392/985 [03:32<11:33,  1.17s/it]"
     ]
    },
    {
     "name": "stdout",
     "output_type": "stream",
     "text": [
      "🔄 Player WoodBlade: 'Gaz' → 'Game'\n",
      "✅ Corrections completed for campaign: 34397-waterdeep-dragon-heist-for-friendship\n",
      "📚 Loaded manual corrections for 1 campaigns\n",
      "🔧 Applying corrections to campaign: 34405-echos-of-a-burning-crown-forgotten-realms-homebrew\n",
      "⚠️ Character name conflict: 'Pyro' used by players ['Larger_Ooze_Of_Charisma', 'Ooze_Of_Charisma']\n",
      "✅ Player Larger_Ooze_Of_Charisma: 'Pyro' (confirmed correct)\n",
      "🔄 Player Ooze_Of_Charisma: 'Pyro' → 'FlabberGhast'\n",
      "✅ Corrections completed for campaign: 34405-echos-of-a-burning-crown-forgotten-realms-homebrew\n"
     ]
    },
    {
     "name": "stderr",
     "output_type": "stream",
     "text": [
      "Loading campaigns:  40%|███▉      | 393/985 [03:34<13:38,  1.38s/it]"
     ]
    },
    {
     "name": "stdout",
     "output_type": "stream",
     "text": [
      "📚 Loaded manual corrections for 1 campaigns\n",
      "🔧 Applying corrections to campaign: 34446-bartys-the-lonely-tower-doom-portals-part-3a\n",
      "✅ Corrections completed for campaign: 34446-bartys-the-lonely-tower-doom-portals-part-3a\n",
      "📚 Loaded manual corrections for 1 campaigns\n",
      "🔧 Applying corrections to campaign: 34510-robbys-ultimate-super-awesome-fun-times-in-the\n",
      "⚠️ Character name conflict: 'Leto' used by players ['kevtr0n', 'Afelia']\n",
      "✅ Player kevtr0n: 'Leto' (confirmed correct)\n"
     ]
    },
    {
     "name": "stderr",
     "output_type": "stream",
     "text": [
      "Loading campaigns:  40%|████      | 395/985 [03:36<10:48,  1.10s/it]"
     ]
    },
    {
     "name": "stdout",
     "output_type": "stream",
     "text": [
      "🔄 Player Afelia: 'Leto' → 'Krwa'\n",
      "✅ Corrections completed for campaign: 34510-robbys-ultimate-super-awesome-fun-times-in-the\n",
      "📚 Loaded manual corrections for 1 campaigns\n",
      "🔧 Applying corrections to campaign: 34651-the-prophecy-of-nazhuatl-beta-playtest\n",
      "⚠️ Character name conflict: 'Gustav' used by players ['Mehmen', 'Cherri']\n",
      "✅ Player Mehmen: 'Gustav' (confirmed correct)\n"
     ]
    },
    {
     "name": "stderr",
     "output_type": "stream",
     "text": [
      "Loading campaigns:  40%|████      | 396/985 [03:38<13:35,  1.39s/it]"
     ]
    },
    {
     "name": "stdout",
     "output_type": "stream",
     "text": [
      "🔄 Player Cherri: 'Gustav' → 'Era'\n",
      "✅ Corrections completed for campaign: 34651-the-prophecy-of-nazhuatl-beta-playtest\n",
      "📚 Loaded manual corrections for 1 campaigns\n",
      "🔧 Applying corrections to campaign: 34666-the-arenaalways-recruiting\n",
      "⚠️ Character name conflict: 'Nara' used by players ['Keneux', 'futuristic_kf']\n",
      "⚠️ Character name conflict: 'Ryshard' used by players ['vassasunstar', 'HorseyHorsey']\n",
      "⚠️ Character name conflict: 'Aliene' used by players ['jigabob', 'MagicianEdition']\n",
      "✅ Player Keneux: 'Nara' (confirmed correct)\n",
      "🔄 Player futuristic_kf: 'Nara' → 'Olwen'\n",
      "✅ Player vassasunstar: 'Ryshard' (confirmed correct)\n",
      "🔄 Player HorseyHorsey: 'Ryshard' → '为了你'\n",
      "🔄 Player jigabob: 'Aliene' → 'Zurazall'\n",
      "🔄 Player MagicianEdition: 'Aliene' → '为了你'\n",
      "✅ Corrections completed for campaign: 34666-the-arenaalways-recruiting\n"
     ]
    },
    {
     "name": "stderr",
     "output_type": "stream",
     "text": [
      "Loading campaigns:  40%|████      | 397/985 [03:42<19:45,  2.02s/it]"
     ]
    },
    {
     "name": "stdout",
     "output_type": "stream",
     "text": [
      "📚 Loaded manual corrections for 1 campaigns\n",
      "🔧 Applying corrections to campaign: 34669-the-three-legged-spiderrp-thread-for-the-arena\n",
      "⚠️ Character name conflict: 'Gad' used by players ['Mehmen', 'TheAnvil']\n",
      "✅ Player Mehmen: 'Gad' (confirmed correct)\n"
     ]
    },
    {
     "name": "stderr",
     "output_type": "stream",
     "text": [
      "Loading campaigns:  40%|████      | 398/985 [03:43<17:58,  1.84s/it]"
     ]
    },
    {
     "name": "stdout",
     "output_type": "stream",
     "text": [
      "🔄 Player TheAnvil: 'Gad' → 'J-94'\n",
      "✅ Corrections completed for campaign: 34669-the-three-legged-spiderrp-thread-for-the-arena\n",
      "📚 Loaded manual corrections for 1 campaigns\n",
      "🔧 Applying corrections to campaign: 34683-looking-to-join-a-pbp-campaign\n",
      "⚠️ Character name conflict: 'Vassa' used by players ['WebGambit', 'KestrellKestrell', 'vassasunstar']\n",
      "✅ Player WebGambit: 'Vassa' (confirmed correct)\n",
      "✅ Player KestrellKestrell: 'Vassa' (confirmed correct)\n"
     ]
    },
    {
     "name": "stderr",
     "output_type": "stream",
     "text": [
      "Loading campaigns:  41%|████      | 399/985 [03:45<18:46,  1.92s/it]"
     ]
    },
    {
     "name": "stdout",
     "output_type": "stream",
     "text": [
      "✅ Player vassasunstar: 'Vassa' (confirmed correct)\n",
      "✅ Corrections completed for campaign: 34683-looking-to-join-a-pbp-campaign\n",
      "📚 Loaded manual corrections for 1 campaigns\n",
      "🔧 Applying corrections to campaign: 34856-order-of-medusa-2-0\n",
      "✅ Corrections completed for campaign: 34856-order-of-medusa-2-0\n"
     ]
    },
    {
     "name": "stderr",
     "output_type": "stream",
     "text": [
      "Loading campaigns:  41%|████      | 400/985 [03:46<13:58,  1.43s/it]"
     ]
    },
    {
     "name": "stdout",
     "output_type": "stream",
     "text": [
      "📚 Loaded manual corrections for 1 campaigns\n",
      "🔧 Applying corrections to campaign: 34878-waterdeep-dragon-heist-campaign-thread-dm\n",
      "✅ Corrections completed for campaign: 34878-waterdeep-dragon-heist-campaign-thread-dm\n"
     ]
    },
    {
     "name": "stderr",
     "output_type": "stream",
     "text": [
      "Loading campaigns:  41%|████      | 402/985 [03:46<08:50,  1.10it/s]"
     ]
    },
    {
     "name": "stdout",
     "output_type": "stream",
     "text": [
      "📚 Loaded manual corrections for 1 campaigns\n",
      "🔧 Applying corrections to campaign: 34897-the-tomb-of-torhild-flametongue\n",
      "✅ Corrections completed for campaign: 34897-the-tomb-of-torhild-flametongue\n",
      "📚 Loaded manual corrections for 1 campaigns\n",
      "🔧 Applying corrections to campaign: 34910-the-streets-of-dunnour-end\n",
      "⚠️ Character name conflict: 'Cade' used by players ['flamingrockets', 'Elcnyc1978']\n",
      "🔄 Player flamingrockets: 'Cade' → 'Cade Rainmaker'\n"
     ]
    },
    {
     "name": "stderr",
     "output_type": "stream",
     "text": [
      "Loading campaigns:  41%|████      | 403/985 [03:48<09:58,  1.03s/it]"
     ]
    },
    {
     "name": "stdout",
     "output_type": "stream",
     "text": [
      "🔄 Player Elcnyc1978: 'Cade' → 'Elric'\n",
      "✅ Corrections completed for campaign: 34910-the-streets-of-dunnour-end\n",
      "📚 Loaded manual corrections for 1 campaigns\n",
      "🔧 Applying corrections to campaign: 34935-guild-of-guilds\n",
      "✅ Corrections completed for campaign: 34935-guild-of-guilds\n"
     ]
    },
    {
     "name": "stderr",
     "output_type": "stream",
     "text": [
      "Loading campaigns:  41%|████      | 404/985 [03:48<07:42,  1.26it/s]"
     ]
    },
    {
     "name": "stdout",
     "output_type": "stream",
     "text": [
      "📚 Loaded manual corrections for 1 campaigns\n",
      "🔧 Applying corrections to campaign: 35065-the-long-road-of-the-mage-king-game-thread\n",
      "⚠️ Character name conflict: 'Tock' used by players ['rkmobius', 'Winenose']\n",
      "🔄 Player rkmobius: 'Tock' → 'Doggear Brakespine'\n",
      "✅ Player Winenose: 'Tock' (confirmed correct)\n",
      "✅ Corrections completed for campaign: 35065-the-long-road-of-the-mage-king-game-thread\n"
     ]
    },
    {
     "name": "stderr",
     "output_type": "stream",
     "text": [
      "Loading campaigns:  41%|████      | 405/985 [03:50<11:22,  1.18s/it]"
     ]
    },
    {
     "name": "stdout",
     "output_type": "stream",
     "text": [
      "📚 Loaded manual corrections for 1 campaigns\n",
      "🔧 Applying corrections to campaign: 35077-wolverinehuskys-private-game-lmop-not-accepting\n",
      "✅ Corrections completed for campaign: 35077-wolverinehuskys-private-game-lmop-not-accepting\n"
     ]
    },
    {
     "name": "stderr",
     "output_type": "stream",
     "text": [
      "Loading campaigns:  41%|████      | 406/985 [03:51<09:41,  1.00s/it]"
     ]
    },
    {
     "name": "stdout",
     "output_type": "stream",
     "text": [
      "📚 Loaded manual corrections for 1 campaigns\n",
      "🔧 Applying corrections to campaign: 35085-ghosts-of-saltmarsh-12-pbp\n",
      "✅ Corrections completed for campaign: 35085-ghosts-of-saltmarsh-12-pbp\n"
     ]
    },
    {
     "name": "stderr",
     "output_type": "stream",
     "text": [
      "Loading campaigns:  41%|████▏     | 407/985 [03:51<08:06,  1.19it/s]"
     ]
    },
    {
     "name": "stdout",
     "output_type": "stream",
     "text": [
      "📚 Loaded manual corrections for 1 campaigns\n",
      "🔧 Applying corrections to campaign: 35112-seaths-waterdeep-dragon-heist\n",
      "✅ Corrections completed for campaign: 35112-seaths-waterdeep-dragon-heist\n",
      "📚 Loaded manual corrections for 1 campaigns\n",
      "🔧 Applying corrections to campaign: 35134-pbp-lost-mine-of-phandelver-dm-lukehez92\n",
      "⚠️ Character name conflict: 'Lilith' used by players ['Widowleaf', 'potatocrown']\n",
      "🔄 Player Widowleaf: 'Lilith' → 'Blighttree'\n"
     ]
    },
    {
     "name": "stderr",
     "output_type": "stream",
     "text": [
      "Loading campaigns:  42%|████▏     | 409/985 [03:53<07:35,  1.27it/s]"
     ]
    },
    {
     "name": "stdout",
     "output_type": "stream",
     "text": [
      "✅ Player potatocrown: 'Lilith' (confirmed correct)\n",
      "✅ Corrections completed for campaign: 35134-pbp-lost-mine-of-phandelver-dm-lukehez92\n",
      "📚 Loaded manual corrections for 1 campaigns\n",
      "🔧 Applying corrections to campaign: 35166-rynos-curse-of-strahd\n",
      "⚠️ Character name conflict: 'Cinna' used by players ['Sinsyxx', 'KestrelRae']\n",
      "🔄 Player Sinsyxx: 'Cinna' → 'Trogdor'\n",
      "✅ Player KestrelRae: 'Cinna' (confirmed correct)\n",
      "✅ Corrections completed for campaign: 35166-rynos-curse-of-strahd\n"
     ]
    },
    {
     "name": "stderr",
     "output_type": "stream",
     "text": [
      "Loading campaigns:  42%|████▏     | 410/985 [03:54<09:15,  1.03it/s]"
     ]
    },
    {
     "name": "stdout",
     "output_type": "stream",
     "text": [
      "📚 Loaded manual corrections for 1 campaigns\n",
      "🔧 Applying corrections to campaign: 35267-tower-of-the-mad-mage\n",
      "✅ Corrections completed for campaign: 35267-tower-of-the-mad-mage\n",
      "📚 Loaded manual corrections for 1 campaigns\n",
      "🔧 Applying corrections to campaign: 35412-treasure-hunt-game-thread\n",
      "✅ Corrections completed for campaign: 35412-treasure-hunt-game-thread\n"
     ]
    },
    {
     "name": "stderr",
     "output_type": "stream",
     "text": [
      "Loading campaigns:  42%|████▏     | 412/985 [03:54<05:52,  1.63it/s]"
     ]
    },
    {
     "name": "stdout",
     "output_type": "stream",
     "text": [
      "📚 Loaded manual corrections for 1 campaigns\n",
      "🔧 Applying corrections to campaign: 35439-seldom-spring\n",
      "🗑️ Removing single-post characters: ['Dirk']\n",
      "⚠️ Character name conflict: 'Maldorn' used by players ['Lerus17', 'acoolnamehere']\n",
      "⚠️ Character name conflict: 'Anafrey' used by players ['Wreckzors', 'abunny']\n",
      "✅ Player Lerus17: 'Maldorn' (confirmed correct)\n",
      "🔄 Player acoolnamehere: 'Maldorn' → 'Ebokk'\n",
      "✅ Player Wreckzors: 'Anafrey' (confirmed correct)\n",
      "✅ Player abunny: 'Anafrey' (confirmed correct)\n",
      "✅ Corrections completed for campaign: 35439-seldom-spring\n"
     ]
    },
    {
     "name": "stderr",
     "output_type": "stream",
     "text": [
      "Loading campaigns:  42%|████▏     | 413/985 [03:58<11:36,  1.22s/it]"
     ]
    },
    {
     "name": "stdout",
     "output_type": "stream",
     "text": [
      "📚 Loaded manual corrections for 1 campaigns\n",
      "🔧 Applying corrections to campaign: 35444-lost-mines-lost-labs-and-lost-hope-robjfalcons\n",
      "⚠️ Character name conflict: 'Fjolnir' used by players ['Evildrive', 'Gallowscall']\n",
      "✅ Player Evildrive: 'Fjolnir' (confirmed correct)\n",
      "🔄 Player Gallowscall: 'Fjolnir' → 'Dirk'\n",
      "✅ Corrections completed for campaign: 35444-lost-mines-lost-labs-and-lost-hope-robjfalcons\n"
     ]
    },
    {
     "name": "stderr",
     "output_type": "stream",
     "text": [
      "Loading campaigns:  42%|████▏     | 416/985 [04:00<08:15,  1.15it/s]"
     ]
    },
    {
     "name": "stdout",
     "output_type": "stream",
     "text": [
      "📚 Loaded manual corrections for 1 campaigns\n",
      "🔧 Applying corrections to campaign: 35460-the-next-leap-planebreaker\n",
      "✅ Corrections completed for campaign: 35460-the-next-leap-planebreaker\n",
      "📚 Loaded manual corrections for 1 campaigns\n",
      "🔧 Applying corrections to campaign: 3570-ooc-a-mountain-tavern\n",
      "✅ Corrections completed for campaign: 3570-ooc-a-mountain-tavern\n",
      "📚 Loaded manual corrections for 1 campaigns\n",
      "🔧 Applying corrections to campaign: 35987-survivor-moonshae-isles-season-1\n",
      "⚠️ Character name conflict: 'LeShanna' used by players ['Galanodel67', 'CasualtyOfMagic']\n",
      "✅ Player Galanodel67: 'LeShanna' (confirmed correct)\n",
      "🔄 Player CasualtyOfMagic: 'LeShanna' → 'Stripes'\n",
      "✅ Corrections completed for campaign: 35987-survivor-moonshae-isles-season-1\n"
     ]
    },
    {
     "name": "stderr",
     "output_type": "stream",
     "text": [
      "Loading campaigns:  42%|████▏     | 417/985 [04:02<10:28,  1.11s/it]"
     ]
    },
    {
     "name": "stdout",
     "output_type": "stream",
     "text": [
      "📚 Loaded manual corrections for 1 campaigns\n",
      "🔧 Applying corrections to campaign: 36009-beyond-the-bitter-shore-forgotten-realms-pirate\n",
      "✅ Corrections completed for campaign: 36009-beyond-the-bitter-shore-forgotten-realms-pirate\n"
     ]
    },
    {
     "name": "stderr",
     "output_type": "stream",
     "text": [
      "Loading campaigns:  43%|████▎     | 420/985 [04:02<05:32,  1.70it/s]"
     ]
    },
    {
     "name": "stdout",
     "output_type": "stream",
     "text": [
      "📚 Loaded manual corrections for 1 campaigns\n",
      "🔧 Applying corrections to campaign: 3634-ic-the-mountain-tavern\n",
      "✅ Corrections completed for campaign: 3634-ic-the-mountain-tavern\n",
      "📚 Loaded manual corrections for 1 campaigns\n",
      "🔧 Applying corrections to campaign: 36361-eberron-tales-alpha\n",
      "✅ Corrections completed for campaign: 36361-eberron-tales-alpha\n",
      "📚 Loaded manual corrections for 1 campaigns\n",
      "🔧 Applying corrections to campaign: 36373-adventurers-for-hire-game-thread\n",
      "✅ Corrections completed for campaign: 36373-adventurers-for-hire-game-thread\n",
      "📚 Loaded manual corrections for 1 campaigns\n",
      "🔧 Applying corrections to campaign: 36503-eidolons-of-eramyth\n",
      "⚠️ Character name conflict: 'Nyaris' used by players ['skuk', 'Sdclaybrook']\n",
      "🔄 Player skuk: 'Nyaris' → 'Redemption Malxis'\n"
     ]
    },
    {
     "name": "stderr",
     "output_type": "stream",
     "text": [
      "Loading campaigns:  43%|████▎     | 422/985 [04:04<05:53,  1.59it/s]"
     ]
    },
    {
     "name": "stdout",
     "output_type": "stream",
     "text": [
      "✅ Player Sdclaybrook: 'Nyaris' (confirmed correct)\n",
      "✅ Corrections completed for campaign: 36503-eidolons-of-eramyth\n",
      "📚 Loaded manual corrections for 1 campaigns\n",
      "🔧 Applying corrections to campaign: 36607-power-trip\n",
      "⚠️ Character name conflict: 'Ilia' used by players ['badpanda', 'WoobyDoobyDoo']\n",
      "🔄 Player badpanda: 'Ilia' → 'Whispers'\n"
     ]
    },
    {
     "name": "stderr",
     "output_type": "stream",
     "text": [
      "Loading campaigns:  43%|████▎     | 423/985 [04:05<07:39,  1.22it/s]"
     ]
    },
    {
     "name": "stdout",
     "output_type": "stream",
     "text": [
      "🔄 Player WoobyDoobyDoo: 'Ilia' → 'Archon'\n",
      "✅ Corrections completed for campaign: 36607-power-trip\n",
      "📚 Loaded manual corrections for 1 campaigns\n",
      "🔧 Applying corrections to campaign: 36667-dungeon-of-the-mad-mage-2\n",
      "⚠️ Character name conflict: 'Alessandra' used by players ['Cherri', 'o_Merlin_o']\n",
      "🔄 Player Cherri: 'Alessandra' → 'Aless'\n"
     ]
    },
    {
     "name": "stderr",
     "output_type": "stream",
     "text": [
      "Loading campaigns:  43%|████▎     | 424/985 [04:07<10:17,  1.10s/it]"
     ]
    },
    {
     "name": "stdout",
     "output_type": "stream",
     "text": [
      "🔄 Player o_Merlin_o: 'Alessandra' → 'OU812'\n",
      "✅ Corrections completed for campaign: 36667-dungeon-of-the-mad-mage-2\n",
      "📚 Loaded manual corrections for 1 campaigns\n",
      "🔧 Applying corrections to campaign: 36674-lost-mine-april-2019\n",
      "✅ Corrections completed for campaign: 36674-lost-mine-april-2019\n"
     ]
    },
    {
     "name": "stderr",
     "output_type": "stream",
     "text": [
      "Loading campaigns:  43%|████▎     | 427/985 [04:08<05:08,  1.81it/s]"
     ]
    },
    {
     "name": "stdout",
     "output_type": "stream",
     "text": [
      "📚 Loaded manual corrections for 1 campaigns\n",
      "🔧 Applying corrections to campaign: 36771-the-ex-ravens\n",
      "✅ Corrections completed for campaign: 36771-the-ex-ravens\n",
      "📚 Loaded manual corrections for 1 campaigns\n",
      "🔧 Applying corrections to campaign: 36955-lost-mines-pbp\n",
      "✅ Corrections completed for campaign: 36955-lost-mines-pbp\n",
      "📚 Loaded manual corrections for 1 campaigns\n",
      "🔧 Applying corrections to campaign: 37058-waterdeep-dragon-heist-dungeon-of-the-mad-mage-dm\n",
      "⚠️ Character name conflict: 'Briga' used by players ['Izraal', 'Izraal1']\n",
      "🔄 Player Izraal: 'Briga' → 'Borja'\n",
      "✅ Player Izraal1: 'Briga' (confirmed correct)\n",
      "✅ Corrections completed for campaign: 37058-waterdeep-dragon-heist-dungeon-of-the-mad-mage-dm\n"
     ]
    },
    {
     "name": "stderr",
     "output_type": "stream",
     "text": [
      "Loading campaigns:  44%|████▎     | 429/985 [04:09<05:44,  1.62it/s]"
     ]
    },
    {
     "name": "stdout",
     "output_type": "stream",
     "text": [
      "📚 Loaded manual corrections for 1 campaigns\n",
      "🔧 Applying corrections to campaign: 37061-curse-of-strahd-dm-simmyish\n",
      "✅ Corrections completed for campaign: 37061-curse-of-strahd-dm-simmyish\n",
      "📚 Loaded manual corrections for 1 campaigns\n",
      "🔧 Applying corrections to campaign: 37084-from-deilan-tomb-to-lmop-the-adventure-continues\n",
      "⚠️ Character name conflict: 'Nate' used by players ['KleinDungeons', 'SteveThaiBinh']\n",
      "🔄 Player KleinDungeons: 'Nate' → 'Shaun'\n",
      "✅ Player SteveThaiBinh: 'Nate' (confirmed correct)\n",
      "✅ Corrections completed for campaign: 37084-from-deilan-tomb-to-lmop-the-adventure-continues\n"
     ]
    },
    {
     "name": "stderr",
     "output_type": "stream",
     "text": [
      "Loading campaigns:  44%|████▍     | 432/985 [04:11<05:00,  1.84it/s]"
     ]
    },
    {
     "name": "stdout",
     "output_type": "stream",
     "text": [
      "📚 Loaded manual corrections for 1 campaigns\n",
      "🔧 Applying corrections to campaign: 37137-nhs-dragon-heist-chapter-1\n",
      "✅ Corrections completed for campaign: 37137-nhs-dragon-heist-chapter-1\n",
      "📚 Loaded manual corrections for 1 campaigns\n",
      "🔧 Applying corrections to campaign: 37242-a-bunny-presents-dungeons-dragons-tomb-of\n",
      "✅ Corrections completed for campaign: 37242-a-bunny-presents-dungeons-dragons-tomb-of\n",
      "📚 Loaded manual corrections for 1 campaigns\n",
      "🔧 Applying corrections to campaign: 37251-union-game-thread\n",
      "⚠️ Character name conflict: 'Corti' used by players ['RasecAlugard', 'rilem']\n",
      "🔄 Player RasecAlugard: 'Corti' → 'Arc'\n",
      "✅ Player rilem: 'Corti' (confirmed correct)\n",
      "✅ Corrections completed for campaign: 37251-union-game-thread\n"
     ]
    },
    {
     "name": "stderr",
     "output_type": "stream",
     "text": [
      "Loading campaigns:  44%|████▍     | 434/985 [04:13<06:02,  1.52it/s]"
     ]
    },
    {
     "name": "stdout",
     "output_type": "stream",
     "text": [
      "📚 Loaded manual corrections for 1 campaigns\n",
      "🔧 Applying corrections to campaign: 37310-bartys-beyond-fire-rikirta-part-1\n",
      "✅ Corrections completed for campaign: 37310-bartys-beyond-fire-rikirta-part-1\n",
      "📚 Loaded manual corrections for 1 campaigns\n",
      "🔧 Applying corrections to campaign: 37323-dzenda-the-cracks\n",
      "✅ Corrections completed for campaign: 37323-dzenda-the-cracks\n"
     ]
    },
    {
     "name": "stderr",
     "output_type": "stream",
     "text": [
      "Loading campaigns:  44%|████▍     | 436/985 [04:13<03:53,  2.35it/s]"
     ]
    },
    {
     "name": "stdout",
     "output_type": "stream",
     "text": [
      "📚 Loaded manual corrections for 1 campaigns\n",
      "🔧 Applying corrections to campaign: 37354-red-larch-heroes\n",
      "✅ Corrections completed for campaign: 37354-red-larch-heroes\n",
      "📚 Loaded manual corrections for 1 campaigns\n",
      "🔧 Applying corrections to campaign: 37371-and-now-for-something-completely-different-dm\n",
      "✅ Corrections completed for campaign: 37371-and-now-for-something-completely-different-dm\n"
     ]
    },
    {
     "name": "stderr",
     "output_type": "stream",
     "text": [
      "Loading campaigns:  44%|████▍     | 437/985 [04:14<03:22,  2.70it/s]"
     ]
    },
    {
     "name": "stdout",
     "output_type": "stream",
     "text": [
      "📚 Loaded manual corrections for 1 campaigns\n",
      "🔧 Applying corrections to campaign: 37396-tftyp-part-1-the-sunless-citadel-dm\n",
      "✅ Corrections completed for campaign: 37396-tftyp-part-1-the-sunless-citadel-dm\n"
     ]
    },
    {
     "name": "stderr",
     "output_type": "stream",
     "text": [
      "Loading campaigns:  45%|████▍     | 440/985 [04:15<02:52,  3.15it/s]"
     ]
    },
    {
     "name": "stdout",
     "output_type": "stream",
     "text": [
      "📚 Loaded manual corrections for 1 campaigns\n",
      "🔧 Applying corrections to campaign: 37427-limbos-pit-pve-always-recruiting\n",
      "✅ Corrections completed for campaign: 37427-limbos-pit-pve-always-recruiting\n",
      "📚 Loaded manual corrections for 1 campaigns\n",
      "🔧 Applying corrections to campaign: 37458-white-plume-mountain-13-pbp\n",
      "✅ Corrections completed for campaign: 37458-white-plume-mountain-13-pbp\n",
      "📚 Loaded manual corrections for 1 campaigns\n",
      "🔧 Applying corrections to campaign: 37476-grey-hands-barracks-alpha-team-and-wolf-team\n",
      "⚠️ Character name conflict: 'Xana' used by players ['novaskyr', 'BlueBayou']\n",
      "⚠️ Character name conflict: 'Seb' used by players ['Rosscobee86', 'Mojake']\n",
      "⚠️ Character name conflict: 'Idozu' used by players ['Woogles', 'Heritage367']\n",
      "🔄 Player novaskyr: 'Xana' → 'Xanaphia'\n",
      "🔄 Player BlueBayou: 'Xana' → 'Kendil Tras'\n",
      "🔄 Player Rosscobee86: 'Seb' → 'Crash'\n",
      "🔄 Player Mojake: 'Seb' → 'Sebastien'\n",
      "🔄 Player Woogles: 'Idozu' → 'Alton'\n"
     ]
    },
    {
     "name": "stderr",
     "output_type": "stream",
     "text": [
      "Loading campaigns:  45%|████▍     | 441/985 [04:19<12:30,  1.38s/it]"
     ]
    },
    {
     "name": "stdout",
     "output_type": "stream",
     "text": [
      "🔄 Player Heritage367: 'Idozu' → 'Fruli'\n",
      "✅ Corrections completed for campaign: 37476-grey-hands-barracks-alpha-team-and-wolf-team\n",
      "📚 Loaded manual corrections for 1 campaigns\n",
      "🔧 Applying corrections to campaign: 37489-soldiers-of-vord\n",
      "✅ Corrections completed for campaign: 37489-soldiers-of-vord\n",
      "📚 Loaded manual corrections for 1 campaigns\n",
      "🔧 Applying corrections to campaign: 37492-thieves-of-vord\n",
      "✅ Corrections completed for campaign: 37492-thieves-of-vord\n",
      "📚 Loaded manual corrections for 1 campaigns\n",
      "🔧 Applying corrections to campaign: 37529-the-volcanic-prison\n",
      "✅ Corrections completed for campaign: 37529-the-volcanic-prison\n"
     ]
    },
    {
     "name": "stderr",
     "output_type": "stream",
     "text": [
      "Loading campaigns:  45%|████▌     | 444/985 [04:19<06:23,  1.41it/s]"
     ]
    },
    {
     "name": "stdout",
     "output_type": "stream",
     "text": [
      "📚 Loaded manual corrections for 1 campaigns\n",
      "🔧 Applying corrections to campaign: 37540-grey-hands-wolf-team\n",
      "✅ Corrections completed for campaign: 37540-grey-hands-wolf-team\n"
     ]
    },
    {
     "name": "stderr",
     "output_type": "stream",
     "text": [
      "Loading campaigns:  45%|████▌     | 447/985 [04:20<04:08,  2.17it/s]"
     ]
    },
    {
     "name": "stdout",
     "output_type": "stream",
     "text": [
      "📚 Loaded manual corrections for 1 campaigns\n",
      "🔧 Applying corrections to campaign: 37541-grey-hands-alpha-team\n",
      "✅ Corrections completed for campaign: 37541-grey-hands-alpha-team\n",
      "📚 Loaded manual corrections for 1 campaigns\n",
      "🔧 Applying corrections to campaign: 37672-curse-of-strahd\n",
      "✅ Corrections completed for campaign: 37672-curse-of-strahd\n",
      "📚 Loaded manual corrections for 1 campaigns\n",
      "🔧 Applying corrections to campaign: 37851-curse-of-azynfall-rp-thread\n",
      "✅ Corrections completed for campaign: 37851-curse-of-azynfall-rp-thread\n",
      "📚 Loaded manual corrections for 1 campaigns\n",
      "🔧 Applying corrections to campaign: 38096-hunding-of-the-shimmering-sands\n",
      "✅ Corrections completed for campaign: 38096-hunding-of-the-shimmering-sands\n"
     ]
    },
    {
     "name": "stderr",
     "output_type": "stream",
     "text": [
      "Loading campaigns:  46%|████▌     | 449/985 [04:20<02:54,  3.07it/s]"
     ]
    },
    {
     "name": "stdout",
     "output_type": "stream",
     "text": [
      "📚 Loaded manual corrections for 1 campaigns\n",
      "🔧 Applying corrections to campaign: 38166-waterdeep-gates-wide-open-dragon-heist\n",
      "✅ Corrections completed for campaign: 38166-waterdeep-gates-wide-open-dragon-heist\n"
     ]
    },
    {
     "name": "stderr",
     "output_type": "stream",
     "text": [
      "Loading campaigns:  46%|████▌     | 451/985 [04:21<02:28,  3.59it/s]"
     ]
    },
    {
     "name": "stdout",
     "output_type": "stream",
     "text": [
      "📚 Loaded manual corrections for 1 campaigns\n",
      "🔧 Applying corrections to campaign: 38188-one-shot-eotw-the-haunted-cornfield-story\n",
      "🗑️ Removing single-post characters: ['Grimbeard']\n",
      "✅ Corrections completed for campaign: 38188-one-shot-eotw-the-haunted-cornfield-story\n",
      "📚 Loaded manual corrections for 1 campaigns\n",
      "🔧 Applying corrections to campaign: 38331-bartys-to-catch-a-thief-doom-portals-part-4b\n",
      "✅ Corrections completed for campaign: 38331-bartys-to-catch-a-thief-doom-portals-part-4b\n",
      "📚 Loaded manual corrections for 1 campaigns\n",
      "🔧 Applying corrections to campaign: 38344-fate-false-revelation\n",
      "⚠️ Character name conflict: 'Oz' used by players ['Gimpster', 'Ozelotl']\n",
      "✅ Player Gimpster: 'Oz' (confirmed correct)\n",
      "🔄 Player Ozelotl: 'Oz' → 'Oscar'\n",
      "✅ Corrections completed for campaign: 38344-fate-false-revelation\n"
     ]
    },
    {
     "name": "stderr",
     "output_type": "stream",
     "text": [
      "Loading campaigns:  46%|████▌     | 453/985 [04:23<04:55,  1.80it/s]"
     ]
    },
    {
     "name": "stdout",
     "output_type": "stream",
     "text": [
      "📚 Loaded manual corrections for 1 campaigns\n",
      "🔧 Applying corrections to campaign: 38356-never-winter-seldom-spring-a-loose-collection-of\n",
      "⚠️ Character name conflict: 'Abner' used by players ['skuk', 'cbaer8']\n",
      "🔄 Player skuk: 'Abner' → 'Redemption Malxis'\n"
     ]
    },
    {
     "name": "stderr",
     "output_type": "stream",
     "text": [
      "Loading campaigns:  46%|████▌     | 454/985 [04:25<06:42,  1.32it/s]"
     ]
    },
    {
     "name": "stdout",
     "output_type": "stream",
     "text": [
      "✅ Player cbaer8: 'Abner' (confirmed correct)\n",
      "✅ Corrections completed for campaign: 38356-never-winter-seldom-spring-a-loose-collection-of\n",
      "📚 Loaded manual corrections for 1 campaigns\n",
      "🔧 Applying corrections to campaign: 38366-the-summit-road-campaign-thread\n",
      "✅ Corrections completed for campaign: 38366-the-summit-road-campaign-thread\n"
     ]
    },
    {
     "name": "stderr",
     "output_type": "stream",
     "text": [
      "Loading campaigns:  46%|████▋     | 456/985 [04:25<05:18,  1.66it/s]"
     ]
    },
    {
     "name": "stdout",
     "output_type": "stream",
     "text": [
      "📚 Loaded manual corrections for 1 campaigns\n",
      "🔧 Applying corrections to campaign: 38519-swifts-storm-kings-thunder\n",
      "✅ Corrections completed for campaign: 38519-swifts-storm-kings-thunder\n",
      "📚 Loaded manual corrections for 1 campaigns\n",
      "🔧 Applying corrections to campaign: 38553-alpha-li\n",
      "✅ Corrections completed for campaign: 38553-alpha-li\n",
      "📚 Loaded manual corrections for 1 campaigns\n",
      "🔧 Applying corrections to campaign: 38563-lost-mines-gr-a\n",
      "✅ Corrections completed for campaign: 38563-lost-mines-gr-a\n"
     ]
    },
    {
     "name": "stderr",
     "output_type": "stream",
     "text": [
      "Loading campaigns:  46%|████▋     | 458/985 [04:26<03:55,  2.24it/s]"
     ]
    },
    {
     "name": "stdout",
     "output_type": "stream",
     "text": [
      "📚 Loaded manual corrections for 1 campaigns\n",
      "🔧 Applying corrections to campaign: 38564-lost-mines-gr-b\n",
      "⚠️ Character name conflict: 'Cirrus' used by players ['Jameswllorimer', 'Bonedrewsle']\n",
      "🔄 Player Jameswllorimer: 'Cirrus' → 'Gulari Luganano'\n",
      "🔄 Player Bonedrewsle: 'Cirrus' → 'Cirrus Fujin'\n",
      "✅ Corrections completed for campaign: 38564-lost-mines-gr-b\n"
     ]
    },
    {
     "name": "stderr",
     "output_type": "stream",
     "text": [
      "Loading campaigns:  47%|████▋     | 460/985 [04:28<05:31,  1.58it/s]"
     ]
    },
    {
     "name": "stdout",
     "output_type": "stream",
     "text": [
      "📚 Loaded manual corrections for 1 campaigns\n",
      "🔧 Applying corrections to campaign: 38572-silver-blades\n",
      "✅ Corrections completed for campaign: 38572-silver-blades\n",
      "📚 Loaded manual corrections for 1 campaigns\n",
      "🔧 Applying corrections to campaign: 38592-b-o-b-princes-of-the-apocalypse\n",
      "✅ Corrections completed for campaign: 38592-b-o-b-princes-of-the-apocalypse\n"
     ]
    },
    {
     "name": "stderr",
     "output_type": "stream",
     "text": [
      "Loading campaigns:  47%|████▋     | 462/985 [04:28<03:36,  2.42it/s]"
     ]
    },
    {
     "name": "stdout",
     "output_type": "stream",
     "text": [
      "📚 Loaded manual corrections for 1 campaigns\n",
      "🔧 Applying corrections to campaign: 38637-dzenda-whispered-tales\n",
      "✅ Corrections completed for campaign: 38637-dzenda-whispered-tales\n",
      "📚 Loaded manual corrections for 1 campaigns\n",
      "🔧 Applying corrections to campaign: 38663-sorvas33-hosting-a-homebrew-lmp\n",
      "🗑️ Removing single-post characters: ['Franklin']\n",
      "✅ Corrections completed for campaign: 38663-sorvas33-hosting-a-homebrew-lmp\n"
     ]
    },
    {
     "name": "stderr",
     "output_type": "stream",
     "text": [
      "Loading campaigns:  47%|████▋     | 464/985 [04:29<02:48,  3.09it/s]"
     ]
    },
    {
     "name": "stdout",
     "output_type": "stream",
     "text": [
      "📚 Loaded manual corrections for 1 campaigns\n",
      "🔧 Applying corrections to campaign: 38678-battle-for-comstalia\n",
      "✅ Corrections completed for campaign: 38678-battle-for-comstalia\n",
      "📚 Loaded manual corrections for 1 campaigns\n",
      "🔧 Applying corrections to campaign: 38896-lmop-campaign-dm-novaskyr-group-1\n",
      "✅ Corrections completed for campaign: 38896-lmop-campaign-dm-novaskyr-group-1\n"
     ]
    },
    {
     "name": "stderr",
     "output_type": "stream",
     "text": [
      "Loading campaigns:  47%|████▋     | 466/985 [04:29<01:59,  4.33it/s]"
     ]
    },
    {
     "name": "stdout",
     "output_type": "stream",
     "text": [
      "📚 Loaded manual corrections for 1 campaigns\n",
      "🔧 Applying corrections to campaign: 38938-karamore-open-world\n",
      "✅ Corrections completed for campaign: 38938-karamore-open-world\n",
      "📚 Loaded manual corrections for 1 campaigns\n",
      "🔧 Applying corrections to campaign: 38950-pbp-out-of-the-abyss-lukehez92\n",
      "✅ Corrections completed for campaign: 38950-pbp-out-of-the-abyss-lukehez92\n"
     ]
    },
    {
     "name": "stderr",
     "output_type": "stream",
     "text": [
      "Loading campaigns:  47%|████▋     | 467/985 [04:29<01:58,  4.38it/s]"
     ]
    },
    {
     "name": "stdout",
     "output_type": "stream",
     "text": [
      "📚 Loaded manual corrections for 1 campaigns\n",
      "🔧 Applying corrections to campaign: 39107-bartys-the-hidden-war-doom-portals-part-4a\n",
      "✅ Corrections completed for campaign: 39107-bartys-the-hidden-war-doom-portals-part-4a\n",
      "📚 Loaded manual corrections for 1 campaigns\n",
      "🔧 Applying corrections to campaign: 39138-daphitras-domain-always-recruiting\n",
      "⚠️ Character name conflict: 'Kierro' used by players ['DeltaEdge27', 'Razaril']\n",
      "🔄 Player DeltaEdge27: 'Kierro' → 'Kierro-Hawklight'\n"
     ]
    },
    {
     "name": "stderr",
     "output_type": "stream",
     "text": [
      "Loading campaigns:  48%|████▊     | 469/985 [04:30<03:33,  2.41it/s]"
     ]
    },
    {
     "name": "stdout",
     "output_type": "stream",
     "text": [
      "🔄 Player Razaril: 'Kierro' → 'Raza'\n",
      "✅ Corrections completed for campaign: 39138-daphitras-domain-always-recruiting\n",
      "📚 Loaded manual corrections for 1 campaigns\n",
      "🔧 Applying corrections to campaign: 39216-mathialls-hoard-of-the-dragon-queen-tiamat\n",
      "✅ Corrections completed for campaign: 39216-mathialls-hoard-of-the-dragon-queen-tiamat\n",
      "📚 Loaded manual corrections for 1 campaigns\n",
      "🔧 Applying corrections to campaign: 39273-daphitras-domain-rp-thread\n",
      "✅ Corrections completed for campaign: 39273-daphitras-domain-rp-thread\n"
     ]
    },
    {
     "name": "stderr",
     "output_type": "stream",
     "text": [
      "Loading campaigns:  48%|████▊     | 471/985 [04:30<02:29,  3.43it/s]"
     ]
    },
    {
     "name": "stdout",
     "output_type": "stream",
     "text": [
      "📚 Loaded manual corrections for 1 campaigns\n",
      "🔧 Applying corrections to campaign: 39562-what-shall-we-do-with-the-drunken-sailor-a\n",
      "✅ Corrections completed for campaign: 39562-what-shall-we-do-with-the-drunken-sailor-a\n"
     ]
    },
    {
     "name": "stderr",
     "output_type": "stream",
     "text": [
      "Loading campaigns:  48%|████▊     | 472/985 [04:31<02:24,  3.55it/s]"
     ]
    },
    {
     "name": "stdout",
     "output_type": "stream",
     "text": [
      "📚 Loaded manual corrections for 1 campaigns\n",
      "🔧 Applying corrections to campaign: 39692-the-chained-god\n",
      "🗑️ Removing single-post characters: ['Strahd']\n",
      "✅ Corrections completed for campaign: 39692-the-chained-god\n",
      "📚 Loaded manual corrections for 1 campaigns\n",
      "🔧 Applying corrections to campaign: 39698-fight-the-night-forever-recruiting\n",
      "⚠️ Character name conflict: 'Sanzor' used by players ['Caobis', 'laa2736']\n",
      "⚠️ Character name conflict: 'Biri' used by players ['Orileo', 'calledThird']\n",
      "⚠️ Character name conflict: 'Bernard' used by players ['Iqqi', 'Mojake']\n",
      "🔄 Player Caobis: 'Sanzor' → 'Plunge'\n",
      "✅ Player laa2736: 'Sanzor' (confirmed correct)\n",
      "🔄 Player Orileo: 'Biri' → 'Delmiriv'\n",
      "🔄 Player calledThird: 'Biri' → 'Kosh'\n",
      "🔄 Player Iqqi: 'Bernard' → 'Quodithas'\n"
     ]
    },
    {
     "name": "stderr",
     "output_type": "stream",
     "text": [
      "Loading campaigns:  48%|████▊     | 475/985 [04:36<07:22,  1.15it/s]"
     ]
    },
    {
     "name": "stdout",
     "output_type": "stream",
     "text": [
      "✅ Player Mojake: 'Bernard' (confirmed correct)\n",
      "✅ Corrections completed for campaign: 39698-fight-the-night-forever-recruiting\n",
      "📚 Loaded manual corrections for 1 campaigns\n",
      "🔧 Applying corrections to campaign: 39728-lost-mine-of-phandelver-by-allan_mandragoran-g1\n",
      "✅ Corrections completed for campaign: 39728-lost-mine-of-phandelver-by-allan_mandragoran-g1\n",
      "📚 Loaded manual corrections for 1 campaigns\n",
      "🔧 Applying corrections to campaign: 39797-magicians-magical-dungeon\n",
      "✅ Corrections completed for campaign: 39797-magicians-magical-dungeon\n"
     ]
    },
    {
     "name": "stderr",
     "output_type": "stream",
     "text": [
      "Loading campaigns:  49%|████▊     | 480/985 [04:36<02:55,  2.87it/s]"
     ]
    },
    {
     "name": "stdout",
     "output_type": "stream",
     "text": [
      "📚 Loaded manual corrections for 1 campaigns\n",
      "🔧 Applying corrections to campaign: 39799-magicians-magical-dungeon\n",
      "✅ Corrections completed for campaign: 39799-magicians-magical-dungeon\n",
      "📚 Loaded manual corrections for 1 campaigns\n",
      "🔧 Applying corrections to campaign: 40074-the-chained-god-ii\n",
      "✅ Corrections completed for campaign: 40074-the-chained-god-ii\n",
      "📚 Loaded manual corrections for 1 campaigns\n",
      "🔧 Applying corrections to campaign: 40080-ghosts-of-saltmarsh\n",
      "✅ Corrections completed for campaign: 40080-ghosts-of-saltmarsh\n",
      "📚 Loaded manual corrections for 1 campaigns\n",
      "🔧 Applying corrections to campaign: 40086-the-mystery-of-a-land-called-saero-gameplay-thread\n",
      "✅ Corrections completed for campaign: 40086-the-mystery-of-a-land-called-saero-gameplay-thread\n",
      "📚 Loaded manual corrections for 1 campaigns\n",
      "🔧 Applying corrections to campaign: 40113-melgons-tales-from-the-yawning-portal\n",
      "✅ Corrections completed for campaign: 40113-melgons-tales-from-the-yawning-portal\n"
     ]
    },
    {
     "name": "stderr",
     "output_type": "stream",
     "text": [
      "Loading campaigns:  49%|████▉     | 482/985 [04:36<02:18,  3.63it/s]"
     ]
    },
    {
     "name": "stdout",
     "output_type": "stream",
     "text": [
      "📚 Loaded manual corrections for 1 campaigns\n",
      "🔧 Applying corrections to campaign: 40216-hoard-of-the-dragon-queen\n",
      "✅ Corrections completed for campaign: 40216-hoard-of-the-dragon-queen\n",
      "📚 Loaded manual corrections for 1 campaigns\n",
      "🔧 Applying corrections to campaign: 40298-out-of-the-abyss-full-for-now\n",
      "⚠️ Character name conflict: 'Bakreag' used by players ['Mojake', 'cornpuffbuddha']\n",
      "🔄 Player Mojake: 'Bakreag' → 'Cobalt'\n"
     ]
    },
    {
     "name": "stderr",
     "output_type": "stream",
     "text": [
      "Loading campaigns:  49%|████▉     | 484/985 [04:38<03:31,  2.37it/s]"
     ]
    },
    {
     "name": "stdout",
     "output_type": "stream",
     "text": [
      "✅ Player cornpuffbuddha: 'Bakreag' (confirmed correct)\n",
      "✅ Corrections completed for campaign: 40298-out-of-the-abyss-full-for-now\n",
      "📚 Loaded manual corrections for 1 campaigns\n",
      "🔧 Applying corrections to campaign: 40421-dnd-5e-druidic-embers\n",
      "✅ Corrections completed for campaign: 40421-dnd-5e-druidic-embers\n",
      "📚 Loaded manual corrections for 1 campaigns\n",
      "🔧 Applying corrections to campaign: 40429-descent-into-avernus-13-pbp\n",
      "✅ Corrections completed for campaign: 40429-descent-into-avernus-13-pbp\n"
     ]
    },
    {
     "name": "stderr",
     "output_type": "stream",
     "text": [
      "Loading campaigns:  49%|████▉     | 485/985 [04:38<03:29,  2.38it/s]"
     ]
    },
    {
     "name": "stdout",
     "output_type": "stream",
     "text": [
      "📚 Loaded manual corrections for 1 campaigns\n",
      "🔧 Applying corrections to campaign: 40541-dies-the-fire\n",
      "✅ Corrections completed for campaign: 40541-dies-the-fire\n"
     ]
    },
    {
     "name": "stderr",
     "output_type": "stream",
     "text": [
      "Loading campaigns:  49%|████▉     | 486/985 [04:39<04:08,  2.01it/s]"
     ]
    },
    {
     "name": "stdout",
     "output_type": "stream",
     "text": [
      "📚 Loaded manual corrections for 1 campaigns\n",
      "🔧 Applying corrections to campaign: 40561-sunless-citadel\n",
      "🗑️ Removing single-post characters: ['Sinezira']\n",
      "✅ Corrections completed for campaign: 40561-sunless-citadel\n"
     ]
    },
    {
     "name": "stderr",
     "output_type": "stream",
     "text": [
      "Loading campaigns:  49%|████▉     | 487/985 [04:39<03:52,  2.14it/s]"
     ]
    },
    {
     "name": "stdout",
     "output_type": "stream",
     "text": [
      "📚 Loaded manual corrections for 1 campaigns\n",
      "🔧 Applying corrections to campaign: 40669-war-boyz\n",
      "✅ Corrections completed for campaign: 40669-war-boyz\n",
      "📚 Loaded manual corrections for 1 campaigns\n",
      "🔧 Applying corrections to campaign: 40670-shadow-hunters\n",
      "✅ Corrections completed for campaign: 40670-shadow-hunters\n",
      "📚 Loaded manual corrections for 1 campaigns\n",
      "🔧 Applying corrections to campaign: 40745-curse-of-strahd-gameplay\n",
      "✅ Corrections completed for campaign: 40745-curse-of-strahd-gameplay\n"
     ]
    },
    {
     "name": "stderr",
     "output_type": "stream",
     "text": [
      "Loading campaigns:  50%|████▉     | 490/985 [04:40<02:24,  3.43it/s]"
     ]
    },
    {
     "name": "stdout",
     "output_type": "stream",
     "text": [
      "📚 Loaded manual corrections for 1 campaigns\n",
      "🔧 Applying corrections to campaign: 40896-balars-tales-from-the-yawning-portal-campaign\n",
      "⚠️ Character name conflict: 'Cade' used by players ['Orileo', 'AllenMan77']\n",
      "✅ Player Orileo: 'Cade' (confirmed correct)\n",
      "🔄 Player AllenMan77: 'Cade' → 'Emark'\n",
      "✅ Corrections completed for campaign: 40896-balars-tales-from-the-yawning-portal-campaign\n"
     ]
    },
    {
     "name": "stderr",
     "output_type": "stream",
     "text": [
      "Loading campaigns:  50%|████▉     | 491/985 [04:42<05:00,  1.64it/s]"
     ]
    },
    {
     "name": "stdout",
     "output_type": "stream",
     "text": [
      "📚 Loaded manual corrections for 1 campaigns\n",
      "🔧 Applying corrections to campaign: 40975-rhanlois-romp-through-the-sword-coast\n",
      "✅ Corrections completed for campaign: 40975-rhanlois-romp-through-the-sword-coast\n"
     ]
    },
    {
     "name": "stderr",
     "output_type": "stream",
     "text": [
      "Loading campaigns:  50%|████▉     | 492/985 [04:42<04:42,  1.75it/s]"
     ]
    },
    {
     "name": "stdout",
     "output_type": "stream",
     "text": [
      "📚 Loaded manual corrections for 1 campaigns\n",
      "🔧 Applying corrections to campaign: 41020-mouse-guard-the-last-watch\n",
      "✅ Corrections completed for campaign: 41020-mouse-guard-the-last-watch\n",
      "📚 Loaded manual corrections for 1 campaigns\n",
      "🔧 Applying corrections to campaign: 41126-acquisitions-inc-baldurs-gate-region\n",
      "✅ Corrections completed for campaign: 41126-acquisitions-inc-baldurs-gate-region\n"
     ]
    },
    {
     "name": "stderr",
     "output_type": "stream",
     "text": [
      "Loading campaigns:  50%|█████     | 494/985 [04:43<04:22,  1.87it/s]"
     ]
    },
    {
     "name": "stdout",
     "output_type": "stream",
     "text": [
      "📚 Loaded manual corrections for 1 campaigns\n",
      "🔧 Applying corrections to campaign: 41173-the-aftermath-coliseum-of-conquest\n",
      "✅ Corrections completed for campaign: 41173-the-aftermath-coliseum-of-conquest\n",
      "📚 Loaded manual corrections for 1 campaigns\n",
      "🔧 Applying corrections to campaign: 41326-yet-another-storm-kings-thunder\n",
      "✅ Corrections completed for campaign: 41326-yet-another-storm-kings-thunder\n"
     ]
    },
    {
     "name": "stderr",
     "output_type": "stream",
     "text": [
      "Loading campaigns:  50%|█████     | 496/985 [04:43<03:26,  2.36it/s]"
     ]
    },
    {
     "name": "stdout",
     "output_type": "stream",
     "text": [
      "📚 Loaded manual corrections for 1 campaigns\n",
      "🔧 Applying corrections to campaign: 41506-road-to-phandalin\n",
      "🗑️ Removing single-post characters: ['Quincy', 'Wallace', 'Zoe']\n",
      "⚠️ Character name conflict: 'Zurzg' used by players ['Mehmen', 'Stormbringer4729', 'ceuk24']\n",
      "🔄 Player Mehmen: 'Zurzg' → 'Nobody'\n",
      "🔄 Player Stormbringer4729: 'Zurzg' → 'Margret'\n",
      "✅ Player ceuk24: 'Zurzg' (confirmed correct)\n",
      "✅ Corrections completed for campaign: 41506-road-to-phandalin\n"
     ]
    },
    {
     "name": "stderr",
     "output_type": "stream",
     "text": [
      "Loading campaigns:  51%|█████     | 498/985 [04:46<06:03,  1.34it/s]"
     ]
    },
    {
     "name": "stdout",
     "output_type": "stream",
     "text": [
      "📚 Loaded manual corrections for 1 campaigns\n",
      "🔧 Applying corrections to campaign: 41577-hoard-of-the-dragon-queen-14-pbp\n",
      "✅ Corrections completed for campaign: 41577-hoard-of-the-dragon-queen-14-pbp\n",
      "📚 Loaded manual corrections for 1 campaigns\n",
      "🔧 Applying corrections to campaign: 41817-finders-of-dread\n",
      "⚠️ Character name conflict: 'Gregor' used by players ['Mehmen', 'Stormbringer4729']\n",
      "✅ Player Mehmen: 'Gregor' (confirmed correct)\n"
     ]
    },
    {
     "name": "stderr",
     "output_type": "stream",
     "text": [
      "Loading campaigns:  51%|█████     | 500/985 [04:48<05:22,  1.50it/s]"
     ]
    },
    {
     "name": "stdout",
     "output_type": "stream",
     "text": [
      "🔄 Player Stormbringer4729: 'Gregor' → 'Tren'\n",
      "✅ Corrections completed for campaign: 41817-finders-of-dread\n",
      "📚 Loaded manual corrections for 1 campaigns\n",
      "🔧 Applying corrections to campaign: 41991-curse-of-strahd\n",
      "🗑️ Removing single-post characters: ['Welroe']\n",
      "✅ Corrections completed for campaign: 41991-curse-of-strahd\n",
      "📚 Loaded manual corrections for 1 campaigns\n",
      "🔧 Applying corrections to campaign: 42023-chronicles-of-rul\n",
      "✅ Corrections completed for campaign: 42023-chronicles-of-rul\n"
     ]
    },
    {
     "name": "stderr",
     "output_type": "stream",
     "text": [
      "Loading campaigns:  51%|█████     | 502/985 [04:48<03:16,  2.46it/s]"
     ]
    },
    {
     "name": "stdout",
     "output_type": "stream",
     "text": [
      "📚 Loaded manual corrections for 1 campaigns\n",
      "🔧 Applying corrections to campaign: 42183-hbc-tears-of-the-fallen-dm-herr-ritterkommandant\n",
      "✅ Corrections completed for campaign: 42183-hbc-tears-of-the-fallen-dm-herr-ritterkommandant\n",
      "📚 Loaded manual corrections for 1 campaigns\n",
      "🔧 Applying corrections to campaign: 42247-pax-humana-playing-thread\n",
      "⚠️ Character name conflict: 'Donovan' used by players ['MayhemIsEverywhere', 'Bcool']\n",
      "✅ Player MayhemIsEverywhere: 'Donovan' (confirmed correct)\n"
     ]
    },
    {
     "name": "stderr",
     "output_type": "stream",
     "text": [
      "Loading campaigns:  51%|█████     | 503/985 [04:49<05:00,  1.60it/s]"
     ]
    },
    {
     "name": "stdout",
     "output_type": "stream",
     "text": [
      "🔄 Player Bcool: 'Donovan' → 'Don'\n",
      "✅ Corrections completed for campaign: 42247-pax-humana-playing-thread\n",
      "📚 Loaded manual corrections for 1 campaigns\n",
      "🔧 Applying corrections to campaign: 42373-lost-mine-of-phandelver-by-allan_mandragoran-g2\n",
      "⚠️ Character name conflict: 'Loraviel' used by players ['Wolfy911', 'Hexblade37']\n",
      "✅ Player Wolfy911: 'Loraviel' (confirmed correct)\n"
     ]
    },
    {
     "name": "stderr",
     "output_type": "stream",
     "text": [
      "Loading campaigns:  51%|█████     | 504/985 [04:50<06:18,  1.27it/s]"
     ]
    },
    {
     "name": "stdout",
     "output_type": "stream",
     "text": [
      "🔄 Player Hexblade37: 'Loraviel' → 'Surge'\n",
      "✅ Corrections completed for campaign: 42373-lost-mine-of-phandelver-by-allan_mandragoran-g2\n",
      "📚 Loaded manual corrections for 1 campaigns\n",
      "🔧 Applying corrections to campaign: 42389-swifts-toa\n",
      "✅ Corrections completed for campaign: 42389-swifts-toa\n",
      "📚 Loaded manual corrections for 1 campaigns\n",
      "🔧 Applying corrections to campaign: 42472-lost-mine-of-phandelver-game-1\n",
      "✅ Corrections completed for campaign: 42472-lost-mine-of-phandelver-game-1\n",
      "📚 Loaded manual corrections for 1 campaigns\n",
      "🔧 Applying corrections to campaign: 42585-above-below\n",
      "✅ Corrections completed for campaign: 42585-above-below\n"
     ]
    },
    {
     "name": "stderr",
     "output_type": "stream",
     "text": [
      "Loading campaigns:  51%|█████▏    | 507/985 [04:51<03:46,  2.11it/s]"
     ]
    },
    {
     "name": "stdout",
     "output_type": "stream",
     "text": [
      "📚 Loaded manual corrections for 1 campaigns\n",
      "🔧 Applying corrections to campaign: 42641-peril-of-the-void-skipper-playing-thread\n",
      "✅ Corrections completed for campaign: 42641-peril-of-the-void-skipper-playing-thread\n",
      "📚 Loaded manual corrections for 1 campaigns\n",
      "🔧 Applying corrections to campaign: 42733-waves-of-peril\n",
      "🗑️ Removing single-post characters: ['Lucian Aeiide']\n",
      "✅ Corrections completed for campaign: 42733-waves-of-peril\n"
     ]
    },
    {
     "name": "stderr",
     "output_type": "stream",
     "text": [
      "Loading campaigns:  52%|█████▏    | 509/985 [04:51<03:10,  2.50it/s]"
     ]
    },
    {
     "name": "stdout",
     "output_type": "stream",
     "text": [
      "📚 Loaded manual corrections for 1 campaigns\n",
      "🔧 Applying corrections to campaign: 42751-random-chance\n",
      "⚠️ Character name conflict: 'Stone' used by players ['Wreckzors', 'cogema']\n",
      "✅ Player Wreckzors: 'Stone' (confirmed correct)\n"
     ]
    },
    {
     "name": "stderr",
     "output_type": "stream",
     "text": [
      "Loading campaigns:  52%|█████▏    | 510/985 [04:53<04:43,  1.68it/s]"
     ]
    },
    {
     "name": "stdout",
     "output_type": "stream",
     "text": [
      "🔄 Player cogema: 'Stone' → 'Hallie'\n",
      "✅ Corrections completed for campaign: 42751-random-chance\n",
      "📚 Loaded manual corrections for 1 campaigns\n",
      "🔧 Applying corrections to campaign: 42814-the-lost-mine-of-phandelver-with-shataikislayer\n",
      "✅ Corrections completed for campaign: 42814-the-lost-mine-of-phandelver-with-shataikislayer\n",
      "📚 Loaded manual corrections for 1 campaigns\n",
      "🔧 Applying corrections to campaign: 42915-the-rise-of-tiamat-15-pbp\n",
      "✅ Corrections completed for campaign: 42915-the-rise-of-tiamat-15-pbp\n"
     ]
    },
    {
     "name": "stderr",
     "output_type": "stream",
     "text": [
      "Loading campaigns:  52%|█████▏    | 512/985 [04:53<03:20,  2.36it/s]"
     ]
    },
    {
     "name": "stdout",
     "output_type": "stream",
     "text": [
      "📚 Loaded manual corrections for 1 campaigns\n",
      "🔧 Applying corrections to campaign: 42941-graxx-arena-test\n",
      "✅ Corrections completed for campaign: 42941-graxx-arena-test\n",
      "📚 Loaded manual corrections for 1 campaigns\n",
      "🔧 Applying corrections to campaign: 42983-hoard-of-the-dragon-queen-2019-20\n",
      "⚠️ Character name conflict: 'Jalt' used by players ['Evlintentions', 'RebelScum']\n",
      "✅ Player Evlintentions: 'Jalt' (confirmed correct)\n",
      "🔄 Player RebelScum: 'Jalt' → 'Breena'\n",
      "✅ Corrections completed for campaign: 42983-hoard-of-the-dragon-queen-2019-20\n"
     ]
    },
    {
     "name": "stderr",
     "output_type": "stream",
     "text": [
      "Loading campaigns:  52%|█████▏    | 516/985 [04:56<03:59,  1.96it/s]"
     ]
    },
    {
     "name": "stdout",
     "output_type": "stream",
     "text": [
      "📚 Loaded manual corrections for 1 campaigns\n",
      "🔧 Applying corrections to campaign: 43082-waterdeep\n",
      "✅ Corrections completed for campaign: 43082-waterdeep\n",
      "📚 Loaded manual corrections for 1 campaigns\n",
      "🔧 Applying corrections to campaign: 43142-frontier-kingdom-pbp\n",
      "✅ Corrections completed for campaign: 43142-frontier-kingdom-pbp\n",
      "📚 Loaded manual corrections for 1 campaigns\n",
      "🔧 Applying corrections to campaign: 43324-the-left-hand\n",
      "✅ Corrections completed for campaign: 43324-the-left-hand\n"
     ]
    },
    {
     "name": "stderr",
     "output_type": "stream",
     "text": [
      "Loading campaigns:  53%|█████▎    | 518/985 [04:56<02:56,  2.64it/s]"
     ]
    },
    {
     "name": "stdout",
     "output_type": "stream",
     "text": [
      "📚 Loaded manual corrections for 1 campaigns\n",
      "🔧 Applying corrections to campaign: 43428-the-floating-lands-of-goriate\n",
      "✅ Corrections completed for campaign: 43428-the-floating-lands-of-goriate\n",
      "📚 Loaded manual corrections for 1 campaigns\n",
      "🔧 Applying corrections to campaign: 43468-princes-of-the-apocalypse-recruitment\n",
      "🗑️ Removing single-post characters: ['Sumazura', 'Sunray']\n",
      "⚠️ Character name conflict: 'Burt' used by players ['Penguini', 'Mattan_Braddus', 'Nunberry']\n",
      "🔄 Player Penguini: 'Burt' → 'Ruthaldamorf'\n",
      "✅ Player Mattan_Braddus: 'Burt' (confirmed correct)\n"
     ]
    },
    {
     "name": "stderr",
     "output_type": "stream",
     "text": [
      "Loading campaigns:  53%|█████▎    | 519/985 [04:59<06:56,  1.12it/s]"
     ]
    },
    {
     "name": "stdout",
     "output_type": "stream",
     "text": [
      "🔄 Player Nunberry: 'Burt' → 'Lymmura Auldarhk'\n",
      "✅ Corrections completed for campaign: 43468-princes-of-the-apocalypse-recruitment\n",
      "📚 Loaded manual corrections for 1 campaigns\n",
      "🔧 Applying corrections to campaign: 43518-edgewalkers-campaign-thread\n",
      "✅ Corrections completed for campaign: 43518-edgewalkers-campaign-thread\n"
     ]
    },
    {
     "name": "stderr",
     "output_type": "stream",
     "text": [
      "Loading campaigns:  53%|█████▎    | 520/985 [04:59<05:39,  1.37it/s]"
     ]
    },
    {
     "name": "stdout",
     "output_type": "stream",
     "text": [
      "📚 Loaded manual corrections for 1 campaigns\n",
      "🔧 Applying corrections to campaign: 43550-the-legends-of-ring-city\n",
      "✅ Corrections completed for campaign: 43550-the-legends-of-ring-city\n",
      "📚 Loaded manual corrections for 1 campaigns\n",
      "🔧 Applying corrections to campaign: 43640-the-paradise-isles-closed-to-new-applications\n",
      "✅ Corrections completed for campaign: 43640-the-paradise-isles-closed-to-new-applications\n",
      "📚 Loaded manual corrections for 1 campaigns\n",
      "🔧 Applying corrections to campaign: 43648-a-city-on-edge\n",
      "⚠️ Character name conflict: 'Wallace' used by players ['CompacSailor', 'shataikislayer']\n",
      "🔄 Player CompacSailor: 'Wallace' → 'Tee Jean'\n"
     ]
    },
    {
     "name": "stderr",
     "output_type": "stream",
     "text": [
      "Loading campaigns:  53%|█████▎    | 523/985 [05:00<04:31,  1.70it/s]"
     ]
    },
    {
     "name": "stdout",
     "output_type": "stream",
     "text": [
      "🔄 Player shataikislayer: 'Wallace' → 'Wallace Freemarch'\n",
      "✅ Corrections completed for campaign: 43648-a-city-on-edge\n",
      "📚 Loaded manual corrections for 1 campaigns\n",
      "🔧 Applying corrections to campaign: 43652-campaign-the-legends-of-ring-city\n",
      "✅ Corrections completed for campaign: 43652-campaign-the-legends-of-ring-city\n",
      "📚 Loaded manual corrections for 1 campaigns\n",
      "🔧 Applying corrections to campaign: 43725-dragon-of-icespire-peak-phandalin-calls-for-aid\n",
      "✅ Corrections completed for campaign: 43725-dragon-of-icespire-peak-phandalin-calls-for-aid\n"
     ]
    },
    {
     "name": "stderr",
     "output_type": "stream",
     "text": [
      "Loading campaigns:  53%|█████▎    | 525/985 [05:01<03:49,  2.01it/s]"
     ]
    },
    {
     "name": "stdout",
     "output_type": "stream",
     "text": [
      "📚 Loaded manual corrections for 1 campaigns\n",
      "🔧 Applying corrections to campaign: 43845-hexblades-lost-mine-of-phandelver-main-thread\n",
      "✅ Corrections completed for campaign: 43845-hexblades-lost-mine-of-phandelver-main-thread\n"
     ]
    },
    {
     "name": "stderr",
     "output_type": "stream",
     "text": [
      "Loading campaigns:  53%|█████▎    | 526/985 [05:02<03:55,  1.95it/s]"
     ]
    },
    {
     "name": "stdout",
     "output_type": "stream",
     "text": [
      "📚 Loaded manual corrections for 1 campaigns\n",
      "🔧 Applying corrections to campaign: 43870-out-of-the-abyss-16-pbp\n",
      "✅ Corrections completed for campaign: 43870-out-of-the-abyss-16-pbp\n"
     ]
    },
    {
     "name": "stderr",
     "output_type": "stream",
     "text": [
      "Loading campaigns:  54%|█████▎    | 529/985 [05:02<02:33,  2.97it/s]"
     ]
    },
    {
     "name": "stdout",
     "output_type": "stream",
     "text": [
      "📚 Loaded manual corrections for 1 campaigns\n",
      "🔧 Applying corrections to campaign: 43909-lost-mine-of-phandelver\n",
      "🗑️ Removing single-post characters: ['n’t']\n",
      "✅ Corrections completed for campaign: 43909-lost-mine-of-phandelver\n",
      "📚 Loaded manual corrections for 1 campaigns\n",
      "🔧 Applying corrections to campaign: 43981-beresmar-game-thread\n",
      "✅ Corrections completed for campaign: 43981-beresmar-game-thread\n",
      "📚 Loaded manual corrections for 1 campaigns\n",
      "🔧 Applying corrections to campaign: 43998-the-sunless-citadel-winter-dm-sir_karnic\n",
      "✅ Corrections completed for campaign: 43998-the-sunless-citadel-winter-dm-sir_karnic\n"
     ]
    },
    {
     "name": "stderr",
     "output_type": "stream",
     "text": [
      "Loading campaigns:  54%|█████▍    | 531/985 [05:02<01:50,  4.11it/s]"
     ]
    },
    {
     "name": "stdout",
     "output_type": "stream",
     "text": [
      "📚 Loaded manual corrections for 1 campaigns\n",
      "🔧 Applying corrections to campaign: 44117-it-starts-in-greenest\n",
      "✅ Corrections completed for campaign: 44117-it-starts-in-greenest\n",
      "📚 Loaded manual corrections for 1 campaigns\n",
      "🔧 Applying corrections to campaign: 44171-the-white-gauntlet\n",
      "✅ Corrections completed for campaign: 44171-the-white-gauntlet\n",
      "📚 Loaded manual corrections for 1 campaigns\n",
      "🔧 Applying corrections to campaign: 44357-shadows-over-the-moonsea-dm-lerus\n",
      "✅ Corrections completed for campaign: 44357-shadows-over-the-moonsea-dm-lerus\n"
     ]
    },
    {
     "name": "stderr",
     "output_type": "stream",
     "text": [
      "Loading campaigns:  54%|█████▍    | 533/985 [05:03<01:40,  4.52it/s]"
     ]
    },
    {
     "name": "stdout",
     "output_type": "stream",
     "text": [
      "📚 Loaded manual corrections for 1 campaigns\n",
      "🔧 Applying corrections to campaign: 44378-evil-campaign-game\n",
      "✅ Corrections completed for campaign: 44378-evil-campaign-game\n",
      "📚 Loaded manual corrections for 1 campaigns\n",
      "🔧 Applying corrections to campaign: 44389-dragon-of-icespire-peak\n",
      "🗑️ Removing single-post characters: ['Eira Nygard', 'Jorgi']\n",
      "⚠️ Character name conflict: 'Waltyr' used by players ['Cromusz', 'Mindmadejace']\n",
      "🔄 Player Cromusz: 'Waltyr' → 'Walter'\n"
     ]
    },
    {
     "name": "stderr",
     "output_type": "stream",
     "text": [
      "Loading campaigns:  54%|█████▍    | 535/985 [05:04<02:42,  2.78it/s]"
     ]
    },
    {
     "name": "stdout",
     "output_type": "stream",
     "text": [
      "🔄 Player Mindmadejace: 'Waltyr' → 'Nikolaus'\n",
      "✅ Corrections completed for campaign: 44389-dragon-of-icespire-peak\n",
      "📚 Loaded manual corrections for 1 campaigns\n",
      "🔧 Applying corrections to campaign: 44433-sandbox-experimental-game\n",
      "✅ Corrections completed for campaign: 44433-sandbox-experimental-game\n"
     ]
    },
    {
     "name": "stderr",
     "output_type": "stream",
     "text": [
      "Loading campaigns:  55%|█████▍    | 539/985 [05:04<01:29,  4.97it/s]"
     ]
    },
    {
     "name": "stdout",
     "output_type": "stream",
     "text": [
      "📚 Loaded manual corrections for 1 campaigns\n",
      "🔧 Applying corrections to campaign: 44464-face-of-war-playing-thread\n",
      "✅ Corrections completed for campaign: 44464-face-of-war-playing-thread\n",
      "📚 Loaded manual corrections for 1 campaigns\n",
      "🔧 Applying corrections to campaign: 44516-the-isles-of-myth\n",
      "✅ Corrections completed for campaign: 44516-the-isles-of-myth\n",
      "📚 Loaded manual corrections for 1 campaigns\n",
      "🔧 Applying corrections to campaign: 44522-living-taldori-season-1\n",
      "✅ Corrections completed for campaign: 44522-living-taldori-season-1\n",
      "📚 Loaded manual corrections for 1 campaigns\n",
      "🔧 Applying corrections to campaign: 44575-six-faces-of-death-game-thread\n",
      "✅ Corrections completed for campaign: 44575-six-faces-of-death-game-thread\n",
      "📚 Loaded manual corrections for 1 campaigns\n",
      "🔧 Applying corrections to campaign: 44832-talaveroth-sub-campaign-1\n",
      "⚠️ Character name conflict: 'Uther' used by players ['smgkw', 'Jabthar', 'ArthurWells']\n",
      "✅ Player smgkw: 'Uther' (confirmed correct)\n",
      "✅ Player Jabthar: 'Uther' (confirmed correct)\n"
     ]
    },
    {
     "name": "stderr",
     "output_type": "stream",
     "text": [
      "Loading campaigns:  55%|█████▍    | 541/985 [05:06<03:17,  2.25it/s]"
     ]
    },
    {
     "name": "stdout",
     "output_type": "stream",
     "text": [
      "🔄 Player ArthurWells: 'Uther' → 'Jabthar'\n",
      "✅ Corrections completed for campaign: 44832-talaveroth-sub-campaign-1\n",
      "📚 Loaded manual corrections for 1 campaigns\n",
      "🔧 Applying corrections to campaign: 44851-talaveroth-sub-campaign2\n",
      "⚠️ Character name conflict: 'Edeleth' used by players ['Sixfoot10', 'Astalda']\n",
      "🔄 Player Sixfoot10: 'Edeleth' → 'Peshley'\n",
      "✅ Player Astalda: 'Edeleth' (confirmed correct)\n",
      "✅ Corrections completed for campaign: 44851-talaveroth-sub-campaign2\n"
     ]
    },
    {
     "name": "stderr",
     "output_type": "stream",
     "text": [
      "Loading campaigns:  55%|█████▌    | 542/985 [05:08<04:33,  1.62it/s]"
     ]
    },
    {
     "name": "stdout",
     "output_type": "stream",
     "text": [
      "📚 Loaded manual corrections for 1 campaigns\n",
      "🔧 Applying corrections to campaign: 44955-chronero-single-player-dnd\n",
      "✅ Corrections completed for campaign: 44955-chronero-single-player-dnd\n"
     ]
    },
    {
     "name": "stderr",
     "output_type": "stream",
     "text": [
      "Loading campaigns:  55%|█████▌    | 543/985 [05:08<04:30,  1.63it/s]"
     ]
    },
    {
     "name": "stdout",
     "output_type": "stream",
     "text": [
      "📚 Loaded manual corrections for 1 campaigns\n",
      "🔧 Applying corrections to campaign: 45024-into-the-kobold-caves\n",
      "✅ Corrections completed for campaign: 45024-into-the-kobold-caves\n",
      "📚 Loaded manual corrections for 1 campaigns\n",
      "🔧 Applying corrections to campaign: 45064-world-of-the-night-serpent\n",
      "✅ Corrections completed for campaign: 45064-world-of-the-night-serpent\n"
     ]
    },
    {
     "name": "stderr",
     "output_type": "stream",
     "text": [
      "Loading campaigns:  55%|█████▌    | 545/985 [05:09<04:11,  1.75it/s]"
     ]
    },
    {
     "name": "stdout",
     "output_type": "stream",
     "text": [
      "📚 Loaded manual corrections for 1 campaigns\n",
      "🔧 Applying corrections to campaign: 45104-boats-rocks-ruffians\n",
      "⚠️ Character name conflict: 'Ravi' used by players ['WoobyDoobyDoo', 'Aveiro_']\n",
      "✅ Player WoobyDoobyDoo: 'Ravi' (confirmed correct)\n"
     ]
    },
    {
     "name": "stderr",
     "output_type": "stream",
     "text": [
      "Loading campaigns:  55%|█████▌    | 546/985 [05:10<05:00,  1.46it/s]"
     ]
    },
    {
     "name": "stdout",
     "output_type": "stream",
     "text": [
      "🔄 Player Aveiro_: 'Ravi' → 'Saperavi'\n",
      "✅ Corrections completed for campaign: 45104-boats-rocks-ruffians\n",
      "📚 Loaded manual corrections for 1 campaigns\n",
      "🔧 Applying corrections to campaign: 45152-durath-game-thread\n",
      "🗑️ Removing single-post characters: ['Kara']\n",
      "⚠️ Character name conflict: 'Yuldra' used by players ['Swiftgale', 'Nunberry']\n",
      "🔄 Player Swiftgale: 'Yuldra' → 'Endurance'\n"
     ]
    },
    {
     "name": "stderr",
     "output_type": "stream",
     "text": [
      "Loading campaigns:  56%|█████▌    | 547/985 [05:12<05:55,  1.23it/s]"
     ]
    },
    {
     "name": "stdout",
     "output_type": "stream",
     "text": [
      "✅ Player Nunberry: 'Yuldra' (confirmed correct)\n",
      "✅ Corrections completed for campaign: 45152-durath-game-thread\n",
      "📚 Loaded manual corrections for 1 campaigns\n",
      "🔧 Applying corrections to campaign: 45336-adventures-in-esyldien-campaign-thread\n",
      "⚠️ Character name conflict: 'Nemeia' used by players ['Cromusz', 'PlaqueInquisitor']\n",
      "✅ Player Cromusz: 'Nemeia' (confirmed correct)\n",
      "🔄 Player PlaqueInquisitor: 'Nemeia' → '9'\n",
      "✅ Corrections completed for campaign: 45336-adventures-in-esyldien-campaign-thread\n"
     ]
    },
    {
     "name": "stderr",
     "output_type": "stream",
     "text": [
      "Loading campaigns:  56%|█████▌    | 548/985 [05:13<07:30,  1.03s/it]"
     ]
    },
    {
     "name": "stdout",
     "output_type": "stream",
     "text": [
      "📚 Loaded manual corrections for 1 campaigns\n",
      "🔧 Applying corrections to campaign: 45502-delian-tomb-8\n",
      "✅ Corrections completed for campaign: 45502-delian-tomb-8\n",
      "📚 Loaded manual corrections for 1 campaigns\n",
      "🔧 Applying corrections to campaign: 45563-bartys-defiance-in-phlan-ddex1-1\n",
      "✅ Corrections completed for campaign: 45563-bartys-defiance-in-phlan-ddex1-1\n"
     ]
    },
    {
     "name": "stderr",
     "output_type": "stream",
     "text": [
      "Loading campaigns:  56%|█████▌    | 550/985 [05:14<04:43,  1.53it/s]"
     ]
    },
    {
     "name": "stdout",
     "output_type": "stream",
     "text": [
      "📚 Loaded manual corrections for 1 campaigns\n",
      "🔧 Applying corrections to campaign: 45634-welcome-to-the-jungle\n",
      "✅ Corrections completed for campaign: 45634-welcome-to-the-jungle\n"
     ]
    },
    {
     "name": "stderr",
     "output_type": "stream",
     "text": [
      "Loading campaigns:  56%|█████▌    | 551/985 [05:14<04:23,  1.65it/s]"
     ]
    },
    {
     "name": "stdout",
     "output_type": "stream",
     "text": [
      "📚 Loaded manual corrections for 1 campaigns\n",
      "🔧 Applying corrections to campaign: 45750-lost-mine-of-phandalin\n",
      "✅ Corrections completed for campaign: 45750-lost-mine-of-phandalin\n",
      "📚 Loaded manual corrections for 1 campaigns\n",
      "🔧 Applying corrections to campaign: 45758-curse-of-strahd\n",
      "🗑️ Removing single-post characters: ['Skype']\n",
      "✅ Corrections completed for campaign: 45758-curse-of-strahd\n"
     ]
    },
    {
     "name": "stderr",
     "output_type": "stream",
     "text": [
      "Loading campaigns:  56%|█████▌    | 554/985 [05:15<02:53,  2.49it/s]"
     ]
    },
    {
     "name": "stdout",
     "output_type": "stream",
     "text": [
      "📚 Loaded manual corrections for 1 campaigns\n",
      "🔧 Applying corrections to campaign: 45762-reboot-the-universe\n",
      "✅ Corrections completed for campaign: 45762-reboot-the-universe\n",
      "📚 Loaded manual corrections for 1 campaigns\n",
      "🔧 Applying corrections to campaign: 45821-the-twin-doves-meet\n",
      "🗑️ Removing single-post characters: ['Alton']\n",
      "⚠️ Character name conflict: 'Hoyle' used by players ['Trazzm', 'Stormbringer4729']\n",
      "✅ Player Trazzm: 'Hoyle' (confirmed correct)\n"
     ]
    },
    {
     "name": "stderr",
     "output_type": "stream",
     "text": [
      "Loading campaigns:  56%|█████▋    | 555/985 [05:16<04:14,  1.69it/s]"
     ]
    },
    {
     "name": "stdout",
     "output_type": "stream",
     "text": [
      "🔄 Player Stormbringer4729: 'Hoyle' → 'Irene'\n",
      "✅ Corrections completed for campaign: 45821-the-twin-doves-meet\n",
      "📚 Loaded manual corrections for 1 campaigns\n",
      "🔧 Applying corrections to campaign: 45862-urbens-skt\n",
      "✅ Corrections completed for campaign: 45862-urbens-skt\n"
     ]
    },
    {
     "name": "stderr",
     "output_type": "stream",
     "text": [
      "Loading campaigns:  57%|█████▋    | 557/985 [05:16<03:04,  2.32it/s]"
     ]
    },
    {
     "name": "stdout",
     "output_type": "stream",
     "text": [
      "📚 Loaded manual corrections for 1 campaigns\n",
      "🔧 Applying corrections to campaign: 45892-talaveroth-sub-campaign-3\n",
      "✅ Corrections completed for campaign: 45892-talaveroth-sub-campaign-3\n",
      "📚 Loaded manual corrections for 1 campaigns\n",
      "🔧 Applying corrections to campaign: 45969-death-house-a-halloween-one-shot-by-dm\n",
      "✅ Corrections completed for campaign: 45969-death-house-a-halloween-one-shot-by-dm\n"
     ]
    },
    {
     "name": "stderr",
     "output_type": "stream",
     "text": [
      "Loading campaigns:  57%|█████▋    | 560/985 [05:17<01:36,  4.40it/s]"
     ]
    },
    {
     "name": "stdout",
     "output_type": "stream",
     "text": [
      "📚 Loaded manual corrections for 1 campaigns\n",
      "🔧 Applying corrections to campaign: 45981-mbs-rise-of-tiamat-campaign-thread\n",
      "✅ Corrections completed for campaign: 45981-mbs-rise-of-tiamat-campaign-thread\n",
      "📚 Loaded manual corrections for 1 campaigns\n",
      "🔧 Applying corrections to campaign: 46083-waterdeep-dragon-heist\n",
      "✅ Corrections completed for campaign: 46083-waterdeep-dragon-heist\n",
      "📚 Loaded manual corrections for 1 campaigns\n",
      "🔧 Applying corrections to campaign: 46191-the-masterminds-mirror\n",
      "✅ Corrections completed for campaign: 46191-the-masterminds-mirror\n",
      "📚 Loaded manual corrections for 1 campaigns\n",
      "🔧 Applying corrections to campaign: 46219-dragon-of-icespire-peak\n",
      "⚠️ Character name conflict: 'Gronk' used by players ['Sidewinder51', 'Dean_Laxer']\n",
      "✅ Player Sidewinder51: 'Gronk' (confirmed correct)\n"
     ]
    },
    {
     "name": "stderr",
     "output_type": "stream",
     "text": [
      "Loading campaigns:  57%|█████▋    | 564/985 [05:19<02:38,  2.66it/s]"
     ]
    },
    {
     "name": "stdout",
     "output_type": "stream",
     "text": [
      "🔄 Player Dean_Laxer: 'Gronk' → 'One'\n",
      "✅ Corrections completed for campaign: 46219-dragon-of-icespire-peak\n",
      "📚 Loaded manual corrections for 1 campaigns\n",
      "🔧 Applying corrections to campaign: 46432-tales-of-a-not-so-good-party-ch-1-once-upon-a\n",
      "✅ Corrections completed for campaign: 46432-tales-of-a-not-so-good-party-ch-1-once-upon-a\n",
      "📚 Loaded manual corrections for 1 campaigns\n",
      "🔧 Applying corrections to campaign: 46497-the-dark-realm\n",
      "✅ Corrections completed for campaign: 46497-the-dark-realm\n",
      "📚 Loaded manual corrections for 1 campaigns\n",
      "🔧 Applying corrections to campaign: 46702-loathes-lmop-campaign-2-pbp\n",
      "✅ Corrections completed for campaign: 46702-loathes-lmop-campaign-2-pbp\n"
     ]
    },
    {
     "name": "stderr",
     "output_type": "stream",
     "text": [
      "Loading campaigns:  57%|█████▋    | 566/985 [05:19<01:59,  3.50it/s]"
     ]
    },
    {
     "name": "stdout",
     "output_type": "stream",
     "text": [
      "📚 Loaded manual corrections for 1 campaigns\n",
      "🔧 Applying corrections to campaign: 46776-bartys-the-whispered-word-doom-portals-part-5\n",
      "✅ Corrections completed for campaign: 46776-bartys-the-whispered-word-doom-portals-part-5\n",
      "📚 Loaded manual corrections for 1 campaigns\n",
      "🔧 Applying corrections to campaign: 46960-eberron-forgotten-relics-17-pbp\n",
      "✅ Corrections completed for campaign: 46960-eberron-forgotten-relics-17-pbp\n"
     ]
    },
    {
     "name": "stderr",
     "output_type": "stream",
     "text": [
      "Loading campaigns:  58%|█████▊    | 567/985 [05:19<01:47,  3.88it/s]"
     ]
    },
    {
     "name": "stdout",
     "output_type": "stream",
     "text": [
      "📚 Loaded manual corrections for 1 campaigns\n",
      "🔧 Applying corrections to campaign: 47061-engelian-adventures\n",
      "✅ Corrections completed for campaign: 47061-engelian-adventures\n"
     ]
    },
    {
     "name": "stderr",
     "output_type": "stream",
     "text": [
      "Loading campaigns:  58%|█████▊    | 568/985 [05:20<02:01,  3.42it/s]"
     ]
    },
    {
     "name": "stdout",
     "output_type": "stream",
     "text": [
      "📚 Loaded manual corrections for 1 campaigns\n",
      "🔧 Applying corrections to campaign: 47319-dragon-of-icespire-peak\n",
      "✅ Corrections completed for campaign: 47319-dragon-of-icespire-peak\n"
     ]
    },
    {
     "name": "stderr",
     "output_type": "stream",
     "text": [
      "Loading campaigns:  58%|█████▊    | 570/985 [05:20<01:42,  4.07it/s]"
     ]
    },
    {
     "name": "stdout",
     "output_type": "stream",
     "text": [
      "📚 Loaded manual corrections for 1 campaigns\n",
      "🔧 Applying corrections to campaign: 47447-ruhkiams-lost-mine-of-phandelver\n",
      "✅ Corrections completed for campaign: 47447-ruhkiams-lost-mine-of-phandelver\n",
      "📚 Loaded manual corrections for 1 campaigns\n",
      "🔧 Applying corrections to campaign: 47510-the-joys-of-balance-holden-heights-and-beyond\n",
      "✅ Corrections completed for campaign: 47510-the-joys-of-balance-holden-heights-and-beyond\n"
     ]
    },
    {
     "name": "stderr",
     "output_type": "stream",
     "text": [
      "Loading campaigns:  58%|█████▊    | 571/985 [05:20<01:48,  3.81it/s]"
     ]
    },
    {
     "name": "stdout",
     "output_type": "stream",
     "text": [
      "📚 Loaded manual corrections for 1 campaigns\n",
      "🔧 Applying corrections to campaign: 47787-zorgs-lost-souls\n",
      "✅ Corrections completed for campaign: 47787-zorgs-lost-souls\n"
     ]
    },
    {
     "name": "stderr",
     "output_type": "stream",
     "text": [
      "Loading campaigns:  58%|█████▊    | 572/985 [05:21<02:36,  2.64it/s]"
     ]
    },
    {
     "name": "stdout",
     "output_type": "stream",
     "text": [
      "📚 Loaded manual corrections for 1 campaigns\n",
      "🔧 Applying corrections to campaign: 47881-the-wild-and-the-worm-main-story-thread\n",
      "✅ Corrections completed for campaign: 47881-the-wild-and-the-worm-main-story-thread\n",
      "📚 Loaded manual corrections for 1 campaigns\n",
      "🔧 Applying corrections to campaign: 47916-engelian-adventures-2\n",
      "✅ Corrections completed for campaign: 47916-engelian-adventures-2\n"
     ]
    },
    {
     "name": "stderr",
     "output_type": "stream",
     "text": [
      "Loading campaigns:  58%|█████▊    | 575/985 [05:22<01:59,  3.44it/s]"
     ]
    },
    {
     "name": "stdout",
     "output_type": "stream",
     "text": [
      "📚 Loaded manual corrections for 1 campaigns\n",
      "🔧 Applying corrections to campaign: 47955-ghosts-of-saltmarsh-with-kryptikk81\n",
      "✅ Corrections completed for campaign: 47955-ghosts-of-saltmarsh-with-kryptikk81\n",
      "📚 Loaded manual corrections for 1 campaigns\n",
      "🔧 Applying corrections to campaign: 4804-the-lost-mine-of-phandelver\n",
      "✅ Corrections completed for campaign: 4804-the-lost-mine-of-phandelver\n"
     ]
    },
    {
     "name": "stderr",
     "output_type": "stream",
     "text": [
      "Loading campaigns:  59%|█████▊    | 577/985 [05:22<01:23,  4.91it/s]"
     ]
    },
    {
     "name": "stdout",
     "output_type": "stream",
     "text": [
      "📚 Loaded manual corrections for 1 campaigns\n",
      "🔧 Applying corrections to campaign: 48060-the-darkness-comes\n",
      "✅ Corrections completed for campaign: 48060-the-darkness-comes\n",
      "📚 Loaded manual corrections for 1 campaigns\n",
      "🔧 Applying corrections to campaign: 48077-pizazzs-tomb-of-annihilation\n",
      "✅ Corrections completed for campaign: 48077-pizazzs-tomb-of-annihilation\n"
     ]
    },
    {
     "name": "stderr",
     "output_type": "stream",
     "text": [
      "Loading campaigns:  59%|█████▉    | 579/985 [05:23<01:51,  3.63it/s]"
     ]
    },
    {
     "name": "stdout",
     "output_type": "stream",
     "text": [
      "📚 Loaded manual corrections for 1 campaigns\n",
      "🔧 Applying corrections to campaign: 48186-bane-of-kerakys-siu-pbp\n",
      "✅ Corrections completed for campaign: 48186-bane-of-kerakys-siu-pbp\n",
      "📚 Loaded manual corrections for 1 campaigns\n",
      "🔧 Applying corrections to campaign: 48199-flow-of-districts\n",
      "✅ Corrections completed for campaign: 48199-flow-of-districts\n",
      "📚 Loaded manual corrections for 1 campaigns\n",
      "🔧 Applying corrections to campaign: 48343-scattered-gods\n",
      "✅ Corrections completed for campaign: 48343-scattered-gods\n"
     ]
    },
    {
     "name": "stderr",
     "output_type": "stream",
     "text": [
      "Loading campaigns:  59%|█████▉    | 581/985 [05:23<01:26,  4.69it/s]"
     ]
    },
    {
     "name": "stdout",
     "output_type": "stream",
     "text": [
      "📚 Loaded manual corrections for 1 campaigns\n",
      "🔧 Applying corrections to campaign: 48356-the-conspiracy-of-the-three-collectors\n",
      "✅ Corrections completed for campaign: 48356-the-conspiracy-of-the-three-collectors\n",
      "📚 Loaded manual corrections for 1 campaigns\n",
      "🔧 Applying corrections to campaign: 48378-a-quest-of-wyrms-campaign-thread\n",
      "✅ Corrections completed for campaign: 48378-a-quest-of-wyrms-campaign-thread\n",
      "📚 Loaded manual corrections for 1 campaigns\n",
      "🔧 Applying corrections to campaign: 48425-gallia-campaign-1\n",
      "⚠️ Character name conflict: 'Misty' used by players ['WhiteByakko', 'DragonDenn']\n",
      "🔄 Player WhiteByakko: 'Misty' → 'O'alana'\n",
      "✅ Player DragonDenn: 'Misty' (confirmed correct)\n",
      "✅ Corrections completed for campaign: 48425-gallia-campaign-1\n"
     ]
    },
    {
     "name": "stderr",
     "output_type": "stream",
     "text": [
      "Loading campaigns:  59%|█████▉    | 585/985 [05:25<02:29,  2.68it/s]"
     ]
    },
    {
     "name": "stdout",
     "output_type": "stream",
     "text": [
      "📚 Loaded manual corrections for 1 campaigns\n",
      "🔧 Applying corrections to campaign: 48451-company-of-the-dragon-salt-marsh-team-3\n",
      "✅ Corrections completed for campaign: 48451-company-of-the-dragon-salt-marsh-team-3\n",
      "📚 Loaded manual corrections for 1 campaigns\n",
      "🔧 Applying corrections to campaign: 48467-heroes-of-the-realms\n",
      "✅ Corrections completed for campaign: 48467-heroes-of-the-realms\n",
      "📚 Loaded manual corrections for 1 campaigns\n",
      "🔧 Applying corrections to campaign: 48477-company-of-the-dragon-phandalin-team-1\n",
      "⚠️ Character name conflict: 'Fyste' used by players ['Shodai_Kishi', 'Astalda']\n",
      "✅ Player Shodai_Kishi: 'Fyste' (confirmed correct)\n",
      "🔄 Player Astalda: 'Fyste' → 'Last Tree Standing'\n",
      "✅ Corrections completed for campaign: 48477-company-of-the-dragon-phandalin-team-1\n"
     ]
    },
    {
     "name": "stderr",
     "output_type": "stream",
     "text": [
      "Loading campaigns:  60%|█████▉    | 587/985 [05:28<04:12,  1.57it/s]"
     ]
    },
    {
     "name": "stdout",
     "output_type": "stream",
     "text": [
      "📚 Loaded manual corrections for 1 campaigns\n",
      "🔧 Applying corrections to campaign: 48479-company-of-the-dragon-waterdeep-franchise-team-2\n",
      "✅ Corrections completed for campaign: 48479-company-of-the-dragon-waterdeep-franchise-team-2\n"
     ]
    },
    {
     "name": "stderr",
     "output_type": "stream",
     "text": [
      "Loading campaigns:  60%|█████▉    | 588/985 [05:28<03:54,  1.69it/s]"
     ]
    },
    {
     "name": "stdout",
     "output_type": "stream",
     "text": [
      "📚 Loaded manual corrections for 1 campaigns\n",
      "🔧 Applying corrections to campaign: 48484-company-of-the-dragon-baldurs-gate-team-4\n",
      "✅ Corrections completed for campaign: 48484-company-of-the-dragon-baldurs-gate-team-4\n"
     ]
    },
    {
     "name": "stderr",
     "output_type": "stream",
     "text": [
      "Loading campaigns:  60%|██████    | 591/985 [05:28<02:19,  2.83it/s]"
     ]
    },
    {
     "name": "stdout",
     "output_type": "stream",
     "text": [
      "📚 Loaded manual corrections for 1 campaigns\n",
      "🔧 Applying corrections to campaign: 48581-out-of-the-abyss-play-by-post\n",
      "✅ Corrections completed for campaign: 48581-out-of-the-abyss-play-by-post\n",
      "📚 Loaded manual corrections for 1 campaigns\n",
      "🔧 Applying corrections to campaign: 48634-mbs-out-of-the-abyss\n",
      "✅ Corrections completed for campaign: 48634-mbs-out-of-the-abyss\n",
      "📚 Loaded manual corrections for 1 campaigns\n",
      "🔧 Applying corrections to campaign: 48669-lost-mine-of-phandelver\n",
      "⚠️ Character name conflict: 'Garet' used by players ['AshDrunbar', 'BirdCopp']\n",
      "🔄 Player AshDrunbar: 'Garet' → 'Nundro'\n",
      "✅ Player BirdCopp: 'Garet' (confirmed correct)\n",
      "✅ Corrections completed for campaign: 48669-lost-mine-of-phandelver\n"
     ]
    },
    {
     "name": "stderr",
     "output_type": "stream",
     "text": [
      "Loading campaigns:  60%|██████    | 592/985 [05:30<04:16,  1.53it/s]"
     ]
    },
    {
     "name": "stdout",
     "output_type": "stream",
     "text": [
      "📚 Loaded manual corrections for 1 campaigns\n",
      "🔧 Applying corrections to campaign: 48891-the-land-of-sand-and-honey-pbp\n",
      "✅ Corrections completed for campaign: 48891-the-land-of-sand-and-honey-pbp\n"
     ]
    },
    {
     "name": "stderr",
     "output_type": "stream",
     "text": [
      "Loading campaigns:  60%|██████    | 593/985 [05:31<04:24,  1.48it/s]"
     ]
    },
    {
     "name": "stdout",
     "output_type": "stream",
     "text": [
      "📚 Loaded manual corrections for 1 campaigns\n",
      "🔧 Applying corrections to campaign: 48897-company-of-the-dragon-mobile-franchise\n",
      "✅ Corrections completed for campaign: 48897-company-of-the-dragon-mobile-franchise\n"
     ]
    },
    {
     "name": "stderr",
     "output_type": "stream",
     "text": [
      "Loading campaigns:  60%|██████    | 594/985 [05:31<03:40,  1.77it/s]"
     ]
    },
    {
     "name": "stdout",
     "output_type": "stream",
     "text": [
      "📚 Loaded manual corrections for 1 campaigns\n",
      "🔧 Applying corrections to campaign: 48920-the-journeys-through-narthryal\n",
      "✅ Corrections completed for campaign: 48920-the-journeys-through-narthryal\n"
     ]
    },
    {
     "name": "stderr",
     "output_type": "stream",
     "text": [
      "Loading campaigns:  60%|██████    | 595/985 [05:31<03:06,  2.10it/s]"
     ]
    },
    {
     "name": "stdout",
     "output_type": "stream",
     "text": [
      "📚 Loaded manual corrections for 1 campaigns\n",
      "🔧 Applying corrections to campaign: 48962-dragons-awakening-gameplay-thread\n",
      "✅ Corrections completed for campaign: 48962-dragons-awakening-gameplay-thread\n",
      "📚 Loaded manual corrections for 1 campaigns\n",
      "🔧 Applying corrections to campaign: 49079-beyond-cragmaw\n",
      "⚠️ Character name conflict: 'Naivara' used by players ['BinksiusMaximus', 'BrandywiseBattlebane']\n",
      "⚠️ Character name conflict: 'Swift' used by players ['WendigosBastard', 'Lady_Swiftarrow']\n",
      "🔄 Player BinksiusMaximus: 'Naivara' → 'Naivara Moonwhisper'\n",
      "🔄 Player BrandywiseBattlebane: 'Naivara' → 'Brandywine Brutebane'\n",
      "🔄 Player WendigosBastard: 'Swift' → 'Candle'\n"
     ]
    },
    {
     "name": "stderr",
     "output_type": "stream",
     "text": [
      "Loading campaigns:  61%|██████    | 597/985 [05:35<06:48,  1.05s/it]"
     ]
    },
    {
     "name": "stdout",
     "output_type": "stream",
     "text": [
      "✅ Player Lady_Swiftarrow: 'Swift' (confirmed correct)\n",
      "✅ Corrections completed for campaign: 49079-beyond-cragmaw\n",
      "📚 Loaded manual corrections for 1 campaigns\n",
      "🔧 Applying corrections to campaign: 49079-the-road-to-phandalin\n",
      "⚠️ Character name conflict: 'Naivara' used by players ['BinksiusMaximus', 'BrandywiseBattlebane']\n",
      "⚠️ Character name conflict: 'Swift' used by players ['WendigosBastard', 'Lady_Swiftarrow']\n",
      "🔄 Player BinksiusMaximus: 'Naivara' → 'Naivara Moonwhisper'\n",
      "🔄 Player BrandywiseBattlebane: 'Naivara' → 'Brandywine Brutebane'\n",
      "🔄 Player WendigosBastard: 'Swift' → 'Candle'\n"
     ]
    },
    {
     "name": "stderr",
     "output_type": "stream",
     "text": [
      "Loading campaigns:  61%|██████    | 598/985 [05:38<10:30,  1.63s/it]"
     ]
    },
    {
     "name": "stdout",
     "output_type": "stream",
     "text": [
      "✅ Player Lady_Swiftarrow: 'Swift' (confirmed correct)\n",
      "✅ Corrections completed for campaign: 49079-the-road-to-phandalin\n",
      "📚 Loaded manual corrections for 1 campaigns\n",
      "🔧 Applying corrections to campaign: 49246-baldurs-gate-group-a\n",
      "⚠️ Character name conflict: 'Gerrard' used by players ['SheepsSong', 'Scott_R_Simmons']\n",
      "🔄 Player SheepsSong: 'Gerrard' → 'Eleonora'\n"
     ]
    },
    {
     "name": "stderr",
     "output_type": "stream",
     "text": [
      "Loading campaigns:  61%|██████    | 599/985 [05:40<09:56,  1.54s/it]"
     ]
    },
    {
     "name": "stdout",
     "output_type": "stream",
     "text": [
      "✅ Player Scott_R_Simmons: 'Gerrard' (confirmed correct)\n",
      "✅ Corrections completed for campaign: 49246-baldurs-gate-group-a\n",
      "📚 Loaded manual corrections for 1 campaigns\n",
      "🔧 Applying corrections to campaign: 49247-baldurs-gate-group-b\n",
      "✅ Corrections completed for campaign: 49247-baldurs-gate-group-b\n",
      "📚 Loaded manual corrections for 1 campaigns\n",
      "🔧 Applying corrections to campaign: 49410-the-exploits-of-misfit-company\n",
      "✅ Corrections completed for campaign: 49410-the-exploits-of-misfit-company\n"
     ]
    },
    {
     "name": "stderr",
     "output_type": "stream",
     "text": [
      "Loading campaigns:  61%|██████    | 601/985 [05:41<07:00,  1.09s/it]"
     ]
    },
    {
     "name": "stdout",
     "output_type": "stream",
     "text": [
      "📚 Loaded manual corrections for 1 campaigns\n",
      "🔧 Applying corrections to campaign: 49412-v-tm-5th-edition\n",
      "✅ Corrections completed for campaign: 49412-v-tm-5th-edition\n"
     ]
    },
    {
     "name": "stderr",
     "output_type": "stream",
     "text": [
      "Loading campaigns:  61%|██████▏   | 604/985 [05:41<03:43,  1.70it/s]"
     ]
    },
    {
     "name": "stdout",
     "output_type": "stream",
     "text": [
      "📚 Loaded manual corrections for 1 campaigns\n",
      "🔧 Applying corrections to campaign: 49520-delian-tomb-9\n",
      "✅ Corrections completed for campaign: 49520-delian-tomb-9\n",
      "📚 Loaded manual corrections for 1 campaigns\n",
      "🔧 Applying corrections to campaign: 49525-war-of-the-green\n",
      "✅ Corrections completed for campaign: 49525-war-of-the-green\n",
      "📚 Loaded manual corrections for 1 campaigns\n",
      "🔧 Applying corrections to campaign: 49616-the-tale-of-the-pumpkin-king\n",
      "✅ Corrections completed for campaign: 49616-the-tale-of-the-pumpkin-king\n"
     ]
    },
    {
     "name": "stderr",
     "output_type": "stream",
     "text": [
      "Loading campaigns:  62%|██████▏   | 606/985 [05:41<02:38,  2.40it/s]"
     ]
    },
    {
     "name": "stdout",
     "output_type": "stream",
     "text": [
      "📚 Loaded manual corrections for 1 campaigns\n",
      "🔧 Applying corrections to campaign: 49740-baldurs-gate-descent-into-avernus-by-pokepaladdy\n",
      "✅ Corrections completed for campaign: 49740-baldurs-gate-descent-into-avernus-by-pokepaladdy\n",
      "📚 Loaded manual corrections for 1 campaigns\n",
      "🔧 Applying corrections to campaign: 49756-pizazzs-ravenloft\n",
      "✅ Corrections completed for campaign: 49756-pizazzs-ravenloft\n"
     ]
    },
    {
     "name": "stderr",
     "output_type": "stream",
     "text": [
      "Loading campaigns:  62%|██████▏   | 607/985 [05:42<03:19,  1.90it/s]"
     ]
    },
    {
     "name": "stdout",
     "output_type": "stream",
     "text": [
      "📚 Loaded manual corrections for 1 campaigns\n",
      "🔧 Applying corrections to campaign: 49789-dungeon-of-the-mad-mage\n",
      "✅ Corrections completed for campaign: 49789-dungeon-of-the-mad-mage\n",
      "📚 Loaded manual corrections for 1 campaigns\n",
      "🔧 Applying corrections to campaign: 49809-the-odyssey-of-perzys-perseus-game-thread\n",
      "⚠️ Character name conflict: 'Gotemash' used by players ['Smendrick', 'cbaer8']\n",
      "✅ Player Smendrick: 'Gotemash' (confirmed correct)\n"
     ]
    },
    {
     "name": "stderr",
     "output_type": "stream",
     "text": [
      "Loading campaigns:  62%|██████▏   | 609/985 [05:44<03:55,  1.60it/s]"
     ]
    },
    {
     "name": "stdout",
     "output_type": "stream",
     "text": [
      "✅ Player cbaer8: 'Gotemash' (confirmed correct)\n",
      "✅ Corrections completed for campaign: 49809-the-odyssey-of-perzys-perseus-game-thread\n",
      "📚 Loaded manual corrections for 1 campaigns\n",
      "🔧 Applying corrections to campaign: 49951-dragon-of-icespire-peak-trustlife-co\n",
      "⚠️ Character name conflict: 'Gorarel' used by players ['InfraVioletArgonaut', 'Hammerstein']\n",
      "✅ Player InfraVioletArgonaut: 'Gorarel' (confirmed correct)\n"
     ]
    },
    {
     "name": "stderr",
     "output_type": "stream",
     "text": [
      "Loading campaigns:  62%|██████▏   | 610/985 [05:45<04:48,  1.30it/s]"
     ]
    },
    {
     "name": "stdout",
     "output_type": "stream",
     "text": [
      "🔄 Player Hammerstein: 'Gorarel' → 'Gramm'\n",
      "✅ Corrections completed for campaign: 49951-dragon-of-icespire-peak-trustlife-co\n",
      "📚 Loaded manual corrections for 1 campaigns\n",
      "🔧 Applying corrections to campaign: 50204-lost-mines-of-phandelver\n",
      "✅ Corrections completed for campaign: 50204-lost-mines-of-phandelver\n",
      "📚 Loaded manual corrections for 1 campaigns\n",
      "🔧 Applying corrections to campaign: 50210-descent-into-avernus-test-drive\n",
      "⚠️ Character name conflict: 'Adray' used by players ['Bduds2006', 'Astalda']\n",
      "⚠️ Character name conflict: 'Polly' used by players ['Kaemgen', 'gosset92']\n",
      "✅ Player Bduds2006: 'Adray' (confirmed correct)\n",
      "🔄 Player Astalda: 'Adray' → 'Choir'\n",
      "✅ Player Kaemgen: 'Polly' (confirmed correct)\n",
      "✅ Player gosset92: 'Polly' (confirmed correct)\n",
      "✅ Corrections completed for campaign: 50210-descent-into-avernus-test-drive\n"
     ]
    },
    {
     "name": "stderr",
     "output_type": "stream",
     "text": [
      "Loading campaigns:  62%|██████▏   | 612/985 [05:48<06:36,  1.06s/it]"
     ]
    },
    {
     "name": "stdout",
     "output_type": "stream",
     "text": [
      "📚 Loaded manual corrections for 1 campaigns\n",
      "🔧 Applying corrections to campaign: 50294-the-bfoagwgh\n",
      "⚠️ Character name conflict: 'Tallanvor' used by players ['LionnDubh', 'BeerIsGood4']\n",
      "🔄 Player LionnDubh: 'Tallanvor' → 'Daveak Joysword'\n"
     ]
    },
    {
     "name": "stderr",
     "output_type": "stream",
     "text": [
      "Loading campaigns:  62%|██████▏   | 613/985 [05:50<07:03,  1.14s/it]"
     ]
    },
    {
     "name": "stdout",
     "output_type": "stream",
     "text": [
      "✅ Player BeerIsGood4: 'Tallanvor' (confirmed correct)\n",
      "✅ Corrections completed for campaign: 50294-the-bfoagwgh\n",
      "📚 Loaded manual corrections for 1 campaigns\n",
      "🔧 Applying corrections to campaign: 50375-the-inferno-bg-dia\n",
      "✅ Corrections completed for campaign: 50375-the-inferno-bg-dia\n"
     ]
    },
    {
     "name": "stderr",
     "output_type": "stream",
     "text": [
      "Loading campaigns:  62%|██████▏   | 615/985 [05:50<04:31,  1.36it/s]"
     ]
    },
    {
     "name": "stdout",
     "output_type": "stream",
     "text": [
      "📚 Loaded manual corrections for 1 campaigns\n",
      "🔧 Applying corrections to campaign: 50445-what-lurks-below-an-eberron-campaign\n",
      "✅ Corrections completed for campaign: 50445-what-lurks-below-an-eberron-campaign\n",
      "📚 Loaded manual corrections for 1 campaigns\n",
      "🔧 Applying corrections to campaign: 50652-lost-mine-of-phandelver-a-sword-coast-adventure\n",
      "⚠️ Character name conflict: 'Grum' used by players ['Xarboth', 'Kataklismik1']\n",
      "✅ Player Xarboth: 'Grum' (confirmed correct)\n",
      "🔄 Player Kataklismik1: 'Grum' → 'Squelch'\n",
      "✅ Corrections completed for campaign: 50652-lost-mine-of-phandelver-a-sword-coast-adventure\n"
     ]
    },
    {
     "name": "stderr",
     "output_type": "stream",
     "text": [
      "Loading campaigns:  63%|██████▎   | 617/985 [05:51<04:10,  1.47it/s]"
     ]
    },
    {
     "name": "stdout",
     "output_type": "stream",
     "text": [
      "📚 Loaded manual corrections for 1 campaigns\n",
      "🔧 Applying corrections to campaign: 50686-the-land-of-the-five-mage-kings\n",
      "✅ Corrections completed for campaign: 50686-the-land-of-the-five-mage-kings\n",
      "📚 Loaded manual corrections for 1 campaigns\n",
      "🔧 Applying corrections to campaign: 50739-bobahendrixs-toa\n",
      "✅ Corrections completed for campaign: 50739-bobahendrixs-toa\n"
     ]
    },
    {
     "name": "stderr",
     "output_type": "stream",
     "text": [
      "Loading campaigns:  63%|██████▎   | 618/985 [05:52<03:32,  1.73it/s]"
     ]
    },
    {
     "name": "stdout",
     "output_type": "stream",
     "text": [
      "📚 Loaded manual corrections for 1 campaigns\n",
      "🔧 Applying corrections to campaign: 50846-the-lost-tower-of-abernath-the-infernal-solo-plus\n",
      "⚠️ Character name conflict: 'Tez' used by players ['LeviTATOR', 'Purplecoop']\n",
      "✅ Player LeviTATOR: 'Tez' (confirmed correct)\n"
     ]
    },
    {
     "name": "stderr",
     "output_type": "stream",
     "text": [
      "Loading campaigns:  63%|██████▎   | 619/985 [05:53<05:16,  1.16it/s]"
     ]
    },
    {
     "name": "stdout",
     "output_type": "stream",
     "text": [
      "🔄 Player Purplecoop: 'Tez' → 'Svirnivel'\n",
      "✅ Corrections completed for campaign: 50846-the-lost-tower-of-abernath-the-infernal-solo-plus\n",
      "📚 Loaded manual corrections for 1 campaigns\n",
      "🔧 Applying corrections to campaign: 50910-tales-from-the-loop\n",
      "✅ Corrections completed for campaign: 50910-tales-from-the-loop\n",
      "📚 Loaded manual corrections for 1 campaigns\n",
      "🔧 Applying corrections to campaign: 50966-princes-of-the-apocalypse\n",
      "⚠️ Character name conflict: 'Tangle' used by players ['DragonDenn', 'NathanPizazz']\n",
      "🔄 Player DragonDenn: 'Tangle' → 'Sparks'\n"
     ]
    },
    {
     "name": "stderr",
     "output_type": "stream",
     "text": [
      "Loading campaigns:  63%|██████▎   | 621/985 [05:55<04:44,  1.28it/s]"
     ]
    },
    {
     "name": "stdout",
     "output_type": "stream",
     "text": [
      "✅ Player NathanPizazz: 'Tangle' (confirmed correct)\n",
      "✅ Corrections completed for campaign: 50966-princes-of-the-apocalypse\n",
      "📚 Loaded manual corrections for 1 campaigns\n",
      "🔧 Applying corrections to campaign: 51091-crypt-of-vynirren-pbp-homebrew-campaign\n",
      "⚠️ Character name conflict: 'Jorel' used by players ['nschrock', 'Ismenow']\n",
      "⚠️ Character name conflict: 'Aldin' used by players ['Whitehart79', 'acoolnamehere']\n",
      "🔄 Player nschrock: 'Jorel' → 'Jack'\n",
      "✅ Player Ismenow: 'Jorel' (confirmed correct)\n",
      "✅ Player Whitehart79: 'Aldin' (confirmed correct)\n"
     ]
    },
    {
     "name": "stderr",
     "output_type": "stream",
     "text": [
      "Loading campaigns:  63%|██████▎   | 622/985 [05:57<07:36,  1.26s/it]"
     ]
    },
    {
     "name": "stdout",
     "output_type": "stream",
     "text": [
      "🔄 Player acoolnamehere: 'Aldin' → 'Smoke'\n",
      "✅ Corrections completed for campaign: 51091-crypt-of-vynirren-pbp-homebrew-campaign\n",
      "📚 Loaded manual corrections for 1 campaigns\n",
      "🔧 Applying corrections to campaign: 51211-isle-of-dread-session-0\n",
      "✅ Corrections completed for campaign: 51211-isle-of-dread-session-0\n",
      "📚 Loaded manual corrections for 1 campaigns\n",
      "🔧 Applying corrections to campaign: 51280-curse-of-strahd-again-closed\n",
      "✅ Corrections completed for campaign: 51280-curse-of-strahd-again-closed\n"
     ]
    },
    {
     "name": "stderr",
     "output_type": "stream",
     "text": [
      "Loading campaigns:  63%|██████▎   | 624/985 [05:58<04:43,  1.28it/s]"
     ]
    },
    {
     "name": "stdout",
     "output_type": "stream",
     "text": [
      "📚 Loaded manual corrections for 1 campaigns\n",
      "🔧 Applying corrections to campaign: 51355-the-valley-of-ends\n",
      "✅ Corrections completed for campaign: 51355-the-valley-of-ends\n"
     ]
    },
    {
     "name": "stderr",
     "output_type": "stream",
     "text": [
      "Loading campaigns:  64%|██████▎   | 626/985 [05:59<03:49,  1.57it/s]"
     ]
    },
    {
     "name": "stdout",
     "output_type": "stream",
     "text": [
      "📚 Loaded manual corrections for 1 campaigns\n",
      "🔧 Applying corrections to campaign: 51502-light-bringer\n",
      "✅ Corrections completed for campaign: 51502-light-bringer\n",
      "📚 Loaded manual corrections for 1 campaigns\n",
      "🔧 Applying corrections to campaign: 51542-the-lost-laboratory-of-kwalish-gameplay-thread\n",
      "✅ Corrections completed for campaign: 51542-the-lost-laboratory-of-kwalish-gameplay-thread\n"
     ]
    },
    {
     "name": "stderr",
     "output_type": "stream",
     "text": [
      "Loading campaigns:  64%|██████▍   | 628/985 [05:59<02:24,  2.47it/s]"
     ]
    },
    {
     "name": "stdout",
     "output_type": "stream",
     "text": [
      "📚 Loaded manual corrections for 1 campaigns\n",
      "🔧 Applying corrections to campaign: 51739-job-thornwood-and-beyond\n",
      "✅ Corrections completed for campaign: 51739-job-thornwood-and-beyond\n",
      "📚 Loaded manual corrections for 1 campaigns\n",
      "🔧 Applying corrections to campaign: 51940-grim-hollow\n",
      "✅ Corrections completed for campaign: 51940-grim-hollow\n"
     ]
    },
    {
     "name": "stderr",
     "output_type": "stream",
     "text": [
      "Loading campaigns:  64%|██████▍   | 629/985 [05:59<02:05,  2.84it/s]"
     ]
    },
    {
     "name": "stdout",
     "output_type": "stream",
     "text": [
      "📚 Loaded manual corrections for 1 campaigns\n",
      "🔧 Applying corrections to campaign: 52038-dungeon-of-rick-edness-campaign-thread\n",
      "✅ Corrections completed for campaign: 52038-dungeon-of-rick-edness-campaign-thread\n",
      "📚 Loaded manual corrections for 1 campaigns\n",
      "🔧 Applying corrections to campaign: 52039-keep-on-the-shadowfell\n",
      "✅ Corrections completed for campaign: 52039-keep-on-the-shadowfell\n"
     ]
    },
    {
     "name": "stderr",
     "output_type": "stream",
     "text": [
      "Loading campaigns:  64%|██████▍   | 633/985 [05:59<01:07,  5.25it/s]"
     ]
    },
    {
     "name": "stdout",
     "output_type": "stream",
     "text": [
      "📚 Loaded manual corrections for 1 campaigns\n",
      "🔧 Applying corrections to campaign: 52041-a-machines-ambition-start-to-an-adventure\n",
      "✅ Corrections completed for campaign: 52041-a-machines-ambition-start-to-an-adventure\n",
      "📚 Loaded manual corrections for 1 campaigns\n",
      "🔧 Applying corrections to campaign: 52157-tomb-of-annihilation\n",
      "🗑️ Removing single-post characters: ['Trienna', 'Astiax', 'Agni', 'Sybil']\n",
      "✅ Corrections completed for campaign: 52157-tomb-of-annihilation\n",
      "📚 Loaded manual corrections for 1 campaigns\n",
      "🔧 Applying corrections to campaign: 52330-dreams-into-journey\n",
      "⚠️ Character name conflict: 'Kysdiane' used by players ['The_Mathemagician', 'ThalaiDawncaller']\n",
      "✅ Player The_Mathemagician: 'Kysdiane' (confirmed correct)\n",
      "🔄 Player ThalaiDawncaller: 'Kysdiane' → 'Avia'\n",
      "✅ Corrections completed for campaign: 52330-dreams-into-journey\n",
      "📚 Loaded manual corrections for 1 campaigns\n",
      "🔧 Applying corrections to campaign: 52415-aspiring-heroes-of-faerun\n",
      "⚠️ Character name conflict: 'Krackle' used by players ['Wreckzors', 'ccherrera']\n",
      "✅ Player Wreckzors: 'Krackle' (confirmed correct)\n",
      "🔄 Player ccherrera: 'Krackle' → 'Silver'\n",
      "✅ Corrections completed for campaign: 52415-aspiring-heroes-of-faerun\n"
     ]
    },
    {
     "name": "stderr",
     "output_type": "stream",
     "text": [
      "Loading campaigns:  64%|██████▍   | 635/985 [06:03<04:19,  1.35it/s]"
     ]
    },
    {
     "name": "stdout",
     "output_type": "stream",
     "text": [
      "📚 Loaded manual corrections for 1 campaigns\n",
      "🔧 Applying corrections to campaign: 52479-clifftop-adventurers-guild\n",
      "🗑️ Removing single-post characters: ['Garrick', 'S.B. Magee']\n",
      "⚠️ Character name conflict: 'Brozznan' used by players ['InkAndEstrel', 'Kyleh2486']\n",
      "🔄 Player InkAndEstrel: 'Brozznan' → 'Nicola Leguin'\n"
     ]
    },
    {
     "name": "stderr",
     "output_type": "stream",
     "text": [
      "Loading campaigns:  65%|██████▍   | 636/985 [06:04<04:59,  1.16it/s]"
     ]
    },
    {
     "name": "stdout",
     "output_type": "stream",
     "text": [
      "🔄 Player Kyleh2486: 'Brozznan' → 'Brozznan Kane'\n",
      "✅ Corrections completed for campaign: 52479-clifftop-adventurers-guild\n",
      "📚 Loaded manual corrections for 1 campaigns\n",
      "🔧 Applying corrections to campaign: 52589-delve-into-yarkuun-draal-one-shot\n",
      "✅ Corrections completed for campaign: 52589-delve-into-yarkuun-draal-one-shot\n",
      "📚 Loaded manual corrections for 1 campaigns\n",
      "🔧 Applying corrections to campaign: 52620-fortunes-founders-an-eberron-tale\n",
      "✅ Corrections completed for campaign: 52620-fortunes-founders-an-eberron-tale\n"
     ]
    },
    {
     "name": "stderr",
     "output_type": "stream",
     "text": [
      "Loading campaigns:  65%|██████▍   | 638/985 [06:04<03:25,  1.69it/s]"
     ]
    },
    {
     "name": "stdout",
     "output_type": "stream",
     "text": [
      "📚 Loaded manual corrections for 1 campaigns\n",
      "🔧 Applying corrections to campaign: 52666-undead-in-skyraker-one-shot\n",
      "✅ Corrections completed for campaign: 52666-undead-in-skyraker-one-shot\n",
      "📚 Loaded manual corrections for 1 campaigns\n",
      "🔧 Applying corrections to campaign: 52694-tales-from-the-yawning-portal-a-series-of\n",
      "✅ Corrections completed for campaign: 52694-tales-from-the-yawning-portal-a-series-of\n"
     ]
    },
    {
     "name": "stderr",
     "output_type": "stream",
     "text": [
      "Loading campaigns:  65%|██████▌   | 641/985 [06:05<02:08,  2.68it/s]"
     ]
    },
    {
     "name": "stdout",
     "output_type": "stream",
     "text": [
      "📚 Loaded manual corrections for 1 campaigns\n",
      "🔧 Applying corrections to campaign: 53032-lost-land-of-rornav\n",
      "🗑️ Removing single-post characters: [\"V'rekh\", 'Abbot', 'Elquin', 'Iron Gut', 'Anyll']\n",
      "✅ Corrections completed for campaign: 53032-lost-land-of-rornav\n",
      "📚 Loaded manual corrections for 1 campaigns\n",
      "🔧 Applying corrections to campaign: 53037-city-of-eyes\n",
      "⚠️ Character name conflict: 'Al' used by players ['YoFizz', 'BlueBayou']\n",
      "🔄 Player YoFizz: 'Al' → 'Thursday'\n",
      "🔄 Player BlueBayou: 'Al' → 'Al-Ashari'\n",
      "✅ Corrections completed for campaign: 53037-city-of-eyes\n"
     ]
    },
    {
     "name": "stderr",
     "output_type": "stream",
     "text": [
      "Loading campaigns:  65%|██████▌   | 643/985 [06:07<03:29,  1.64it/s]"
     ]
    },
    {
     "name": "stdout",
     "output_type": "stream",
     "text": [
      "📚 Loaded manual corrections for 1 campaigns\n",
      "🔧 Applying corrections to campaign: 53123-fiendfall-scouting\n",
      "✅ Corrections completed for campaign: 53123-fiendfall-scouting\n",
      "📚 Loaded manual corrections for 1 campaigns\n",
      "🔧 Applying corrections to campaign: 53163-stuntbunglers-lost-mines-of-phandelver\n",
      "✅ Corrections completed for campaign: 53163-stuntbunglers-lost-mines-of-phandelver\n"
     ]
    },
    {
     "name": "stderr",
     "output_type": "stream",
     "text": [
      "Loading campaigns:  65%|██████▌   | 645/985 [06:07<02:18,  2.45it/s]"
     ]
    },
    {
     "name": "stdout",
     "output_type": "stream",
     "text": [
      "📚 Loaded manual corrections for 1 campaigns\n",
      "🔧 Applying corrections to campaign: 53274-murder-mansion-2019-2020-game-thread\n",
      "✅ Corrections completed for campaign: 53274-murder-mansion-2019-2020-game-thread\n",
      "📚 Loaded manual corrections for 1 campaigns\n",
      "🔧 Applying corrections to campaign: 5334-adventures-in-emia-finished\n",
      "✅ Corrections completed for campaign: 5334-adventures-in-emia-finished\n",
      "📚 Loaded manual corrections for 1 campaigns\n",
      "🔧 Applying corrections to campaign: 53342-core-city-a-play-by-post-adventure\n",
      "✅ Corrections completed for campaign: 53342-core-city-a-play-by-post-adventure\n"
     ]
    },
    {
     "name": "stderr",
     "output_type": "stream",
     "text": [
      "Loading campaigns:  66%|██████▌   | 649/985 [06:08<01:12,  4.66it/s]"
     ]
    },
    {
     "name": "stdout",
     "output_type": "stream",
     "text": [
      "📚 Loaded manual corrections for 1 campaigns\n",
      "🔧 Applying corrections to campaign: 53512-dragondenns-ravnica\n",
      "✅ Corrections completed for campaign: 53512-dragondenns-ravnica\n",
      "📚 Loaded manual corrections for 1 campaigns\n",
      "🔧 Applying corrections to campaign: 53772-shadows-upon-the-lowlands\n",
      "✅ Corrections completed for campaign: 53772-shadows-upon-the-lowlands\n",
      "📚 Loaded manual corrections for 1 campaigns\n",
      "🔧 Applying corrections to campaign: 53806-lets-build-a-town\n",
      "✅ Corrections completed for campaign: 53806-lets-build-a-town\n",
      "📚 Loaded manual corrections for 1 campaigns\n",
      "🔧 Applying corrections to campaign: 53907-tyranny-of-dragons-al\n",
      "⚠️ Character name conflict: 'Kod' used by players ['GeneralSanspants', 'Nockturen', 'CashlessRegent']\n",
      "🔄 Player GeneralSanspants: 'Kod' → 'Strun'\n",
      "🔄 Player Nockturen: 'Kod' → 'Plåcĕ Höldęŕ'\n"
     ]
    },
    {
     "name": "stderr",
     "output_type": "stream",
     "text": [
      "Loading campaigns:  66%|██████▌   | 651/985 [06:10<02:53,  1.92it/s]"
     ]
    },
    {
     "name": "stdout",
     "output_type": "stream",
     "text": [
      "🔄 Player CashlessRegent: 'Kod' → 'Potato'\n",
      "✅ Corrections completed for campaign: 53907-tyranny-of-dragons-al\n",
      "📚 Loaded manual corrections for 1 campaigns\n",
      "🔧 Applying corrections to campaign: 53999-waterdeep-dragon-heist\n",
      "✅ Corrections completed for campaign: 53999-waterdeep-dragon-heist\n"
     ]
    },
    {
     "name": "stderr",
     "output_type": "stream",
     "text": [
      "Loading campaigns:  66%|██████▌   | 652/985 [06:10<02:33,  2.16it/s]"
     ]
    },
    {
     "name": "stdout",
     "output_type": "stream",
     "text": [
      "📚 Loaded manual corrections for 1 campaigns\n",
      "🔧 Applying corrections to campaign: 54005-ghosts-of-saltmarsh-cbaer8-campaign-thread\n",
      "✅ Corrections completed for campaign: 54005-ghosts-of-saltmarsh-cbaer8-campaign-thread\n"
     ]
    },
    {
     "name": "stderr",
     "output_type": "stream",
     "text": [
      "Loading campaigns:  66%|██████▋   | 653/985 [06:11<03:27,  1.60it/s]"
     ]
    },
    {
     "name": "stdout",
     "output_type": "stream",
     "text": [
      "📚 Loaded manual corrections for 1 campaigns\n",
      "🔧 Applying corrections to campaign: 54021-the-lost-dungeon-of-rickedness\n",
      "🗑️ Removing single-post characters: ['D&D', 'Llamar', 'PbP']\n",
      "✅ Corrections completed for campaign: 54021-the-lost-dungeon-of-rickedness\n",
      "📚 Loaded manual corrections for 1 campaigns\n",
      "🔧 Applying corrections to campaign: 54108-monster-misfits-rp-thread\n",
      "✅ Corrections completed for campaign: 54108-monster-misfits-rp-thread\n"
     ]
    },
    {
     "name": "stderr",
     "output_type": "stream",
     "text": [
      "Loading campaigns:  67%|██████▋   | 656/985 [06:12<02:14,  2.44it/s]"
     ]
    },
    {
     "name": "stdout",
     "output_type": "stream",
     "text": [
      "📚 Loaded manual corrections for 1 campaigns\n",
      "🔧 Applying corrections to campaign: 54167-ghost-of-saltmarsh-play-by-post-sheenmccleans\n",
      "✅ Corrections completed for campaign: 54167-ghost-of-saltmarsh-play-by-post-sheenmccleans\n",
      "📚 Loaded manual corrections for 1 campaigns\n",
      "🔧 Applying corrections to campaign: 54277-bartys-beyond-frost-rikirta-part-2\n",
      "✅ Corrections completed for campaign: 54277-bartys-beyond-frost-rikirta-part-2\n"
     ]
    },
    {
     "name": "stderr",
     "output_type": "stream",
     "text": [
      "Loading campaigns:  67%|██████▋   | 657/985 [06:12<01:59,  2.75it/s]"
     ]
    },
    {
     "name": "stdout",
     "output_type": "stream",
     "text": [
      "📚 Loaded manual corrections for 1 campaigns\n",
      "🔧 Applying corrections to campaign: 54402-ethrahal-campaign\n",
      "✅ Corrections completed for campaign: 54402-ethrahal-campaign\n"
     ]
    },
    {
     "name": "stderr",
     "output_type": "stream",
     "text": [
      "Loading campaigns:  67%|██████▋   | 658/985 [06:12<01:47,  3.04it/s]"
     ]
    },
    {
     "name": "stdout",
     "output_type": "stream",
     "text": [
      "📚 Loaded manual corrections for 1 campaigns\n",
      "🔧 Applying corrections to campaign: 54435-welcome-to-phandalin\n",
      "✅ Corrections completed for campaign: 54435-welcome-to-phandalin\n",
      "📚 Loaded manual corrections for 1 campaigns\n",
      "🔧 Applying corrections to campaign: 54455-the-adventures-in-odaigo\n",
      "✅ Corrections completed for campaign: 54455-the-adventures-in-odaigo\n"
     ]
    },
    {
     "name": "stderr",
     "output_type": "stream",
     "text": [
      "Loading campaigns:  67%|██████▋   | 660/985 [06:13<01:27,  3.71it/s]"
     ]
    },
    {
     "name": "stdout",
     "output_type": "stream",
     "text": [
      "📚 Loaded manual corrections for 1 campaigns\n",
      "🔧 Applying corrections to campaign: 54502-darkness-on-the-horizon\n",
      "⚠️ Character name conflict: 'Kront'al' used by players ['ArtificeMeal', 'Krivoi_Rog']\n",
      "🔄 Player ArtificeMeal: 'Kront'al' → 'Snilloc'\n"
     ]
    },
    {
     "name": "stderr",
     "output_type": "stream",
     "text": [
      "Loading campaigns:  67%|██████▋   | 661/985 [06:14<02:51,  1.89it/s]"
     ]
    },
    {
     "name": "stdout",
     "output_type": "stream",
     "text": [
      "✅ Player Krivoi_Rog: 'Kront'al' (confirmed correct)\n",
      "✅ Corrections completed for campaign: 54502-darkness-on-the-horizon\n",
      "📚 Loaded manual corrections for 1 campaigns\n",
      "🔧 Applying corrections to campaign: 54570-a-mishap-of-ill-portent\n",
      "✅ Corrections completed for campaign: 54570-a-mishap-of-ill-portent\n",
      "📚 Loaded manual corrections for 1 campaigns\n",
      "🔧 Applying corrections to campaign: 54613-the-phenomenal-mines-of-phandelver-game-thread\n",
      "✅ Corrections completed for campaign: 54613-the-phenomenal-mines-of-phandelver-game-thread\n"
     ]
    },
    {
     "name": "stderr",
     "output_type": "stream",
     "text": [
      "Loading campaigns:  67%|██████▋   | 663/985 [06:14<01:49,  2.94it/s]"
     ]
    },
    {
     "name": "stdout",
     "output_type": "stream",
     "text": [
      "📚 Loaded manual corrections for 1 campaigns\n",
      "🔧 Applying corrections to campaign: 5468-gods-will-be-watching-shroud-over-corvindale-ig\n",
      "⚠️ Character name conflict: 'Lia' used by players ['QuestWulf', 'Matthias_von_Schwarzwald']\n",
      "🔄 Player QuestWulf: 'Lia' → 'Lia Galanodel'\n"
     ]
    },
    {
     "name": "stderr",
     "output_type": "stream",
     "text": [
      "Loading campaigns:  67%|██████▋   | 664/985 [06:16<03:11,  1.68it/s]"
     ]
    },
    {
     "name": "stdout",
     "output_type": "stream",
     "text": [
      "🔄 Player Matthias_von_Schwarzwald: 'Lia' → 'Chaos'\n",
      "✅ Corrections completed for campaign: 5468-gods-will-be-watching-shroud-over-corvindale-ig\n",
      "📚 Loaded manual corrections for 1 campaigns\n",
      "🔧 Applying corrections to campaign: 54784-war-in-hell\n",
      "✅ Corrections completed for campaign: 54784-war-in-hell\n",
      "📚 Loaded manual corrections for 1 campaigns\n",
      "🔧 Applying corrections to campaign: 54838-tower-of-heaven\n",
      "⚠️ Character name conflict: 'Orina' used by players ['Enkida', 'Bobahendrix']\n",
      "✅ Player Enkida: 'Orina' (confirmed correct)\n",
      "🔄 Player Bobahendrix: 'Orina' → 'Jogissa'\n",
      "✅ Corrections completed for campaign: 54838-tower-of-heaven\n"
     ]
    },
    {
     "name": "stderr",
     "output_type": "stream",
     "text": [
      "Loading campaigns:  68%|██████▊   | 667/985 [06:18<03:12,  1.66it/s]"
     ]
    },
    {
     "name": "stdout",
     "output_type": "stream",
     "text": [
      "📚 Loaded manual corrections for 1 campaigns\n",
      "🔧 Applying corrections to campaign: 54964-tales-of-talamh-homebrew-5th-edition-adventure-vol\n",
      "✅ Corrections completed for campaign: 54964-tales-of-talamh-homebrew-5th-edition-adventure-vol\n",
      "📚 Loaded manual corrections for 1 campaigns\n",
      "🔧 Applying corrections to campaign: 55112-realm-of-ethvar-rp-thread\n",
      "✅ Corrections completed for campaign: 55112-realm-of-ethvar-rp-thread\n",
      "📚 Loaded manual corrections for 1 campaigns\n",
      "🔧 Applying corrections to campaign: 5513-out-of-the-abyss-play-by-post-d-d-beyond\n",
      "✅ Corrections completed for campaign: 5513-out-of-the-abyss-play-by-post-d-d-beyond\n"
     ]
    },
    {
     "name": "stderr",
     "output_type": "stream",
     "text": [
      "Loading campaigns:  68%|██████▊   | 671/985 [06:19<01:55,  2.71it/s]"
     ]
    },
    {
     "name": "stdout",
     "output_type": "stream",
     "text": [
      "📚 Loaded manual corrections for 1 campaigns\n",
      "🔧 Applying corrections to campaign: 55135-in-search-of-molly-mcguffin\n",
      "✅ Corrections completed for campaign: 55135-in-search-of-molly-mcguffin\n",
      "📚 Loaded manual corrections for 1 campaigns\n",
      "🔧 Applying corrections to campaign: 55153-waterdeep-dragon-heist\n",
      "✅ Corrections completed for campaign: 55153-waterdeep-dragon-heist\n",
      "📚 Loaded manual corrections for 1 campaigns\n",
      "🔧 Applying corrections to campaign: 55207-rise-of-tiamat-pbp\n",
      "✅ Corrections completed for campaign: 55207-rise-of-tiamat-pbp\n"
     ]
    },
    {
     "name": "stderr",
     "output_type": "stream",
     "text": [
      "Loading campaigns:  68%|██████▊   | 674/985 [06:19<01:10,  4.39it/s]"
     ]
    },
    {
     "name": "stdout",
     "output_type": "stream",
     "text": [
      "📚 Loaded manual corrections for 1 campaigns\n",
      "🔧 Applying corrections to campaign: 55232-borkdoys-waterdeep-dragon-heist\n",
      "✅ Corrections completed for campaign: 55232-borkdoys-waterdeep-dragon-heist\n",
      "📚 Loaded manual corrections for 1 campaigns\n",
      "🔧 Applying corrections to campaign: 55264-skull-shackles-a-5e-adaptation\n",
      "✅ Corrections completed for campaign: 55264-skull-shackles-a-5e-adaptation\n",
      "📚 Loaded manual corrections for 1 campaigns\n",
      "🔧 Applying corrections to campaign: 5527-divisions-ic\n",
      "✅ Corrections completed for campaign: 5527-divisions-ic\n"
     ]
    },
    {
     "name": "stderr",
     "output_type": "stream",
     "text": [
      "Loading campaigns:  69%|██████▊   | 676/985 [06:19<00:52,  5.87it/s]"
     ]
    }
   ],
   "source": [
    "dfs = dl.load_campaigns(source=source, max_campaigns = max_campaigns, messages_per_session=messages_per_session, apply_corrections=False)\n",
    "\n",
    "basic_metrics = basic.analyze_basic_metrics(dfs, force_refresh=force_refresh)\n",
    "\n",
    "creativity_metrics = creativity.analyze_creativity(dfs,\n",
    "                                                   force_refresh=False)\n",
    "\n",
    "#dsi_metrics = creativity.analyze_dsi(dfs,\n",
    "#                                     force_refresh=True,\n",
    "#                                     target_words=scene_length)\n",
    "\n",
    "cohesion_metrics = cohesion.analyze_cohesion(dfs,\n",
    "                                             messages_per_session=5,\n",
    "                                             force_refresh=False)\n",
    "\n",
    "print(len(CAMPAIGN_NAME))"
   ]
  },
  {
   "cell_type": "markdown",
   "id": "d8238bbc",
   "metadata": {},
   "source": [
    "# Plot"
   ]
  },
  {
   "cell_type": "code",
   "execution_count": 683,
   "id": "848fd433",
   "metadata": {},
   "outputs": [],
   "source": [
    "def plot_histogram(data,\n",
    "                   colors=None,\n",
    "                   edgecolor='none',\n",
    "                   alpha=0.5,\n",
    "                   colormap='viridis',\n",
    "                   xlabel=None,\n",
    "                   bins=None,\n",
    "                   log_bins=False,\n",
    "                   log_y=False,\n",
    "                   figsize=(4, 4),\n",
    "                   ylabel=\"Counts\",\n",
    "                   labels=None):\n",
    "    \"\"\"\n",
    "    Plot histogram(s) with colors evenly spaced across a colormap.\n",
    "    \n",
    "    Parameters:\n",
    "    data: Single array/list OR list of arrays/lists to plot as histograms\n",
    "    colors (list): Specific colors (if None, uses colormap spacing)\n",
    "    edgecolor (str): Edge color for bars (default: 'none')\n",
    "    alpha (float): Transparency level (default: 0.5)\n",
    "    colormap (str): Colormap name (default: 'viridis')\n",
    "    xlabel (str): X-axis label (default: None, no label)\n",
    "    bins: Number of bins (default: None uses matplotlib default)\n",
    "    log_bins (bool): Use log-spaced bins and log x-axis (default: False)\n",
    "    log_y (bool): Use log scale for y-axis (default: False)\n",
    "    \"\"\"\n",
    "    plt.figure(figsize=figsize)\n",
    "\n",
    "    # Auto-detect if data is a single array or list of arrays\n",
    "    try:\n",
    "        if isinstance(data[0], (list, np.ndarray)):\n",
    "            data_list = data  # Already a list of arrays\n",
    "        else:\n",
    "            data_list = [data]  # Single array, wrap it in a list\n",
    "    except:\n",
    "        data_list = [data]\n",
    "\n",
    "    # Remove NaN values from all datasets\n",
    "    clean_data_list = []\n",
    "    for dataset in data_list:\n",
    "        clean_dataset = np.array(dataset)[~np.isnan(np.array(dataset))]\n",
    "        clean_data_list.append(clean_dataset)\n",
    "\n",
    "    n_plots = len(clean_data_list)\n",
    "\n",
    "    if colors is None:\n",
    "        cmap = cm.get_cmap(colormap)\n",
    "        if n_plots == 1:\n",
    "            colors = [cmap(0.5)]\n",
    "        else:\n",
    "            colors = [cmap(i / (n_plots - 1)) for i in range(n_plots)]\n",
    "\n",
    "    # Calculate common bins across all datasets (now NaN-free)\n",
    "    all_data = np.concatenate(clean_data_list)\n",
    "\n",
    "    if len(all_data) == 0:\n",
    "        raise ValueError(\"All data contains only NaN values\")\n",
    "\n",
    "    if log_bins:\n",
    "        # Filter out zeros and negatives for log scale\n",
    "        positive_data = all_data[all_data > 0]\n",
    "        if len(positive_data) == 0:\n",
    "            raise ValueError(\"log_bins=True requires positive values in data\")\n",
    "\n",
    "        min_val = np.min(positive_data)\n",
    "        max_val = np.max(positive_data)\n",
    "\n",
    "        if bins is None:\n",
    "            bins = 50  # Default number of log bins\n",
    "\n",
    "        common_bins = np.logspace(np.log10(min_val), np.log10(max_val), bins)\n",
    "    else:\n",
    "        # Linear bins\n",
    "        if bins is None:\n",
    "            bins = 50  # Default number of bins\n",
    "\n",
    "        min_val = np.min(all_data)\n",
    "        max_val = np.max(all_data)\n",
    "        common_bins = np.linspace(min_val, max_val, bins)\n",
    "\n",
    "    # Plot all histograms with the same bins (NaN-free data)\n",
    "    for i, dataset in enumerate(clean_data_list):\n",
    "        if labels is not None:\n",
    "            label = labels[i]\n",
    "        else:\n",
    "            label = None\n",
    "        plt.hist(dataset,\n",
    "                 bins=common_bins,\n",
    "                 color=colors[i],\n",
    "                 edgecolor=edgecolor,\n",
    "                 alpha=alpha,\n",
    "                 label=label)\n",
    "\n",
    "    # Set axis scales\n",
    "    if log_bins:\n",
    "        plt.xscale('log')\n",
    "\n",
    "    if log_y:\n",
    "        plt.yscale('log')\n",
    "\n",
    "    sns.despine()\n",
    "    plt.ylabel(ylabel)\n",
    "\n",
    "    if xlabel is not None:\n",
    "        plt.xlabel(xlabel, clip_on=False)\n",
    "    # Style axes\n",
    "    ax = plt.gca()\n",
    "    ax.tick_params(colors='#4a4a4a', width=0.5)\n",
    "    ax.spines['left'].set_color('#4a4a4a')\n",
    "    ax.spines['left'].set_linewidth(0.5)\n",
    "    ax.spines['bottom'].set_color('#4a4a4a')\n",
    "    ax.spines['bottom'].set_linewidth(0.5)\n",
    "    ax.xaxis.label.set_color('#4a4a4a')\n",
    "    ax.yaxis.label.set_color('#4a4a4a')"
   ]
  },
  {
   "cell_type": "code",
   "execution_count": 684,
   "id": "50878e82",
   "metadata": {},
   "outputs": [
    {
     "name": "stdout",
     "output_type": "stream",
     "text": [
      "1262-firedeath-must-die-closed-play-by-post-open-ogg\n",
      "3135-the-head-of-the-serpent\n",
      "10391-guardians-of-gridori\n",
      "20049-age-of-death\n",
      "89221-banhaven-academy-year-1\n",
      "90630-firecat5s-dragon-of-icespire-peak\n",
      "7426-serpent-isle-private-campaign\n",
      "llm_campaign_1262-firedeath-must-die-closed-play-by-post-open-ogg_gemini-1.5-pro_no_players_scratch_20250818_204449\n",
      "llm_campaign_3135-the-head-of-the-serpent_gemini-1.5-pro_no_players_scratch_20250818_160148\n",
      "llm_campaign_10391-guardians-of-gridori_gemini-1.5-pro_no_players_scratch_20250817_183449\n",
      "llm_campaign_20049-age-of-death_gemini-1.5-pro_no_players_scratch_20250818_130018\n",
      "llm_campaign_89221-banhaven-academy-year-1_gemini-1.5-pro_no_players_scratch_20250818_163025\n",
      "llm_campaign_90630-firecat5s-dragon-of-icespire-peak_gemini-1.5-pro_no_players_scratch_20250818_095237\n",
      "llm_campaign_7426-serpent-isle-private-campaign_gemini-1.5-pro_no_players_scratch_20250818_132838\n",
      "llm_campaign_1262-firedeath-must-die-closed-play-by-post-open-ogg_gemini-1.5-pro_players_scratch_20250818_145631\n",
      "llm_campaign_3135-the-head-of-the-serpent_gemini-1.5-pro_players_scratch_20250818_153052\n",
      "llm_campaign_10391-guardians-of-gridori_gemini-1.5-pro_players_scratch_20250817_181454\n",
      "llm_campaign_20049-age-of-death_gemini-1.5-pro_players_scratch_20250818_122503\n",
      "llm_campaign_89221-banhaven-academy-year-1_gemini-1.5-pro_players_scratch_20250818_190918\n",
      "llm_campaign_90630-firecat5s-dragon-of-icespire-peak_gemini-1.5-pro_players_scratch_20250818_103347\n",
      "llm_campaign_7426-serpent-isle-private-campaign_gemini-1.5-pro_players_scratch_20250818_133539\n",
      "llm_campaign_1262-firedeath-must-die-closed-play-by-post-open-ogg_claude-3-7-sonnet-latest_no_players_scratch_20250819_110000\n",
      "llm_campaign_3135-the-head-of-the-serpent_claude-3-7-sonnet-latest_no_players_scratch_20250819_153636\n",
      "llm_campaign_10391-guardians-of-gridori_claude-3-7-sonnet-latest_no_players_scratch_20250815_090708\n",
      "llm_campaign_89221-banhaven-academy-year-1_claude-3-7-sonnet-latest_no_players_scratch_20250818_192211\n",
      "llm_campaign_20049-age-of-death_claude-3-7-sonnet-latest_no_players_scratch_20250818_133738\n",
      "llm_campaign_90630-firecat5s-dragon-of-icespire-peak_claude-3-7-sonnet-latest_no_players_scratch_20250815_234149\n",
      "llm_campaign_7426-serpent-isle-private-campaign_claude-3-7-sonnet-latest_no_players_scratch_20250818_141059\n",
      "llm_campaign_1262-firedeath-must-die-closed-play-by-post-open-ogg_claude-3-7-sonnet-latest_players_scratch_20250819_132210\n",
      "llm_campaign_3135-the-head-of-the-serpent_claude-3-7-sonnet-latest_players_scratch_20250818_154911\n",
      "llm_campaign_10391-guardians-of-gridori_claude-3-7-sonnet-latest_players_scratch_20250814_143138\n",
      "llm_campaign_20049-age-of-death_claude-3-7-sonnet-latest_players_scratch_20250818_120952\n",
      "llm_campaign_89221-banhaven-academy-year-1_claude-3-7-sonnet-latest_players_scratch_20250819_205318\n",
      "llm_campaign_90630-firecat5s-dragon-of-icespire-peak_claude-3-7-sonnet-latest_players_scratch_20250815_204211\n",
      "llm_campaign_7426-serpent-isle-private-campaign_claude-3-7-sonnet-latest_players_scratch_20250818_143900\n",
      "llm_campaign_1262-firedeath-must-die-closed-play-by-post-open-ogg_gpt-4o_no_players_scratch_20250816_110159\n",
      "llm_campaign_3135-the-head-of-the-serpent_gpt-4o_no_players_scratch_20250816_190300\n",
      "llm_campaign_10391-guardians-of-gridori_gpt-4o_no_players_scratch_20250814_131744\n",
      "llm_campaign_89221-banhaven-academy-year-1_gpt-4o_no_players_scratch_20250816_183355\n",
      "llm_campaign_20049-age-of-death_gpt-4o_no_players_scratch_20250816_213933\n",
      "llm_campaign_90630-firecat5s-dragon-of-icespire-peak_gpt-4o_no_players_scratch_20250815_101602\n",
      "llm_campaign_7426-serpent-isle-private-campaign_gpt-4o_no_players_scratch_20250817_100448\n",
      "llm_campaign_1262-firedeath-must-die-closed-play-by-post-open-ogg_gpt-4o_players_scratch_20250816_125646\n",
      "llm_campaign_3135-the-head-of-the-serpent_gpt-4o_players_scratch_20250816_194054\n",
      "llm_campaign_10391-guardians-of-gridori_gpt-4o_players_scratch_20250814_122435\n",
      "llm_campaign_20049-age-of-death_gpt-4o_players_scratch_20250816_212424\n",
      "llm_campaign_89221-banhaven-academy-year-1_gpt-4o_players_scratch_20250816_140525\n",
      "llm_campaign_90630-firecat5s-dragon-of-icespire-peak_gpt-4o_players_scratch_20250814_153319\n",
      "llm_campaign_7426-serpent-isle-private-campaign_gpt-4o_players_scratch_20250817_101144\n"
     ]
    }
   ],
   "source": [
    "names = list(dfs.keys())\n",
    "\n",
    "time_invervals_campaigns = []\n",
    "post_len_campaigns = []\n",
    "sbert_post_distances = []\n",
    "dsi_scene_len = []\n",
    "sbert_session_creativity = []\n",
    "cohesion_session_scores = []\n",
    "dsi_scenes = []\n",
    "for name in names:\n",
    "    print(name)\n",
    "\n",
    "    # get time interval distributions\n",
    "    time_invervals_campaigns.append(basic_metrics[name]['time_intervals_overall']['overall']['intervals_data'])\n",
    "\n",
    "    # get word count distritbutions\n",
    "    post_len_campaigns.append(basic_metrics[name]['post_lengths_overall']['overall']['word_counts_data'])\n",
    "\n",
    "    # get semantic distances (SBERT) distribtuions\n",
    "    sbert_post_distances.append(np.array(creativity_metrics[name]['semantic_distances']))\n",
    "\n",
    "    # sbert sessions\n",
    "    sbert_session_creativity.append(np.array(creativity_metrics[name]['session_novelty'][['mean_distance']]))\n",
    "\n",
    "    # get dsi distributions\n",
    "    #dsi_scenes.append(dsi_metrics[name]['scene_dsi_scores'])\n",
    "    #dsi_scene_len.append(dsi_metrics[name]['scene_word_counts'])\n",
    "\n",
    "    # get cohesion dists\n",
    "    if cohesion_metrics[name] is None:\n",
    "        cohesion_session_scores.append(np.array(np.nan))\n",
    "    else:\n",
    "        cohesion_session_scores.append(np.array(cohesion_metrics[name]['session_cohesion_scores']))\n",
    "\n",
    "    # plot time interval distributions per player\n",
    "    player_names = basic_metrics[name]['time_intervals_by_player'].keys()\n",
    "    time_intervals_player_list = []\n",
    "    for player_name in player_names:\n",
    "        time_intervals_player_list.append(\n",
    "            basic_metrics[name]['time_intervals_by_player'][player_name]\n",
    "            ['intervals_data'])\n",
    "    #plot_histogram(time_intervals_player_list, bins=50, xlabel='time invervals by player', colormap='magma')\n",
    "\n",
    "    # plot word count distributions per player\n",
    "    post_len_player_list = []\n",
    "    for player_name in player_names:\n",
    "        post_len_player_list.append(basic_metrics[name]['post_lengths_by_player'][player_name]['word_counts_data'])\n",
    "    #plot_histogram(post_len_player_list, bins=50, xlabel='post lengths by player', colormap='magma')\n",
    "\n",
    "\n",
    "#plot_histogram(time_invervals_campaigns, bins=50, xlabel='time intervals by campaign')\n",
    "#plot_histogram(post_len_campaigns, bins=50, xlabel='post len by campaign')\n",
    "#plot_histogram(sentence_session_distances, bins=30, xlabel='sbert by campaign')\n",
    "#plot_histogram(dsi_scenes, bins=50, xlabel='dsi by campaign')"
   ]
  },
  {
   "cell_type": "code",
   "execution_count": 672,
   "id": "a0443e16",
   "metadata": {},
   "outputs": [
    {
     "data": {
      "image/png": "[encoded data removed]",
      "text/plain": [
       "<Figure size 400x400 with 1 Axes>"
      ]
     },
     "metadata": {},
     "output_type": "display_data"
    }
   ],
   "source": [
    "plot_histogram(post_len_campaigns,\n",
    "               bins=50,\n",
    "               xlabel='post len by campaign',\n",
    "               labels=list(dfs.keys()))\n",
    "#plt.legend()"
   ]
  },
  {
   "cell_type": "code",
   "execution_count": 637,
   "id": "f9d65718",
   "metadata": {},
   "outputs": [],
   "source": [
    "def plot_comparison_histograms(data,\n",
    "                               colors=None,\n",
    "                               edgecolor='none',\n",
    "                               alpha=0.5,\n",
    "                               colormap='viridis',\n",
    "                               xlabel=None,\n",
    "                               bins=None,\n",
    "                               log_bins=False,\n",
    "                               log_y=False,\n",
    "                               labels=None,\n",
    "                               figsize=None,\n",
    "                               ylabel=\"Counts\"):\n",
    "    \"\"\"\n",
    "    Plot comparison histograms with the first dataset appearing in every subplot,\n",
    "    and each subsequent dataset compared against it in separate vertical subplots.\n",
    "    \n",
    "    Parameters:\n",
    "    data: List of arrays/lists (must have at least 2 datasets)\n",
    "    colors (list): Specific colors (if None, uses colormap spacing)\n",
    "    edgecolor (str): Edge color for bars (default: 'none')\n",
    "    alpha (float): Transparency level (default: 0.5)\n",
    "    colormap (str): Colormap name (default: 'viridis')\n",
    "    xlabel (str): X-axis label (default: None, no label)\n",
    "    bins: Number of bins (default: None uses matplotlib default)\n",
    "    log_bins (bool): Use log-spaced bins and log x-axis (default: False)\n",
    "    log_y (bool): Use log scale for y-axis (default: False)\n",
    "    labels (list): Labels for each dataset (default: None)\n",
    "    figsize (tuple): Figure size (width, height). If None, auto-calculated\n",
    "    \"\"\"\n",
    "\n",
    "    # Validate input\n",
    "    if not isinstance(data, list) or len(data) < 2:\n",
    "        raise ValueError(\"data must be a list with at least 2 datasets\")\n",
    "\n",
    "    # Auto-detect if data contains arrays or single values\n",
    "    data_list = []\n",
    "    for dataset in data:\n",
    "        try:\n",
    "            if isinstance(dataset[0], (list, np.ndarray)):\n",
    "                data_list.append(dataset)\n",
    "            else:\n",
    "                data_list.append(dataset)\n",
    "        except:\n",
    "            data_list.append(dataset)\n",
    "\n",
    "    # Remove NaN values from all datasets\n",
    "    clean_data_list = []\n",
    "    for dataset in data_list:\n",
    "        clean_dataset = np.array(dataset)[~np.isnan(np.array(dataset))]\n",
    "        clean_data_list.append(clean_dataset)\n",
    "\n",
    "    if any(len(dataset) == 0 for dataset in clean_data_list):\n",
    "        raise ValueError(\"One or more datasets contain only NaN values\")\n",
    "\n",
    "    n_datasets = len(clean_data_list)\n",
    "    n_subplots = n_datasets - 1  # Number of comparison subplots\n",
    "\n",
    "    # Set up figure size\n",
    "    if figsize is None:\n",
    "        figsize = (8, 3 * n_subplots)  # 3 inches height per subplot\n",
    "\n",
    "    fig, axes = plt.subplots(n_subplots, 1, figsize=figsize, sharex=True)\n",
    "    plt.subplots_adjust(hspace=0)\n",
    "    # Handle case where there's only one comparison (single axis)\n",
    "    if n_subplots == 1:\n",
    "        axes = [axes]\n",
    "\n",
    "    # Set up colors\n",
    "    if colors is None:\n",
    "        cmap = cm.get_cmap(colormap)\n",
    "        if n_datasets == 1:\n",
    "            colors = [cmap(0.5)]\n",
    "        else:\n",
    "            colors = [cmap(i / (n_datasets - 1)) for i in range(n_datasets)]\n",
    "\n",
    "    # Calculate common bins across all datasets\n",
    "    all_data = np.concatenate(clean_data_list)\n",
    "\n",
    "    if log_bins:\n",
    "        # Filter out zeros and negatives for log scale\n",
    "        positive_data = all_data[all_data > 0]\n",
    "        if len(positive_data) == 0:\n",
    "            raise ValueError(\"log_bins=True requires positive values in data\")\n",
    "\n",
    "        min_val = np.min(positive_data)\n",
    "        max_val = np.max(positive_data)\n",
    "\n",
    "        if bins is None:\n",
    "            bins = 50\n",
    "\n",
    "        common_bins = np.logspace(np.log10(min_val), np.log10(max_val), bins)\n",
    "    else:\n",
    "        # Linear bins\n",
    "        if bins is None:\n",
    "            bins = 50\n",
    "\n",
    "        min_val = np.min(all_data)\n",
    "        max_val = np.max(all_data)\n",
    "        common_bins = np.linspace(min_val, max_val, bins)\n",
    "\n",
    "    # Reference dataset (first one)\n",
    "    reference_data = clean_data_list[0]\n",
    "    reference_color = colors[0]\n",
    "    reference_label = labels[0] if labels is not None else \"Reference\"\n",
    "\n",
    "    # Plot each comparison\n",
    "    for i in range(n_subplots):\n",
    "        ax = axes[i]\n",
    "\n",
    "        # Current comparison dataset (i+1 because we skip the reference)\n",
    "        comparison_data = clean_data_list[i + 1]\n",
    "        comparison_color = colors[i + 1]\n",
    "        comparison_label = labels[\n",
    "            i + 1] if labels is not None else f\"Dataset {i + 1}\"\n",
    "\n",
    "        # Plot reference histogram (same in every subplot)\n",
    "        ax.hist(reference_data,\n",
    "                bins=common_bins,\n",
    "                color=reference_color,\n",
    "                edgecolor=edgecolor,\n",
    "                alpha=alpha,\n",
    "                label=reference_label)\n",
    "\n",
    "        # Plot comparison histogram\n",
    "        ax.hist(comparison_data,\n",
    "                bins=common_bins,\n",
    "                color=comparison_color,\n",
    "                edgecolor=edgecolor,\n",
    "                alpha=alpha,\n",
    "                label=comparison_label)\n",
    "\n",
    "        # Set axis scales\n",
    "        if log_bins:\n",
    "            ax.set_xscale('log')\n",
    "\n",
    "        if log_y:\n",
    "            ax.set_yscale('log')\n",
    "\n",
    "        # Style the subplot\n",
    "        sns.despine(ax=ax)\n",
    "\n",
    "        # Only add ylabel to the middle subplot\n",
    "        if i == n_subplots // 2:\n",
    "            ax.set_ylabel(ylabel)\n",
    "        else:\n",
    "            ax.set_ylabel(\"\")\n",
    "\n",
    "        # Don't add legend here - can be added outside function if needed\n",
    "\n",
    "        # Style axes\n",
    "        ax.tick_params(colors='#4a4a4a', width=0.5, length=2)\n",
    "        ax.spines['left'].set_color('#4a4a4a')\n",
    "        ax.spines['left'].set_linewidth(0.5)\n",
    "        ax.spines['bottom'].set_color('#4a4a4a')\n",
    "        ax.spines['bottom'].set_linewidth(0.5)\n",
    "        ax.xaxis.label.set_color('#4a4a4a')\n",
    "        ax.yaxis.label.set_color('#4a4a4a')\n",
    "        ax.set_facecolor(\"none\")\n",
    "        ax.minorticks_off()\n",
    "    # Only add xlabel to the bottom subplot\n",
    "    if xlabel is not None:\n",
    "        axes[-1].set_xlabel(xlabel)\n",
    "\n",
    "    # Adjust layout to prevent overlap\n",
    "    #plt.tight_layout()\n",
    "\n",
    "    # Set same y-limits for all subplots\n",
    "    # Find the maximum y-limit across all subplots\n",
    "    max_ylim = 0\n",
    "    for ax in axes:\n",
    "        current_ylim = ax.get_ylim()[1]\n",
    "        max_ylim = max(max_ylim, current_ylim)\n",
    "    # Apply the same y-limit to all subplots\n",
    "    for ax in axes:\n",
    "        ax.set_ylim(0, max_ylim)\n",
    "        ax.set_yticks([0, np.round(max_ylim*.7/10)*10])\n",
    "    return fig, axes"
   ]
  },
  {
   "cell_type": "code",
   "execution_count": 533,
   "id": "7782ec79",
   "metadata": {},
   "outputs": [
    {
     "data": {
      "text/plain": [
       "(<Figure size 200x400 with 6 Axes>,\n",
       " array([<Axes: >, <Axes: >, <Axes: >, <Axes: ylabel='Counts'>, <Axes: >,\n",
       "        <Axes: xlabel='Creativity 2 \\nsequential semantic shift'>],\n",
       "       dtype=object))"
      ]
     },
     "execution_count": 533,
     "metadata": {},
     "output_type": "execute_result"
    },
    {
     "data": {
      "image/png": "[encoded data removed]",
      "text/plain": [
       "<Figure size 200x400 with 6 Axes>"
      ]
     },
     "metadata": {},
     "output_type": "display_data"
    }
   ],
   "source": [
    "plot_comparison_histograms(\n",
    "    sbert_post_distances,  #post_len_campaigns,\n",
    "    bins=20,\n",
    "    xlabel='Creativity 2 \\nsequential semantic shift',\n",
    "    figsize=(2, 4))\n",
    "#plt.tight_layout()\n",
    "#plt.savefig('single_creativity1.pdf', transparent=True)"
   ]
  },
  {
   "cell_type": "code",
   "execution_count": 521,
   "id": "2fd8424a",
   "metadata": {},
   "outputs": [],
   "source": [
    "#plot_comparison_histograms(\n",
    "#    dsi_scenes,  #post_len_campaigns,#\n",
    "#    bins=20,\n",
    "#    xlabel='Creativity 3 \\ndivergent semantic integration',\n",
    "#    figsize=(2, 4))\n",
    "\n",
    "#plt.subplots_adjust(hspace=0)"
   ]
  },
  {
   "cell_type": "code",
   "execution_count": 534,
   "id": "a0bce206",
   "metadata": {},
   "outputs": [
    {
     "data": {
      "image/png": "[encoded data removed]",
      "text/plain": [
       "<Figure size 200x400 with 6 Axes>"
      ]
     },
     "metadata": {},
     "output_type": "display_data"
    }
   ],
   "source": [
    "plot_comparison_histograms(cohesion_session_scores,#post_len_campaigns,\n",
    "                           bins=19,\n",
    "                           xlabel=r'$\\mathbf{Cohesion}$' +  '\\nJaccard similarity',\n",
    "                           ylabel=\" \",\n",
    "                           figsize=(2,4))\n",
    "plt.tight_layout()\n",
    "plt.subplots_adjust(hspace=0)\n",
    "plt.savefig('human_vs_llm_cohesion.pdf', transparent=True)"
   ]
  },
  {
   "cell_type": "code",
   "execution_count": 531,
   "id": "b5628353",
   "metadata": {},
   "outputs": [
    {
     "data": {
      "image/png": "[encoded data removed]",
      "text/plain": [
       "<Figure size 200x400 with 6 Axes>"
      ]
     },
     "metadata": {},
     "output_type": "display_data"
    }
   ],
   "source": [
    "plot_comparison_histograms(\n",
    "    sbert_session_creativity,  #post_len_campaigns,\n",
    "    bins=18,\n",
    "    ylabel=\" \",\n",
    "    xlabel=r'$\\mathbf{Creativity\\ 1}$' +  '\\nsession semantic diversity',\n",
    "    figsize=(2, 4))\n",
    "\n",
    "plt.tight_layout()\n",
    "plt.subplots_adjust(hspace=0)\n",
    "plt.savefig('human_vs_llm_creativity.pdf', transparent=True)"
   ]
  },
  {
   "cell_type": "code",
   "execution_count": 526,
   "id": "30df0680",
   "metadata": {},
   "outputs": [
    {
     "data": {
      "image/png": "[encoded data removed]",
      "text/plain": [
       "<Figure size 200x400 with 6 Axes>"
      ]
     },
     "metadata": {},
     "output_type": "display_data"
    }
   ],
   "source": [
    "plot_comparison_histograms(\n",
    "    post_len_campaigns,  #post_len_campaigns,\n",
    "    bins=20,\n",
    "    log_bins=True,\n",
    "    log_y=False,\n",
    "    xlabel=r'$\\mathbf{Post\\ length}$' + '\\n(# words)',\n",
    "    figsize=(2, 4))\n",
    "\n",
    "plt.tight_layout()\n",
    "plt.subplots_adjust(hspace=0)\n",
    "plt.savefig('human_vs_llm_len.pdf', transparent=True)"
   ]
  },
  {
   "cell_type": "code",
   "execution_count": 638,
   "id": "600ecde4",
   "metadata": {},
   "outputs": [],
   "source": [
    "mean_sbert_session_creat = np.zeros(len(sbert_session_creativity))\n",
    "mean_cohesion_session = np.zeros(len(cohesion_session_scores))\n",
    "mean_sbert_post_distances = np.zeros(len(sbert_post_distances))\n",
    "\n",
    "for i in range(len(sbert_session_creativity)):\n",
    "    mean_sbert_session_creat[i] = np.mean(sbert_session_creativity[i])\n",
    "    mean_cohesion_session[i] = np.mean(cohesion_session_scores[i])\n",
    "    mean_sbert_post_distances[i] = np.nanmean(sbert_post_distances[i])"
   ]
  },
  {
   "cell_type": "code",
   "execution_count": 463,
   "id": "3ea96d1c",
   "metadata": {},
   "outputs": [
    {
     "data": {
      "image/png": "[encoded data removed]",
      "text/plain": [
       "<Figure size 200x150 with 1 Axes>"
      ]
     },
     "metadata": {},
     "output_type": "display_data"
    },
    {
     "data": {
      "image/png": "[encoded data removed]",
      "text/plain": [
       "<Figure size 200x150 with 1 Axes>"
      ]
     },
     "metadata": {},
     "output_type": "display_data"
    },
    {
     "data": {
      "image/png": "[encoded data removed]",
      "text/plain": [
       "<Figure size 200x150 with 1 Axes>"
      ]
     },
     "metadata": {},
     "output_type": "display_data"
    }
   ],
   "source": [
    "plt.rcParams.update({'font.size': 8})\n",
    "plot_histogram(mean_sbert_session_creat,\n",
    "               figsize=(2, 1.5),\n",
    "               bins=40,\n",
    "               alpha=0.8,\n",
    "               xlabel=r'$\\mathbf{Creativity\\ 1}$' +  '\\nsession semantic diversity',\n",
    "               labels=list(dfs.keys()))\n",
    "plt.tight_layout()\n",
    "plt.savefig('creativity1.pdf', transparent=True)\n",
    "\n",
    "plot_histogram(mean_sbert_post_distances,\n",
    "               ylabel=\"   \",\n",
    "               figsize=(2, 1.5),\n",
    "               bins=40,\n",
    "               alpha=0.8,\n",
    "               xlabel=r'$\\mathbf{Creativity\\ 2}$' + '\\nsequential semantic shift',\n",
    "               labels=list(dfs.keys()))\n",
    "plt.tight_layout()\n",
    "plt.savefig('creativity2.pdf', transparent=True)\n",
    "\n",
    "plot_histogram(mean_cohesion_session,\n",
    "               ylabel=\"   \",\n",
    "               figsize=(2, 1.5),\n",
    "               bins=40,\n",
    "               alpha=0.8,\n",
    "               xlabel=r'$\\mathbf{Cohesion}$' + '\\nJaccard similarity',\n",
    "               labels=list(dfs.keys()))\n",
    "plt.tight_layout()\n",
    "#plt.savefig('cohesion.pdf', transparent=True)"
   ]
  },
  {
   "cell_type": "code",
   "execution_count": 127,
   "id": "4389211b",
   "metadata": {},
   "outputs": [],
   "source": [
    "time_invervals_agg = np.concatenate(time_invervals_campaigns)\n",
    "post_lengths_agg = np.concatenate(post_len_campaigns)"
   ]
  },
  {
   "cell_type": "code",
   "execution_count": null,
   "id": "2ef48085",
   "metadata": {},
   "outputs": [
    {
     "data": {
      "image/png": "[encoded data removed]",
      "text/plain": [
       "<Figure size 300x150 with 1 Axes>"
      ]
     },
     "metadata": {},
     "output_type": "display_data"
    },
    {
     "data": {
      "image/png": "[encoded data removed]",
      "text/plain": [
       "<Figure size 300x150 with 1 Axes>"
      ]
     },
     "metadata": {},
     "output_type": "display_data"
    }
   ],
   "source": [
    "plot_histogram(time_invervals_agg,\n",
    "               figsize=(3, 1.5),\n",
    "               log_y=True,\n",
    "               bins=70,\n",
    "               colors=[[.4, 0.57, .18]],\n",
    "               alpha=0.7,\n",
    "               log_bins=True,\n",
    "               xlabel='Time between posts (h)',\n",
    "               labels=list(dfs.keys()))\n",
    "plt.tight_layout()\n",
    "plt.savefig('time_intervals.pdf', transparent=True)\n",
    "\n",
    "plot_histogram(post_lengths_agg,\n",
    "               colors=[[.4, 0.57, .18]],\n",
    "               figsize=(3, 1.5),\n",
    "               alpha=0.7,\n",
    "               ylabel=\"   \",\n",
    "               log_y=True,\n",
    "               bins=70,\n",
    "               log_bins=True,\n",
    "               xlabel='Post length (# words)',\n",
    "               labels=list(dfs.keys()))\n",
    "plt.tight_layout()\n",
    "#plt.savefig('post_lens.pdf', transparent=True)"
   ]
  },
  {
   "cell_type": "code",
   "execution_count": 185,
   "id": "7ba538a8",
   "metadata": {},
   "outputs": [],
   "source": [
    "# save 5 plots\n",
    "# make the simple metrics in 1 color and more complex in another? teal and chartreuse? \n",
    "# fix the x axis labels\n",
    "# chartreuse (197,170,46)"
   ]
  },
  {
   "cell_type": "code",
   "execution_count": 505,
   "id": "eb7ae58c",
   "metadata": {},
   "outputs": [],
   "source": [
    "def plot_time_series(time_var):\n",
    "    plt.figure(figsize=(12, 3))\n",
    "    plt.plot(time_var[0])\n",
    "    plt.plot(time_var[1])\n",
    "    plt.plot(time_var[2])\n",
    "    plt.plot(time_var[3])\n",
    "    plt.plot(time_var[4])\n",
    "    #plt.plot(time_var[5])\n",
    "    #plt.plot(time_var[6])\n",
    "\n",
    "#plot_time_series(sbert_post_distances)\n",
    "#plot_time_series(sbert_session_creativity)\n",
    "#plot_time_series(dsi_scenes)\n",
    "#plot_time_series(cohesion_session_scores)"
   ]
  },
  {
   "cell_type": "code",
   "execution_count": 338,
   "id": "ff06df5b",
   "metadata": {},
   "outputs": [],
   "source": [
    "len(cohesion_session_scores)\n",
    "len(post_len_campaigns)\n",
    "\n",
    "\n",
    "def plot_correlations(post_len_campaigns, scores, sessions=True):\n",
    "    for i in range(len(post_len_campaigns)):\n",
    "        #plt.figure()\n",
    "        if sessions:\n",
    "            session_lens = np.add.reduceat(\n",
    "                post_len_campaigns[i],\n",
    "                np.arange(0, len(post_len_campaigns[i]), 5))\n",
    "        else: \n",
    "            session_lens = post_len_campaigns[i]\n",
    "        print('\\n')\n",
    "        if len(session_lens) > len(scores[i]):\n",
    "            plt.plot(session_lens[1:], scores[i], '.')\n",
    "        else:\n",
    "            plt.plot(session_lens, scores[i], '.')\n",
    "        plt.xlabel('session length')\n",
    "        plt.ylabel('score')"
   ]
  },
  {
   "cell_type": "code",
   "execution_count": 504,
   "id": "38e79f52",
   "metadata": {},
   "outputs": [],
   "source": [
    "#plot_correlations(post_len_campaigns, cohesion_session_scores, sessions=True)\n",
    "\n",
    "#plt.figure()\n",
    "#plot_correlations(post_len_campaigns, sbert_session_creativity, sessions=True)\n",
    "\n",
    "#plt.figure()\n",
    "#plot_correlations(post_len_campaigns, sbert_post_distances, sessions=False)\n",
    "\n",
    "#plt.figure()\n",
    "#plot_correlations(dsi_scene_len, dsi_scenes, sessions=False)"
   ]
  },
  {
   "cell_type": "code",
   "execution_count": 685,
   "id": "5332bbbb",
   "metadata": {},
   "outputs": [],
   "source": [
    "# concetanate the chosen games scores\n",
    "# then do the comparison plot\n",
    "\n",
    "#np.concatenate(cohesion_session_scores[0:5])\n",
    "\n",
    "\n",
    "def aggregate_by_category(metric_campaigns):\n",
    "    metric_campaigns_human = np.concatenate(metric_campaigns[0:7])\n",
    "    metric_campaigns_gemini_no_players = np.array([])\n",
    "    metric_campaigns_gemini_players = np.array([])\n",
    "    metric_campaigns_chatgpt_no_players = np.array([])\n",
    "    metric_campaigns_chatgpt_players = np.array([])\n",
    "    metric_campaigns_claude_players = np.array([])\n",
    "    metric_campaigns_claude_no_players = np.array([])\n",
    "    print(len(post_len_campaigns))\n",
    "    print(len(CAMPAIGN_NAME))\n",
    "    for i in range(len(CAMPAIGN_NAME)):\n",
    "        if 'gemini-1.5-pro_no_players' in CAMPAIGN_NAME[i]:\n",
    "            metric_campaigns_gemini_no_players = np.append(metric_campaigns_gemini_no_players, metric_campaigns[i])\n",
    "        if 'gemini-1.5-pro_players' in CAMPAIGN_NAME[i]:\n",
    "            metric_campaigns_gemini_players = np.append(metric_campaigns_gemini_players, metric_campaigns[i])\n",
    "        if 'gpt-4o_no_players' in CAMPAIGN_NAME[i]:\n",
    "            metric_campaigns_chatgpt_no_players = np.append(metric_campaigns_chatgpt_no_players, metric_campaigns[i])\n",
    "        if 'gpt-4o_players' in CAMPAIGN_NAME[i]:\n",
    "            metric_campaigns_chatgpt_players =  np.append(metric_campaigns_chatgpt_players, metric_campaigns[i])\n",
    "        if 'claude-3-7-sonnet-latest_no_players' in CAMPAIGN_NAME[i]:\n",
    "            metric_campaigns_claude_no_players =  np.append(metric_campaigns_claude_no_players, metric_campaigns[i])\n",
    "        if 'claude-3-7-sonnet-latest_players' in CAMPAIGN_NAME[i]:\n",
    "            metric_campaigns_claude_players =  np.append(metric_campaigns_claude_players, metric_campaigns[i])\n",
    "\n",
    "    metric_agg = [\n",
    "        metric_campaigns_human, metric_campaigns_gemini_no_players,\n",
    "        metric_campaigns_gemini_players, metric_campaigns_claude_no_players,\n",
    "        metric_campaigns_claude_players, metric_campaigns_chatgpt_no_players,\n",
    "        metric_campaigns_chatgpt_players\n",
    "    ]\n",
    "    return metric_agg"
   ]
  },
  {
   "cell_type": "code",
   "execution_count": 688,
   "id": "6886759c",
   "metadata": {},
   "outputs": [
    {
     "name": "stdout",
     "output_type": "stream",
     "text": [
      "49\n",
      "49\n",
      "49\n",
      "49\n",
      "49\n",
      "49\n",
      "49\n",
      "49\n"
     ]
    },
    {
     "data": {
      "image/png": "[encoded data removed]",
      "text/plain": [
       "<Figure size 210x400 with 6 Axes>"
      ]
     },
     "metadata": {},
     "output_type": "display_data"
    },
    {
     "data": {
      "image/png": "[encoded data removed]",
      "text/plain": [
       "<Figure size 210x400 with 6 Axes>"
      ]
     },
     "metadata": {},
     "output_type": "display_data"
    },
    {
     "data": {
      "image/png": "[encoded data removed]",
      "text/plain": [
       "<Figure size 210x400 with 6 Axes>"
      ]
     },
     "metadata": {},
     "output_type": "display_data"
    },
    {
     "data": {
      "image/png": "[encoded data removed]",
      "text/plain": [
       "<Figure size 210x400 with 6 Axes>"
      ]
     },
     "metadata": {},
     "output_type": "display_data"
    }
   ],
   "source": [
    "post_len_agg = aggregate_by_category(post_len_campaigns)\n",
    "cohesion_agg = aggregate_by_category(cohesion_session_scores)\n",
    "creativity_1_agg = aggregate_by_category(sbert_session_creativity)  #\n",
    "creativity_2_agg = aggregate_by_category(sbert_post_distances)\n",
    "plt.rcParams.update({'font.size': 8})\n",
    "plot_comparison_histograms(\n",
    "    post_len_agg,  #post_len_campaigns,\n",
    "    bins=20,\n",
    "    log_bins=True,\n",
    "    log_y=False,\n",
    "    xlabel=r'$\\mathbf{Post\\ length}$' + '\\n(# words)',\n",
    "    figsize=(2.1, 4))\n",
    "\n",
    "plt.tight_layout()\n",
    "plt.subplots_adjust(hspace=0)\n",
    "plt.savefig('human_vs_llm_len.pdf', transparent=True)\n",
    "\n",
    "\n",
    "plot_comparison_histograms(cohesion_agg,\n",
    "                           bins=20,\n",
    "                           log_bins=False,\n",
    "                           ylabel=\" \",\n",
    "                           xlabel=r'$\\mathbf{Cohesion}$' +\n",
    "                           '\\nJaccard similarity',\n",
    "                           figsize=(2.1, 4))\n",
    "plt.tight_layout()\n",
    "plt.subplots_adjust(hspace=0)\n",
    "plt.savefig('human_vs_llm_cohesion.pdf', transparent=True)\n",
    "\n",
    "\n",
    "plot_comparison_histograms(\n",
    "    creativity_1_agg,\n",
    "    bins=20,\n",
    "    log_bins=False,\n",
    "    ylabel=\" \",\n",
    "    xlabel=r'$\\mathbf{Creativity\\ 1}$' +  '\\nsession semantic diversity',\n",
    "    figsize=(2.1, 4))\n",
    "plt.tight_layout()\n",
    "plt.subplots_adjust(hspace=0)\n",
    "plt.savefig('human_vs_llm_creativity.pdf', transparent=True)\n",
    "\n",
    "plot_comparison_histograms(\n",
    "    creativity_2_agg,\n",
    "    bins=20,\n",
    "    log_bins=False,\n",
    "    ylabel=\" \",\n",
    "    xlabel=r'$\\mathbf{Creativity\\ 2}$' +  '\\nSequential Semantic Shift',\n",
    "    figsize=(2.1, 4))\n",
    "plt.tight_layout()\n",
    "plt.subplots_adjust(hspace=0)\n",
    "#plt.savefig('human_vs_llm_creativity.pdf', transparent=True)"
   ]
  },
  {
   "cell_type": "code",
   "execution_count": null,
   "id": "f785a47c",
   "metadata": {},
   "outputs": [],
   "source": []
  },
  {
   "cell_type": "code",
   "execution_count": null,
   "id": "38d8d0ad",
   "metadata": {},
   "outputs": [],
   "source": []
  }
 ],
 "metadata": {
  "kernelspec": {
   "display_name": "py312",
   "language": "python",
   "name": "python3"
  },
  "language_info": {
   "codemirror_mode": {
    "name": "ipython",
    "version": 3
   },
   "file_extension": ".py",
   "mimetype": "text/x-python",
   "name": "python",
   "nbconvert_exporter": "python",
   "pygments_lexer": "ipython3",
   "version": "3.12.11"
  }
 },
 "nbformat": 4,
 "nbformat_minor": 5
}
