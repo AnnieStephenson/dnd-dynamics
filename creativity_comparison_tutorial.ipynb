{
 "cells": [
  {
   "cell_type": "markdown",
   "id": "creativity-tutorial-intro",
   "metadata": {},
   "source": [
    "# Multi-Campaign Creative Metrics Analysis\n",
    "\n",
    "This notebook demonstrates how to analyze and compare creative metrics across multiple D&D campaigns using advanced NLP techniques.\n",
    "\n",
    "## Features\n",
    "- Semantic distance analysis across campaigns\n",
    "- Session novelty comparison\n",
    "- Topic modeling and transition analysis\n",
    "- Cross-campaign creativity correlations\n",
    "- Statistical comparisons and distributions\n",
    "- **Improved caching system** with creativity-specific cache files\n",
    "\n",
    "## Caching System\n",
    "The creative metrics analysis uses a separate caching infrastructure from basic metrics:\n",
    "\n",
    "- **Creativity-specific cache files**: `creativity_analysis_N_campaigns.pkl`\n",
    "- **Separate cache directories**: Avoids conflicts with basic metrics cache\n",
    "- **Incremental computation**: Reuses existing results for efficiency\n",
    "- **Smart cache loading**: Finds the best existing cache to build from\n",
    "\n",
    "## Requirements\n",
    "Make sure you have installed all requirements:\n",
    "```bash\n",
    "pip install -r requirements.txt\n",
    "```"
   ]
  },
  {
   "cell_type": "code",
   "execution_count": 1,
   "id": "imports",
   "metadata": {},
   "outputs": [
    {
     "name": "stdout",
     "output_type": "stream",
     "text": [
      "Setup complete!\n"
     ]
    }
   ],
   "source": [
    "import numpy as np\n",
    "import pandas as pd\n",
    "import matplotlib.pyplot as plt\n",
    "import seaborn as sns\n",
    "from creative_metrics import analyze_creativity_all_campaigns, aggregate_creativity_metrics\n",
    "import os\n",
    "import warnings\n",
    "warnings.filterwarnings('ignore')\n",
    "\n",
    "# Set up plotting style\n",
    "plt.style.use('default')\n",
    "sns.set_palette(\"husl\")\n",
    "\n",
    "# Create plots directory if it doesn't exist\n",
    "os.makedirs('Plots', exist_ok=True)\n",
    "\n",
    "print(\"Setup complete!\")"
   ]
  },
  {
   "cell_type": "markdown",
   "id": "analysis-section",
   "metadata": {},
   "source": [
    "## 1. Load and Analyze Multiple Campaigns\n",
    "\n",
    "First, let's analyze creative metrics across multiple campaigns. We'll start with a small sample for demonstration purposes."
   ]
  },
  {
   "cell_type": "code",
   "execution_count": 2,
   "id": "load-campaigns",
   "metadata": {},
   "outputs": [
    {
     "name": "stdout",
     "output_type": "stream",
     "text": [
      "Analyzing creative metrics across campaigns...\n"
     ]
    },
    {
     "name": "stderr",
     "output_type": "stream",
     "text": [
      "Analyzing campaign creativity:   0%|          | 0/5 [00:00<?, ?it/s]"
     ]
    },
    {
     "name": "stdout",
     "output_type": "stream",
     "text": [
      "Loading embeddings from cache: embeddings_cache/embeddings_e3171849939eafbad5ac074a328a652c.pkl\n",
      "No session_id column found. Creating sessions based on date gaps...\n"
     ]
    },
    {
     "name": "stderr",
     "output_type": "stream",
     "text": [
      "2025-06-26 10:27:00,159 - BERTopic - Dimensionality - Fitting the dimensionality reduction algorithm\n",
      "2025-06-26 10:27:22,571 - BERTopic - Dimensionality - Completed ✓\n",
      "2025-06-26 10:27:22,572 - BERTopic - Cluster - Start clustering the reduced embeddings\n",
      "2025-06-26 10:27:24,330 - BERTopic - Cluster - Completed ✓\n",
      "2025-06-26 10:27:24,331 - BERTopic - Representation - Extracting topics using c-TF-IDF for topic reduction.\n",
      "2025-06-26 10:27:24,713 - BERTopic - Representation - Completed ✓\n",
      "2025-06-26 10:27:24,713 - BERTopic - Topic reduction - Reducing number of topics\n",
      "2025-06-26 10:27:24,807 - BERTopic - Representation - Fine-tuning topics using representation models.\n",
      "2025-06-26 10:27:25,148 - BERTopic - Representation - Completed ✓\n",
      "2025-06-26 10:27:25,151 - BERTopic - Topic reduction - Reduced number of topics from 277 to 20\n",
      "Analyzing campaign creativity:  20%|██        | 1/5 [00:36<02:26, 36.65s/it]"
     ]
    },
    {
     "name": "stdout",
     "output_type": "stream",
     "text": [
      "Loading embeddings from cache: embeddings_cache/embeddings_c3cf59c747c4461e421a74ddc2719ded.pkl\n",
      "No session_id column found. Creating sessions based on date gaps...\n"
     ]
    },
    {
     "name": "stderr",
     "output_type": "stream",
     "text": [
      "2025-06-26 10:27:29,619 - BERTopic - Dimensionality - Fitting the dimensionality reduction algorithm\n",
      "2025-06-26 10:27:42,192 - BERTopic - Dimensionality - Completed ✓\n",
      "2025-06-26 10:27:42,193 - BERTopic - Cluster - Start clustering the reduced embeddings\n",
      "2025-06-26 10:27:42,446 - BERTopic - Cluster - Completed ✓\n",
      "2025-06-26 10:27:42,447 - BERTopic - Representation - Extracting topics using c-TF-IDF for topic reduction.\n",
      "2025-06-26 10:27:42,671 - BERTopic - Representation - Completed ✓\n",
      "2025-06-26 10:27:42,672 - BERTopic - Topic reduction - Reducing number of topics\n",
      "2025-06-26 10:27:42,688 - BERTopic - Representation - Fine-tuning topics using representation models.\n",
      "2025-06-26 10:27:42,867 - BERTopic - Representation - Completed ✓\n",
      "2025-06-26 10:27:42,868 - BERTopic - Topic reduction - Reduced number of topics from 131 to 20\n",
      "Analyzing campaign creativity:  40%|████      | 2/5 [00:54<01:16, 25.50s/it]2025-06-26 10:27:42,998 - BERTopic - Dimensionality - Fitting the dimensionality reduction algorithm\n"
     ]
    },
    {
     "name": "stdout",
     "output_type": "stream",
     "text": [
      "Loading embeddings from cache: embeddings_cache/embeddings_61b4d1cd0780ff0177d750532cd66b52.pkl\n",
      "No session_id column found. Creating sessions based on date gaps...\n",
      "Topic modeling failed for campaign 897-the-gm-o-a-t-s-sunless-citadel-beyond-the-wild-pbp: Transform unavailable when model was fit with only a single data sample.\n",
      "Loading embeddings from cache: embeddings_cache/embeddings_9cea7275c378d36c07baa8c6db79970c.pkl\n"
     ]
    },
    {
     "name": "stderr",
     "output_type": "stream",
     "text": [
      "2025-06-26 10:27:44,477 - BERTopic - Dimensionality - Fitting the dimensionality reduction algorithm\n"
     ]
    },
    {
     "name": "stdout",
     "output_type": "stream",
     "text": [
      "No session_id column found. Creating sessions based on date gaps...\n"
     ]
    },
    {
     "name": "stderr",
     "output_type": "stream",
     "text": [
      "2025-06-26 10:27:49,819 - BERTopic - Dimensionality - Completed ✓\n",
      "2025-06-26 10:27:49,820 - BERTopic - Cluster - Start clustering the reduced embeddings\n",
      "2025-06-26 10:27:49,883 - BERTopic - Cluster - Completed ✓\n",
      "2025-06-26 10:27:49,883 - BERTopic - Representation - Extracting topics using c-TF-IDF for topic reduction.\n",
      "2025-06-26 10:27:50,003 - BERTopic - Representation - Completed ✓\n",
      "2025-06-26 10:27:50,003 - BERTopic - Topic reduction - Reducing number of topics\n",
      "2025-06-26 10:27:50,010 - BERTopic - Representation - Fine-tuning topics using representation models.\n",
      "2025-06-26 10:27:50,106 - BERTopic - Representation - Completed ✓\n",
      "2025-06-26 10:27:50,108 - BERTopic - Topic reduction - Reduced number of topics from 68 to 20\n",
      "Analyzing campaign creativity:  80%|████████  | 4/5 [01:01<00:11, 11.77s/it]"
     ]
    },
    {
     "name": "stdout",
     "output_type": "stream",
     "text": [
      "Loading embeddings from cache: embeddings_cache/embeddings_efb0b3eeb621232befe37b9f3bee3610.pkl\n"
     ]
    },
    {
     "name": "stderr",
     "output_type": "stream",
     "text": [
      "2025-06-26 10:27:51,650 - BERTopic - Dimensionality - Fitting the dimensionality reduction algorithm\n"
     ]
    },
    {
     "name": "stdout",
     "output_type": "stream",
     "text": [
      "No session_id column found. Creating sessions based on date gaps...\n"
     ]
    },
    {
     "name": "stderr",
     "output_type": "stream",
     "text": [
      "2025-06-26 10:27:56,991 - BERTopic - Dimensionality - Completed ✓\n",
      "2025-06-26 10:27:56,992 - BERTopic - Cluster - Start clustering the reduced embeddings\n",
      "2025-06-26 10:27:57,057 - BERTopic - Cluster - Completed ✓\n",
      "2025-06-26 10:27:57,058 - BERTopic - Representation - Extracting topics using c-TF-IDF for topic reduction.\n",
      "2025-06-26 10:27:57,219 - BERTopic - Representation - Completed ✓\n",
      "2025-06-26 10:27:57,220 - BERTopic - Topic reduction - Reducing number of topics\n",
      "2025-06-26 10:27:57,226 - BERTopic - Representation - Fine-tuning topics using representation models.\n",
      "2025-06-26 10:27:57,369 - BERTopic - Representation - Completed ✓\n",
      "2025-06-26 10:27:57,370 - BERTopic - Topic reduction - Reduced number of topics from 54 to 20\n",
      "Analyzing campaign creativity: 100%|██████████| 5/5 [01:08<00:00, 13.77s/it]\n"
     ]
    },
    {
     "name": "stdout",
     "output_type": "stream",
     "text": [
      "Cached results saved to creativity_cache/creativity_analysis_5_campaigns.pkl\n",
      "\n",
      "Analyzed 5 campaigns\n",
      "\n",
      "Campaigns analyzed:\n",
      "  9701-coliseum-of-conquest-no-longer-recruiting: 18109 messages, 139 players\n",
      "  7921-storm-kings-thunder: 13084 messages, 13 players\n",
      "  897-the-gm-o-a-t-s-sunless-citadel-beyond-the-wild-pbp: 1 messages, 1 players\n",
      "  35444-lost-mines-lost-labs-and-lost-hope-robjfalcons: 4289 messages, 7 players\n",
      "  13325-lost-magics-epic-of-pre-made-proportions: 4189 messages, 7 players\n"
     ]
    }
   ],
   "source": [
    "# Analyze creativity across multiple campaigns using the improved caching system\n",
    "# The new system uses creativity-specific cache files separate from basic metrics\n",
    "print(\"Analyzing creative metrics across campaigns...\")\n",
    "\n",
    "# Option 1: Use the basic analyze function (creates creativity_cache/ directory)\n",
    "creativity_results = analyze_creativity_all_campaigns(\n",
    "    data_file_path='Game-Data/data-labels.json',\n",
    "    max_campaigns=5,  # Start small for demo\n",
    "    cache_dir='creativity_cache',  # Separate from basic metrics cache\n",
    "    force_refresh=False,\n",
    "    show_progress=True\n",
    ")\n",
    "\n",
    "# Option 2: Use the incremental function for more efficient caching\n",
    "# (Uncomment the lines below to use the advanced incremental caching)\n",
    "\"\"\"\n",
    "from creative_metrics import load_or_compute_creativity_incremental\n",
    "creativity_results = load_or_compute_creativity_incremental(\n",
    "    max_campaigns=5,\n",
    "    data_file_path='Game-Data/data-labels.json',\n",
    "    cache_dir='campaign_stats_cache',  # Uses standard cache directory with creativity_ prefix\n",
    "    force_refresh=False,\n",
    "    show_progress=True\n",
    ")\n",
    "\"\"\"\n",
    "\n",
    "print(f\"\\nAnalyzed {len(creativity_results)} campaigns\")\n",
    "print(\"\\nCampaigns analyzed:\")\n",
    "for campaign_id, results in creativity_results.items():\n",
    "    if results and 'metadata' in results:\n",
    "        meta = results['metadata']\n",
    "        print(f\"  {campaign_id}: {meta['total_messages']} messages, {meta['unique_players']} players\")"
   ]
  },
  {
   "cell_type": "markdown",
   "id": "aggregation-section",
   "metadata": {},
   "source": [
    "## 2. Aggregate Results for Cross-Campaign Analysis"
   ]
  },
  {
   "cell_type": "code",
   "execution_count": 6,
   "id": "aggregate-results",
   "metadata": {},
   "outputs": [
    {
     "name": "stdout",
     "output_type": "stream",
     "text": [
      "Aggregating results across campaigns...\n",
      "\n",
      "=== CROSS-CAMPAIGN CREATIVITY SUMMARY ===\n",
      "Total campaigns analyzed: 5\n",
      "Campaigns with semantic analysis: 4\n",
      "Campaigns with novelty analysis: 0\n",
      "Campaigns with topic analysis: 4\n",
      "Total messages across all campaigns: 39672\n",
      "\n",
      "=== CROSS-CAMPAIGN STATISTICS ===\n",
      "\n",
      "Semantic Distance:\n",
      "  Mean: 0.6236\n",
      "  Std:  0.0323\n",
      "  Min:  0.5739\n",
      "  Max:  0.6636\n",
      "  Campaigns: 4\n",
      "\n",
      "Topic Change Rate:\n",
      "  Mean: 0.7318\n",
      "  Std:  0.0401\n",
      "  Min:  0.6721\n",
      "  Max:  0.7839\n",
      "  Campaigns: 4\n"
     ]
    }
   ],
   "source": [
    "# Aggregate creativity metrics across all campaigns\n",
    "print(\"Aggregating results across campaigns...\")\n",
    "aggregated = aggregate_creativity_metrics(creativity_results)\n",
    "\n",
    "print(\"\\n=== CROSS-CAMPAIGN CREATIVITY SUMMARY ===\")\n",
    "summary = aggregated['summary']\n",
    "print(f\"Total campaigns analyzed: {summary['total_campaigns_analyzed']}\")\n",
    "print(f\"Campaigns with semantic analysis: {summary['campaigns_with_semantic_analysis']}\")\n",
    "print(f\"Campaigns with novelty analysis: {summary['campaigns_with_novelty_analysis']}\")\n",
    "print(f\"Campaigns with topic analysis: {summary['campaigns_with_topic_analysis']}\")\n",
    "print(f\"Total messages across all campaigns: {summary['total_messages_across_all_campaigns']}\")\n",
    "\n",
    "# Display cross-campaign statistics\n",
    "print(\"\\n=== CROSS-CAMPAIGN STATISTICS ===\")\n",
    "for metric_name, stats in aggregated['cross_campaign_stats'].items():\n",
    "    print(f\"\\n{metric_name.replace('_', ' ').title()}:\")\n",
    "    print(f\"  Mean: {stats['mean']:.4f}\")\n",
    "    print(f\"  Std:  {stats['std']:.4f}\")\n",
    "    print(f\"  Min:  {stats['min']:.4f}\")\n",
    "    print(f\"  Max:  {stats['max']:.4f}\")\n",
    "    print(f\"  Campaigns: {stats['campaigns_analyzed']}\")"
   ]
  },
  {
   "cell_type": "markdown",
   "id": "visualization-section",
   "metadata": {},
   "source": [
    "## 3. Visualize Creative Metrics Distributions"
   ]
  },
  {
   "cell_type": "code",
   "execution_count": 7,
   "id": "plot-distributions",
   "metadata": {},
   "outputs": [
    {
     "data": {
      "image/png": "[encoded data removed]",
      "text/plain": [
       "<Figure size 1500x1200 with 4 Axes>"
      ]
     },
     "metadata": {},
     "output_type": "display_data"
    },
    {
     "name": "stdout",
     "output_type": "stream",
     "text": [
      "Saved creativity distributions plot to Plots/creativity_distributions.png\n"
     ]
    }
   ],
   "source": [
    "# Plot distributions of creative metrics\n",
    "distributions = aggregated['distributions']\n",
    "\n",
    "fig, axes = plt.subplots(2, 2, figsize=(15, 12))\n",
    "fig.suptitle('Creative Metrics Distributions Across Campaigns', fontsize=16, fontweight='bold')\n",
    "\n",
    "# Semantic distances\n",
    "if distributions['semantic_distances']:\n",
    "    axes[0, 0].hist(distributions['semantic_distances'], bins=10, alpha=0.7, color='skyblue', edgecolor='black')\n",
    "    axes[0, 0].set_title('Average Semantic Distance per Campaign')\n",
    "    axes[0, 0].set_xlabel('Average Semantic Distance')\n",
    "    axes[0, 0].set_ylabel('Number of Campaigns')\n",
    "    axes[0, 0].grid(True, alpha=0.3)\n",
    "else:\n",
    "    axes[0, 0].text(0.5, 0.5, 'No semantic distance data', ha='center', va='center', transform=axes[0, 0].transAxes)\n",
    "    axes[0, 0].set_title('Average Semantic Distance per Campaign')\n",
    "\n",
    "# Novelty scores\n",
    "if distributions['novelty_scores']:\n",
    "    axes[0, 1].hist(distributions['novelty_scores'], bins=10, alpha=0.7, color='lightcoral', edgecolor='black')\n",
    "    axes[0, 1].set_title('Average Novelty Score per Campaign')\n",
    "    axes[0, 1].set_xlabel('Average Novelty Score')\n",
    "    axes[0, 1].set_ylabel('Number of Campaigns')\n",
    "    axes[0, 1].grid(True, alpha=0.3)\n",
    "else:\n",
    "    axes[0, 1].text(0.5, 0.5, 'No novelty score data', ha='center', va='center', transform=axes[0, 1].transAxes)\n",
    "    axes[0, 1].set_title('Average Novelty Score per Campaign')\n",
    "\n",
    "# Topic change rates\n",
    "if distributions['topic_change_rates']:\n",
    "    axes[1, 0].hist(distributions['topic_change_rates'], bins=10, alpha=0.7, color='lightgreen', edgecolor='black')\n",
    "    axes[1, 0].set_title('Topic Change Rate per Campaign')\n",
    "    axes[1, 0].set_xlabel('Topic Change Rate')\n",
    "    axes[1, 0].set_ylabel('Number of Campaigns')\n",
    "    axes[1, 0].grid(True, alpha=0.3)\n",
    "else:\n",
    "    axes[1, 0].text(0.5, 0.5, 'No topic change rate data', ha='center', va='center', transform=axes[1, 0].transAxes)\n",
    "    axes[1, 0].set_title('Topic Change Rate per Campaign')\n",
    "\n",
    "# Campaign sizes\n",
    "if distributions['campaign_sizes']:\n",
    "    axes[1, 1].hist(distributions['campaign_sizes'], bins=10, alpha=0.7, color='gold', edgecolor='black')\n",
    "    axes[1, 1].set_title('Campaign Size Distribution')\n",
    "    axes[1, 1].set_xlabel('Number of Messages')\n",
    "    axes[1, 1].set_ylabel('Number of Campaigns')\n",
    "    axes[1, 1].grid(True, alpha=0.3)\n",
    "else:\n",
    "    axes[1, 1].text(0.5, 0.5, 'No campaign size data', ha='center', va='center', transform=axes[1, 1].transAxes)\n",
    "    axes[1, 1].set_title('Campaign Size Distribution')\n",
    "\n",
    "plt.tight_layout()\n",
    "plt.savefig('Plots/creativity_distributions.png', dpi=300, bbox_inches='tight')\n",
    "plt.show()\n",
    "\n",
    "print(\"Saved creativity distributions plot to Plots/creativity_distributions.png\")"
   ]
  },
  {
   "cell_type": "markdown",
   "id": "campaign-comparison-section",
   "metadata": {},
   "source": [
    "## 4. Campaign-by-Campaign Comparison"
   ]
  },
  {
   "cell_type": "code",
   "id": "campaign-comparison",
   "metadata": {},
   "outputs": [],
   "source": "# Campaign-by-Campaign Comparison: Cumulative Semantic Distance Over Time\n\ncampaign_summaries = aggregated['campaign_summaries']\ncampaign_ids = list(campaign_summaries.keys())\n\nif len(campaign_ids) > 0:\n    # Create cumulative semantic distance plot for all campaigns\n    plt.figure(figsize=(14, 8))\n    \n    colors = plt.cm.Set1(np.linspace(0, 1, len(campaign_ids)))\n    \n    for i, campaign_id in enumerate(campaign_ids):\n        if campaign_id in creativity_results and creativity_results[campaign_id] is not None:\n            results = creativity_results[campaign_id]\n            \n            # Get semantic distances for this campaign\n            if 'semantic_distances' in results and results['semantic_distances'] is not None:\n                distances = results['semantic_distances']\n                \n                # Calculate cumulative semantic distance\n                # Handle NaN values in the first few entries (window < actual index)\n                distances_array = np.array(distances)\n                valid_distances = distances_array[~np.isnan(distances_array)]\n                \n                if len(valid_distances) > 0:\n                    # Create cumulative sum of valid distances\n                    cumulative_distances = np.cumsum(valid_distances)\n                    \n                    # Create x-axis (message index)\n                    x_values = range(len(cumulative_distances))\n                    \n                    # Plot cumulative semantic distance for this campaign\n                    campaign_label = campaign_id[:20] + '...' if len(campaign_id) > 20 else campaign_id\n                    plt.plot(x_values, cumulative_distances, \n                            color=colors[i], linewidth=2, alpha=0.8, \n                            label=f'{campaign_label} ({len(valid_distances)} msgs)')\n    \n    plt.title('Cumulative Semantic Distance Over Time by Campaign', fontsize=14, fontweight='bold')\n    plt.xlabel('Message Index')\n    plt.ylabel('Cumulative Semantic Distance')\n    plt.legend(bbox_to_anchor=(1.05, 1), loc='upper left')\n    plt.grid(True, alpha=0.3)\n    plt.tight_layout()\n    plt.savefig('Plots/cumulative_semantic_distance.png', dpi=300, bbox_inches='tight')\n    plt.show()\n    \n    print(\"Saved cumulative semantic distance plot to Plots/cumulative_semantic_distance.png\")\n    \n    # Second plot: Distribution of distances between subsequent messages\n    plt.figure(figsize=(12, 8))\n    \n    # Use the same colors for consistency\n    for i, campaign_id in enumerate(campaign_ids):\n        if campaign_id in creativity_results and creativity_results[campaign_id] is not None:\n            results = creativity_results[campaign_id]\n            \n            # Get semantic distances for this campaign\n            if 'semantic_distances' in results and results['semantic_distances'] is not None:\n                distances = results['semantic_distances']\n                \n                # Get valid distances (remove NaN values)\n                distances_array = np.array(distances)\n                valid_distances = distances_array[~np.isnan(distances_array)]\n                \n                if len(valid_distances) > 0:\n                    # Create histogram for this campaign\n                    campaign_label = campaign_id[:20] + '...' if len(campaign_id) > 20 else campaign_id\n                    plt.hist(valid_distances, bins=20, alpha=0.5, \n                            color=colors[i], \n                            label=f'{campaign_label} ({len(valid_distances)} msgs)',\n                            density=True)  # Normalize for better comparison\n    \n    plt.title('Distribution of Semantic Distances Between Subsequent Messages', fontsize=14, fontweight='bold')\n    plt.xlabel('Semantic Distance')\n    plt.ylabel('Density')\n    plt.legend(bbox_to_anchor=(1.05, 1), loc='upper left')\n    plt.grid(True, alpha=0.3)\n    plt.tight_layout()\n    plt.savefig('Plots/semantic_distance_distributions.png', dpi=300, bbox_inches='tight')\n    plt.show()\n    \n    print(\"Saved semantic distance distributions plot to Plots/semantic_distance_distributions.png\")\n    \n    # Summary statistics for both plots\n    print(f\"\\n=== CUMULATIVE SEMANTIC DISTANCE SUMMARY ===\")\n    for campaign_id in campaign_ids:\n        if campaign_id in creativity_results and creativity_results[campaign_id] is not None:\n            results = creativity_results[campaign_id]\n            if 'semantic_distances' in results and results['semantic_distances'] is not None:\n                distances = results['semantic_distances']\n                distances_array = np.array(distances)\n                valid_distances = distances_array[~np.isnan(distances_array)]\n                \n                if len(valid_distances) > 0:\n                    total_distance = np.sum(valid_distances)\n                    avg_distance = np.mean(valid_distances)\n                    std_distance = np.std(valid_distances)\n                    min_distance = np.min(valid_distances)\n                    max_distance = np.max(valid_distances)\n                    campaign_short = campaign_id[:30] + '...' if len(campaign_id) > 30 else campaign_id\n                    print(f\"{campaign_short}:\")\n                    print(f\"  Total cumulative distance: {total_distance:.4f}\")\n                    print(f\"  Average per-message distance: {avg_distance:.4f}\")\n                    print(f\"  Standard deviation: {std_distance:.4f}\")\n                    print(f\"  Range: {min_distance:.4f} to {max_distance:.4f}\")\n                    print(f\"  Messages analyzed: {len(valid_distances)}\")\nelse:\n    print(\"No campaigns available for cumulative semantic distance analysis\")"
  },
  {
   "cell_type": "markdown",
   "id": "correlation-section",
   "metadata": {},
   "source": [
    "## 5. Correlation Analysis"
   ]
  },
  {
   "cell_type": "code",
   "execution_count": 16,
   "id": "correlation-analysis",
   "metadata": {},
   "outputs": [
    {
     "name": "stdout",
     "output_type": "stream",
     "text": [
      "=== CROSS-CAMPAIGN CREATIVITY METRICS SUMMARY ===\n",
      "\n",
      "Total campaigns analyzed: 5\n",
      "Campaigns with semantic analysis: 4\n",
      "Campaigns with novelty analysis: 0\n",
      "Campaigns with topic analysis: 4\n",
      "Total messages across all campaigns: 39672\n",
      "\n",
      "=== CROSS-CAMPAIGN STATISTICS ===\n",
      "\\nSemantic Distance:\n",
      "  Mean: 0.6236\n",
      "  Std:  0.0323\n",
      "  Range: 0.5739 to 0.6636\n",
      "  Median: 0.6284\n",
      "  Campaigns analyzed: 4\n",
      "\\nTopic Change Rate:\n",
      "  Mean: 0.7318\n",
      "  Std:  0.0401\n",
      "  Range: 0.6721 to 0.7839\n",
      "  Median: 0.7357\n",
      "  Campaigns analyzed: 4\n",
      "\n",
      "=== DATA AVAILABILITY BY CAMPAIGN ===\n",
      "\\n9701-coliseum-of-conquest-no-longer-recr...:\n",
      "  Messages: 18109\n",
      "  Players: 139\n",
      "  Available metrics: semantic distance, topic change rate\n",
      "\\n7921-storm-kings-thunder:\n",
      "  Messages: 13084\n",
      "  Players: 13\n",
      "  Available metrics: semantic distance, topic change rate\n",
      "\\n897-the-gm-o-a-t-s-sunless-citadel-beyon...:\n",
      "  Messages: 1\n",
      "  Players: 1\n",
      "  Available metrics: none (likely missing NLP dependencies)\n",
      "\\n35444-lost-mines-lost-labs-and-lost-hope...:\n",
      "  Messages: 4289\n",
      "  Players: 7\n",
      "  Available metrics: semantic distance, topic change rate\n",
      "\\n13325-lost-magics-epic-of-pre-made-propo...:\n",
      "  Messages: 4189\n",
      "  Players: 7\n",
      "  Available metrics: semantic distance, topic change rate\n",
      "\n",
      "NOTE: Some campaigns may show 'none' for available metrics if NLP dependencies\n",
      "(sentence-transformers, bertopic, etc.) are not installed.\n"
     ]
    }
   ],
   "source": [
    "# Cross-Campaign Metrics Summary\n",
    "\n",
    "# Display summary statistics across all campaigns\n",
    "print(\"=== CROSS-CAMPAIGN CREATIVITY METRICS SUMMARY ===\")\n",
    "print()\n",
    "\n",
    "# Show available metrics and their coverage\n",
    "summary = aggregated['summary']\n",
    "print(f\"Total campaigns analyzed: {summary['total_campaigns_analyzed']}\")\n",
    "print(f\"Campaigns with semantic analysis: {summary['campaigns_with_semantic_analysis']}\")\n",
    "print(f\"Campaigns with novelty analysis: {summary['campaigns_with_novelty_analysis']}\")\n",
    "print(f\"Campaigns with topic analysis: {summary['campaigns_with_topic_analysis']}\")\n",
    "print(f\"Total messages across all campaigns: {summary['total_messages_across_all_campaigns']}\")\n",
    "print()\n",
    "\n",
    "# Show cross-campaign statistics for each metric\n",
    "if 'cross_campaign_stats' in aggregated:\n",
    "    print(\"=== CROSS-CAMPAIGN STATISTICS ===\")\n",
    "    for metric_name, stats in aggregated['cross_campaign_stats'].items():\n",
    "        print(f\"\\\\n{metric_name.replace('_', ' ').title()}:\")\n",
    "        print(f\"  Mean: {stats['mean']:.4f}\")\n",
    "        print(f\"  Std:  {stats['std']:.4f}\")\n",
    "        print(f\"  Range: {stats['min']:.4f} to {stats['max']:.4f}\")\n",
    "        print(f\"  Median: {stats['median']:.4f}\")\n",
    "        print(f\"  Campaigns analyzed: {stats['campaigns_analyzed']}\")\n",
    "\n",
    "# Show data availability for each campaign\n",
    "print()\n",
    "print(\"=== DATA AVAILABILITY BY CAMPAIGN ===\")\n",
    "campaign_summaries = aggregated['campaign_summaries']\n",
    "for campaign_id, summary in campaign_summaries.items():\n",
    "    campaign_short = campaign_id[:40] + '...' if len(campaign_id) > 40 else campaign_id\n",
    "    print(f\"\\\\n{campaign_short}:\")\n",
    "    print(f\"  Messages: {summary['total_messages']}\")\n",
    "    print(f\"  Players: {summary['unique_players']}\")\n",
    "    \n",
    "    # Check which metrics are available\n",
    "    available_metrics = []\n",
    "    if summary['avg_semantic_distance'] is not None:\n",
    "        available_metrics.append(\"semantic distance\")\n",
    "    if summary['avg_novelty_score'] is not None:\n",
    "        available_metrics.append(\"novelty\")\n",
    "    if summary['topic_change_rate'] is not None:\n",
    "        available_metrics.append(\"topic change rate\")\n",
    "    \n",
    "    if available_metrics:\n",
    "        print(f\"  Available metrics: {', '.join(available_metrics)}\")\n",
    "    else:\n",
    "        print(f\"  Available metrics: none (likely missing NLP dependencies)\")\n",
    "\n",
    "print()\n",
    "print(\"NOTE: Some campaigns may show 'none' for available metrics if NLP dependencies\")\n",
    "print(\"(sentence-transformers, bertopic, etc.) are not installed.\")"
   ]
  },
  {
   "cell_type": "markdown",
   "id": "detailed-analysis-section",
   "metadata": {},
   "source": [
    "## 6. Detailed Campaign Analysis\n",
    "\n",
    "Let's examine the creative metrics for each campaign in detail."
   ]
  },
  {
   "cell_type": "code",
   "execution_count": 17,
   "id": "detailed-campaign-analysis",
   "metadata": {},
   "outputs": [
    {
     "name": "stdout",
     "output_type": "stream",
     "text": [
      "=== DETAILED CAMPAIGN ANALYSIS ===\n",
      "\n",
      "--- Campaign: 9701-coliseum-of-conquest-no-longer-recruiting ---\n",
      "Total messages: 18109\n",
      "Unique players: 139\n",
      "Date range: 2017-11-27 to 2020-04-06\n",
      "Semantic distances: avg=0.6636, std=0.1469\n",
      "  Range: 0.0000 to 1.0000\n",
      "Topics discovered: 20\n",
      "Topic change rate: 0.6721\n",
      "\n",
      "\n",
      "--- Campaign: 7921-storm-kings-thunder ---\n",
      "Total messages: 13084\n",
      "Unique players: 13\n",
      "Date range: 2017-09-27 to 2020-09-23\n",
      "Semantic distances: avg=0.6335, std=0.1972\n",
      "  Range: 0.0000 to 1.0000\n",
      "Topics discovered: 20\n",
      "Topic change rate: 0.7275\n",
      "\n",
      "\n",
      "--- Campaign: 897-the-gm-o-a-t-s-sunless-citadel-beyond-the-wild-pbp ---\n",
      "Total messages: 1\n",
      "Unique players: 1\n",
      "Date range: 2017-03-21 to 2017-03-21\n",
      "Semantic distances: avg=nan, std=nan\n",
      "  Range: nan to nan\n",
      "\n",
      "\n",
      "--- Campaign: 35444-lost-mines-lost-labs-and-lost-hope-robjfalcons ---\n",
      "Total messages: 4289\n",
      "Unique players: 7\n",
      "Date range: 2019-03-18 to 2020-07-30\n",
      "Semantic distances: avg=0.6233, std=0.1418\n",
      "  Range: 0.0000 to 1.0000\n",
      "Topics discovered: 20\n",
      "Topic change rate: 0.7438\n",
      "\n",
      "\n",
      "--- Campaign: 13325-lost-magics-epic-of-pre-made-proportions ---\n",
      "Total messages: 4189\n",
      "Unique players: 7\n",
      "Date range: 2018-02-26 to 2018-10-28\n",
      "Semantic distances: avg=0.5739, std=0.1457\n",
      "  Range: 0.0000 to 1.0000\n",
      "Topics discovered: 20\n",
      "Topic change rate: 0.7839\n",
      "\n"
     ]
    }
   ],
   "source": [
    "# Detailed analysis of individual campaigns\n",
    "print(\"=== DETAILED CAMPAIGN ANALYSIS ===\")\n",
    "\n",
    "for campaign_id, results in creativity_results.items():\n",
    "    if results is None:\n",
    "        continue\n",
    "        \n",
    "    print(f\"\\n--- Campaign: {campaign_id} ---\")\n",
    "    \n",
    "    # Metadata\n",
    "    if 'metadata' in results:\n",
    "        meta = results['metadata']\n",
    "        print(f\"Total messages: {meta['total_messages']}\")\n",
    "        print(f\"Unique players: {meta['unique_players']}\")\n",
    "        if meta['date_range']['start']:\n",
    "            print(f\"Date range: {meta['date_range']['start'][:10]} to {meta['date_range']['end'][:10]}\")\n",
    "    \n",
    "    # Semantic analysis\n",
    "    if 'semantic_distances' in results and results['semantic_distances'] is not None:\n",
    "        distances = results['semantic_distances']\n",
    "        print(f\"Semantic distances: avg={np.mean(distances):.4f}, std={np.std(distances):.4f}\")\n",
    "        print(f\"  Range: {np.min(distances):.4f} to {np.max(distances):.4f}\")\n",
    "    \n",
    "    # Novelty analysis\n",
    "    if 'session_novelty' in results and results['session_novelty'] is not None:\n",
    "        novelty = results['session_novelty']\n",
    "        if isinstance(novelty, dict) and 'novelty_scores' in novelty:\n",
    "            scores = novelty['novelty_scores']\n",
    "            print(f\"Novelty scores: avg={np.mean(scores):.4f}, std={np.std(scores):.4f}\")\n",
    "            print(f\"  Range: {np.min(scores):.4f} to {np.max(scores):.4f}\")\n",
    "    \n",
    "    # Topic analysis\n",
    "    if 'topic_model' in results and results['topic_model'] is not None:\n",
    "        topics = results['topic_model']\n",
    "        if isinstance(topics, dict) and 'topics' in topics:\n",
    "            unique_topics = len(set(topics['topics']))\n",
    "            print(f\"Topics discovered: {unique_topics}\")\n",
    "            \n",
    "            if 'topic_change_rate' in results and results['topic_change_rate'] is not None:\n",
    "                change_rate = results['topic_change_rate']\n",
    "                if isinstance(change_rate, dict) and 'overall_rate' in change_rate:\n",
    "                    print(f\"Topic change rate: {change_rate['overall_rate']:.4f}\")\n",
    "    \n",
    "    print()"
   ]
  },
  {
   "cell_type": "markdown",
   "id": "expand-analysis-section",
   "metadata": {},
   "source": [
    "## 7. Expanding the Analysis\n",
    "\n",
    "To analyze more campaigns, simply increase the `max_campaigns` parameter in the analysis function."
   ]
  },
  {
   "cell_type": "code",
   "execution_count": 18,
   "id": "expand-analysis",
   "metadata": {},
   "outputs": [
    {
     "name": "stdout",
     "output_type": "stream",
     "text": [
      "=== CACHING SYSTEM OPTIONS ===\n",
      "\n",
      "1. Basic caching (creativity_cache/ directory):\n",
      "   Uses analyze_creativity_all_campaigns() with creativity_cache/\n",
      "   Cache files: creativity_analysis_N_campaigns.pkl\n",
      "\n",
      "2. Incremental caching (campaign_stats_cache/ directory):\n",
      "   Uses load_or_compute_creativity_incremental()\n",
      "   Smarter caching that reuses existing results\n",
      "   Cache files: creativity_analysis_N_campaigns.pkl in campaign_stats_cache/\n",
      "\n",
      "To analyze more campaigns, uncomment and run the code above.\n",
      "The improved caching system provides several benefits:\n",
      "- Separate creativity cache files don't conflict with basic metrics\n",
      "- Incremental computation reuses existing work\n",
      "- Smart cache loading finds the best existing cache to build from\n",
      "- Cache files are clearly named: creativity_analysis_N_campaigns.pkl\n",
      "\n",
      "CACHE DIRECTORY STRUCTURE:\n",
      "campaign_stats_cache/\n",
      "├── basic_stats_5_campaigns.pkl          # Basic metrics cache\n",
      "├── basic_stats_20_campaigns.pkl         # Basic metrics cache\n",
      "├── creativity_analysis_5_campaigns.pkl  # Creativity metrics cache\n",
      "└── creativity_analysis_20_campaigns.pkl # Creativity metrics cache\n",
      "\n",
      "OR with separate creativity cache:\n",
      "creativity_cache/\n",
      "├── creativity_analysis_5_campaigns.pkl\n",
      "└── creativity_analysis_20_campaigns.pkl\n"
     ]
    }
   ],
   "source": [
    "# Example: Analyze more campaigns using the improved caching system\n",
    "\n",
    "print(\"=== CACHING SYSTEM OPTIONS ===\")\n",
    "print()\n",
    "print(\"1. Basic caching (creativity_cache/ directory):\")\n",
    "print(\"   Uses analyze_creativity_all_campaigns() with creativity_cache/\")\n",
    "print(\"   Cache files: creativity_analysis_N_campaigns.pkl\")\n",
    "print()\n",
    "print(\"2. Incremental caching (campaign_stats_cache/ directory):\")\n",
    "print(\"   Uses load_or_compute_creativity_incremental()\")\n",
    "print(\"   Smarter caching that reuses existing results\")\n",
    "print(\"   Cache files: creativity_analysis_N_campaigns.pkl in campaign_stats_cache/\")\n",
    "print()\n",
    "\n",
    "# Example: Analyze more campaigns with incremental caching (uncomment to run)\n",
    "\"\"\"\n",
    "print(\"Analyzing 20 campaigns with incremental caching...\")\n",
    "from creative_metrics import load_or_compute_creativity_incremental\n",
    "\n",
    "larger_analysis = load_or_compute_creativity_incremental(\n",
    "    max_campaigns=20,  # Analyze more campaigns\n",
    "    data_file_path='Game-Data/data-labels.json',\n",
    "    cache_dir='campaign_stats_cache',  # Separate creativity cache\n",
    "    force_refresh=False,\n",
    "    show_progress=True\n",
    ")\n",
    "\n",
    "larger_aggregated = aggregate_creativity_metrics(larger_analysis)\n",
    "print(f\"Analyzed {len(larger_analysis)} campaigns with expanded dataset\")\n",
    "\n",
    "# The incremental system will:\n",
    "# 1. Check for existing creativity_analysis_20_campaigns.pkl\n",
    "# 2. If not found, look for smaller creativity cache files\n",
    "# 3. Load the largest suitable cache (e.g., creativity_analysis_10_campaigns.pkl)\n",
    "# 4. Compute only the additional 10 campaigns needed\n",
    "# 5. Merge results and save creativity_analysis_20_campaigns.pkl\n",
    "\"\"\"\n",
    "\n",
    "print(\"To analyze more campaigns, uncomment and run the code above.\")\n",
    "print(\"The improved caching system provides several benefits:\")\n",
    "print(\"- Separate creativity cache files don't conflict with basic metrics\")\n",
    "print(\"- Incremental computation reuses existing work\")\n",
    "print(\"- Smart cache loading finds the best existing cache to build from\")\n",
    "print(\"- Cache files are clearly named: creativity_analysis_N_campaigns.pkl\")\n",
    "print()\n",
    "print(\"CACHE DIRECTORY STRUCTURE:\")\n",
    "print(\"campaign_stats_cache/\")\n",
    "print(\"├── basic_stats_5_campaigns.pkl          # Basic metrics cache\")\n",
    "print(\"├── basic_stats_20_campaigns.pkl         # Basic metrics cache\")\n",
    "print(\"├── creativity_analysis_5_campaigns.pkl  # Creativity metrics cache\")\n",
    "print(\"└── creativity_analysis_20_campaigns.pkl # Creativity metrics cache\")\n",
    "print()\n",
    "print(\"OR with separate creativity cache:\")\n",
    "print(\"creativity_cache/\")\n",
    "print(\"├── creativity_analysis_5_campaigns.pkl\")\n",
    "print(\"└── creativity_analysis_20_campaigns.pkl\")"
   ]
  },
  {
   "cell_type": "markdown",
   "id": "conclusion-section",
   "metadata": {},
   "source": [
    "## Summary\n",
    "\n",
    "This notebook demonstrates how to:\n",
    "\n",
    "1. **Analyze creative metrics** across multiple D&D campaigns using advanced NLP\n",
    "2. **Aggregate results** for statistical comparison\n",
    "3. **Visualize distributions** of creativity metrics\n",
    "4. **Compare campaigns** side-by-side\n",
    "5. **Examine correlations** between different creative measures\n",
    "6. **Cache results** for efficient reanalysis\n",
    "\n",
    "The multi-campaign creative analysis provides insights into:\n",
    "- **Semantic diversity**: How much campaigns vary in language use\n",
    "- **Narrative novelty**: Which campaigns introduce more creative elements\n",
    "- **Topic dynamics**: How quickly campaigns shift between themes\n",
    "- **Cross-campaign patterns**: Correlations between creativity metrics\n",
    "\n",
    "This analysis can help identify the most creative campaigns, understand factors that drive creativity, and compare different DMing or playing styles across multiple games."
   ]
  }
 ],
 "metadata": {
  "kernelspec": {
   "display_name": "py312",
   "language": "python",
   "name": "python3"
  },
  "language_info": {
   "codemirror_mode": {
    "name": "ipython",
    "version": 3
   },
   "file_extension": ".py",
   "mimetype": "text/x-python",
   "name": "python",
   "nbconvert_exporter": "python",
   "pygments_lexer": "ipython3",
   "version": "3.12.11"
  }
 },
 "nbformat": 4,
 "nbformat_minor": 5
}